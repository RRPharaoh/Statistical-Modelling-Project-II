{
 "cells": [
  {
   "cell_type": "markdown",
   "metadata": {},
   "source": [
    "# CityBikes"
   ]
  },
  {
   "cell_type": "markdown",
   "metadata": {},
   "source": [
    "Send a request to CityBikes for the city of your choice. "
   ]
  },
  {
   "cell_type": "code",
   "execution_count": 18,
   "metadata": {},
   "outputs": [],
   "source": [
    "import requests\n",
    "from IPython.display import JSON \n",
    "import pandas as pd\n",
    "import numpy as np\n"
   ]
  },
  {
   "cell_type": "code",
   "execution_count": 19,
   "metadata": {},
   "outputs": [
    {
     "data": {
      "application/json": {
       "network": {
        "company": [
         "LeVélo AMP Métropole",
         "Ville de Marseille",
         "Fifteen SAS"
        ],
        "href": "/v2/networks/le-velo",
        "id": "le-velo",
        "location": {
         "city": "Marseille",
         "country": "FR",
         "latitude": 43.296482,
         "longitude": 5.36978
        },
        "name": "LeVélo",
        "stations": [
         {
          "empty_slots": null,
          "extra": {
           "bike_autonomy": 10800,
           "bike_state_of_charge": 47,
           "distance": 548,
           "uid": "ce4bgi12rcd13ifvqb70"
          },
          "free_bikes": 1,
          "id": "ed75db62910c00c21f36bdbccb801995",
          "latitude": 43.29300892,
          "longitude": 5.374584208,
          "name": "Cours Jean Ballard",
          "timestamp": "2023-10-30T09:28:27.945000Z"
         },
         {
          "empty_slots": null,
          "extra": {
           "bike_autonomy": 16800,
           "bike_state_of_charge": 62,
           "distance": 989,
           "uid": "ce4bgj12rcd13ifvqbc0"
          },
          "free_bikes": 2,
          "id": "ca56a3b88d3afee0d55763fb4e272365",
          "latitude": 43.29902797,
          "longitude": 5.381509226,
          "name": "Allées Gambetta",
          "timestamp": "2023-10-30T09:28:27.970000Z"
         },
         {
          "empty_slots": null,
          "extra": {
           "bike_autonomy": 19600,
           "bike_state_of_charge": 69,
           "distance": 1270,
           "uid": "ce4bgj92rcd13ifvqbd0"
          },
          "free_bikes": 2,
          "id": "cd82a21c54a9b2fcbd488524969db863",
          "latitude": 43.29971664630074,
          "longitude": 5.384845163546515,
          "name": "Réformés Canebière",
          "timestamp": "2023-10-30T09:28:27.988000Z"
         },
         {
          "empty_slots": null,
          "extra": {
           "bike_autonomy": 27600,
           "bike_state_of_charge": 89,
           "distance": 254,
           "uid": "ce4bgk12rcd13ifvqbj0"
          },
          "free_bikes": 1,
          "id": "29f58a6fbf113e8cbe37f66994a01122",
          "latitude": 43.29679958,
          "longitude": 5.372909688,
          "name": "Coutellerie",
          "timestamp": "2023-10-30T09:28:27.932000Z"
         },
         {
          "empty_slots": null,
          "extra": {
           "bike_autonomy": 6800,
           "bike_state_of_charge": 37,
           "distance": 446,
           "uid": "ce4bgkp2rcd13ifvqbmg"
          },
          "free_bikes": 4,
          "id": "f769c9dc5944ef17e4a8ac3edb7da881",
          "latitude": 43.29527892,
          "longitude": 5.375048465,
          "name": "Canebiere - Beauvau",
          "timestamp": "2023-10-30T09:28:27.938000Z"
         },
         {
          "empty_slots": null,
          "extra": {
           "bike_autonomy": 0,
           "bike_state_of_charge": 0,
           "distance": 507,
           "uid": "ce4bgjh2rcd13ifvqbg0"
          },
          "free_bikes": 0,
          "id": "272423646aa25c95fcae4592f61f4403",
          "latitude": 43.299242645590766,
          "longitude": 5.374807305735999,
          "name": "Colbert Ste Barbe",
          "timestamp": "2023-10-30T09:28:27.941000Z"
         },
         {
          "empty_slots": null,
          "extra": {
           "bike_autonomy": 11600,
           "bike_state_of_charge": 49,
           "distance": 548,
           "uid": "ce4bgkh2rcd13ifvqbl0"
          },
          "free_bikes": 2,
          "id": "274994f6e2b868f3283fa003e5227bc6",
          "latitude": 43.29693502454282,
          "longitude": 5.376544207099414,
          "name": "Centre Bourse",
          "timestamp": "2023-10-30T09:28:27.944000Z"
         },
         {
          "empty_slots": null,
          "extra": {
           "bike_autonomy": 29600,
           "bike_state_of_charge": 94,
           "distance": 764,
           "uid": "ce4bgjh2rcd13ifvqbf0"
          },
          "free_bikes": 1,
          "id": "c23517c8307a10e192dd0e95b9e8a065",
          "latitude": 43.29360042,
          "longitude": 5.378349882,
          "name": "Saint-Ferréol - Davso",
          "timestamp": "2023-10-30T09:28:27.958000Z"
         },
         {
          "empty_slots": null,
          "extra": {
           "bike_autonomy": 0,
           "bike_state_of_charge": 0,
           "distance": 1770,
           "uid": "ce4bgk12rcd13ifvqbi0"
          },
          "free_bikes": 0,
          "id": "82cad27cd589222f25cd4b59b251221a",
          "latitude": 43.3042781513621,
          "longitude": 5.388867929313619,
          "name": "Flammarion - Isoard",
          "timestamp": "2023-10-30T09:28:28.020000Z"
         },
         {
          "empty_slots": null,
          "extra": {
           "bike_autonomy": 0,
           "bike_state_of_charge": 0,
           "distance": 1948,
           "uid": "ce4bgkh2rcd13ifvqbk0"
          },
          "free_bikes": 0,
          "id": "2681f40d3ede89fe9dfabb09d7de92d6",
          "latitude": 43.30299233959067,
          "longitude": 5.39213628647542,
          "name": "Longchamp - Grobet",
          "timestamp": "2023-10-30T09:28:28.039000Z"
         },
         {
          "empty_slots": null,
          "extra": {
           "bike_autonomy": 0,
           "bike_state_of_charge": 0,
           "distance": 2371,
           "uid": "ce4bgj92rcd13ifvqbe0"
          },
          "free_bikes": 0,
          "id": "21b9b1ac1a0284290fb4c08f922f7f7f",
          "latitude": 43.27617976729073,
          "longitude": 5.361008732708797,
          "name": "Vallon de l’Oriol",
          "timestamp": "2023-10-30T09:28:28.070000Z"
         },
         {
          "empty_slots": null,
          "extra": {
           "bike_autonomy": 6400,
           "bike_state_of_charge": 36,
           "distance": 166,
           "uid": "ce4bgop2rcd13ifvqc1g"
          },
          "free_bikes": 3,
          "id": "3d1a80675b0de8c80e27d5393be0a251",
          "latitude": 43.29777432269154,
          "longitude": 5.370874697052955,
          "name": "Grand Rue",
          "timestamp": "2023-10-30T09:28:27.928000Z"
         },
         {
          "empty_slots": null,
          "extra": {
           "bike_autonomy": 24800,
           "bike_state_of_charge": 82,
           "distance": 215,
           "uid": "ce4bgph2rcd13ifvqc2g"
          },
          "free_bikes": 4,
          "id": "8f391bdedd4577bba5bbb3d626971b78",
          "latitude": 43.29573017,
          "longitude": 5.367354992,
          "name": "Quai du Port",
          "timestamp": "2023-10-30T09:28:27.930000Z"
         },
         {
          "empty_slots": null,
          "extra": {
           "bike_autonomy": 30000,
           "bike_state_of_charge": 95,
           "distance": 327,
           "uid": "ce4bgn12rcd13ifvqbt0"
          },
          "free_bikes": 1,
          "id": "c4e827601952ba373127538fb3abb351",
          "latitude": 43.29716293,
          "longitude": 5.365865775,
          "name": "Place de Lenche",
          "timestamp": "2023-10-30T09:28:27.933000Z"
         },
         {
          "empty_slots": null,
          "extra": {
           "bike_autonomy": 0,
           "bike_state_of_charge": 0,
           "distance": 388,
           "uid": "ce4bgh92rcd13ifvqb40"
          },
          "free_bikes": 0,
          "id": "1e45e255c5ad2153317233e55b05c1a3",
          "latitude": 43.293258515940494,
          "longitude": 5.371585560104336,
          "name": "Place aux huiles",
          "timestamp": "2023-10-30T09:28:27.935000Z"
         },
         {
          "empty_slots": null,
          "extra": {
           "bike_autonomy": 14400,
           "bike_state_of_charge": 56,
           "distance": 447,
           "uid": "ce4bgh92rcd13ifvqb50"
          },
          "free_bikes": 3,
          "id": "4c640f222c7e0c2a8e9852d601bfde78",
          "latitude": 43.29574849,
          "longitude": 5.375219826,
          "name": "Canebiere Reine Elisabeth",
          "timestamp": "2023-10-30T09:28:27.939000Z"
         },
         {
          "empty_slots": null,
          "extra": {
           "bike_autonomy": 0,
           "bike_state_of_charge": 0,
           "distance": 457,
           "uid": "ce4bgm92rcd13ifvqbr0"
          },
          "free_bikes": 0,
          "id": "fd7ee9dbc906b1c4f53e8b7909d7b5b8",
          "latitude": 43.299208852029665,
          "longitude": 5.365546894429258,
          "name": "La Major",
          "timestamp": "2023-10-30T09:28:27.940000Z"
         },
         {
          "empty_slots": null,
          "extra": {
           "bike_autonomy": 6800,
           "bike_state_of_charge": 37,
           "distance": 608,
           "uid": "ce4bgpp2rcd13ifvqc3g"
          },
          "free_bikes": 9,
          "id": "cc310b3ee0809fdf5809b8ffa1fe1716",
          "latitude": 43.29843273,
          "longitude": 5.362774233,
          "name": "MUCEM",
          "timestamp": "2023-10-30T09:28:27.953000Z"
         },
         {
          "empty_slots": null,
          "extra": {
           "bike_autonomy": 0,
           "bike_state_of_charge": 0,
           "distance": 683,
           "uid": "ce4bgi12rcd13ifvqb80"
          },
          "free_bikes": 0,
          "id": "cf4e7b1717951fbb658b2551f0b037c9",
          "latitude": 43.29266329418829,
          "longitude": 5.376388862887325,
          "name": "Sainte - Lulli",
          "timestamp": "2023-10-30T09:28:27.956000Z"
         },
         {
          "empty_slots": null,
          "extra": {
           "bike_autonomy": 0,
           "bike_state_of_charge": 0,
           "distance": 915,
           "uid": "ce4bgl12rcd13ifvqbo0"
          },
          "free_bikes": 0,
          "id": "ad1534eb5734a654b3626e93943bb6e3",
          "latitude": 43.29601993155862,
          "longitude": 5.381084217359557,
          "name": "Académie - Capucins",
          "timestamp": "2023-10-30T09:28:27.962000Z"
         },
         {
          "empty_slots": null,
          "extra": {
           "bike_autonomy": 20800,
           "bike_state_of_charge": 72,
           "distance": 928,
           "uid": "ce4bgip2rcd13ifvqbb0"
          },
          "free_bikes": 3,
          "id": "4e3f6aa0839760379c45f6fdf5523a62",
          "latitude": 43.29803718,
          "longitude": 5.381065715,
          "name": "Canebière - Dugommier",
          "timestamp": "2023-10-30T09:28:27.969000Z"
         },
         {
          "empty_slots": null,
          "extra": {
           "bike_autonomy": 27600,
           "bike_state_of_charge": 89,
           "distance": 1074,
           "uid": "ce4bgqh2rcd13ifvqc4g"
          },
          "free_bikes": 1,
          "id": "2b0ba20e423cb7bc5e931b3b14573a49",
          "latitude": 43.30598899,
          "longitude": 5.372249573,
          "name": "Paris - Forbin",
          "timestamp": "2023-10-30T09:28:27.975000Z"
         },
         {
          "empty_slots": null,
          "extra": {
           "bike_autonomy": 0,
           "bike_state_of_charge": 0,
           "distance": 1285,
           "uid": "ce4bgih2rcd13ifvqba0"
          },
          "free_bikes": 0,
          "id": "7f38ffea3cde57af7807cd10de9c1514",
          "latitude": 43.29528961,
          "longitude": 5.385580554,
          "name": "Sibie - Curiol",
          "timestamp": "2023-10-30T09:28:27.990000Z"
         },
         {
          "empty_slots": null,
          "extra": {
           "bike_autonomy": 12800,
           "bike_state_of_charge": 52,
           "distance": 1404,
           "uid": "ce4bgn92rcd13ifvqbvg"
          },
          "free_bikes": 5,
          "id": "3b053009767e3f44b4529bd7e3f79023",
          "latitude": 43.30907565,
          "longitude": 5.368464875,
          "name": "Euromediterrannee Gantes",
          "timestamp": "2023-10-30T09:28:28.004000Z"
         },
         {
          "empty_slots": null,
          "extra": {
           "bike_autonomy": 26800,
           "bike_state_of_charge": 87,
           "distance": 1754,
           "uid": "ce4bgl92rcd13ifvqbq0"
          },
          "free_bikes": 1,
          "id": "e98e6bc9bb368476a22c6f29222baa12",
          "latitude": 43.31223933,
          "longitude": 5.368561815,
          "name": "Arenc - Chanterac",
          "timestamp": "2023-10-30T09:28:28.019000Z"
         },
         {
          "empty_slots": null,
          "extra": {
           "bike_autonomy": 2000,
           "bike_state_of_charge": 25,
           "distance": 1893,
           "uid": "ce4bgr92rcd13ifvqc6g"
          },
          "free_bikes": 17,
          "id": "5488485459f634bf10babe0f92c2607e",
          "latitude": 43.31339141270814,
          "longitude": 5.367060274332289,
          "name": "Tour La Marseillaise",
          "timestamp": "2023-10-30T09:28:28.023000Z"
         },
         {
          "empty_slots": null,
          "extra": {
           "bike_autonomy": 22400,
           "bike_state_of_charge": 76,
           "distance": 669,
           "uid": "ce4bgrh2rcd13ifvqc8g"
          },
          "free_bikes": 2,
          "id": "76b65c5aec5372b7257e34d103bfb2be",
          "latitude": 43.30193874,
          "longitude": 5.366285878,
          "name": "Schuman - Leca",
          "timestamp": "2023-10-30T09:28:27.955000Z"
         },
         {
          "empty_slots": null,
          "extra": {
           "bike_autonomy": 0,
           "bike_state_of_charge": 0,
           "distance": 919,
           "uid": "ce4bguh2rcd13ifvqcj0"
          },
          "free_bikes": 0,
          "id": "2ab93b4c529e5fa33fd15a3bfce24cb7",
          "latitude": 43.30278357,
          "longitude": 5.377157667,
          "name": "Ferry-Nédelec",
          "timestamp": "2023-10-30T09:28:27.963000Z"
         },
         {
          "empty_slots": null,
          "extra": {
           "bike_autonomy": 13600,
           "bike_state_of_charge": 54,
           "distance": 1007,
           "uid": "ce4bgrp2rcd13ifvqc9g"
          },
          "free_bikes": 9,
          "id": "2d03a732dc79d65fddbdc6e9a0623cf1",
          "latitude": 43.30536824089319,
          "longitude": 5.367343057645485,
          "name": "Joliette - Dunkerque",
          "timestamp": "2023-10-30T09:28:27.971000Z"
         },
         {
          "empty_slots": null,
          "extra": {
           "bike_autonomy": 6000,
           "bike_state_of_charge": 35,
           "distance": 1078,
           "uid": "ce4bgs12rcd13ifvqcag"
          },
          "free_bikes": 14,
          "id": "99842517cdb7bb773dc9f723bafcc643",
          "latitude": 43.30570589746745,
          "longitude": 5.365654336110538,
          "name": "Les Docks - Terrasses du Port",
          "timestamp": "2023-10-30T09:28:27.976000Z"
         },
         {
          "empty_slots": null,
          "extra": {
           "bike_autonomy": 19200,
           "bike_state_of_charge": 68,
           "distance": 1171,
           "uid": "ce4bgup2rcd13ifvqcn0"
          },
          "free_bikes": 2,
          "id": "665ee1da6ff6812a8df1bed4f50815e6",
          "latitude": 43.30460633,
          "longitude": 5.379025685,
          "name": "Saint Charles - Faculté",
          "timestamp": "2023-10-30T09:28:27.983000Z"
         },
         {
          "empty_slots": null,
          "extra": {
           "bike_autonomy": 22400,
           "bike_state_of_charge": 76,
           "distance": 1404,
           "uid": "ce4bguh2rcd13ifvqckg"
          },
          "free_bikes": 1,
          "id": "12a734ed63ea776a0d4a84d80e78152e",
          "latitude": 43.30903370006192,
          "longitude": 5.371782666402396,
          "name": "Hôpital Européen",
          "timestamp": "2023-10-30T09:28:28.005000Z"
         },
         {
          "empty_slots": null,
          "extra": {
           "bike_autonomy": 10800,
           "bike_state_of_charge": 47,
           "distance": 1747,
           "uid": "ce4bgt92rcd13ifvqcg0"
          },
          "free_bikes": 1,
          "id": "1d7f84508c18a4892638f7ae659a6999",
          "latitude": 43.311125001287195,
          "longitude": 5.377624232911899,
          "name": "National - Hoche",
          "timestamp": "2023-10-30T09:28:28.018000Z"
         },
         {
          "empty_slots": null,
          "extra": {
           "bike_autonomy": 0,
           "bike_state_of_charge": 0,
           "distance": 2055,
           "uid": "ce4bgt12rcd13ifvqcd0"
          },
          "free_bikes": 0,
          "id": "1360f4262f65e6298f3ae830d1e53649",
          "latitude": 43.314811272541334,
          "longitude": 5.37310339134342,
          "name": "National Métro",
          "timestamp": "2023-10-30T09:28:28.041000Z"
         },
         {
          "empty_slots": null,
          "extra": {
           "bike_autonomy": 0,
           "bike_state_of_charge": 0,
           "distance": 2206,
           "uid": "ce4bgv12rcd13ifvqcp0"
          },
          "free_bikes": 0,
          "id": "056bddd0f07b58b4b608bdce713b2950",
          "latitude": 43.3117222,
          "longitude": 5.387246838,
          "name": "Place Cadenat",
          "timestamp": "2023-10-30T09:28:28.052000Z"
         },
         {
          "empty_slots": null,
          "extra": {
           "bike_autonomy": 22400,
           "bike_state_of_charge": 76,
           "distance": 2206,
           "uid": "ce4bgup2rcd13ifvqco0"
          },
          "free_bikes": 1,
          "id": "aae99b169a6db5731a37d8cafa813d78",
          "latitude": 43.30958896,
          "longitude": 5.390258304,
          "name": "Friche Belle de Mai",
          "timestamp": "2023-10-30T09:28:28.053000Z"
         },
         {
          "empty_slots": null,
          "extra": {
           "bike_autonomy": 0,
           "bike_state_of_charge": 0,
           "distance": 2406,
           "uid": "ce4bh092rcd13ifvqd20"
          },
          "free_bikes": 0,
          "id": "5083fba39e74add322c9a8630ffd5b8c",
          "latitude": 43.30427414673173,
          "longitude": 5.397513231939001,
          "name": "Cinq Avenue Longchamp",
          "timestamp": "2023-10-30T09:28:28.071000Z"
         },
         {
          "empty_slots": null,
          "extra": {
           "bike_autonomy": 0,
           "bike_state_of_charge": 0,
           "distance": 2577,
           "uid": "ce4bh012rcd13ifvqcv0"
          },
          "free_bikes": 0,
          "id": "066204cf8356f8e628dc5b87305bed1b",
          "latitude": 43.309037596219014,
          "longitude": 5.396545511971453,
          "name": "Chute Lavie Dahdah",
          "timestamp": "2023-10-30T09:28:28.075000Z"
         },
         {
          "empty_slots": null,
          "extra": {
           "bike_autonomy": 0,
           "bike_state_of_charge": 0,
           "distance": 2605,
           "uid": "ce4bgvh2rcd13ifvqcs0"
          },
          "free_bikes": 0,
          "id": "4ca2c5798e482e43a17305280468763e",
          "latitude": 43.30275907,
          "longitude": 5.400792795,
          "name": "Blancarde - Duparc",
          "timestamp": "2023-10-30T09:28:28.076000Z"
         },
         {
          "empty_slots": null,
          "extra": {
           "bike_autonomy": 0,
           "bike_state_of_charge": 0,
           "distance": 2879,
           "uid": "ce4bgvp2rcd13ifvqcu0"
          },
          "free_bikes": 0,
          "id": "c6a1612bd127b0a1068d4d2b70d0fa82",
          "latitude": 43.31329084715776,
          "longitude": 5.396838371330546,
          "name": "Chutes Lavie - Guigou",
          "timestamp": "2023-10-30T09:28:28.089000Z"
         },
         {
          "empty_slots": null,
          "extra": {
           "bike_autonomy": 0,
           "bike_state_of_charge": 0,
           "distance": 2937,
           "uid": "ce4bgvp2rcd13ifvqct0"
          },
          "free_bikes": 0,
          "id": "6f61a8a8e376a3decf39315f9b20a11e",
          "latitude": 43.30937085,
          "longitude": 5.401449029,
          "name": "Eglise des Chartreux",
          "timestamp": "2023-10-30T09:28:28.090000Z"
         },
         {
          "empty_slots": null,
          "extra": {
           "bike_autonomy": 6400,
           "bike_state_of_charge": 36,
           "distance": 3578,
           "uid": "ce4bh012rcd13ifvqd00"
          },
          "free_bikes": 2,
          "id": "276aadb0f3733eb7d44b99abf555c9bf",
          "latitude": 43.31652283667526,
          "longitude": 5.4043665678689194,
          "name": "Saint-Just - Le Dôme",
          "timestamp": "2023-10-30T09:28:28.107000Z"
         },
         {
          "empty_slots": null,
          "extra": {
           "bike_autonomy": 12000,
           "bike_state_of_charge": 50,
           "distance": 88,
           "uid": "ce4bgnh2rcd13ifvqc0g"
          },
          "free_bikes": 3,
          "id": "d1012054bb845abbee845884adf7e284",
          "latitude": 43.29613110303592,
          "longitude": 5.370772717518662,
          "name": "Hôtel de ville",
          "timestamp": "2023-10-30T09:28:27.923000Z"
         },
         {
          "empty_slots": null,
          "extra": {
           "bike_autonomy": 800,
           "bike_state_of_charge": 22,
           "distance": 591,
           "uid": "ce4bgi92rcd13ifvqb90"
          },
          "free_bikes": 4,
          "id": "11f5f445d382147eb996055ac5e19997",
          "latitude": 43.29626342443967,
          "longitude": 5.377094272796853,
          "name": "Canebière Saint-Ferreol",
          "timestamp": "2023-10-30T09:28:27.949000Z"
         },
         {
          "empty_slots": null,
          "extra": {
           "bike_autonomy": 22400,
           "bike_state_of_charge": 76,
           "distance": 651,
           "uid": "ce4bgs92rcd13ifvqcc0"
          },
          "free_bikes": 1,
          "id": "fc00c996a34496d7ed8431081e9dea97",
          "latitude": 43.30142931593264,
          "longitude": 5.374129631885239,
          "name": "Jules Guesde",
          "timestamp": "2023-10-30T09:28:27.954000Z"
         },
         {
          "empty_slots": null,
          "extra": {
           "bike_autonomy": 1600,
           "bike_state_of_charge": 24,
           "distance": 1109,
           "uid": "ce4bh3p2rcd13ifvqdq0"
          },
          "free_bikes": 1,
          "id": "aba0ea867a5c5ad65f76f515bf7b0e47",
          "latitude": 43.2869613,
          "longitude": 5.373784575,
          "name": "Notre-Dame - Dragon",
          "timestamp": "2023-10-30T09:28:27.978000Z"
         },
         {
          "empty_slots": null,
          "extra": {
           "bike_autonomy": 0,
           "bike_state_of_charge": 0,
           "distance": 1361,
           "uid": "ce4bh2h2rcd13ifvqdh0"
          },
          "free_bikes": 0,
          "id": "021da70e4412fc8f727d69e41a3d654e",
          "latitude": 43.29416247655675,
          "longitude": 5.386291983910837,
          "name": "Plaine - Saint-Pierre",
          "timestamp": "2023-10-30T09:28:27.997000Z"
         },
         {
          "empty_slots": null,
          "extra": {
           "bike_autonomy": 16000,
           "bike_state_of_charge": 60,
           "distance": 1455,
           "uid": "ce4bh412rcd13ifvqds0"
          },
          "free_bikes": 1,
          "id": "0b929e8834d4d4d5eeadca476805b0e9",
          "latitude": 43.28399833,
          "longitude": 5.375062072,
          "name": "Notre-Dame - Vauban",
          "timestamp": "2023-10-30T09:28:28.007000Z"
         },
         {
          "empty_slots": null,
          "extra": {
           "bike_autonomy": 0,
           "bike_state_of_charge": 0,
           "distance": 1573,
           "uid": "ce4bh392rcd13ifvqdl0"
          },
          "free_bikes": 0,
          "id": "de6e9325c2693172b29cae254fdf9a57",
          "latitude": 43.29876369,
          "longitude": 5.388973392,
          "name": "Tivoli - Roosevelt",
          "timestamp": "2023-10-30T09:28:28.008000Z"
         },
         {
          "empty_slots": null,
          "extra": {
           "bike_autonomy": 0,
           "bike_state_of_charge": 0,
           "distance": 1594,
           "uid": "ce4bgt12rcd13ifvqce0"
          },
          "free_bikes": 0,
          "id": "04e63ac1617e8a32268e866bcec6a9ee",
          "latitude": 43.3080124,
          "longitude": 5.38151142,
          "name": "National - Belle de Mai",
          "timestamp": "2023-10-30T09:28:28.009000Z"
         },
         {
          "empty_slots": null,
          "extra": {
           "bike_autonomy": 0,
           "bike_state_of_charge": 0,
           "distance": 1764,
           "uid": "ce4bh492rcd13ifvqdug"
          },
          "free_bikes": 0,
          "id": "6b3e2331db9f591707c69932089eaa51",
          "latitude": 43.28659467,
          "longitude": 5.386795143,
          "name": "Baille - Friedland",
          "timestamp": "2023-10-30T09:28:28.019000Z"
         },
         {
          "empty_slots": null,
          "extra": {
           "bike_autonomy": 0,
           "bike_state_of_charge": 0,
           "distance": 1773,
           "uid": "ce4bh192rcd13ifvqdb0"
          },
          "free_bikes": 0,
          "id": "9dae1a734becd7c3c265da5964938feb",
          "latitude": 43.30084993931786,
          "longitude": 5.390856183778169,
          "name": "Liberation - Isoard",
          "timestamp": "2023-10-30T09:28:28.021000Z"
         },
         {
          "empty_slots": null,
          "extra": {
           "bike_autonomy": 11200,
           "bike_state_of_charge": 48,
           "distance": 1938,
           "uid": "ce4bh192rcd13ifvqdd0"
          },
          "free_bikes": 1,
          "id": "3cd321d57103f9eddfdcf30ae142947a",
          "latitude": 43.291994145747765,
          "longitude": 5.3929067825579295,
          "name": "Saint-Pierre - Hugueny",
          "timestamp": "2023-10-30T09:28:28.037000Z"
         },
         {
          "empty_slots": null,
          "extra": {
           "bike_autonomy": 5200,
           "bike_state_of_charge": 33,
           "distance": 1979,
           "uid": "ce4bh492rcd13ifvqdvg"
          },
          "free_bikes": 3,
          "id": "d39244d1183a30145fef19b812ca0682",
          "latitude": 43.28350153,
          "longitude": 5.386470818,
          "name": "Rouet",
          "timestamp": "2023-10-30T09:28:28.041000Z"
         },
         {
          "empty_slots": null,
          "extra": {
           "bike_autonomy": 0,
           "bike_state_of_charge": 0,
           "distance": 2107,
           "uid": "ce4bh0p2rcd13ifvqd70"
          },
          "free_bikes": 0,
          "id": "4cff81965b2e2fd5a0dbda41b0ee4dd8",
          "latitude": 43.30200819,
          "longitude": 5.394693835,
          "name": "Libération - Chape - Espérandieu",
          "timestamp": "2023-10-30T09:28:28.045000Z"
         },
         {
          "empty_slots": null,
          "extra": {
           "bike_autonomy": 0,
           "bike_state_of_charge": 0,
           "distance": 2204,
           "uid": "ce4bh0p2rcd13ifvqd80"
          },
          "free_bikes": 0,
          "id": "47814a4f555da95db76a325d94968054",
          "latitude": 43.3059935,
          "longitude": 5.393687137,
          "name": "Flammarion- Montricher",
          "timestamp": "2023-10-30T09:28:28.049000Z"
         },
         {
          "empty_slots": null,
          "extra": {
           "bike_autonomy": 28800,
           "bike_state_of_charge": 92,
           "distance": 2235,
           "uid": "ce4bh0h2rcd13ifvqd50"
          },
          "free_bikes": 1,
          "id": "3addf0bbfacf3b59b01d0fbbfe1667aa",
          "latitude": 43.29868093,
          "longitude": 5.397225175,
          "name": "Place Sébastopol",
          "timestamp": "2023-10-30T09:28:28.054000Z"
         },
         {
          "empty_slots": null,
          "extra": {
           "bike_autonomy": 30000,
           "bike_state_of_charge": 95,
           "distance": 2250,
           "uid": "ce4bhoh2rcd13ifvqh5g"
          },
          "free_bikes": 1,
          "id": "a6d85019a69a6454368ee8d645e962f3",
          "latitude": 43.28446199,
          "longitude": 5.39212117,
          "name": "Toulon - Menpenti",
          "timestamp": "2023-10-30T09:28:28.055000Z"
         },
         {
          "empty_slots": null,
          "extra": {
           "bike_autonomy": 10000,
           "bike_state_of_charge": 45,
           "distance": 2256,
           "uid": "ce4bgt92rcd13ifvqcf0"
          },
          "free_bikes": 1,
          "id": "c62c77ad74f24f477d112f966a40fa5e",
          "latitude": 43.3135706,
          "longitude": 5.3848289,
          "name": "Place Placide Caffo",
          "timestamp": "2023-10-30T09:28:28.055000Z"
         },
         {
          "empty_slots": null,
          "extra": {
           "bike_autonomy": 0,
           "bike_state_of_charge": 0,
           "distance": 2257,
           "uid": "ce4bh3h2rcd13ifvqdo0"
          },
          "free_bikes": 0,
          "id": "2db1f777dad667c0f9a068b944bc0d15",
          "latitude": 43.29431413,
          "longitude": 5.397498439,
          "name": "Briffaut Camas",
          "timestamp": "2023-10-30T09:28:28.056000Z"
         },
         {
          "empty_slots": null,
          "extra": {
           "bike_autonomy": 0,
           "bike_state_of_charge": 0,
           "distance": 2259,
           "uid": "ce4bhsp2rcd13ifvqi50"
          },
          "free_bikes": 0,
          "id": "1b4a930de4395f566ab5ab3a33d1fc19",
          "latitude": 43.315289087463555,
          "longitude": 5.38034926547175,
          "name": "Belle vue",
          "timestamp": "2023-10-30T09:28:28.057000Z"
         },
         {
          "empty_slots": null,
          "extra": {
           "bike_autonomy": 0,
           "bike_state_of_charge": 0,
           "distance": 2291,
           "uid": "ce4bh3h2rcd13ifvqdn0"
          },
          "free_bikes": 0,
          "id": "74841aeaaec41ec03ceb63eb4e1ac827",
          "latitude": 43.28936349,
          "longitude": 5.396322259,
          "name": "Baille - Hôpital Conception",
          "timestamp": "2023-10-30T09:28:28.059000Z"
         },
         {
          "empty_slots": null,
          "extra": {
           "bike_autonomy": 0,
           "bike_state_of_charge": 0,
           "distance": 2367,
           "uid": "ce4bh292rcd13ifvqdg0"
          },
          "free_bikes": 0,
          "id": "c1efb24a2ccf716d966ea08dcd44fdd2",
          "latitude": 43.28572971621563,
          "longitude": 5.394991516440086,
          "name": "Pierre Roux",
          "timestamp": "2023-10-30T09:28:28.061000Z"
         },
         {
          "empty_slots": null,
          "extra": {
           "bike_autonomy": 0,
           "bike_state_of_charge": 0,
           "distance": 2371,
           "uid": "ce4bgth2rcd13ifvqch0"
          },
          "free_bikes": 0,
          "id": "a951220c084f2b3a8cb31507fd2cccf6",
          "latitude": 43.31707549,
          "longitude": 5.377366738,
          "name": "Auphan - Vaillant",
          "timestamp": "2023-10-30T09:28:28.069000Z"
         },
         {
          "empty_slots": null,
          "extra": {
           "bike_autonomy": 0,
           "bike_state_of_charge": 0,
           "distance": 2404,
           "uid": "ce4bh0h2rcd13ifvqd40"
          },
          "free_bikes": 0,
          "id": "175cb0e8798cd983bfbd3c9389ad9803",
          "latitude": 43.30111738,
          "longitude": 5.398795435,
          "name": "Foch - Fayolle",
          "timestamp": "2023-10-30T09:28:28.070000Z"
         },
         {
          "empty_slots": null,
          "extra": {
           "bike_autonomy": 0,
           "bike_state_of_charge": 0,
           "distance": 2419,
           "uid": "ce4bh312rcd13ifvqdj0"
          },
          "free_bikes": 0,
          "id": "b0527fadf9671ee0d1b685042b7fc211",
          "latitude": 43.29571281,
          "longitude": 5.399639378,
          "name": "Chave - Sakakini",
          "timestamp": "2023-10-30T09:28:28.072000Z"
         },
         {
          "empty_slots": null,
          "extra": {
           "bike_autonomy": 8400,
           "bike_state_of_charge": 41,
           "distance": 2510,
           "uid": "ce4bh392rcd13ifvqdm0"
          },
          "free_bikes": 3,
          "id": "04a8c7c60aa15525c7b8047da64e7573",
          "latitude": 43.290412249633505,
          "longitude": 5.399632919528813,
          "name": "Jean Moulin - Hôpital La Timone",
          "timestamp": "2023-10-30T09:28:28.073000Z"
         },
         {
          "empty_slots": null,
          "extra": {
           "bike_autonomy": 0,
           "bike_state_of_charge": 0,
           "distance": 2573,
           "uid": "ce4bh312rcd13ifvqdk0"
          },
          "free_bikes": 0,
          "id": "52348a4fedb5c9603772b7df8081822a",
          "latitude": 43.29272355,
          "longitude": 5.401130777,
          "name": "Sakakini - Saint-Pierre",
          "timestamp": "2023-10-30T09:28:28.074000Z"
         },
         {
          "empty_slots": null,
          "extra": {
           "bike_autonomy": 0,
           "bike_state_of_charge": 0,
           "distance": 2657,
           "uid": "ce4bho92rcd13ifvqh3g"
          },
          "free_bikes": 0,
          "id": "787f5915a5b8872003ce870550d9a73d",
          "latitude": 43.28715402,
          "longitude": 5.39997873,
          "name": "Jean Moulin - Sainte Baume",
          "timestamp": "2023-10-30T09:28:28.080000Z"
         },
         {
          "empty_slots": null,
          "extra": {
           "bike_autonomy": 27200,
           "bike_state_of_charge": 88,
           "distance": 2760,
           "uid": "ce4bh112rcd13ifvqda0"
          },
          "free_bikes": 1,
          "id": "8fea33bf5fad39fcc2cb5cfb831ce102",
          "latitude": 43.30641234314123,
          "longitude": 5.40103548654406,
          "name": "Duparc - Brossolette",
          "timestamp": "2023-10-30T09:28:28.083000Z"
         },
         {
          "empty_slots": null,
          "extra": {
           "bike_autonomy": 24000,
           "bike_state_of_charge": 80,
           "distance": 2781,
           "uid": "ce4bhr12rcd13ifvqhpg"
          },
          "free_bikes": 1,
          "id": "70bb598d4dec2354226ec1541fb2481c",
          "latitude": 43.319935427116775,
          "longitude": 5.381699103765641,
          "name": "Bon Secours - Huilerie",
          "timestamp": "2023-10-30T09:28:28.084000Z"
         },
         {
          "empty_slots": null,
          "extra": {
           "bike_autonomy": 0,
           "bike_state_of_charge": 0,
           "distance": 2790,
           "uid": "ce4bho12rcd13ifvqh2g"
          },
          "free_bikes": 0,
          "id": "bb09bbdbc448c53e30b409cca97a59f7",
          "latitude": 43.28078426,
          "longitude": 5.396621812,
          "name": "Reboul - Argile",
          "timestamp": "2023-10-30T09:28:28.085000Z"
         },
         {
          "empty_slots": null,
          "extra": {
           "bike_autonomy": 14400,
           "bike_state_of_charge": 56,
           "distance": 2866,
           "uid": "ce4bhqp2rcd13ifvqhng"
          },
          "free_bikes": 3,
          "id": "2cff3854ea9a45cfc6248d91b3e17f48",
          "latitude": 43.31755747,
          "longitude": 5.390173087,
          "name": "Sainte-Marthe - Glacière",
          "timestamp": "2023-10-30T09:28:28.088000Z"
         },
         {
          "empty_slots": null,
          "extra": {
           "bike_autonomy": 9200,
           "bike_state_of_charge": 43,
           "distance": 2933,
           "uid": "ce4bh0h2rcd13ifvqd60"
          },
          "free_bikes": 2,
          "id": "1025522076f82df7a4ad06a4dde62217",
          "latitude": 43.29626348,
          "longitude": 5.406009668,
          "name": "Blancarde - Gare SNCF",
          "timestamp": "2023-10-30T09:28:28.090000Z"
         },
         {
          "empty_slots": null,
          "extra": {
           "bike_autonomy": 31200,
           "bike_state_of_charge": 98,
           "distance": 3214,
           "uid": "ce4bh192rcd13ifvqdc0"
          },
          "free_bikes": 1,
          "id": "be77a1c856f1eb51a00b523c9b95ed11",
          "latitude": 43.2925709464964,
          "longitude": 5.40910662501517,
          "name": "Place Pol Lapeyre",
          "timestamp": "2023-10-30T09:28:28.101000Z"
         },
         {
          "empty_slots": null,
          "extra": {
           "bike_autonomy": 5200,
           "bike_state_of_charge": 33,
           "distance": 3394,
           "uid": "ce4bhqp2rcd13ifvqhog"
          },
          "free_bikes": 7,
          "id": "456176730237d68313c9e6242b043954",
          "latitude": 43.32366978,
          "longitude": 5.38883641,
          "name": "Sainte-Marthe - Moretti",
          "timestamp": "2023-10-30T09:28:28.103000Z"
         },
         {
          "empty_slots": null,
          "extra": {
           "bike_autonomy": 0,
           "bike_state_of_charge": 0,
           "distance": 3595,
           "uid": "ce4bhop2rcd13ifvqh8g"
          },
          "free_bikes": 0,
          "id": "7a04befb0ff9ff0ac3bf89e98f843d37",
          "latitude": 43.30418846,
          "longitude": 5.412903941,
          "name": "Saint-Barnabé - Haguenau",
          "timestamp": "2023-10-30T09:28:28.108000Z"
         },
         {
          "empty_slots": null,
          "extra": {
           "bike_autonomy": 0,
           "bike_state_of_charge": 0,
           "distance": 4046,
           "uid": "ce4bhop2rcd13ifvqh7g"
          },
          "free_bikes": 0,
          "id": "b1fb359580071e426fda154fbb82f2fa",
          "latitude": 43.30383732,
          "longitude": 5.41872428,
          "name": "Place Caire",
          "timestamp": "2023-10-30T09:28:28.121000Z"
         },
         {
          "empty_slots": null,
          "extra": {
           "bike_autonomy": 2800,
           "bike_state_of_charge": 27,
           "distance": 4090,
           "uid": "ce4bhr92rcd13ifvqhrg"
          },
          "free_bikes": 5,
          "id": "b3170436fe70a812aa8b5145421ce91c",
          "latitude": 43.33044176,
          "longitude": 5.38914807,
          "name": "Pierre Paraf",
          "timestamp": "2023-10-30T09:28:28.123000Z"
         },
         {
          "empty_slots": null,
          "extra": {
           "bike_autonomy": 0,
           "bike_state_of_charge": 0,
           "distance": 4146,
           "uid": "ce501612rcd8frsf0b60"
          },
          "free_bikes": 0,
          "id": "0720665b4e54c3803f57e6cdffad186d",
          "latitude": 43.26795854639917,
          "longitude": 5.402685214151916,
          "name": "Augustin Aubert",
          "timestamp": "2023-10-30T09:28:28.124000Z"
         },
         {
          "empty_slots": null,
          "extra": {
           "bike_autonomy": 4400,
           "bike_state_of_charge": 31,
           "distance": 4212,
           "uid": "ce4bhq92rcd13ifvqhjg"
          },
          "free_bikes": 5,
          "id": "bf409c0e242fcd618d5c8cd9cb8cc8ea",
          "latitude": 43.32346361240647,
          "longitude": 5.406297409546596,
          "name": "Parc Corot",
          "timestamp": "2023-10-30T09:28:28.125000Z"
         },
         {
          "empty_slots": null,
          "extra": {
           "bike_autonomy": 0,
           "bike_state_of_charge": 0,
           "distance": 4217,
           "uid": "ce4bho12rcd13ifvqh1g"
          },
          "free_bikes": 0,
          "id": "677bd46a199099b2ed3395a5a8e8abd8",
          "latitude": 43.2799602511721,
          "longitude": 5.416624366102042,
          "name": "Pont de Vivaux",
          "timestamp": "2023-10-30T09:28:28.129000Z"
         },
         {
          "empty_slots": null,
          "extra": {
           "bike_autonomy": 11200,
           "bike_state_of_charge": 48,
           "distance": 4305,
           "uid": "ce4bhph2rcd13ifvqhdg"
          },
          "free_bikes": 1,
          "id": "04dcc39687077477f372807a43d09cc0",
          "latitude": 43.29552256279197,
          "longitude": 5.422926314883398,
          "name": "La Boiseraie",
          "timestamp": "2023-10-30T09:28:28.130000Z"
         },
         {
          "empty_slots": null,
          "extra": {
           "bike_autonomy": 30000,
           "bike_state_of_charge": 95,
           "distance": 4505,
           "uid": "ce4bhq92rcd13ifvqhkg"
          },
          "free_bikes": 2,
          "id": "53996653301196d67fb57b01b3324c0d",
          "latitude": 43.32004537625261,
          "longitude": 5.415045773803286,
          "name": "Malpassé Métro",
          "timestamp": "2023-10-30T09:28:28.132000Z"
         },
         {
          "empty_slots": null,
          "extra": {
           "bike_autonomy": 0,
           "bike_state_of_charge": 0,
           "distance": 4581,
           "uid": "ce4bhoh2rcd13ifvqh6g"
          },
          "free_bikes": 0,
          "id": "d1f82e71d5662bb2206fb74994d48e34",
          "latitude": 43.30409626543968,
          "longitude": 5.425385468108061,
          "name": "La Fourragère",
          "timestamp": "2023-10-30T09:28:28.133000Z"
         },
         {
          "empty_slots": null,
          "extra": {
           "bike_autonomy": 0,
           "bike_state_of_charge": 0,
           "distance": 4667,
           "uid": "ce4bhpp2rcd13ifvqhgg"
          },
          "free_bikes": 0,
          "id": "9241662b5bea94bc5d042eb097811d5b",
          "latitude": 43.32660541953149,
          "longitude": 5.409903287927591,
          "name": "Saint-Paul - Malpassé",
          "timestamp": "2023-10-30T09:28:28.135000Z"
         },
         {
          "empty_slots": null,
          "extra": {
           "bike_autonomy": 9600,
           "bike_state_of_charge": 44,
           "distance": 4693,
           "uid": "ce4bhp92rcd13ifvqhag"
          },
          "free_bikes": 1,
          "id": "d6bbddbcda13a1c9ea2b9c38d376e585",
          "latitude": 43.31078482,
          "longitude": 5.42430547,
          "name": "Bois Luzy",
          "timestamp": "2023-10-30T09:28:28.136000Z"
         },
         {
          "empty_slots": null,
          "extra": {
           "bike_autonomy": 27200,
           "bike_state_of_charge": 88,
           "distance": 4820,
           "uid": "ce4bhq12rcd13ifvqhhg"
          },
          "free_bikes": 1,
          "id": "7ba1e5b9e04f010cc5f6b9b8c26b07c3",
          "latitude": 43.3252329242701,
          "longitude": 5.4143178006645485,
          "name": "Lavéran - Diderot",
          "timestamp": "2023-10-30T09:28:28.140000Z"
         },
         {
          "empty_slots": null,
          "extra": {
           "bike_autonomy": 0,
           "bike_state_of_charge": 0,
           "distance": 4949,
           "uid": "ce4bhp92rcd13ifvqhbg"
          },
          "free_bikes": 0,
          "id": "feb70510ef08937bc441cc9b0f49a77a",
          "latitude": 43.31712055,
          "longitude": 5.423936023,
          "name": "Montolivet",
          "timestamp": "2023-10-30T09:28:28.143000Z"
         },
         {
          "empty_slots": null,
          "extra": {
           "bike_autonomy": 15200,
           "bike_state_of_charge": 58,
           "distance": 5404,
           "uid": "ce4bhpp2rcd13ifvqhfg"
          },
          "free_bikes": 5,
          "id": "d0614561d2365c31521fab08d4e13e70",
          "latitude": 43.29876838180914,
          "longitude": 5.436430475000634,
          "name": "Saint-Jean du Désert",
          "timestamp": "2023-10-30T09:28:28.153000Z"
         },
         {
          "empty_slots": null,
          "extra": {
           "bike_autonomy": 28000,
           "bike_state_of_charge": 90,
           "distance": 5497,
           "uid": "ce4bhqh2rcd13ifvqhmg"
          },
          "free_bikes": 1,
          "id": "2820418015d8ab04023b36ed07ad0a18",
          "latitude": 43.33611966260352,
          "longitude": 5.410320835259142,
          "name": "Faculté - Saint-Jerôme",
          "timestamp": "2023-10-30T09:28:28.157000Z"
         },
         {
          "empty_slots": null,
          "extra": {
           "bike_autonomy": 800,
           "bike_state_of_charge": 22,
           "distance": 5893,
           "uid": "ce4bhp92rcd13ifvqhcg"
          },
          "free_bikes": 2,
          "id": "ca3b77416c95dc84eed774bb71495601",
          "latitude": 43.31710365325108,
          "longitude": 5.43681784487967,
          "name": "Stade Bombardière",
          "timestamp": "2023-10-30T09:28:28.161000Z"
         },
         {
          "empty_slots": null,
          "extra": {
           "bike_autonomy": 0,
           "bike_state_of_charge": 0,
           "distance": 432,
           "uid": "ce4bhbp2rcd13ifvqesg"
          },
          "free_bikes": 0,
          "id": "d3b3a6407c1164776aa9e7de4bbe6e77",
          "latitude": 43.292748522069814,
          "longitude": 5.368401671786842,
          "name": "La Criée",
          "timestamp": "2023-10-30T09:28:27.936000Z"
         },
         {
          "empty_slots": null,
          "extra": {
           "bike_autonomy": 2800,
           "bike_state_of_charge": 27,
           "distance": 556,
           "uid": "ce4bha92rcd13ifvqeh0"
          },
          "free_bikes": 2,
          "id": "5ef562ec6a76dfb8bc3a4a251b0474d3",
          "latitude": 43.291674744737406,
          "longitude": 5.371582564461846,
          "name": "Sainte - Notre-Dame",
          "timestamp": "2023-10-30T09:28:27.948000Z"
         },
         {
          "empty_slots": null,
          "extra": {
           "bike_autonomy": 0,
           "bike_state_of_charge": 0,
           "distance": 651,
           "uid": "ce4bh5p2rcd13ifvqe4g"
          },
          "free_bikes": 0,
          "id": "4eb3ff75efd7336138ab296d9de4075f",
          "latitude": 43.29077871,
          "longitude": 5.371481915,
          "name": "Place de la Corderie",
          "timestamp": "2023-10-30T09:28:27.955000Z"
         },
         {
          "empty_slots": null,
          "extra": {
           "bike_autonomy": 20800,
           "bike_state_of_charge": 72,
           "distance": 731,
           "uid": "ce4bgqh2rcd13ifvqc5g"
          },
          "free_bikes": 2,
          "id": "f7e3356d8227ce811db5cd4c3142e13e",
          "latitude": 43.30304044330242,
          "longitude": 5.3689868025954866,
          "name": "République Joliette",
          "timestamp": "2023-10-30T09:28:27.957000Z"
         },
         {
          "empty_slots": null,
          "extra": {
           "bike_autonomy": 13200,
           "bike_state_of_charge": 53,
           "distance": 837,
           "uid": "ce4bh692rcd13ifvqe90"
          },
          "free_bikes": 1,
          "id": "bee3ef7c61989f6d8f7d223c12480a6d",
          "latitude": 43.290326899868546,
          "longitude": 5.375711092245979,
          "name": "Pierre Puget - Breteuil",
          "timestamp": "2023-10-30T09:28:27.959000Z"
         },
         {
          "empty_slots": null,
          "extra": {
           "bike_autonomy": 0,
           "bike_state_of_charge": 0,
           "distance": 859,
           "uid": "ce4bhap2rcd13ifvqek0"
          },
          "free_bikes": 0,
          "id": "0f3e5a4a3fd843b5dcb75e7af7aca5b9",
          "latitude": 43.28918361,
          "longitude": 5.366407727,
          "name": "Endoume - Corderie",
          "timestamp": "2023-10-30T09:28:27.961000Z"
         },
         {
          "empty_slots": null,
          "extra": {
           "bike_autonomy": 0,
           "bike_state_of_charge": 0,
           "distance": 1020,
           "uid": "ce4bh9p2rcd13ifvqed0"
          },
          "free_bikes": 0,
          "id": "030fe7f33437b8c43ff3c8779219228f",
          "latitude": 43.28974291012639,
          "longitude": 5.378303806996655,
          "name": "Estrangin",
          "timestamp": "2023-10-30T09:28:27.973000Z"
         },
         {
          "empty_slots": null,
          "extra": {
           "bike_autonomy": 0,
           "bike_state_of_charge": 0,
           "distance": 1076,
           "uid": "ce4bha92rcd13ifvqeg0"
          },
          "free_bikes": 0,
          "id": "fae6f0f1129d2968b71e0584605c6777",
          "latitude": 43.29063067145421,
          "longitude": 5.359243592567395,
          "name": "Pasteur",
          "timestamp": "2023-10-30T09:28:27.976000Z"
         },
         {
          "empty_slots": null,
          "extra": {
           "bike_autonomy": 27200,
           "bike_state_of_charge": 88,
           "distance": 1087,
           "uid": "ce4bhb12rcd13ifvqel0"
          },
          "free_bikes": 1,
          "id": "56c67c9aa8749e06ffbddf74faab28e4",
          "latitude": 43.29199367364626,
          "longitude": 5.357886145002112,
          "name": "Livon - Pasteur",
          "timestamp": "2023-10-30T09:28:27.977000Z"
         },
         {
          "empty_slots": null,
          "extra": {
           "bike_autonomy": 0,
           "bike_state_of_charge": 0,
           "distance": 1119,
           "uid": "ce4bh512rcd13ifvqe2g"
          },
          "free_bikes": 0,
          "id": "e8c63893728fc054bfc47617a2282faa",
          "latitude": 43.29099525,
          "longitude": 5.381360991,
          "name": "Rome - Salvator",
          "timestamp": "2023-10-30T09:28:27.979000Z"
         },
         {
          "empty_slots": null,
          "extra": {
           "bike_autonomy": 2800,
           "bike_state_of_charge": 27,
           "distance": 1170,
           "uid": "ce4bh4p2rcd13ifvqe1g"
          },
          "free_bikes": 3,
          "id": "fe068dc64e66edeb8eb429d25b0aeee9",
          "latitude": 43.290099616284294,
          "longitude": 5.3812689520102595,
          "name": "Rome Sylvabelle",
          "timestamp": "2023-10-30T09:28:27.981000Z"
         },
         {
          "empty_slots": null,
          "extra": {
           "bike_autonomy": 0,
           "bike_state_of_charge": 0,
           "distance": 1220,
           "uid": "ce4bhah2rcd13ifvqej0"
          },
          "free_bikes": 0,
          "id": "6ad5a29d5a93274d06a9248ab8839293",
          "latitude": 43.286593099737644,
          "longitude": 5.363346223953386,
          "name": "Vallon Jourdan",
          "timestamp": "2023-10-30T09:28:27.984000Z"
         },
         {
          "empty_slots": null,
          "extra": {
           "bike_autonomy": 1200,
           "bike_state_of_charge": 23,
           "distance": 1280,
           "uid": "ce4bhb12rcd13ifvqem0"
          },
          "free_bikes": 1,
          "id": "3707aeed50708c7eb61a5b97e1931074",
          "latitude": 43.28856007,
          "longitude": 5.358371494,
          "name": "Place du 4 Septembre",
          "timestamp": "2023-10-30T09:28:27.989000Z"
         },
         {
          "empty_slots": null,
          "extra": {
           "bike_autonomy": 30400,
           "bike_state_of_charge": 96,
           "distance": 1294,
           "uid": "ce4bh9p2rcd13ifvqec0"
          },
          "free_bikes": 1,
          "id": "9017997cad97047d48d210595b72af1a",
          "latitude": 43.287184431033836,
          "longitude": 5.379370104893951,
          "name": "Paradis - Vignerons",
          "timestamp": "2023-10-30T09:28:27.991000Z"
         },
         {
          "empty_slots": null,
          "extra": {
           "bike_autonomy": 16400,
           "bike_state_of_charge": 61,
           "distance": 1317,
           "uid": "ce4bhb92rcd13ifvqen0"
          },
          "free_bikes": 2,
          "id": "62939fbc97fc6a94f9db48e212514669",
          "latitude": 43.29010343949329,
          "longitude": 5.356114229700495,
          "name": "Plage des Catalans",
          "timestamp": "2023-10-30T09:28:27.996000Z"
         },
         {
          "empty_slots": null,
          "extra": {
           "bike_autonomy": 21200,
           "bike_state_of_charge": 73,
           "distance": 1677,
           "uid": "ce4bh3p2rcd13ifvqdp0"
          },
          "free_bikes": 1,
          "id": "1039c26d41a9742ec96aa869dc2d242f",
          "latitude": 43.29516935,
          "longitude": 5.390426195,
          "name": "Chave Eugene Pierre",
          "timestamp": "2023-10-30T09:28:28.016000Z"
         },
         {
          "empty_slots": null,
          "extra": {
           "bike_autonomy": 0,
           "bike_state_of_charge": 0,
           "distance": 1706,
           "uid": "ce4bh412rcd13ifvqdr0"
          },
          "free_bikes": 0,
          "id": "cc7fd2d80bc9454ba812a3422bbe07ff",
          "latitude": 43.283497890652455,
          "longitude": 5.380948347618755,
          "name": "Paradis - Escat",
          "timestamp": "2023-10-30T09:28:28.016000Z"
         },
         {
          "empty_slots": null,
          "extra": {
           "bike_autonomy": 16000,
           "bike_state_of_charge": 60,
           "distance": 1744,
           "uid": "ce4bh512rcd13ifvqe3g"
          },
          "free_bikes": 2,
          "id": "7520bbd19efcf7eafc0fadd25e281b68",
          "latitude": 43.28479294027045,
          "longitude": 5.384113381462271,
          "name": "Castellane",
          "timestamp": "2023-10-30T09:28:28.017000Z"
         },
         {
          "empty_slots": null,
          "extra": {
           "bike_autonomy": 0,
           "bike_state_of_charge": 0,
           "distance": 1793,
           "uid": "ce4bha12rcd13ifvqef0"
          },
          "free_bikes": 0,
          "id": "d77c07973a7b6e25a01ad7b64533cebe",
          "latitude": 43.280390122603876,
          "longitude": 5.369296566841854,
          "name": "Place du Terrail",
          "timestamp": "2023-10-30T09:28:28.022000Z"
         },
         {
          "empty_slots": null,
          "extra": {
           "bike_autonomy": 0,
           "bike_state_of_charge": 0,
           "distance": 1853,
           "uid": "ce4bha12rcd13ifvqee0"
          },
          "free_bikes": 0,
          "id": "01e273bd2a3c420e5568b2b0cc2d5691",
          "latitude": 43.28104431,
          "longitude": 5.378308143,
          "name": "Vallon Montebello",
          "timestamp": "2023-10-30T09:28:28.022000Z"
         },
         {
          "empty_slots": null,
          "extra": {
           "bike_autonomy": 20000,
           "bike_state_of_charge": 70,
           "distance": 1929,
           "uid": "chh1huq6cuj3fo74tm60"
          },
          "free_bikes": 1,
          "id": "203b188668439e0a0e3d69e8281f4b71",
          "latitude": 43.29781526590139,
          "longitude": 5.393547700948375,
          "name": "Camas - Jaubert",
          "timestamp": "2023-10-30T09:28:28.024000Z"
         },
         {
          "empty_slots": null,
          "extra": {
           "bike_autonomy": 28000,
           "bike_state_of_charge": 90,
           "distance": 1944,
           "uid": "ce4bhch2rcd13ifvqeug"
          },
          "free_bikes": 1,
          "id": "7b7e8fa64ef0f3665b64c4ebd1e5bdbb",
          "latitude": 43.285848320041225,
          "longitude": 5.350786907401925,
          "name": "Vallon des Auffes",
          "timestamp": "2023-10-30T09:28:28.038000Z"
         },
         {
          "empty_slots": null,
          "extra": {
           "bike_autonomy": 0,
           "bike_state_of_charge": 0,
           "distance": 2086,
           "uid": "ce4bh2p2rcd13ifvqdi0"
          },
          "free_bikes": 0,
          "id": "167c954aae93a861862e30796ed8e709",
          "latitude": 43.288501054747115,
          "longitude": 5.393086808343014,
          "name": "Baille - Vertus",
          "timestamp": "2023-10-30T09:28:28.044000Z"
         },
         {
          "empty_slots": null,
          "extra": {
           "bike_autonomy": 0,
           "bike_state_of_charge": 0,
           "distance": 2126,
           "uid": "ce4bhbh2rcd13ifvqepg"
          },
          "free_bikes": 0,
          "id": "80f808466aef1a81aa7d60cfe380916c",
          "latitude": 43.2842190593168,
          "longitude": 5.3496997679310425,
          "name": "Corniche - Malmousque",
          "timestamp": "2023-10-30T09:28:28.047000Z"
         },
         {
          "empty_slots": null,
          "extra": {
           "bike_autonomy": 0,
           "bike_state_of_charge": 0,
           "distance": 2186,
           "uid": "ce4bhbp2rcd13ifvqerg"
          },
          "free_bikes": 0,
          "id": "ed9b325420ce05bd7d788b782c2fd786",
          "latitude": 43.28274440346115,
          "longitude": 5.35053287799019,
          "name": "Corniche - Endoume",
          "timestamp": "2023-10-30T09:28:28.048000Z"
         },
         {
          "empty_slots": null,
          "extra": {
           "bike_autonomy": 7600,
           "bike_state_of_charge": 39,
           "distance": 2607,
           "uid": "ce4bhh92rcd13ifvqfi0"
          },
          "free_bikes": 4,
          "id": "6ba010fb5ddcca06fc4086d7a035337a",
          "latitude": 43.27562456,
          "longitude": 5.384392134,
          "name": "Paradis - Lord Duveen",
          "timestamp": "2023-10-30T09:28:28.076000Z"
         },
         {
          "empty_slots": null,
          "extra": {
           "bike_autonomy": 29600,
           "bike_state_of_charge": 94,
           "distance": 2611,
           "uid": "ce4bhbh2rcd13ifvqeo0"
          },
          "free_bikes": 1,
          "id": "a2393885b8fa40ee979029aa329dbd89",
          "latitude": 43.273613112520195,
          "longitude": 5.362704849368924,
          "name": "Plage du Prophète",
          "timestamp": "2023-10-30T09:28:28.077000Z"
         },
         {
          "empty_slots": null,
          "extra": {
           "bike_autonomy": 12400,
           "bike_state_of_charge": 51,
           "distance": 2681,
           "uid": "ce4bhi12rcd13ifvqfo0"
          },
          "free_bikes": 3,
          "id": "dcda0b58bb4455fa83daf9d301cf8118",
          "latitude": 43.27676858722245,
          "longitude": 5.388786515806714,
          "name": "Prado - Lord Duveen",
          "timestamp": "2023-10-30T09:28:28.081000Z"
         },
         {
          "empty_slots": null,
          "extra": {
           "bike_autonomy": 28400,
           "bike_state_of_charge": 91,
           "distance": 2708,
           "uid": "ce4bhjp2rcd13ifvqga0"
          },
          "free_bikes": 1,
          "id": "4382962c6a34cf200589092a328daf93",
          "latitude": 43.278398597227664,
          "longitude": 5.392138782316124,
          "name": "Liandier - Rouet",
          "timestamp": "2023-10-30T09:28:28.082000Z"
         },
         {
          "empty_slots": null,
          "extra": {
           "bike_autonomy": 5600,
           "bike_state_of_charge": 34,
           "distance": 3297,
           "uid": "ce4bhh92rcd13ifvqfh0"
          },
          "free_bikes": 7,
          "id": "1fd02b43e353121bf5eb4b18bd026af2",
          "latitude": 43.26946672,
          "longitude": 5.386439042,
          "name": "Prado - Paradis",
          "timestamp": "2023-10-30T09:28:28.102000Z"
         },
         {
          "empty_slots": null,
          "extra": {
           "bike_autonomy": 20800,
           "bike_state_of_charge": 72,
           "distance": 3417,
           "uid": "ce4bhhh2rcd13ifvqfl0"
          },
          "free_bikes": 1,
          "id": "1eb1987540c03ffce20207e4ad708c60",
          "latitude": 43.26931867,
          "longitude": 5.389396978,
          "name": "Negresko - Paulet",
          "timestamp": "2023-10-30T09:28:28.104000Z"
         },
         {
          "empty_slots": null,
          "extra": {
           "bike_autonomy": 0,
           "bike_state_of_charge": 0,
           "distance": 3537,
           "uid": "ce4bhp12rcd13ifvqh9g"
          },
          "free_bikes": 0,
          "id": "fd9d3251f0163c2f567dc05fe3095948",
          "latitude": 43.29957938303167,
          "longitude": 5.413255322900113,
          "name": "Louis Armand",
          "timestamp": "2023-10-30T09:28:28.106000Z"
         },
         {
          "empty_slots": null,
          "extra": {
           "bike_autonomy": 24800,
           "bike_state_of_charge": 82,
           "distance": 3655,
           "uid": "ce4bhnh2rcd13ifvqgtg"
          },
          "free_bikes": 2,
          "id": "6c2badfc9a595903fde9e2b70035911d",
          "latitude": 43.27812844,
          "longitude": 5.407194838,
          "name": "Huveaune - Curtel",
          "timestamp": "2023-10-30T09:28:28.109000Z"
         },
         {
          "empty_slots": null,
          "extra": {
           "bike_autonomy": 18400,
           "bike_state_of_charge": 66,
           "distance": 3914,
           "uid": "ce4bhjp2rcd13ifvqg90"
          },
          "free_bikes": 3,
          "id": "e40affe7fd0b25b02e1d39990b82d5fa",
          "latitude": 43.26201967835499,
          "longitude": 5.3792991458357164,
          "name": "Huveaune - Borely",
          "timestamp": "2023-10-30T09:28:28.119000Z"
         },
         {
          "empty_slots": null,
          "extra": {
           "bike_autonomy": 27200,
           "bike_state_of_charge": 88,
           "distance": 4247,
           "uid": "ce4bhl12rcd13ifvqgf0"
          },
          "free_bikes": 1,
          "id": "8b064cab72ba6f3fa1c54c25154780f1",
          "latitude": 43.271387568961586,
          "longitude": 5.40926929141915,
          "name": "Rolland - Platanes",
          "timestamp": "2023-10-30T09:28:28.130000Z"
         },
         {
          "empty_slots": null,
          "extra": {
           "bike_autonomy": 0,
           "bike_state_of_charge": 0,
           "distance": 4647,
           "uid": "ce4bhih2rcd13ifvqfs0"
          },
          "free_bikes": 0,
          "id": "40db8fa4050df884be276f02cfa723bb",
          "latitude": 43.25575639,
          "longitude": 5.38230303,
          "name": "Clot Bey - Leau",
          "timestamp": "2023-10-30T09:28:28.134000Z"
         },
         {
          "empty_slots": null,
          "extra": {
           "bike_autonomy": 10800,
           "bike_state_of_charge": 47,
           "distance": 4657,
           "uid": "ce4bhh12rcd13ifvqff0"
          },
          "free_bikes": 3,
          "id": "5f517e900e37a22fe24812417d6445e6",
          "latitude": 43.25494658454127,
          "longitude": 5.3764543491352015,
          "name": "Escale Borély",
          "timestamp": "2023-10-30T09:28:28.134000Z"
         },
         {
          "empty_slots": null,
          "extra": {
           "bike_autonomy": 30400,
           "bike_state_of_charge": 96,
           "distance": 4703,
           "uid": "ce4bhip2rcd13ifvqft0"
          },
          "free_bikes": 1,
          "id": "d31009b4d6585de1f587337268a6fd09",
          "latitude": 43.258223500058506,
          "longitude": 5.394368605955606,
          "name": "Mazargues - Saint Anne",
          "timestamp": "2023-10-30T09:28:28.137000Z"
         },
         {
          "empty_slots": null,
          "extra": {
           "bike_autonomy": 0,
           "bike_state_of_charge": 0,
           "distance": 5038,
           "uid": "ce4bhn92rcd13ifvqgrg"
          },
          "free_bikes": 0,
          "id": "e290c12d65213952833ac6f56ff00054",
          "latitude": 43.27502818,
          "longitude": 5.424533793,
          "name": "Boulevard Urbain Sud - Verdillon",
          "timestamp": "2023-10-30T09:28:28.143000Z"
         },
         {
          "empty_slots": null,
          "extra": {
           "bike_autonomy": 21200,
           "bike_state_of_charge": 73,
           "distance": 5162,
           "uid": "ce4bhk92rcd13ifvqgb0"
          },
          "free_bikes": 1,
          "id": "8ab6c6858f2417df04d6e25b6ffe4c4a",
          "latitude": 43.27072082477898,
          "longitude": 5.422763624666231,
          "name": "Boulevard urbain sud - François Mauriac",
          "timestamp": "2023-10-30T09:28:28.144000Z"
         },
         {
          "empty_slots": null,
          "extra": {
           "bike_autonomy": 21200,
           "bike_state_of_charge": 73,
           "distance": 5470,
           "uid": "ce4bhm12rcd13ifvqgkg"
          },
          "free_bikes": 3,
          "id": "513cbedd701231a31d91fc7d0d763f42",
          "latitude": 43.25096566135139,
          "longitude": 5.395186297530245,
          "name": "Mazargues - Almeras",
          "timestamp": "2023-10-30T09:28:28.156000Z"
         },
         {
          "empty_slots": null,
          "extra": {
           "bike_autonomy": 30800,
           "bike_state_of_charge": 97,
           "distance": 5607,
           "uid": "ce4bhih2rcd13ifvqfr0"
          },
          "free_bikes": 1,
          "id": "203044bb9d2bf5f89b212b0bb87a5cfb",
          "latitude": 43.24693037,
          "longitude": 5.38209613,
          "name": "Lapin Blanc",
          "timestamp": "2023-10-30T09:28:28.158000Z"
         },
         {
          "empty_slots": null,
          "extra": {
           "bike_autonomy": 30400,
           "bike_state_of_charge": 96,
           "distance": 5857,
           "uid": "ce4bhhh2rcd13ifvqfk0"
          },
          "free_bikes": 2,
          "id": "5655a12f8c432d9c1749a3380907f882",
          "latitude": 43.243884231063475,
          "longitude": 5.370736380062908,
          "name": "Plage de la Pointe Rouge",
          "timestamp": "2023-10-30T09:28:28.160000Z"
         },
         {
          "empty_slots": null,
          "extra": {
           "bike_autonomy": 0,
           "bike_state_of_charge": 0,
           "distance": 6026,
           "uid": "ce4bhlp2rcd13ifvqgjg"
          },
          "free_bikes": 0,
          "id": "6772d546fecfef612f8100431d42f11f",
          "latitude": 43.245581297728705,
          "longitude": 5.395069220467349,
          "name": "Lancier - Savary",
          "timestamp": "2023-10-30T09:28:28.169000Z"
         },
         {
          "empty_slots": null,
          "extra": {
           "bike_autonomy": 3200,
           "bike_state_of_charge": 28,
           "distance": 6252,
           "uid": "ce4bhnp2rcd13ifvqgvg"
          },
          "free_bikes": 9,
          "id": "ffec4c761d15ee9f61c5737f539278db",
          "latitude": 43.24062346787065,
          "longitude": 5.377642413176545,
          "name": "Corail - Marseilleveyre",
          "timestamp": "2023-10-30T09:28:28.170000Z"
         },
         {
          "empty_slots": null,
          "extra": {
           "bike_autonomy": 8000,
           "bike_state_of_charge": 40,
           "distance": 6341,
           "uid": "ce4bhi12rcd13ifvqfp0"
          },
          "free_bikes": 2,
          "id": "490f53b16861ccb985c4c9d75b18e00b",
          "latitude": 43.23958841257124,
          "longitude": 5.366238242702252,
          "name": "Parc Pastré",
          "timestamp": "2023-10-30T09:28:28.170000Z"
         },
         {
          "empty_slots": null,
          "extra": {
           "bike_autonomy": 18800,
           "bike_state_of_charge": 67,
           "distance": 6485,
           "uid": "ce4bhn12rcd13ifvqgpg"
          },
          "free_bikes": 4,
          "id": "c8a712c413126e32e879b700b6727886",
          "latitude": 43.24178222403938,
          "longitude": 5.397261332914354,
          "name": "Roy d'Espagne - Floralia",
          "timestamp": "2023-10-30T09:28:28.171000Z"
         },
         {
          "empty_slots": null,
          "extra": {
           "bike_autonomy": 23200,
           "bike_state_of_charge": 78,
           "distance": 7280,
           "uid": "ce4bhu92rcd13ifvqi70"
          },
          "free_bikes": 2,
          "id": "ed5ee81a5b1094a5cf764b3924642f61",
          "latitude": 43.231922566975584,
          "longitude": 5.355545384096217,
          "name": "Madrague de Montredon",
          "timestamp": "2023-10-30T09:28:28.172000Z"
         },
         {
          "empty_slots": null,
          "extra": {
           "bike_autonomy": 2000,
           "bike_state_of_charge": 25,
           "distance": 9048,
           "uid": "ce4bhmp2rcd13ifvqgog"
          },
          "free_bikes": 15,
          "id": "4e2564a3e789cca7e64a7ee7c7961ef6",
          "latitude": 43.23156159,
          "longitude": 5.436933396,
          "name": "Luminy - Parc National des Calanques",
          "timestamp": "2023-10-30T09:28:28.174000Z"
         },
         {
          "empty_slots": null,
          "extra": {
           "bike_autonomy": 0,
           "bike_state_of_charge": 0,
           "distance": 1166,
           "uid": "ce4bht12rcd13ifvqi60"
          },
          "free_bikes": 0,
          "id": "970674886f90434552d2119aef22eb82",
          "latitude": 43.286038666099785,
          "longitude": 5.370678521004038,
          "name": "Char Jeanne d'Arc - Notre Dame de La Garde",
          "timestamp": "2023-10-30T09:28:27.980000Z"
         },
         {
          "empty_slots": null,
          "extra": {
           "bike_autonomy": 3200,
           "bike_state_of_charge": 28,
           "distance": 1247,
           "uid": "ce4bh692rcd13ifvqea0"
          },
          "free_bikes": 5,
          "id": "24e8e2cc29ac40735ba3d2f5e0bc06c3",
          "latitude": 43.29264247456925,
          "longitude": 5.384253993651782,
          "name": "Cours Julien - Frères Barthelemy",
          "timestamp": "2023-10-30T09:28:27.985000Z"
         },
         {
          "empty_slots": null,
          "extra": {
           "bike_autonomy": 0,
           "bike_state_of_charge": 0,
           "distance": 1522,
           "uid": "ce4bgg92rcd13ifvqb30"
          },
          "free_bikes": 0,
          "id": "dc21f54ed7e1d5025dff893bc62530a5",
          "latitude": 43.30536406,
          "longitude": 5.384119039,
          "name": "National - Guibal",
          "timestamp": "2023-10-30T09:28:28.007000Z"
         },
         {
          "empty_slots": null,
          "extra": {
           "bike_autonomy": 0,
           "bike_state_of_charge": 0,
           "distance": 1608,
           "uid": "ce4bhah2rcd13ifvqei0"
          },
          "free_bikes": 0,
          "id": "65c4f0b4c81599b1c2412811c1307c13",
          "latitude": 43.28453826179185,
          "longitude": 5.358657022621628,
          "name": "Saint-Eugène",
          "timestamp": "2023-10-30T09:28:28.010000Z"
         },
         {
          "empty_slots": null,
          "extra": {
           "bike_autonomy": 0,
           "bike_state_of_charge": 0,
           "distance": 1963,
           "uid": "ce4bh292rcd13ifvqdf0"
          },
          "free_bikes": 0,
          "id": "093f394a42f8f708ee4d938f7361f361",
          "latitude": 43.295196228553976,
          "longitude": 5.3939698617419936,
          "name": "Chave - Goudard",
          "timestamp": "2023-10-30T09:28:28.040000Z"
         },
         {
          "empty_slots": null,
          "extra": {
           "bike_autonomy": 0,
           "bike_state_of_charge": 0,
           "distance": 2110,
           "uid": "ce4bhf92rcd13ifvqf50"
          },
          "free_bikes": 0,
          "id": "0b22c545caff574a87b374a9a6fbff98",
          "latitude": 43.2790871519652,
          "longitude": 5.380114290305642,
          "name": "Périer - Cremieux",
          "timestamp": "2023-10-30T09:28:28.046000Z"
         },
         {
          "empty_slots": null,
          "extra": {
           "bike_autonomy": 25600,
           "bike_state_of_charge": 84,
           "distance": 2350,
           "uid": "ce4bhg12rcd13ifvqf80"
          },
          "free_bikes": 1,
          "id": "8dbc9e4a6e80d4cccc8576b9a12da472",
          "latitude": 43.27974223,
          "longitude": 5.387440377,
          "name": "Prado - Périer",
          "timestamp": "2023-10-30T09:28:28.060000Z"
         },
         {
          "empty_slots": null,
          "extra": {
           "bike_autonomy": 6800,
           "bike_state_of_charge": 37,
           "distance": 3466,
           "uid": "ce4bhg92rcd13ifvqf90"
          },
          "free_bikes": 12,
          "id": "db04068913ba650c7299035d5a804f6e",
          "latitude": 43.2668101,
          "longitude": 5.382693941,
          "name": "Prado - Gabes",
          "timestamp": "2023-10-30T09:28:28.105000Z"
         },
         {
          "empty_slots": null,
          "extra": {
           "bike_autonomy": 6000,
           "bike_state_of_charge": 35,
           "distance": 3555,
           "uid": "ce4bhs92rcd13ifvqi0g"
          },
          "free_bikes": 1,
          "id": "66cd1e8a626c8791a801fdd38ab0c221",
          "latitude": 43.3283706355171,
          "longitude": 5.366912086186176,
          "name": "Gèze",
          "timestamp": "2023-10-30T09:28:28.107000Z"
         },
         {
          "empty_slots": null,
          "extra": {
           "bike_autonomy": 2800,
           "bike_state_of_charge": 27,
           "distance": 3813,
           "uid": "ce4bhe12rcd13ifvqf30"
          },
          "free_bikes": 3,
          "id": "85649ceb53a507a5ae3da3116eedf4c1",
          "latitude": 43.265570946669925,
          "longitude": 5.390032250158811,
          "name": "Mazargues - Huveaune",
          "timestamp": "2023-10-30T09:28:28.117000Z"
         },
         {
          "empty_slots": null,
          "extra": {
           "bike_autonomy": 28000,
           "bike_state_of_charge": 90,
           "distance": 4064,
           "uid": "ce4bhgh2rcd13ifvqfa0"
          },
          "free_bikes": 1,
          "id": "936bdc75a245ae64f120ed99a7ff5f24",
          "latitude": 43.260224964054686,
          "longitude": 5.3754548502465695,
          "name": "Mendès France Huveaune",
          "timestamp": "2023-10-30T09:28:28.122000Z"
         },
         {
          "empty_slots": null,
          "extra": {
           "bike_autonomy": 10800,
           "bike_state_of_charge": 47,
           "distance": 4441,
           "uid": "ce4bhh92rcd13ifvqfj0"
          },
          "free_bikes": 3,
          "id": "34727e7e58ec474b59b7063cd3bdddb3",
          "latitude": 43.26069975,
          "longitude": 5.393983394,
          "name": "318 Mazargues",
          "timestamp": "2023-10-30T09:28:28.131000Z"
         },
         {
          "empty_slots": null,
          "extra": {
           "bike_autonomy": 10400,
           "bike_state_of_charge": 46,
           "distance": 5407,
           "uid": "ce4bhgp2rcd13ifvqfd0"
          },
          "free_bikes": 6,
          "id": "1b80fcb1f791fab893ba37ddcd819e72",
          "latitude": 43.25002314043684,
          "longitude": 5.389189832781312,
          "name": "Hambourg Rond Point Guerre",
          "timestamp": "2023-10-30T09:28:28.154000Z"
         },
         {
          "empty_slots": null,
          "extra": {
           "bike_autonomy": 13600,
           "bike_state_of_charge": 54,
           "distance": 5423,
           "uid": "ce4bhgh2rcd13ifvqfb0"
          },
          "free_bikes": 7,
          "id": "fcff6c5b82ace50a5dc66c8d6515e030",
          "latitude": 43.2479001,
          "longitude": 5.374457344,
          "name": "Vieille Chapelle",
          "timestamp": "2023-10-30T09:28:28.155000Z"
         },
         {
          "empty_slots": null,
          "extra": {
           "bike_autonomy": 6800,
           "bike_state_of_charge": 37,
           "distance": 5782,
           "uid": "ce4bhg12rcd13ifvqf60"
          },
          "free_bikes": 7,
          "id": "077070bc6c3effb73a39886b2782c6ca",
          "latitude": 43.24646666954729,
          "longitude": 5.388984457266133,
          "name": "Zenatti - Malrieu",
          "timestamp": "2023-10-30T09:28:28.159000Z"
         },
         {
          "empty_slots": null,
          "extra": {
           "bike_autonomy": 18800,
           "bike_state_of_charge": 67,
           "distance": 3808,
           "uid": "ce4bhnp2rcd13ifvqh0g"
          },
          "free_bikes": 1,
          "id": "b2606de0242428c9b1996b12f6013b4d",
          "latitude": 43.27946481,
          "longitude": 5.410561214,
          "name": "Capelette - Forges",
          "timestamp": "2023-10-30T09:28:28.116000Z"
         },
         {
          "empty_slots": null,
          "extra": {
           "bike_autonomy": 27200,
           "bike_state_of_charge": 88,
           "distance": 3117,
           "uid": "ce4bhr12rcd13ifvqhqg"
          },
          "free_bikes": 2,
          "id": "a05bfd1216843149dffcc5397fb6b612",
          "latitude": 43.32287191,
          "longitude": 5.382756282,
          "name": "Place Dalmas",
          "timestamp": "2023-10-30T09:28:28.093000Z"
         },
         {
          "empty_slots": null,
          "extra": {
           "bike_autonomy": 0,
           "bike_state_of_charge": 0,
           "distance": 3172,
           "uid": "ce4bhdp2rcd13ifvqf20"
          },
          "free_bikes": 0,
          "id": "13f479d3441b1c509f7ea62c98704990",
          "latitude": 43.27410312139213,
          "longitude": 5.394016006213974,
          "name": "Rabateau - Hôpital Saint-Joseph",
          "timestamp": "2023-10-30T09:28:28.100000Z"
         },
         {
          "empty_slots": null,
          "extra": {
           "bike_autonomy": 1600,
           "bike_state_of_charge": 24,
           "distance": 7608,
           "uid": "ce4bhn12rcd13ifvqgqg"
          },
          "free_bikes": 14,
          "id": "c9d475beb81452dbc43c655308dfbece",
          "latitude": 43.23179293755999,
          "longitude": 5.400044027608033,
          "name": "Sormiou",
          "timestamp": "2023-10-30T09:28:28.173000Z"
         },
         {
          "empty_slots": null,
          "extra": {
           "bike_autonomy": 16800,
           "bike_state_of_charge": 62,
           "distance": 870,
           "uid": "ce4bhbh2rcd13ifvqeqg"
          },
          "free_bikes": 2,
          "id": "5c681b122c27199052595cfd1837ea95",
          "latitude": 43.2923113,
          "longitude": 5.360730586,
          "name": "Livon - Vieux-Port",
          "timestamp": "2023-10-30T09:28:27.962000Z"
         },
         {
          "empty_slots": null,
          "extra": {
           "bike_autonomy": 17600,
           "bike_state_of_charge": 64,
           "distance": 3976,
           "uid": "ce4bhq12rcd13ifvqhig"
          },
          "free_bikes": 2,
          "id": "27929305220bb0c774b271bcb9ef9fd9",
          "latitude": 43.31917923,
          "longitude": 5.407725382,
          "name": "Perrin - Le Moulin",
          "timestamp": "2023-10-30T09:28:28.120000Z"
         },
         {
          "empty_slots": null,
          "extra": {
           "bike_autonomy": 19200,
           "bike_state_of_charge": 68,
           "distance": 1384,
           "uid": "ce4bgv92rcd13ifvqcq0"
          },
          "free_bikes": 1,
          "id": "3e4776bfb1e3eef1f688532d05e22274",
          "latitude": 43.30794517,
          "longitude": 5.376487141,
          "name": "Strasbourg - Leca",
          "timestamp": "2023-10-30T09:28:27.999000Z"
         },
         {
          "empty_slots": null,
          "extra": {
           "bike_autonomy": 0,
           "bike_state_of_charge": 0,
           "distance": 3142,
           "uid": "ce4bh092rcd13ifvqd30"
          },
          "free_bikes": 0,
          "id": "5a9aa9fcd6626c62ccf6b92c31d4ad30",
          "latitude": 43.31260893,
          "longitude": 5.401662431,
          "name": "Saint-Just - Labry",
          "timestamp": "2023-10-30T09:28:28.094000Z"
         },
         {
          "empty_slots": null,
          "extra": {
           "bike_autonomy": 0,
           "bike_state_of_charge": 0,
           "distance": 4865,
           "uid": "ce4bhr92rcd13ifvqhsg"
          },
          "free_bikes": 0,
          "id": "c0a8170f19e0140a71f497570bbd609b",
          "latitude": 43.3371680327555,
          "longitude": 5.391824847426392,
          "name": "Peupliers - Berthelot",
          "timestamp": "2023-10-30T09:28:28.141000Z"
         },
         {
          "empty_slots": null,
          "extra": {
           "bike_autonomy": 7600,
           "bike_state_of_charge": 39,
           "distance": 5919,
           "uid": "ce4bhqh2rcd13ifvqhlg"
          },
          "free_bikes": 2,
          "id": "917f7be6b4e69f473703e6c11fb8439b",
          "latitude": 43.34080437,
          "longitude": 5.41021883,
          "name": "IUT Saint Jérôme",
          "timestamp": "2023-10-30T09:28:28.161000Z"
         },
         {
          "empty_slots": null,
          "extra": {
           "bike_autonomy": 0,
           "bike_state_of_charge": 0,
           "distance": 394,
           "uid": "ce4bgr92rcd13ifvqc7g"
          },
          "free_bikes": 0,
          "id": "aae7647ef4505c3a2cbf40791b60ab29",
          "latitude": 43.29972361,
          "longitude": 5.371828908,
          "name": "Sadi-Carnot",
          "timestamp": "2023-10-30T09:28:27.935000Z"
         },
         {
          "empty_slots": null,
          "extra": {
           "bike_autonomy": 5600,
           "bike_state_of_charge": 34,
           "distance": 5259,
           "uid": "ce4bhm92rcd13ifvqglg"
          },
          "free_bikes": 9,
          "id": "50e6f6058b5e4ef50d8d4463c9000cf1",
          "latitude": 43.25900934682247,
          "longitude": 5.409290356125894,
          "name": "Hôpital Sainte-Marguerite",
          "timestamp": "2023-10-30T09:28:28.145000Z"
         },
         {
          "empty_slots": null,
          "extra": {
           "bike_autonomy": 0,
           "bike_state_of_charge": 0,
           "distance": 2780,
           "uid": "ce4bh112rcd13ifvqd90"
          },
          "free_bikes": 0,
          "id": "d4f2896db476e2de85b5e2a9c1c767ff",
          "latitude": 43.297946098534624,
          "longitude": 5.404062681086202,
          "name": "Foch - Boisson",
          "timestamp": "2023-10-30T09:28:28.084000Z"
         },
         {
          "empty_slots": null,
          "extra": {
           "bike_autonomy": 17200,
           "bike_state_of_charge": 63,
           "distance": 4014,
           "uid": "cjm6bp8fraef2m0cb0m0"
          },
          "free_bikes": 4,
          "id": "c59d3d8f957565e445ca29fc004b3cdc",
          "latitude": 43.26949,
          "longitude": 5.40262,
          "name": "Sainte Marguerite Schloesing",
          "timestamp": "2023-10-30T09:28:28.121000Z"
         },
         {
          "empty_slots": null,
          "extra": {
           "bike_autonomy": 30000,
           "bike_state_of_charge": 95,
           "distance": 3883,
           "uid": "ce4bhgp2rcd13ifvqfc0"
          },
          "free_bikes": 1,
          "id": "ef67605d424a95b86ff5a30ead03b031",
          "latitude": 43.26178214,
          "longitude": 5.374514856,
          "name": "Promenade Pompidou David",
          "timestamp": "2023-10-30T09:28:28.118000Z"
         },
         {
          "empty_slots": null,
          "extra": {
           "bike_autonomy": 20800,
           "bike_state_of_charge": 72,
           "distance": 3436,
           "uid": "ce4bhg12rcd13ifvqf70"
          },
          "free_bikes": 5,
          "id": "277fd295f44c558878500297e691f2b8",
          "latitude": 43.26571391,
          "longitude": 5.372890521,
          "name": "Base Nautique Roucas Blanc",
          "timestamp": "2023-10-30T09:28:28.104000Z"
         },
         {
          "empty_slots": null,
          "extra": {
           "bike_autonomy": 0,
           "bike_state_of_charge": 0,
           "distance": 1260,
           "uid": "cki0cbj6b192h4jlfktg"
          },
          "free_bikes": 0,
          "id": "29c1378d5304706151f792b23422b863",
          "latitude": 43.28727,
          "longitude": 5.36078,
          "name": "Tobelem - Crinias",
          "timestamp": "2023-10-30T09:28:27.986000Z"
         },
         {
          "empty_slots": null,
          "extra": {
           "bike_autonomy": 2400,
           "bike_state_of_charge": 26,
           "distance": 4881,
           "uid": "ce4bhnh2rcd13ifvqgug"
          },
          "free_bikes": 4,
          "id": "f85a6dfbdd42e5004e4a977b2a6e3ed9",
          "latitude": 43.28154806631724,
          "longitude": 5.426429873252573,
          "name": "Boulevard Urbain Sud - Pont de Vivaux",
          "timestamp": "2023-10-30T09:28:28.142000Z"
         },
         {
          "empty_slots": null,
          "extra": {
           "bike_autonomy": 0,
           "bike_state_of_charge": 0,
           "distance": 1405,
           "uid": "ce4bh612rcd13ifvqe6g"
          },
          "free_bikes": 0,
          "id": "d6f0c539d3173cb339d34f6ae7d1133b",
          "latitude": 43.2893069,
          "longitude": 5.38406028,
          "name": "Lieutaud - Berlioz",
          "timestamp": "2023-10-30T09:28:28.006000Z"
         },
         {
          "empty_slots": null,
          "extra": {
           "bike_autonomy": 0,
           "bike_state_of_charge": 0,
           "distance": 924,
           "uid": "ce4bhc92rcd13ifvqetg"
          },
          "free_bikes": 0,
          "id": "4469719e6215c7a56bd95004f6cb6d7b",
          "latitude": 43.28946766,
          "longitude": 5.363719459,
          "name": "Corse - Saint Maurice",
          "timestamp": "2023-10-30T09:28:27.969000Z"
         },
         {
          "empty_slots": null,
          "extra": {
           "bike_autonomy": 8000,
           "bike_state_of_charge": 40,
           "distance": 5457,
           "uid": "ce4bhph2rcd13ifvqheg"
          },
          "free_bikes": 3,
          "id": "d544cd5d73d3fbec7297fea07a529e38",
          "latitude": 43.30805059284097,
          "longitude": 5.43527038728962,
          "name": "Beaumont",
          "timestamp": "2023-10-30T09:28:28.156000Z"
         },
         {
          "empty_slots": null,
          "extra": {
           "bike_autonomy": 0,
           "bike_state_of_charge": 0,
           "distance": 3068,
           "uid": "ce4bho92rcd13ifvqh4g"
          },
          "free_bikes": 0,
          "id": "5ea630c5438d2fbea0ef055410f0b715",
          "latitude": 43.27995154116266,
          "longitude": 5.400084718244955,
          "name": "Palais Omnisports",
          "timestamp": "2023-10-30T09:28:28.091000Z"
         }
        ]
       }
      },
      "text/plain": [
       "<IPython.core.display.JSON object>"
      ]
     },
     "execution_count": 19,
     "metadata": {
      "application/json": {
       "expanded": false,
       "root": "root"
      }
     },
     "output_type": "execute_result"
    }
   ],
   "source": [
    "city_bikes_marseille = requests.get(\"http://api.citybik.es/v2/networks/le-velo\").json()\n",
    "JSON(city_bikes_marseille)"
   ]
  },
  {
   "cell_type": "markdown",
   "metadata": {},
   "source": [
    "Parse through the response to get the details you want for the bike stations in that city (latitude, longitude, number of bikes). "
   ]
  },
  {
   "cell_type": "code",
   "execution_count": 6,
   "metadata": {},
   "outputs": [],
   "source": [
    "df_city_bikes_marseille = pd.read_json(\"http://api.citybik.es/v2/networks/le-velo\")\n"
   ]
  },
  {
   "cell_type": "code",
   "execution_count": 7,
   "metadata": {},
   "outputs": [
    {
     "data": {
      "text/html": [
       "<div>\n",
       "<style scoped>\n",
       "    .dataframe tbody tr th:only-of-type {\n",
       "        vertical-align: middle;\n",
       "    }\n",
       "\n",
       "    .dataframe tbody tr th {\n",
       "        vertical-align: top;\n",
       "    }\n",
       "\n",
       "    .dataframe thead th {\n",
       "        text-align: right;\n",
       "    }\n",
       "</style>\n",
       "<table border=\"1\" class=\"dataframe\">\n",
       "  <thead>\n",
       "    <tr style=\"text-align: right;\">\n",
       "      <th></th>\n",
       "      <th>network</th>\n",
       "    </tr>\n",
       "  </thead>\n",
       "  <tbody>\n",
       "    <tr>\n",
       "      <th>company</th>\n",
       "      <td>[LeVélo AMP Métropole, Ville de Marseille, Fif...</td>\n",
       "    </tr>\n",
       "    <tr>\n",
       "      <th>href</th>\n",
       "      <td>/v2/networks/le-velo</td>\n",
       "    </tr>\n",
       "    <tr>\n",
       "      <th>id</th>\n",
       "      <td>le-velo</td>\n",
       "    </tr>\n",
       "    <tr>\n",
       "      <th>location</th>\n",
       "      <td>{'city': 'Marseille', 'country': 'FR', 'latitu...</td>\n",
       "    </tr>\n",
       "    <tr>\n",
       "      <th>name</th>\n",
       "      <td>LeVélo</td>\n",
       "    </tr>\n",
       "  </tbody>\n",
       "</table>\n",
       "</div>"
      ],
      "text/plain": [
       "                                                    network\n",
       "company   [LeVélo AMP Métropole, Ville de Marseille, Fif...\n",
       "href                                   /v2/networks/le-velo\n",
       "id                                                  le-velo\n",
       "location  {'city': 'Marseille', 'country': 'FR', 'latitu...\n",
       "name                                                 LeVélo"
      ]
     },
     "execution_count": 7,
     "metadata": {},
     "output_type": "execute_result"
    }
   ],
   "source": [
    "df_city_bikes_marseille.head()"
   ]
  },
  {
   "cell_type": "code",
   "execution_count": 8,
   "metadata": {},
   "outputs": [
    {
     "name": "stdout",
     "output_type": "stream",
     "text": [
      "[{'empty_slots': None, 'extra': {'bike_autonomy': 0, 'bike_state_of_charge': 0, 'distance': 548, 'uid': 'ce4bgi12rcd13ifvqb70'}, 'free_bikes': 0, 'id': 'ed75db62910c00c21f36bdbccb801995', 'latitude': 43.29300892, 'longitude': 5.374584208, 'name': 'Cours Jean Ballard', 'timestamp': '2023-10-30T03:33:01.001000Z'}, {'empty_slots': None, 'extra': {'bike_autonomy': 0, 'bike_state_of_charge': 0, 'distance': 989, 'uid': 'ce4bgj12rcd13ifvqbc0'}, 'free_bikes': 0, 'id': 'ca56a3b88d3afee0d55763fb4e272365', 'latitude': 43.29902797, 'longitude': 5.381509226, 'name': 'Allées Gambetta', 'timestamp': '2023-10-30T03:33:01.196000Z'}, {'empty_slots': None, 'extra': {'bike_autonomy': 0, 'bike_state_of_charge': 0, 'distance': 1270, 'uid': 'ce4bgj92rcd13ifvqbd0'}, 'free_bikes': 0, 'id': 'cd82a21c54a9b2fcbd488524969db863', 'latitude': 43.29971664630074, 'longitude': 5.384845163546515, 'name': 'Réformés Canebière', 'timestamp': '2023-10-30T03:33:01.296000Z'}, {'empty_slots': None, 'extra': {'bike_autonomy': 0, 'bike_state_of_charge': 0, 'distance': 254, 'uid': 'ce4bgk12rcd13ifvqbj0'}, 'free_bikes': 0, 'id': '29f58a6fbf113e8cbe37f66994a01122', 'latitude': 43.29679958, 'longitude': 5.372909688, 'name': 'Coutellerie', 'timestamp': '2023-10-30T03:33:00.905000Z'}, {'empty_slots': None, 'extra': {'bike_autonomy': 0, 'bike_state_of_charge': 0, 'distance': 446, 'uid': 'ce4bgkp2rcd13ifvqbmg'}, 'free_bikes': 0, 'id': 'f769c9dc5944ef17e4a8ac3edb7da881', 'latitude': 43.29527892, 'longitude': 5.375048465, 'name': 'Canebiere - Beauvau', 'timestamp': '2023-10-30T03:33:00.941000Z'}, {'empty_slots': None, 'extra': {'bike_autonomy': 0, 'bike_state_of_charge': 0, 'distance': 507, 'uid': 'ce4bgjh2rcd13ifvqbg0'}, 'free_bikes': 0, 'id': '272423646aa25c95fcae4592f61f4403', 'latitude': 43.299242645590766, 'longitude': 5.374807305735999, 'name': 'Colbert Ste Barbe', 'timestamp': '2023-10-30T03:33:00.969000Z'}, {'empty_slots': None, 'extra': {'bike_autonomy': 0, 'bike_state_of_charge': 0, 'distance': 548, 'uid': 'ce4bgkh2rcd13ifvqbl0'}, 'free_bikes': 0, 'id': '274994f6e2b868f3283fa003e5227bc6', 'latitude': 43.29693502454282, 'longitude': 5.376544207099414, 'name': 'Centre Bourse', 'timestamp': '2023-10-30T03:33:00.985000Z'}, {'empty_slots': None, 'extra': {'bike_autonomy': 19200, 'bike_state_of_charge': 68, 'distance': 764, 'uid': 'ce4bgjh2rcd13ifvqbf0'}, 'free_bikes': 1, 'id': 'c23517c8307a10e192dd0e95b9e8a065', 'latitude': 43.29360042, 'longitude': 5.378349882, 'name': 'Saint-Ferréol - Davso', 'timestamp': '2023-10-30T03:33:01.106000Z'}, {'empty_slots': None, 'extra': {'bike_autonomy': 0, 'bike_state_of_charge': 0, 'distance': 1770, 'uid': 'ce4bgk12rcd13ifvqbi0'}, 'free_bikes': 0, 'id': '82cad27cd589222f25cd4b59b251221a', 'latitude': 43.3042781513621, 'longitude': 5.388867929313619, 'name': 'Flammarion - Isoard', 'timestamp': '2023-10-30T03:33:01.458000Z'}, {'empty_slots': None, 'extra': {'bike_autonomy': 0, 'bike_state_of_charge': 0, 'distance': 1948, 'uid': 'ce4bgkh2rcd13ifvqbk0'}, 'free_bikes': 0, 'id': '2681f40d3ede89fe9dfabb09d7de92d6', 'latitude': 43.30299233959067, 'longitude': 5.39213628647542, 'name': 'Longchamp - Grobet', 'timestamp': '2023-10-30T03:33:01.482000Z'}, {'empty_slots': None, 'extra': {'bike_autonomy': 0, 'bike_state_of_charge': 0, 'distance': 2371, 'uid': 'ce4bgj92rcd13ifvqbe0'}, 'free_bikes': 0, 'id': '21b9b1ac1a0284290fb4c08f922f7f7f', 'latitude': 43.27617976729073, 'longitude': 5.361008732708797, 'name': 'Vallon de l’Oriol', 'timestamp': '2023-10-30T03:33:01.561000Z'}, {'empty_slots': None, 'extra': {'bike_autonomy': 0, 'bike_state_of_charge': 0, 'distance': 166, 'uid': 'ce4bgop2rcd13ifvqc1g'}, 'free_bikes': 0, 'id': '3d1a80675b0de8c80e27d5393be0a251', 'latitude': 43.29777432269154, 'longitude': 5.370874697052955, 'name': 'Grand Rue', 'timestamp': '2023-10-30T03:33:00.889000Z'}, {'empty_slots': None, 'extra': {'bike_autonomy': 0, 'bike_state_of_charge': 0, 'distance': 215, 'uid': 'ce4bgph2rcd13ifvqc2g'}, 'free_bikes': 0, 'id': '8f391bdedd4577bba5bbb3d626971b78', 'latitude': 43.29573017, 'longitude': 5.367354992, 'name': 'Quai du Port', 'timestamp': '2023-10-30T03:33:00.897000Z'}, {'empty_slots': None, 'extra': {'bike_autonomy': 0, 'bike_state_of_charge': 0, 'distance': 327, 'uid': 'ce4bgn12rcd13ifvqbt0'}, 'free_bikes': 0, 'id': 'c4e827601952ba373127538fb3abb351', 'latitude': 43.29716293, 'longitude': 5.365865775, 'name': 'Place de Lenche', 'timestamp': '2023-10-30T03:33:00.913000Z'}, {'empty_slots': None, 'extra': {'bike_autonomy': 0, 'bike_state_of_charge': 0, 'distance': 388, 'uid': 'ce4bgh92rcd13ifvqb40'}, 'free_bikes': 0, 'id': '1e45e255c5ad2153317233e55b05c1a3', 'latitude': 43.293258515940494, 'longitude': 5.371585560104336, 'name': 'Place aux huiles', 'timestamp': '2023-10-30T03:33:00.921000Z'}, {'empty_slots': None, 'extra': {'bike_autonomy': 28000, 'bike_state_of_charge': 90, 'distance': 447, 'uid': 'ce4bgh92rcd13ifvqb50'}, 'free_bikes': 1, 'id': '4c640f222c7e0c2a8e9852d601bfde78', 'latitude': 43.29574849, 'longitude': 5.375219826, 'name': 'Canebiere Reine Elisabeth', 'timestamp': '2023-10-30T03:33:00.953000Z'}, {'empty_slots': None, 'extra': {'bike_autonomy': 0, 'bike_state_of_charge': 0, 'distance': 457, 'uid': 'ce4bgm92rcd13ifvqbr0'}, 'free_bikes': 0, 'id': 'fd7ee9dbc906b1c4f53e8b7909d7b5b8', 'latitude': 43.299208852029665, 'longitude': 5.365546894429258, 'name': 'La Major', 'timestamp': '2023-10-30T03:33:00.961000Z'}, {'empty_slots': None, 'extra': {'bike_autonomy': 0, 'bike_state_of_charge': 0, 'distance': 608, 'uid': 'ce4bgpp2rcd13ifvqc3g'}, 'free_bikes': 0, 'id': 'cc310b3ee0809fdf5809b8ffa1fe1716', 'latitude': 43.29843273, 'longitude': 5.362774233, 'name': 'MUCEM', 'timestamp': '2023-10-30T03:33:01.024000Z'}, {'empty_slots': None, 'extra': {'bike_autonomy': 0, 'bike_state_of_charge': 0, 'distance': 683, 'uid': 'ce4bgi12rcd13ifvqb80'}, 'free_bikes': 0, 'id': 'cf4e7b1717951fbb658b2551f0b037c9', 'latitude': 43.29266329418829, 'longitude': 5.376388862887325, 'name': 'Sainte - Lulli', 'timestamp': '2023-10-30T03:33:01.093000Z'}, {'empty_slots': None, 'extra': {'bike_autonomy': 0, 'bike_state_of_charge': 0, 'distance': 915, 'uid': 'ce4bgl12rcd13ifvqbo0'}, 'free_bikes': 0, 'id': 'ad1534eb5734a654b3626e93943bb6e3', 'latitude': 43.29601993155862, 'longitude': 5.381084217359557, 'name': 'Académie - Capucins', 'timestamp': '2023-10-30T03:33:01.140000Z'}, {'empty_slots': None, 'extra': {'bike_autonomy': 0, 'bike_state_of_charge': 0, 'distance': 928, 'uid': 'ce4bgip2rcd13ifvqbb0'}, 'free_bikes': 0, 'id': '4e3f6aa0839760379c45f6fdf5523a62', 'latitude': 43.29803718, 'longitude': 5.381065715, 'name': 'Canebière - Dugommier', 'timestamp': '2023-10-30T03:33:01.195000Z'}, {'empty_slots': None, 'extra': {'bike_autonomy': 0, 'bike_state_of_charge': 0, 'distance': 1074, 'uid': 'ce4bgqh2rcd13ifvqc4g'}, 'free_bikes': 0, 'id': '2b0ba20e423cb7bc5e931b3b14573a49', 'latitude': 43.30598899, 'longitude': 5.372249573, 'name': 'Paris - Forbin', 'timestamp': '2023-10-30T03:33:01.203000Z'}, {'empty_slots': None, 'extra': {'bike_autonomy': 17200, 'bike_state_of_charge': 63, 'distance': 1285, 'uid': 'ce4bgih2rcd13ifvqba0'}, 'free_bikes': 2, 'id': '7f38ffea3cde57af7807cd10de9c1514', 'latitude': 43.29528961, 'longitude': 5.385580554, 'name': 'Sibie - Curiol', 'timestamp': '2023-10-30T03:33:01.315000Z'}, {'empty_slots': None, 'extra': {'bike_autonomy': 30000, 'bike_state_of_charge': 95, 'distance': 1404, 'uid': 'ce4bgn92rcd13ifvqbvg'}, 'free_bikes': 1, 'id': '3b053009767e3f44b4529bd7e3f79023', 'latitude': 43.30907565, 'longitude': 5.368464875, 'name': 'Euromediterrannee Gantes', 'timestamp': '2023-10-30T03:33:01.369000Z'}, {'empty_slots': None, 'extra': {'bike_autonomy': 13600, 'bike_state_of_charge': 54, 'distance': 1754, 'uid': 'ce4bgl92rcd13ifvqbq0'}, 'free_bikes': 3, 'id': 'e98e6bc9bb368476a22c6f29222baa12', 'latitude': 43.31223933, 'longitude': 5.368561815, 'name': 'Arenc - Chanterac', 'timestamp': '2023-10-30T03:33:01.452000Z'}, {'empty_slots': None, 'extra': {'bike_autonomy': 20800, 'bike_state_of_charge': 72, 'distance': 1893, 'uid': 'ce4bgr92rcd13ifvqc6g'}, 'free_bikes': 1, 'id': '5488485459f634bf10babe0f92c2607e', 'latitude': 43.31339141270814, 'longitude': 5.367060274332289, 'name': 'Tour La Marseillaise', 'timestamp': '2023-10-30T03:33:01.469000Z'}, {'empty_slots': None, 'extra': {'bike_autonomy': 0, 'bike_state_of_charge': 0, 'distance': 669, 'uid': 'ce4bgrh2rcd13ifvqc8g'}, 'free_bikes': 0, 'id': '76b65c5aec5372b7257e34d103bfb2be', 'latitude': 43.30193874, 'longitude': 5.366285878, 'name': 'Schuman - Leca', 'timestamp': '2023-10-30T03:33:01.077000Z'}, {'empty_slots': None, 'extra': {'bike_autonomy': 0, 'bike_state_of_charge': 0, 'distance': 919, 'uid': 'ce4bguh2rcd13ifvqcj0'}, 'free_bikes': 0, 'id': '2ab93b4c529e5fa33fd15a3bfce24cb7', 'latitude': 43.30278357, 'longitude': 5.377157667, 'name': 'Ferry-Nédelec', 'timestamp': '2023-10-30T03:33:01.160000Z'}, {'empty_slots': None, 'extra': {'bike_autonomy': 0, 'bike_state_of_charge': 0, 'distance': 1007, 'uid': 'ce4bgrp2rcd13ifvqc9g'}, 'free_bikes': 0, 'id': '2d03a732dc79d65fddbdc6e9a0623cf1', 'latitude': 43.30536824089319, 'longitude': 5.367343057645485, 'name': 'Joliette - Dunkerque', 'timestamp': '2023-10-30T03:33:01.197000Z'}, {'empty_slots': None, 'extra': {'bike_autonomy': 30400, 'bike_state_of_charge': 96, 'distance': 1078, 'uid': 'ce4bgs12rcd13ifvqcag'}, 'free_bikes': 1, 'id': '99842517cdb7bb773dc9f723bafcc643', 'latitude': 43.30570589746745, 'longitude': 5.365654336110538, 'name': 'Les Docks - Terrasses du Port', 'timestamp': '2023-10-30T03:33:01.217000Z'}, {'empty_slots': None, 'extra': {'bike_autonomy': 25600, 'bike_state_of_charge': 84, 'distance': 1171, 'uid': 'ce4bgup2rcd13ifvqcn0'}, 'free_bikes': 2, 'id': '665ee1da6ff6812a8df1bed4f50815e6', 'latitude': 43.30460633, 'longitude': 5.379025685, 'name': 'Saint Charles - Faculté', 'timestamp': '2023-10-30T03:33:01.245000Z'}, {'empty_slots': None, 'extra': {'bike_autonomy': 10400, 'bike_state_of_charge': 46, 'distance': 1404, 'uid': 'ce4bguh2rcd13ifvqckg'}, 'free_bikes': 2, 'id': '12a734ed63ea776a0d4a84d80e78152e', 'latitude': 43.30903370006192, 'longitude': 5.371782666402396, 'name': 'Hôpital Européen', 'timestamp': '2023-10-30T03:33:01.372000Z'}, {'empty_slots': None, 'extra': {'bike_autonomy': 15600, 'bike_state_of_charge': 59, 'distance': 1747, 'uid': 'ce4bgt92rcd13ifvqcg0'}, 'free_bikes': 8, 'id': '1d7f84508c18a4892638f7ae659a6999', 'latitude': 43.311125001287195, 'longitude': 5.377624232911899, 'name': 'National - Hoche', 'timestamp': '2023-10-30T03:33:01.451000Z'}, {'empty_slots': None, 'extra': {'bike_autonomy': 4800, 'bike_state_of_charge': 32, 'distance': 2055, 'uid': 'ce4bgt12rcd13ifvqcd0'}, 'free_bikes': 2, 'id': '1360f4262f65e6298f3ae830d1e53649', 'latitude': 43.314811272541334, 'longitude': 5.37310339134342, 'name': 'National Métro', 'timestamp': '2023-10-30T03:33:01.509000Z'}, {'empty_slots': None, 'extra': {'bike_autonomy': 17600, 'bike_state_of_charge': 64, 'distance': 2206, 'uid': 'ce4bgv12rcd13ifvqcp0'}, 'free_bikes': 5, 'id': '056bddd0f07b58b4b608bdce713b2950', 'latitude': 43.3117222, 'longitude': 5.387246838, 'name': 'Place Cadenat', 'timestamp': '2023-10-30T03:33:01.527000Z'}, {'empty_slots': None, 'extra': {'bike_autonomy': 24800, 'bike_state_of_charge': 82, 'distance': 2206, 'uid': 'ce4bgup2rcd13ifvqco0'}, 'free_bikes': 1, 'id': 'aae99b169a6db5731a37d8cafa813d78', 'latitude': 43.30958896, 'longitude': 5.390258304, 'name': 'Friche Belle de Mai', 'timestamp': '2023-10-30T03:33:01.528000Z'}, {'empty_slots': None, 'extra': {'bike_autonomy': 0, 'bike_state_of_charge': 0, 'distance': 2406, 'uid': 'ce4bh092rcd13ifvqd20'}, 'free_bikes': 0, 'id': '5083fba39e74add322c9a8630ffd5b8c', 'latitude': 43.30427414673173, 'longitude': 5.397513231939001, 'name': 'Cinq Avenue Longchamp', 'timestamp': '2023-10-30T03:33:01.585000Z'}, {'empty_slots': None, 'extra': {'bike_autonomy': 2800, 'bike_state_of_charge': 27, 'distance': 2577, 'uid': 'ce4bh012rcd13ifvqcv0'}, 'free_bikes': 5, 'id': '066204cf8356f8e628dc5b87305bed1b', 'latitude': 43.309037596219014, 'longitude': 5.396545511971453, 'name': 'Chute Lavie Dahdah', 'timestamp': '2023-10-30T03:33:01.601000Z'}, {'empty_slots': None, 'extra': {'bike_autonomy': 29600, 'bike_state_of_charge': 94, 'distance': 2605, 'uid': 'ce4bgvh2rcd13ifvqcs0'}, 'free_bikes': 1, 'id': '4ca2c5798e482e43a17305280468763e', 'latitude': 43.30275907, 'longitude': 5.400792795, 'name': 'Blancarde - Duparc', 'timestamp': '2023-10-30T03:33:01.609000Z'}, {'empty_slots': None, 'extra': {'bike_autonomy': 14400, 'bike_state_of_charge': 56, 'distance': 2879, 'uid': 'ce4bgvp2rcd13ifvqcu0'}, 'free_bikes': 1, 'id': 'c6a1612bd127b0a1068d4d2b70d0fa82', 'latitude': 43.31329084715776, 'longitude': 5.396838371330546, 'name': 'Chutes Lavie - Guigou', 'timestamp': '2023-10-30T03:33:01.680000Z'}, {'empty_slots': None, 'extra': {'bike_autonomy': 14000, 'bike_state_of_charge': 55, 'distance': 2937, 'uid': 'ce4bgvp2rcd13ifvqct0'}, 'free_bikes': 8, 'id': '6f61a8a8e376a3decf39315f9b20a11e', 'latitude': 43.30937085, 'longitude': 5.401449029, 'name': 'Eglise des Chartreux', 'timestamp': '2023-10-30T03:33:01.711000Z'}, {'empty_slots': None, 'extra': {'bike_autonomy': 6400, 'bike_state_of_charge': 36, 'distance': 3578, 'uid': 'ce4bh012rcd13ifvqd00'}, 'free_bikes': 5, 'id': '276aadb0f3733eb7d44b99abf555c9bf', 'latitude': 43.31652283667526, 'longitude': 5.4043665678689194, 'name': 'Saint-Just - Le Dôme', 'timestamp': '2023-10-30T03:33:01.809000Z'}, {'empty_slots': None, 'extra': {'bike_autonomy': 0, 'bike_state_of_charge': 0, 'distance': 88, 'uid': 'ce4bgnh2rcd13ifvqc0g'}, 'free_bikes': 0, 'id': 'd1012054bb845abbee845884adf7e284', 'latitude': 43.29613110303592, 'longitude': 5.370772717518662, 'name': 'Hôtel de ville', 'timestamp': '2023-10-30T03:33:00.867000Z'}, {'empty_slots': None, 'extra': {'bike_autonomy': 0, 'bike_state_of_charge': 0, 'distance': 591, 'uid': 'ce4bgi92rcd13ifvqb90'}, 'free_bikes': 0, 'id': '11f5f445d382147eb996055ac5e19997', 'latitude': 43.29626342443967, 'longitude': 5.377094272796853, 'name': 'Canebière Saint-Ferreol', 'timestamp': '2023-10-30T03:33:01.021000Z'}, {'empty_slots': None, 'extra': {'bike_autonomy': 0, 'bike_state_of_charge': 0, 'distance': 651, 'uid': 'ce4bgs92rcd13ifvqcc0'}, 'free_bikes': 0, 'id': 'fc00c996a34496d7ed8431081e9dea97', 'latitude': 43.30142931593264, 'longitude': 5.374129631885239, 'name': 'Jules Guesde', 'timestamp': '2023-10-30T03:33:01.027000Z'}, {'empty_slots': None, 'extra': {'bike_autonomy': 11200, 'bike_state_of_charge': 48, 'distance': 1109, 'uid': 'ce4bh3p2rcd13ifvqdq0'}, 'free_bikes': 2, 'id': 'aba0ea867a5c5ad65f76f515bf7b0e47', 'latitude': 43.2869613, 'longitude': 5.373784575, 'name': 'Notre-Dame - Dragon', 'timestamp': '2023-10-30T03:33:01.219000Z'}, {'empty_slots': None, 'extra': {'bike_autonomy': 0, 'bike_state_of_charge': 0, 'distance': 1361, 'uid': 'ce4bh2h2rcd13ifvqdh0'}, 'free_bikes': 0, 'id': '021da70e4412fc8f727d69e41a3d654e', 'latitude': 43.29416247655675, 'longitude': 5.386291983910837, 'name': 'Plaine - Saint-Pierre', 'timestamp': '2023-10-30T03:33:01.349000Z'}, {'empty_slots': None, 'extra': {'bike_autonomy': 6400, 'bike_state_of_charge': 36, 'distance': 1455, 'uid': 'ce4bh412rcd13ifvqds0'}, 'free_bikes': 7, 'id': '0b929e8834d4d4d5eeadca476805b0e9', 'latitude': 43.28399833, 'longitude': 5.375062072, 'name': 'Notre-Dame - Vauban', 'timestamp': '2023-10-30T03:33:01.404000Z'}, {'empty_slots': None, 'extra': {'bike_autonomy': 0, 'bike_state_of_charge': 0, 'distance': 1573, 'uid': 'ce4bh392rcd13ifvqdl0'}, 'free_bikes': 0, 'id': 'de6e9325c2693172b29cae254fdf9a57', 'latitude': 43.29876369, 'longitude': 5.3889733920000005, 'name': 'Tivoli - Roosevelt', 'timestamp': '2023-10-30T03:33:01.412000Z'}, {'empty_slots': None, 'extra': {'bike_autonomy': 0, 'bike_state_of_charge': 0, 'distance': 1594, 'uid': 'ce4bgt12rcd13ifvqce0'}, 'free_bikes': 0, 'id': '04e63ac1617e8a32268e866bcec6a9ee', 'latitude': 43.3080124, 'longitude': 5.38151142, 'name': 'National - Belle de Mai', 'timestamp': '2023-10-30T03:33:01.429000Z'}, {'empty_slots': None, 'extra': {'bike_autonomy': 0, 'bike_state_of_charge': 0, 'distance': 1764, 'uid': 'ce4bh492rcd13ifvqdug'}, 'free_bikes': 0, 'id': '6b3e2331db9f591707c69932089eaa51', 'latitude': 43.28659467, 'longitude': 5.386795143, 'name': 'Baille - Friedland', 'timestamp': '2023-10-30T03:33:01.457000Z'}, {'empty_slots': None, 'extra': {'bike_autonomy': 0, 'bike_state_of_charge': 0, 'distance': 1773, 'uid': 'ce4bh192rcd13ifvqdb0'}, 'free_bikes': 0, 'id': '9dae1a734becd7c3c265da5964938feb', 'latitude': 43.30084993931786, 'longitude': 5.390856183778169, 'name': 'Liberation - Isoard', 'timestamp': '2023-10-30T03:33:01.459000Z'}, {'empty_slots': None, 'extra': {'bike_autonomy': 0, 'bike_state_of_charge': 0, 'distance': 1938, 'uid': 'ce4bh192rcd13ifvqdd0'}, 'free_bikes': 0, 'id': '3cd321d57103f9eddfdcf30ae142947a', 'latitude': 43.291994145747765, 'longitude': 5.392906782557929, 'name': 'Saint-Pierre - Hugueny', 'timestamp': '2023-10-30T03:33:01.481000Z'}, {'empty_slots': None, 'extra': {'bike_autonomy': 28000, 'bike_state_of_charge': 90, 'distance': 1979, 'uid': 'ce4bh492rcd13ifvqdvg'}, 'free_bikes': 1, 'id': 'd39244d1183a30145fef19b812ca0682', 'latitude': 43.28350153, 'longitude': 5.386470818, 'name': 'Rouet', 'timestamp': '2023-10-30T03:33:01.492000Z'}, {'empty_slots': None, 'extra': {'bike_autonomy': 0, 'bike_state_of_charge': 0, 'distance': 2107, 'uid': 'ce4bh0p2rcd13ifvqd70'}, 'free_bikes': 0, 'id': '4cff81965b2e2fd5a0dbda41b0ee4dd8', 'latitude': 43.30200819, 'longitude': 5.394693835, 'name': 'Libération - Chape - Espérandieu', 'timestamp': '2023-10-30T03:33:01.510000Z'}, {'empty_slots': None, 'extra': {'bike_autonomy': 0, 'bike_state_of_charge': 0, 'distance': 2204, 'uid': 'ce4bh0p2rcd13ifvqd80'}, 'free_bikes': 0, 'id': '47814a4f555da95db76a325d94968054', 'latitude': 43.3059935, 'longitude': 5.393687137, 'name': 'Flammarion- Montricher', 'timestamp': '2023-10-30T03:33:01.527000Z'}, {'empty_slots': None, 'extra': {'bike_autonomy': 0, 'bike_state_of_charge': 0, 'distance': 2235, 'uid': 'ce4bh0h2rcd13ifvqd50'}, 'free_bikes': 0, 'id': '3addf0bbfacf3b59b01d0fbbfe1667aa', 'latitude': 43.29868093, 'longitude': 5.397225175, 'name': 'Place Sébastopol', 'timestamp': '2023-10-30T03:33:01.531000Z'}, {'empty_slots': None, 'extra': {'bike_autonomy': 0, 'bike_state_of_charge': 0, 'distance': 2250, 'uid': 'ce4bhoh2rcd13ifvqh5g'}, 'free_bikes': 0, 'id': 'a6d85019a69a6454368ee8d645e962f3', 'latitude': 43.28446199, 'longitude': 5.39212117, 'name': 'Toulon - Menpenti', 'timestamp': '2023-10-30T03:33:01.532000Z'}, {'empty_slots': None, 'extra': {'bike_autonomy': 30000, 'bike_state_of_charge': 95, 'distance': 2256, 'uid': 'ce4bgt92rcd13ifvqcf0'}, 'free_bikes': 1, 'id': 'c62c77ad74f24f477d112f966a40fa5e', 'latitude': 43.3135706, 'longitude': 5.3848289, 'name': 'Place Placide Caffo', 'timestamp': '2023-10-30T03:33:01.536000Z'}, {'empty_slots': None, 'extra': {'bike_autonomy': 28000, 'bike_state_of_charge': 90, 'distance': 2257, 'uid': 'ce4bh3h2rcd13ifvqdo0'}, 'free_bikes': 3, 'id': '2db1f777dad667c0f9a068b944bc0d15', 'latitude': 43.29431413, 'longitude': 5.397498439, 'name': 'Briffaut Camas', 'timestamp': '2023-10-30T03:33:01.545000Z'}, {'empty_slots': None, 'extra': {'bike_autonomy': 2400, 'bike_state_of_charge': 26, 'distance': 2259, 'uid': 'ce4bhsp2rcd13ifvqi50'}, 'free_bikes': 1, 'id': '1b4a930de4395f566ab5ab3a33d1fc19', 'latitude': 43.315289087463555, 'longitude': 5.38034926547175, 'name': 'Belle vue', 'timestamp': '2023-10-30T03:33:01.546000Z'}, {'empty_slots': None, 'extra': {'bike_autonomy': 0, 'bike_state_of_charge': 0, 'distance': 2291, 'uid': 'ce4bh3h2rcd13ifvqdn0'}, 'free_bikes': 0, 'id': '74841aeaaec41ec03ceb63eb4e1ac827', 'latitude': 43.28936349, 'longitude': 5.396322259, 'name': 'Baille - Hôpital Conception', 'timestamp': '2023-10-30T03:33:01.547000Z'}, {'empty_slots': None, 'extra': {'bike_autonomy': 0, 'bike_state_of_charge': 0, 'distance': 2367, 'uid': 'ce4bh292rcd13ifvqdg0'}, 'free_bikes': 0, 'id': 'c1efb24a2ccf716d966ea08dcd44fdd2', 'latitude': 43.28572971621563, 'longitude': 5.394991516440086, 'name': 'Pierre Roux', 'timestamp': '2023-10-30T03:33:01.550000Z'}, {'empty_slots': None, 'extra': {'bike_autonomy': 27600, 'bike_state_of_charge': 89, 'distance': 2371, 'uid': 'ce4bgth2rcd13ifvqch0'}, 'free_bikes': 1, 'id': 'a951220c084f2b3a8cb31507fd2cccf6', 'latitude': 43.31707549, 'longitude': 5.377366738, 'name': 'Auphan - Vaillant', 'timestamp': '2023-10-30T03:33:01.551000Z'}, {'empty_slots': None, 'extra': {'bike_autonomy': 0, 'bike_state_of_charge': 0, 'distance': 2404, 'uid': 'ce4bh0h2rcd13ifvqd40'}, 'free_bikes': 0, 'id': '175cb0e8798cd983bfbd3c9389ad9803', 'latitude': 43.30111738, 'longitude': 5.398795435, 'name': 'Foch - Fayolle', 'timestamp': '2023-10-30T03:33:01.577000Z'}, {'empty_slots': None, 'extra': {'bike_autonomy': 0, 'bike_state_of_charge': 0, 'distance': 2419, 'uid': 'ce4bh312rcd13ifvqdj0'}, 'free_bikes': 0, 'id': 'b0527fadf9671ee0d1b685042b7fc211', 'latitude': 43.29571281, 'longitude': 5.399639378, 'name': 'Chave - Sakakini', 'timestamp': '2023-10-30T03:33:01.587000Z'}, {'empty_slots': None, 'extra': {'bike_autonomy': 21200, 'bike_state_of_charge': 73, 'distance': 2510, 'uid': 'ce4bh392rcd13ifvqdm0'}, 'free_bikes': 2, 'id': '04a8c7c60aa15525c7b8047da64e7573', 'latitude': 43.290412249633505, 'longitude': 5.399632919528813, 'name': 'Jean Moulin - Hôpital La Timone', 'timestamp': '2023-10-30T03:33:01.588000Z'}, {'empty_slots': None, 'extra': {'bike_autonomy': 0, 'bike_state_of_charge': 0, 'distance': 2573, 'uid': 'ce4bh312rcd13ifvqdk0'}, 'free_bikes': 0, 'id': '52348a4fedb5c9603772b7df8081822a', 'latitude': 43.29272355, 'longitude': 5.401130777, 'name': 'Sakakini - Saint-Pierre', 'timestamp': '2023-10-30T03:33:01.590000Z'}, {'empty_slots': None, 'extra': {'bike_autonomy': 22000, 'bike_state_of_charge': 75, 'distance': 2657, 'uid': 'ce4bho92rcd13ifvqh3g'}, 'free_bikes': 4, 'id': '787f5915a5b8872003ce870550d9a73d', 'latitude': 43.28715402, 'longitude': 5.39997873, 'name': 'Jean Moulin - Sainte Baume', 'timestamp': '2023-10-30T03:33:01.614000Z'}, {'empty_slots': None, 'extra': {'bike_autonomy': 2000, 'bike_state_of_charge': 25, 'distance': 2760, 'uid': 'ce4bh112rcd13ifvqda0'}, 'free_bikes': 7, 'id': '8fea33bf5fad39fcc2cb5cfb831ce102', 'latitude': 43.30641234314123, 'longitude': 5.40103548654406, 'name': 'Duparc - Brossolette', 'timestamp': '2023-10-30T03:33:01.636000Z'}, {'empty_slots': None, 'extra': {'bike_autonomy': 9600, 'bike_state_of_charge': 44, 'distance': 2781, 'uid': 'ce4bhr12rcd13ifvqhpg'}, 'free_bikes': 2, 'id': '70bb598d4dec2354226ec1541fb2481c', 'latitude': 43.319935427116775, 'longitude': 5.381699103765641, 'name': 'Bon Secours - Huilerie', 'timestamp': '2023-10-30T03:33:01.639000Z'}, {'empty_slots': None, 'extra': {'bike_autonomy': 28800, 'bike_state_of_charge': 92, 'distance': 2790, 'uid': 'ce4bho12rcd13ifvqh2g'}, 'free_bikes': 2, 'id': 'bb09bbdbc448c53e30b409cca97a59f7', 'latitude': 43.28078426, 'longitude': 5.396621812, 'name': 'Reboul - Argile', 'timestamp': '2023-10-30T03:33:01.645000Z'}, {'empty_slots': None, 'extra': {'bike_autonomy': 22400, 'bike_state_of_charge': 76, 'distance': 2866, 'uid': 'ce4bhqp2rcd13ifvqhng'}, 'free_bikes': 4, 'id': '2cff3854ea9a45cfc6248d91b3e17f48', 'latitude': 43.31755747, 'longitude': 5.390173087, 'name': 'Sainte-Marthe - Glacière', 'timestamp': '2023-10-30T03:33:01.669000Z'}, {'empty_slots': None, 'extra': {'bike_autonomy': 16400, 'bike_state_of_charge': 61, 'distance': 2933, 'uid': 'ce4bh0h2rcd13ifvqd60'}, 'free_bikes': 3, 'id': '1025522076f82df7a4ad06a4dde62217', 'latitude': 43.29626348, 'longitude': 5.406009668, 'name': 'Blancarde - Gare SNCF', 'timestamp': '2023-10-30T03:33:01.701000Z'}, {'empty_slots': None, 'extra': {'bike_autonomy': 3600, 'bike_state_of_charge': 29, 'distance': 3214, 'uid': 'ce4bh192rcd13ifvqdc0'}, 'free_bikes': 7, 'id': 'be77a1c856f1eb51a00b523c9b95ed11', 'latitude': 43.2925709464964, 'longitude': 5.40910662501517, 'name': 'Place Pol Lapeyre', 'timestamp': '2023-10-30T03:33:01.780000Z'}, {'empty_slots': None, 'extra': {'bike_autonomy': 6000, 'bike_state_of_charge': 35, 'distance': 3394, 'uid': 'ce4bhqp2rcd13ifvqhog'}, 'free_bikes': 3, 'id': '456176730237d68313c9e6242b043954', 'latitude': 43.32366978, 'longitude': 5.38883641, 'name': 'Sainte-Marthe - Moretti', 'timestamp': '2023-10-30T03:33:01.782000Z'}, {'empty_slots': None, 'extra': {'bike_autonomy': 0, 'bike_state_of_charge': 0, 'distance': 3595, 'uid': 'ce4bhop2rcd13ifvqh8g'}, 'free_bikes': 0, 'id': '7a04befb0ff9ff0ac3bf89e98f843d37', 'latitude': 43.30418846, 'longitude': 5.412903941, 'name': 'Saint-Barnabé - Haguenau', 'timestamp': '2023-10-30T03:33:01.810000Z'}, {'empty_slots': None, 'extra': {'bike_autonomy': 0, 'bike_state_of_charge': 0, 'distance': 4046, 'uid': 'ce4bhop2rcd13ifvqh7g'}, 'free_bikes': 0, 'id': 'b1fb359580071e426fda154fbb82f2fa', 'latitude': 43.30383732, 'longitude': 5.41872428, 'name': 'Place Caire', 'timestamp': '2023-10-30T03:33:01.893000Z'}, {'empty_slots': None, 'extra': {'bike_autonomy': 4000, 'bike_state_of_charge': 30, 'distance': 4090, 'uid': 'ce4bhr92rcd13ifvqhrg'}, 'free_bikes': 4, 'id': 'b3170436fe70a812aa8b5145421ce91c', 'latitude': 43.33044176, 'longitude': 5.38914807, 'name': 'Pierre Paraf', 'timestamp': '2023-10-30T03:33:01.913000Z'}, {'empty_slots': None, 'extra': {'bike_autonomy': 29200, 'bike_state_of_charge': 93, 'distance': 4146, 'uid': 'ce501612rcd8frsf0b60'}, 'free_bikes': 1, 'id': '0720665b4e54c3803f57e6cdffad186d', 'latitude': 43.26795854639917, 'longitude': 5.402685214151916, 'name': 'Augustin Aubert', 'timestamp': '2023-10-30T03:33:01.939000Z'}, {'empty_slots': None, 'extra': {'bike_autonomy': 5600, 'bike_state_of_charge': 34, 'distance': 4212, 'uid': 'ce4bhq92rcd13ifvqhjg'}, 'free_bikes': 5, 'id': 'bf409c0e242fcd618d5c8cd9cb8cc8ea', 'latitude': 43.32346361240647, 'longitude': 5.406297409546596, 'name': 'Parc Corot', 'timestamp': '2023-10-30T03:33:01.961000Z'}, {'empty_slots': None, 'extra': {'bike_autonomy': 800, 'bike_state_of_charge': 22, 'distance': 4217, 'uid': 'ce4bho12rcd13ifvqh1g'}, 'free_bikes': 2, 'id': '677bd46a199099b2ed3395a5a8e8abd8', 'latitude': 43.2799602511721, 'longitude': 5.416624366102042, 'name': 'Pont de Vivaux', 'timestamp': '2023-10-30T03:33:01.978000Z'}, {'empty_slots': None, 'extra': {'bike_autonomy': 2400, 'bike_state_of_charge': 26, 'distance': 4305, 'uid': 'ce4bhph2rcd13ifvqhdg'}, 'free_bikes': 2, 'id': '04dcc39687077477f372807a43d09cc0', 'latitude': 43.29552256279197, 'longitude': 5.422926314883398, 'name': 'La Boiseraie', 'timestamp': '2023-10-30T03:33:01.992000Z'}, {'empty_slots': None, 'extra': {'bike_autonomy': 0, 'bike_state_of_charge': 0, 'distance': 4505, 'uid': 'ce4bhq92rcd13ifvqhkg'}, 'free_bikes': 0, 'id': '53996653301196d67fb57b01b3324c0d', 'latitude': 43.32004537625261, 'longitude': 5.4150457738032864, 'name': 'Malpassé Métro', 'timestamp': '2023-10-30T03:33:02.020000Z'}, {'empty_slots': None, 'extra': {'bike_autonomy': 0, 'bike_state_of_charge': 0, 'distance': 4581, 'uid': 'ce4bhoh2rcd13ifvqh6g'}, 'free_bikes': 0, 'id': 'd1f82e71d5662bb2206fb74994d48e34', 'latitude': 43.30409626543968, 'longitude': 5.425385468108061, 'name': 'La Fourragère', 'timestamp': '2023-10-30T03:33:02.030000Z'}, {'empty_slots': None, 'extra': {'bike_autonomy': 0, 'bike_state_of_charge': 0, 'distance': 4667, 'uid': 'ce4bhpp2rcd13ifvqhgg'}, 'free_bikes': 0, 'id': '9241662b5bea94bc5d042eb097811d5b', 'latitude': 43.32660541953149, 'longitude': 5.409903287927591, 'name': 'Saint-Paul - Malpassé', 'timestamp': '2023-10-30T03:33:02.061000Z'}, {'empty_slots': None, 'extra': {'bike_autonomy': 10800, 'bike_state_of_charge': 47, 'distance': 4693, 'uid': 'ce4bhp92rcd13ifvqhag'}, 'free_bikes': 2, 'id': 'd6bbddbcda13a1c9ea2b9c38d376e585', 'latitude': 43.31078482, 'longitude': 5.42430547, 'name': 'Bois Luzy', 'timestamp': '2023-10-30T03:33:02.072000Z'}, {'empty_slots': None, 'extra': {'bike_autonomy': 18800, 'bike_state_of_charge': 67, 'distance': 4820, 'uid': 'ce4bhq12rcd13ifvqhhg'}, 'free_bikes': 2, 'id': '7ba1e5b9e04f010cc5f6b9b8c26b07c3', 'latitude': 43.3252329242701, 'longitude': 5.4143178006645485, 'name': 'Lavéran - Diderot', 'timestamp': '2023-10-30T03:33:02.113000Z'}, {'empty_slots': None, 'extra': {'bike_autonomy': 0, 'bike_state_of_charge': 0, 'distance': 4949, 'uid': 'ce4bhp92rcd13ifvqhbg'}, 'free_bikes': 0, 'id': 'feb70510ef08937bc441cc9b0f49a77a', 'latitude': 43.31712055, 'longitude': 5.423936023, 'name': 'Montolivet', 'timestamp': '2023-10-30T03:33:02.141000Z'}, {'empty_slots': None, 'extra': {'bike_autonomy': 29200, 'bike_state_of_charge': 93, 'distance': 5404, 'uid': 'ce4bhpp2rcd13ifvqhfg'}, 'free_bikes': 2, 'id': 'd0614561d2365c31521fab08d4e13e70', 'latitude': 43.29876838180914, 'longitude': 5.436430475000634, 'name': 'Saint-Jean du Désert', 'timestamp': '2023-10-30T03:33:02.249000Z'}, {'empty_slots': None, 'extra': {'bike_autonomy': 19200, 'bike_state_of_charge': 68, 'distance': 5497, 'uid': 'ce4bhqh2rcd13ifvqhmg'}, 'free_bikes': 3, 'id': '2820418015d8ab04023b36ed07ad0a18', 'latitude': 43.33611966260352, 'longitude': 5.410320835259142, 'name': 'Faculté - Saint-Jerôme', 'timestamp': '2023-10-30T03:33:02.356000Z'}, {'empty_slots': None, 'extra': {'bike_autonomy': 2000, 'bike_state_of_charge': 25, 'distance': 5893, 'uid': 'ce4bhp92rcd13ifvqhcg'}, 'free_bikes': 6, 'id': 'ca3b77416c95dc84eed774bb71495601', 'latitude': 43.31710365325108, 'longitude': 5.43681784487967, 'name': 'Stade Bombardière', 'timestamp': '2023-10-30T03:33:02.360000Z'}, {'empty_slots': None, 'extra': {'bike_autonomy': 0, 'bike_state_of_charge': 0, 'distance': 432, 'uid': 'ce4bhbp2rcd13ifvqesg'}, 'free_bikes': 0, 'id': 'd3b3a6407c1164776aa9e7de4bbe6e77', 'latitude': 43.292748522069814, 'longitude': 5.368401671786842, 'name': 'La Criée', 'timestamp': '2023-10-30T03:33:00.934000Z'}, {'empty_slots': None, 'extra': {'bike_autonomy': 0, 'bike_state_of_charge': 0, 'distance': 556, 'uid': 'ce4bha92rcd13ifvqeh0'}, 'free_bikes': 0, 'id': '5ef562ec6a76dfb8bc3a4a251b0474d3', 'latitude': 43.291674744737406, 'longitude': 5.371582564461846, 'name': 'Sainte - Notre-Dame', 'timestamp': '2023-10-30T03:33:01.013000Z'}, {'empty_slots': None, 'extra': {'bike_autonomy': 29200, 'bike_state_of_charge': 93, 'distance': 651, 'uid': 'ce4bh5p2rcd13ifvqe4g'}, 'free_bikes': 1, 'id': '4eb3ff75efd7336138ab296d9de4075f', 'latitude': 43.29077871, 'longitude': 5.371481915, 'name': 'Place de la Corderie', 'timestamp': '2023-10-30T03:33:01.034000Z'}, {'empty_slots': None, 'extra': {'bike_autonomy': 0, 'bike_state_of_charge': 0, 'distance': 731, 'uid': 'ce4bgqh2rcd13ifvqc5g'}, 'free_bikes': 0, 'id': 'f7e3356d8227ce811db5cd4c3142e13e', 'latitude': 43.30304044330242, 'longitude': 5.368986802595486, 'name': 'République Joliette', 'timestamp': '2023-10-30T03:33:01.105000Z'}, {'empty_slots': None, 'extra': {'bike_autonomy': 0, 'bike_state_of_charge': 0, 'distance': 837, 'uid': 'ce4bh692rcd13ifvqe90'}, 'free_bikes': 0, 'id': 'bee3ef7c61989f6d8f7d223c12480a6d', 'latitude': 43.290326899868546, 'longitude': 5.375711092245979, 'name': 'Pierre Puget - Breteuil', 'timestamp': '2023-10-30T03:33:01.124000Z'}, {'empty_slots': None, 'extra': {'bike_autonomy': 18400, 'bike_state_of_charge': 66, 'distance': 859, 'uid': 'ce4bhap2rcd13ifvqek0'}, 'free_bikes': 4, 'id': '0f3e5a4a3fd843b5dcb75e7af7aca5b9', 'latitude': 43.28918361, 'longitude': 5.366407727, 'name': 'Endoume - Corderie', 'timestamp': '2023-10-30T03:33:01.133000Z'}, {'empty_slots': None, 'extra': {'bike_autonomy': 0, 'bike_state_of_charge': 0, 'distance': 1020, 'uid': 'ce4bh9p2rcd13ifvqed0'}, 'free_bikes': 0, 'id': '030fe7f33437b8c43ff3c8779219228f', 'latitude': 43.28974291012639, 'longitude': 5.378303806996655, 'name': 'Estrangin', 'timestamp': '2023-10-30T03:33:01.203000Z'}, {'empty_slots': None, 'extra': {'bike_autonomy': 0, 'bike_state_of_charge': 0, 'distance': 1076, 'uid': 'ce4bha92rcd13ifvqeg0'}, 'free_bikes': 0, 'id': 'fae6f0f1129d2968b71e0584605c6777', 'latitude': 43.29063067145421, 'longitude': 5.359243592567395, 'name': 'Pasteur', 'timestamp': '2023-10-30T03:33:01.205000Z'}, {'empty_slots': None, 'extra': {'bike_autonomy': 30800, 'bike_state_of_charge': 97, 'distance': 1087, 'uid': 'ce4bhb12rcd13ifvqel0'}, 'free_bikes': 2, 'id': '56c67c9aa8749e06ffbddf74faab28e4', 'latitude': 43.29199367364626, 'longitude': 5.357886145002112, 'name': 'Livon - Pasteur', 'timestamp': '2023-10-30T03:33:01.218000Z'}, {'empty_slots': None, 'extra': {'bike_autonomy': 0, 'bike_state_of_charge': 0, 'distance': 1119, 'uid': 'ce4bh512rcd13ifvqe2g'}, 'free_bikes': 0, 'id': 'e8c63893728fc054bfc47617a2282faa', 'latitude': 43.29099525, 'longitude': 5.381360991, 'name': 'Rome - Salvator', 'timestamp': '2023-10-30T03:33:01.220000Z'}, {'empty_slots': None, 'extra': {'bike_autonomy': 29200, 'bike_state_of_charge': 93, 'distance': 1170, 'uid': 'ce4bh4p2rcd13ifvqe1g'}, 'free_bikes': 1, 'id': 'fe068dc64e66edeb8eb429d25b0aeee9', 'latitude': 43.290099616284294, 'longitude': 5.3812689520102595, 'name': 'Rome Sylvabelle', 'timestamp': '2023-10-30T03:33:01.229000Z'}, {'empty_slots': None, 'extra': {'bike_autonomy': 30000, 'bike_state_of_charge': 95, 'distance': 1220, 'uid': 'ce4bhah2rcd13ifvqej0'}, 'free_bikes': 1, 'id': '6ad5a29d5a93274d06a9248ab8839293', 'latitude': 43.286593099737644, 'longitude': 5.363346223953386, 'name': 'Vallon Jourdan', 'timestamp': '2023-10-30T03:33:01.257000Z'}, {'empty_slots': None, 'extra': {'bike_autonomy': 18800, 'bike_state_of_charge': 67, 'distance': 1280, 'uid': 'ce4bhb12rcd13ifvqem0'}, 'free_bikes': 5, 'id': '3707aeed50708c7eb61a5b97e1931074', 'latitude': 43.28856007, 'longitude': 5.358371494, 'name': 'Place du 4 Septembre', 'timestamp': '2023-10-30T03:33:01.309000Z'}, {'empty_slots': None, 'extra': {'bike_autonomy': 17200, 'bike_state_of_charge': 63, 'distance': 1294, 'uid': 'ce4bh9p2rcd13ifvqec0'}, 'free_bikes': 2, 'id': '9017997cad97047d48d210595b72af1a', 'latitude': 43.287184431033836, 'longitude': 5.379370104893951, 'name': 'Paradis - Vignerons', 'timestamp': '2023-10-30T03:33:01.322000Z'}, {'empty_slots': None, 'extra': {'bike_autonomy': 4000, 'bike_state_of_charge': 30, 'distance': 1317, 'uid': 'ce4bhb92rcd13ifvqen0'}, 'free_bikes': 6, 'id': '62939fbc97fc6a94f9db48e212514669', 'latitude': 43.29010343949329, 'longitude': 5.356114229700495, 'name': 'Plage des Catalans', 'timestamp': '2023-10-30T03:33:01.323000Z'}, {'empty_slots': None, 'extra': {'bike_autonomy': 22000, 'bike_state_of_charge': 75, 'distance': 1677, 'uid': 'ce4bh3p2rcd13ifvqdp0'}, 'free_bikes': 2, 'id': '1039c26d41a9742ec96aa869dc2d242f', 'latitude': 43.29516935, 'longitude': 5.390426195, 'name': 'Chave Eugene Pierre', 'timestamp': '2023-10-30T03:33:01.444000Z'}, {'empty_slots': None, 'extra': {'bike_autonomy': 0, 'bike_state_of_charge': 0, 'distance': 1706, 'uid': 'ce4bh412rcd13ifvqdr0'}, 'free_bikes': 0, 'id': 'cc7fd2d80bc9454ba812a3422bbe07ff', 'latitude': 43.283497890652455, 'longitude': 5.380948347618755, 'name': 'Paradis - Escat', 'timestamp': '2023-10-30T03:33:01.449000Z'}, {'empty_slots': None, 'extra': {'bike_autonomy': 24800, 'bike_state_of_charge': 82, 'distance': 1744, 'uid': 'ce4bh512rcd13ifvqe3g'}, 'free_bikes': 4, 'id': '7520bbd19efcf7eafc0fadd25e281b68', 'latitude': 43.28479294027045, 'longitude': 5.384113381462271, 'name': 'Castellane', 'timestamp': '2023-10-30T03:33:01.450000Z'}, {'empty_slots': None, 'extra': {'bike_autonomy': 14400, 'bike_state_of_charge': 56, 'distance': 1793, 'uid': 'ce4bha12rcd13ifvqef0'}, 'free_bikes': 1, 'id': 'd77c07973a7b6e25a01ad7b64533cebe', 'latitude': 43.280390122603876, 'longitude': 5.369296566841854, 'name': 'Place du Terrail', 'timestamp': '2023-10-30T03:33:01.460000Z'}, {'empty_slots': None, 'extra': {'bike_autonomy': 29600, 'bike_state_of_charge': 94, 'distance': 1853, 'uid': 'ce4bha12rcd13ifvqee0'}, 'free_bikes': 1, 'id': '01e273bd2a3c420e5568b2b0cc2d5691', 'latitude': 43.28104431, 'longitude': 5.378308143, 'name': 'Vallon Montebello', 'timestamp': '2023-10-30T03:33:01.460000Z'}, {'empty_slots': None, 'extra': {'bike_autonomy': 24400, 'bike_state_of_charge': 81, 'distance': 1929, 'uid': 'chh1huq6cuj3fo74tm60'}, 'free_bikes': 2, 'id': '203b188668439e0a0e3d69e8281f4b71', 'latitude': 43.29781526590139, 'longitude': 5.393547700948375, 'name': 'Camas - Jaubert', 'timestamp': '2023-10-30T03:33:01.477000Z'}, {'empty_slots': None, 'extra': {'bike_autonomy': 0, 'bike_state_of_charge': 0, 'distance': 1944, 'uid': 'ce4bhch2rcd13ifvqeug'}, 'free_bikes': 0, 'id': '7b7e8fa64ef0f3665b64c4ebd1e5bdbb', 'latitude': 43.285848320041225, 'longitude': 5.350786907401925, 'name': 'Vallon des Auffes', 'timestamp': '2023-10-30T03:33:01.482000Z'}, {'empty_slots': None, 'extra': {'bike_autonomy': 0, 'bike_state_of_charge': 0, 'distance': 2086, 'uid': 'ce4bh2p2rcd13ifvqdi0'}, 'free_bikes': 0, 'id': '167c954aae93a861862e30796ed8e709', 'latitude': 43.288501054747115, 'longitude': 5.393086808343014, 'name': 'Baille - Vertus', 'timestamp': '2023-10-30T03:33:01.509000Z'}, {'empty_slots': None, 'extra': {'bike_autonomy': 28000, 'bike_state_of_charge': 90, 'distance': 2126, 'uid': 'ce4bhbh2rcd13ifvqepg'}, 'free_bikes': 1, 'id': '80f808466aef1a81aa7d60cfe380916c', 'latitude': 43.2842190593168, 'longitude': 5.349699767931042, 'name': 'Corniche - Malmousque', 'timestamp': '2023-10-30T03:33:01.525000Z'}, {'empty_slots': None, 'extra': {'bike_autonomy': 5200, 'bike_state_of_charge': 33, 'distance': 2186, 'uid': 'ce4bhbp2rcd13ifvqerg'}, 'free_bikes': 6, 'id': 'ed9b325420ce05bd7d788b782c2fd786', 'latitude': 43.28274440346115, 'longitude': 5.35053287799019, 'name': 'Corniche - Endoume', 'timestamp': '2023-10-30T03:33:01.526000Z'}, {'empty_slots': None, 'extra': {'bike_autonomy': 19600, 'bike_state_of_charge': 69, 'distance': 2607, 'uid': 'ce4bhh92rcd13ifvqfi0'}, 'free_bikes': 3, 'id': '6ba010fb5ddcca06fc4086d7a035337a', 'latitude': 43.27562456, 'longitude': 5.384392134, 'name': 'Paradis - Lord Duveen', 'timestamp': '2023-10-30T03:33:01.611000Z'}, {'empty_slots': None, 'extra': {'bike_autonomy': 29200, 'bike_state_of_charge': 93, 'distance': 2611, 'uid': 'ce4bhbh2rcd13ifvqeo0'}, 'free_bikes': 1, 'id': 'a2393885b8fa40ee979029aa329dbd89', 'latitude': 43.273613112520195, 'longitude': 5.362704849368924, 'name': 'Plage du Prophète', 'timestamp': '2023-10-30T03:33:01.612000Z'}, {'empty_slots': None, 'extra': {'bike_autonomy': 17200, 'bike_state_of_charge': 63, 'distance': 2681, 'uid': 'ce4bhi12rcd13ifvqfo0'}, 'free_bikes': 1, 'id': 'dcda0b58bb4455fa83daf9d301cf8118', 'latitude': 43.27676858722245, 'longitude': 5.388786515806714, 'name': 'Prado - Lord Duveen', 'timestamp': '2023-10-30T03:33:01.626000Z'}, {'empty_slots': None, 'extra': {'bike_autonomy': 1600, 'bike_state_of_charge': 24, 'distance': 2708, 'uid': 'ce4bhjp2rcd13ifvqga0'}, 'free_bikes': 2, 'id': '4382962c6a34cf200589092a328daf93', 'latitude': 43.278398597227664, 'longitude': 5.392138782316124, 'name': 'Liandier - Rouet', 'timestamp': '2023-10-30T03:33:01.634000Z'}, {'empty_slots': None, 'extra': {'bike_autonomy': 0, 'bike_state_of_charge': 0, 'distance': 3297, 'uid': 'ce4bhh92rcd13ifvqfh0'}, 'free_bikes': 0, 'id': '1fd02b43e353121bf5eb4b18bd026af2', 'latitude': 43.26946672, 'longitude': 5.386439042, 'name': 'Prado - Paradis', 'timestamp': '2023-10-30T03:33:01.781000Z'}, {'empty_slots': None, 'extra': {'bike_autonomy': 20400, 'bike_state_of_charge': 71, 'distance': 3417, 'uid': 'ce4bhhh2rcd13ifvqfl0'}, 'free_bikes': 1, 'id': '1eb1987540c03ffce20207e4ad708c60', 'latitude': 43.26931867, 'longitude': 5.389396978, 'name': 'Negresko - Paulet', 'timestamp': '2023-10-30T03:33:01.783000Z'}, {'empty_slots': None, 'extra': {'bike_autonomy': 0, 'bike_state_of_charge': 0, 'distance': 3537, 'uid': 'ce4bhp12rcd13ifvqh9g'}, 'free_bikes': 0, 'id': 'fd9d3251f0163c2f567dc05fe3095948', 'latitude': 43.29957938303167, 'longitude': 5.413255322900113, 'name': 'Louis Armand', 'timestamp': '2023-10-30T03:33:01.799000Z'}, {'empty_slots': None, 'extra': {'bike_autonomy': 20800, 'bike_state_of_charge': 72, 'distance': 3655, 'uid': 'ce4bhnh2rcd13ifvqgtg'}, 'free_bikes': 4, 'id': '6c2badfc9a595903fde9e2b70035911d', 'latitude': 43.27812844, 'longitude': 5.407194838, 'name': 'Huveaune - Curtel', 'timestamp': '2023-10-30T03:33:01.811000Z'}, {'empty_slots': None, 'extra': {'bike_autonomy': 16400, 'bike_state_of_charge': 61, 'distance': 3914, 'uid': 'ce4bhjp2rcd13ifvqg90'}, 'free_bikes': 1, 'id': 'e40affe7fd0b25b02e1d39990b82d5fa', 'latitude': 43.26201967835499, 'longitude': 5.3792991458357164, 'name': 'Huveaune - Borely', 'timestamp': '2023-10-30T03:33:01.845000Z'}, {'empty_slots': None, 'extra': {'bike_autonomy': 14000, 'bike_state_of_charge': 55, 'distance': 4247, 'uid': 'ce4bhl12rcd13ifvqgf0'}, 'free_bikes': 4, 'id': '8b064cab72ba6f3fa1c54c25154780f1', 'latitude': 43.271387568961586, 'longitude': 5.40926929141915, 'name': 'Rolland - Platanes', 'timestamp': '2023-10-30T03:33:01.987000Z'}, {'empty_slots': None, 'extra': {'bike_autonomy': 0, 'bike_state_of_charge': 0, 'distance': 4647, 'uid': 'ce4bhih2rcd13ifvqfs0'}, 'free_bikes': 0, 'id': '40db8fa4050df884be276f02cfa723bb', 'latitude': 43.25575639, 'longitude': 5.38230303, 'name': 'Clot Bey - Leau', 'timestamp': '2023-10-30T03:33:02.040000Z'}, {'empty_slots': None, 'extra': {'bike_autonomy': 30400, 'bike_state_of_charge': 96, 'distance': 4657, 'uid': 'ce4bhh12rcd13ifvqff0'}, 'free_bikes': 2, 'id': '5f517e900e37a22fe24812417d6445e6', 'latitude': 43.25494658454127, 'longitude': 5.3764543491352015, 'name': 'Escale Borély', 'timestamp': '2023-10-30T03:33:02.055000Z'}, {'empty_slots': None, 'extra': {'bike_autonomy': 30000, 'bike_state_of_charge': 95, 'distance': 4703, 'uid': 'ce4bhip2rcd13ifvqft0'}, 'free_bikes': 1, 'id': 'd31009b4d6585de1f587337268a6fd09', 'latitude': 43.258223500058506, 'longitude': 5.394368605955606, 'name': 'Mazargues - Saint Anne', 'timestamp': '2023-10-30T03:33:02.093000Z'}, {'empty_slots': None, 'extra': {'bike_autonomy': 1200, 'bike_state_of_charge': 23, 'distance': 5038, 'uid': 'ce4bhn92rcd13ifvqgrg'}, 'free_bikes': 1, 'id': 'e290c12d65213952833ac6f56ff00054', 'latitude': 43.27502818, 'longitude': 5.424533793, 'name': 'Boulevard Urbain Sud - Verdillon', 'timestamp': '2023-10-30T03:33:02.159000Z'}, {'empty_slots': None, 'extra': {'bike_autonomy': 28400, 'bike_state_of_charge': 91, 'distance': 5162, 'uid': 'ce4bhk92rcd13ifvqgb0'}, 'free_bikes': 2, 'id': '8ab6c6858f2417df04d6e25b6ffe4c4a', 'latitude': 43.27072082477898, 'longitude': 5.422763624666231, 'name': 'Boulevard urbain sud - François Mauriac', 'timestamp': '2023-10-30T03:33:02.193000Z'}, {'empty_slots': None, 'extra': {'bike_autonomy': 18000, 'bike_state_of_charge': 65, 'distance': 5470, 'uid': 'ce4bhm12rcd13ifvqgkg'}, 'free_bikes': 12, 'id': '513cbedd701231a31d91fc7d0d763f42', 'latitude': 43.25096566135139, 'longitude': 5.395186297530245, 'name': 'Mazargues - Almeras', 'timestamp': '2023-10-30T03:33:02.338000Z'}, {'empty_slots': None, 'extra': {'bike_autonomy': 9200, 'bike_state_of_charge': 43, 'distance': 5607, 'uid': 'ce4bhih2rcd13ifvqfr0'}, 'free_bikes': 6, 'id': '203044bb9d2bf5f89b212b0bb87a5cfb', 'latitude': 43.24693037, 'longitude': 5.38209613, 'name': 'Lapin Blanc', 'timestamp': '2023-10-30T03:33:02.357000Z'}, {'empty_slots': None, 'extra': {'bike_autonomy': 22400, 'bike_state_of_charge': 76, 'distance': 5857, 'uid': 'ce4bhhh2rcd13ifvqfk0'}, 'free_bikes': 2, 'id': '5655a12f8c432d9c1749a3380907f882', 'latitude': 43.243884231063475, 'longitude': 5.370736380062908, 'name': 'Plage de la Pointe Rouge', 'timestamp': '2023-10-30T03:33:02.359000Z'}, {'empty_slots': None, 'extra': {'bike_autonomy': 0, 'bike_state_of_charge': 0, 'distance': 6026, 'uid': 'ce4bhlp2rcd13ifvqgjg'}, 'free_bikes': 0, 'id': '6772d546fecfef612f8100431d42f11f', 'latitude': 43.245581297728705, 'longitude': 5.395069220467349, 'name': 'Lancier - Savary', 'timestamp': '2023-10-30T03:33:02.361000Z'}, {'empty_slots': None, 'extra': {'bike_autonomy': 14000, 'bike_state_of_charge': 55, 'distance': 6252, 'uid': 'ce4bhnp2rcd13ifvqgvg'}, 'free_bikes': 9, 'id': 'ffec4c761d15ee9f61c5737f539278db', 'latitude': 43.24062346787065, 'longitude': 5.377642413176545, 'name': 'Corail - Marseilleveyre', 'timestamp': '2023-10-30T03:33:02.362000Z'}, {'empty_slots': None, 'extra': {'bike_autonomy': 8400, 'bike_state_of_charge': 41, 'distance': 6341, 'uid': 'ce4bhi12rcd13ifvqfp0'}, 'free_bikes': 3, 'id': '490f53b16861ccb985c4c9d75b18e00b', 'latitude': 43.23958841257124, 'longitude': 5.366238242702252, 'name': 'Parc Pastré', 'timestamp': '2023-10-30T03:33:02.363000Z'}, {'empty_slots': None, 'extra': {'bike_autonomy': 15600, 'bike_state_of_charge': 59, 'distance': 6485, 'uid': 'ce4bhn12rcd13ifvqgpg'}, 'free_bikes': 5, 'id': 'c8a712c413126e32e879b700b6727886', 'latitude': 43.24178222403938, 'longitude': 5.397261332914354, 'name': \"Roy d'Espagne - Floralia\", 'timestamp': '2023-10-30T03:33:02.364000Z'}, {'empty_slots': None, 'extra': {'bike_autonomy': 24800, 'bike_state_of_charge': 82, 'distance': 7280, 'uid': 'ce4bhu92rcd13ifvqi70'}, 'free_bikes': 1, 'id': 'ed5ee81a5b1094a5cf764b3924642f61', 'latitude': 43.231922566975584, 'longitude': 5.355545384096217, 'name': 'Madrague de Montredon', 'timestamp': '2023-10-30T03:33:02.364000Z'}, {'empty_slots': None, 'extra': {'bike_autonomy': 4000, 'bike_state_of_charge': 30, 'distance': 9048, 'uid': 'ce4bhmp2rcd13ifvqgog'}, 'free_bikes': 7, 'id': '4e2564a3e789cca7e64a7ee7c7961ef6', 'latitude': 43.23156159, 'longitude': 5.436933396, 'name': 'Luminy - Parc National des Calanques', 'timestamp': '2023-10-30T03:33:02.368000Z'}, {'empty_slots': None, 'extra': {'bike_autonomy': 1200, 'bike_state_of_charge': 23, 'distance': 1166, 'uid': 'ce4bht12rcd13ifvqi60'}, 'free_bikes': 4, 'id': '970674886f90434552d2119aef22eb82', 'latitude': 43.286038666099785, 'longitude': 5.370678521004038, 'name': \"Char Jeanne d'Arc - Notre Dame de La Garde\", 'timestamp': '2023-10-30T03:33:01.220000Z'}, {'empty_slots': None, 'extra': {'bike_autonomy': 0, 'bike_state_of_charge': 0, 'distance': 1247, 'uid': 'ce4bh692rcd13ifvqea0'}, 'free_bikes': 0, 'id': '24e8e2cc29ac40735ba3d2f5e0bc06c3', 'latitude': 43.29264247456925, 'longitude': 5.384253993651782, 'name': 'Cours Julien - Frères Barthelemy', 'timestamp': '2023-10-30T03:33:01.265000Z'}, {'empty_slots': None, 'extra': {'bike_autonomy': 0, 'bike_state_of_charge': 0, 'distance': 1522, 'uid': 'ce4bgg92rcd13ifvqb30'}, 'free_bikes': 0, 'id': 'dc21f54ed7e1d5025dff893bc62530a5', 'latitude': 43.30536406, 'longitude': 5.384119039, 'name': 'National - Guibal', 'timestamp': '2023-10-30T03:33:01.408000Z'}, {'empty_slots': None, 'extra': {'bike_autonomy': 8000, 'bike_state_of_charge': 40, 'distance': 1608, 'uid': 'ce4bhah2rcd13ifvqei0'}, 'free_bikes': 6, 'id': '65c4f0b4c81599b1c2412811c1307c13', 'latitude': 43.28453826179185, 'longitude': 5.358657022621628, 'name': 'Saint-Eugène', 'timestamp': '2023-10-30T03:33:01.437000Z'}, {'empty_slots': None, 'extra': {'bike_autonomy': 7600, 'bike_state_of_charge': 39, 'distance': 1963, 'uid': 'ce4bh292rcd13ifvqdf0'}, 'free_bikes': 3, 'id': '093f394a42f8f708ee4d938f7361f361', 'latitude': 43.295196228553976, 'longitude': 5.393969861741993, 'name': 'Chave - Goudard', 'timestamp': '2023-10-30T03:33:01.486000Z'}, {'empty_slots': None, 'extra': {'bike_autonomy': 0, 'bike_state_of_charge': 0, 'distance': 2110, 'uid': 'ce4bhf92rcd13ifvqf50'}, 'free_bikes': 0, 'id': '0b22c545caff574a87b374a9a6fbff98', 'latitude': 43.2790871519652, 'longitude': 5.380114290305642, 'name': 'Périer - Cremieux', 'timestamp': '2023-10-30T03:33:01.519000Z'}, {'empty_slots': None, 'extra': {'bike_autonomy': 0, 'bike_state_of_charge': 0, 'distance': 2350, 'uid': 'ce4bhg12rcd13ifvqf80'}, 'free_bikes': 0, 'id': '8dbc9e4a6e80d4cccc8576b9a12da472', 'latitude': 43.27974223, 'longitude': 5.387440377, 'name': 'Prado - Périer', 'timestamp': '2023-10-30T03:33:01.548000Z'}, {'empty_slots': None, 'extra': {'bike_autonomy': 0, 'bike_state_of_charge': 0, 'distance': 3466, 'uid': 'ce4bhg92rcd13ifvqf90'}, 'free_bikes': 0, 'id': 'db04068913ba650c7299035d5a804f6e', 'latitude': 43.2668101, 'longitude': 5.382693941, 'name': 'Prado - Gabes', 'timestamp': '2023-10-30T03:33:01.798000Z'}, {'empty_slots': None, 'extra': {'bike_autonomy': 1200, 'bike_state_of_charge': 23, 'distance': 3555, 'uid': 'ce4bhs92rcd13ifvqi0g'}, 'free_bikes': 7, 'id': '66cd1e8a626c8791a801fdd38ab0c221', 'latitude': 43.3283706355171, 'longitude': 5.366912086186176, 'name': 'Gèze', 'timestamp': '2023-10-30T03:33:01.799000Z'}, {'empty_slots': None, 'extra': {'bike_autonomy': 400, 'bike_state_of_charge': 21, 'distance': 3813, 'uid': 'ce4bhe12rcd13ifvqf30'}, 'free_bikes': 6, 'id': '85649ceb53a507a5ae3da3116eedf4c1', 'latitude': 43.265570946669925, 'longitude': 5.390032250158811, 'name': 'Mazargues - Huveaune', 'timestamp': '2023-10-30T03:33:01.813000Z'}, {'empty_slots': None, 'extra': {'bike_autonomy': 0, 'bike_state_of_charge': 0, 'distance': 4064, 'uid': 'ce4bhgh2rcd13ifvqfa0'}, 'free_bikes': 0, 'id': '936bdc75a245ae64f120ed99a7ff5f24', 'latitude': 43.260224964054686, 'longitude': 5.375454850246569, 'name': 'Mendès France Huveaune', 'timestamp': '2023-10-30T03:33:01.907000Z'}, {'empty_slots': None, 'extra': {'bike_autonomy': 5200, 'bike_state_of_charge': 33, 'distance': 4441, 'uid': 'ce4bhh92rcd13ifvqfj0'}, 'free_bikes': 2, 'id': '34727e7e58ec474b59b7063cd3bdddb3', 'latitude': 43.26069975, 'longitude': 5.393983394, 'name': '318 Mazargues', 'timestamp': '2023-10-30T03:33:02.013000Z'}, {'empty_slots': None, 'extra': {'bike_autonomy': 14000, 'bike_state_of_charge': 55, 'distance': 5407, 'uid': 'ce4bhgp2rcd13ifvqfd0'}, 'free_bikes': 3, 'id': '1b80fcb1f791fab893ba37ddcd819e72', 'latitude': 43.25002314043684, 'longitude': 5.389189832781312, 'name': 'Hambourg Rond Point Guerre', 'timestamp': '2023-10-30T03:33:02.281000Z'}, {'empty_slots': None, 'extra': {'bike_autonomy': 0, 'bike_state_of_charge': 0, 'distance': 5423, 'uid': 'ce4bhgh2rcd13ifvqfb0'}, 'free_bikes': 0, 'id': 'fcff6c5b82ace50a5dc66c8d6515e030', 'latitude': 43.2479001, 'longitude': 5.374457344, 'name': 'Vieille Chapelle', 'timestamp': '2023-10-30T03:33:02.301000Z'}, {'empty_slots': None, 'extra': {'bike_autonomy': 30000, 'bike_state_of_charge': 95, 'distance': 5782, 'uid': 'ce4bhg12rcd13ifvqf60'}, 'free_bikes': 5, 'id': '077070bc6c3effb73a39886b2782c6ca', 'latitude': 43.24646666954729, 'longitude': 5.388984457266133, 'name': 'Zenatti - Malrieu', 'timestamp': '2023-10-30T03:33:02.358000Z'}, {'empty_slots': None, 'extra': {'bike_autonomy': 20000, 'bike_state_of_charge': 70, 'distance': 3808, 'uid': 'ce4bhnp2rcd13ifvqh0g'}, 'free_bikes': 1, 'id': 'b2606de0242428c9b1996b12f6013b4d', 'latitude': 43.27946481, 'longitude': 5.410561214, 'name': 'Capelette - Forges', 'timestamp': '2023-10-30T03:33:01.812000Z'}, {'empty_slots': None, 'extra': {'bike_autonomy': 29600, 'bike_state_of_charge': 94, 'distance': 3117, 'uid': 'ce4bhr12rcd13ifvqhqg'}, 'free_bikes': 1, 'id': 'a05bfd1216843149dffcc5397fb6b612', 'latitude': 43.32287191, 'longitude': 5.382756282, 'name': 'Place Dalmas', 'timestamp': '2023-10-30T03:33:01.757000Z'}, {'empty_slots': None, 'extra': {'bike_autonomy': 31200, 'bike_state_of_charge': 98, 'distance': 3172, 'uid': 'ce4bhdp2rcd13ifvqf20'}, 'free_bikes': 2, 'id': '13f479d3441b1c509f7ea62c98704990', 'latitude': 43.27410312139213, 'longitude': 5.394016006213974, 'name': 'Rabateau - Hôpital Saint-Joseph', 'timestamp': '2023-10-30T03:33:01.779000Z'}, {'empty_slots': None, 'extra': {'bike_autonomy': 2800, 'bike_state_of_charge': 27, 'distance': 7608, 'uid': 'ce4bhn12rcd13ifvqgqg'}, 'free_bikes': 15, 'id': 'c9d475beb81452dbc43c655308dfbece', 'latitude': 43.23179293755999, 'longitude': 5.400044027608033, 'name': 'Sormiou', 'timestamp': '2023-10-30T03:33:02.366000Z'}, {'empty_slots': None, 'extra': {'bike_autonomy': 31200, 'bike_state_of_charge': 98, 'distance': 870, 'uid': 'ce4bhbh2rcd13ifvqeqg'}, 'free_bikes': 1, 'id': '5c681b122c27199052595cfd1837ea95', 'latitude': 43.2923113, 'longitude': 5.360730586, 'name': 'Livon - Vieux-Port', 'timestamp': '2023-10-30T03:33:01.134000Z'}, {'empty_slots': None, 'extra': {'bike_autonomy': 27600, 'bike_state_of_charge': 89, 'distance': 3976, 'uid': 'ce4bhq12rcd13ifvqhig'}, 'free_bikes': 1, 'id': '27929305220bb0c774b271bcb9ef9fd9', 'latitude': 43.31917923, 'longitude': 5.407725382, 'name': 'Perrin - Le Moulin', 'timestamp': '2023-10-30T03:33:01.861000Z'}, {'empty_slots': None, 'extra': {'bike_autonomy': 28000, 'bike_state_of_charge': 90, 'distance': 1384, 'uid': 'ce4bgv92rcd13ifvqcq0'}, 'free_bikes': 1, 'id': '3e4776bfb1e3eef1f688532d05e22274', 'latitude': 43.307945169999996, 'longitude': 5.376487141, 'name': 'Strasbourg - Leca', 'timestamp': '2023-10-30T03:33:01.368000Z'}, {'empty_slots': None, 'extra': {'bike_autonomy': 0, 'bike_state_of_charge': 0, 'distance': 3142, 'uid': 'ce4bh092rcd13ifvqd30'}, 'free_bikes': 0, 'id': '5a9aa9fcd6626c62ccf6b92c31d4ad30', 'latitude': 43.31260893, 'longitude': 5.401662431, 'name': 'Saint-Just - Labry', 'timestamp': '2023-10-30T03:33:01.777000Z'}, {'empty_slots': None, 'extra': {'bike_autonomy': 0, 'bike_state_of_charge': 0, 'distance': 4865, 'uid': 'ce4bhr92rcd13ifvqhsg'}, 'free_bikes': 0, 'id': 'c0a8170f19e0140a71f497570bbd609b', 'latitude': 43.3371680327555, 'longitude': 5.391824847426392, 'name': 'Peupliers - Berthelot', 'timestamp': '2023-10-30T03:33:02.121000Z'}, {'empty_slots': None, 'extra': {'bike_autonomy': 9600, 'bike_state_of_charge': 44, 'distance': 5919, 'uid': 'ce4bhqh2rcd13ifvqhlg'}, 'free_bikes': 4, 'id': '917f7be6b4e69f473703e6c11fb8439b', 'latitude': 43.34080437, 'longitude': 5.41021883, 'name': 'IUT Saint Jérôme', 'timestamp': '2023-10-30T03:33:02.361000Z'}, {'empty_slots': None, 'extra': {'bike_autonomy': 0, 'bike_state_of_charge': 0, 'distance': 394, 'uid': 'ce4bgr92rcd13ifvqc7g'}, 'free_bikes': 0, 'id': 'aae7647ef4505c3a2cbf40791b60ab29', 'latitude': 43.29972361, 'longitude': 5.371828908, 'name': 'Sadi-Carnot', 'timestamp': '2023-10-30T03:33:00.929000Z'}, {'empty_slots': None, 'extra': {'bike_autonomy': 10400, 'bike_state_of_charge': 46, 'distance': 5259, 'uid': 'ce4bhm92rcd13ifvqglg'}, 'free_bikes': 7, 'id': '50e6f6058b5e4ef50d8d4463c9000cf1', 'latitude': 43.25900934682247, 'longitude': 5.409290356125894, 'name': 'Hôpital Sainte-Marguerite', 'timestamp': '2023-10-30T03:33:02.221000Z'}, {'empty_slots': None, 'extra': {'bike_autonomy': 0, 'bike_state_of_charge': 0, 'distance': 2780, 'uid': 'ce4bh112rcd13ifvqd90'}, 'free_bikes': 0, 'id': 'd4f2896db476e2de85b5e2a9c1c767ff', 'latitude': 43.297946098534624, 'longitude': 5.404062681086202, 'name': 'Foch - Boisson', 'timestamp': '2023-10-30T03:33:01.638000Z'}, {'empty_slots': None, 'extra': {'bike_autonomy': 28800, 'bike_state_of_charge': 92, 'distance': 4014, 'uid': 'cjm6bp8fraef2m0cb0m0'}, 'free_bikes': 3, 'id': 'c59d3d8f957565e445ca29fc004b3cdc', 'latitude': 43.26949, 'longitude': 5.40262, 'name': 'Sainte Marguerite Schloesing', 'timestamp': '2023-10-30T03:33:01.877000Z'}, {'empty_slots': None, 'extra': {'bike_autonomy': 30800, 'bike_state_of_charge': 97, 'distance': 3883, 'uid': 'ce4bhgp2rcd13ifvqfc0'}, 'free_bikes': 1, 'id': 'ef67605d424a95b86ff5a30ead03b031', 'latitude': 43.26178214, 'longitude': 5.374514856, 'name': 'Promenade Pompidou David', 'timestamp': '2023-10-30T03:33:01.829000Z'}, {'empty_slots': None, 'extra': {'bike_autonomy': 29200, 'bike_state_of_charge': 93, 'distance': 3436, 'uid': 'ce4bhg12rcd13ifvqf70'}, 'free_bikes': 5, 'id': '277fd295f44c558878500297e691f2b8', 'latitude': 43.26571391, 'longitude': 5.372890521, 'name': 'Base Nautique Roucas Blanc', 'timestamp': '2023-10-30T03:33:01.793000Z'}, {'empty_slots': None, 'extra': {'bike_autonomy': 23600, 'bike_state_of_charge': 79, 'distance': 1260, 'uid': 'cki0cbj6b192h4jlfktg'}, 'free_bikes': 4, 'id': '29c1378d5304706151f792b23422b863', 'latitude': 43.28727, 'longitude': 5.36078, 'name': 'Tobelem - Crinias', 'timestamp': '2023-10-30T03:33:01.277000Z'}, {'empty_slots': None, 'extra': {'bike_autonomy': 3600, 'bike_state_of_charge': 29, 'distance': 4881, 'uid': 'ce4bhnh2rcd13ifvqgug'}, 'free_bikes': 7, 'id': 'f85a6dfbdd42e5004e4a977b2a6e3ed9', 'latitude': 43.28154806631724, 'longitude': 5.426429873252573, 'name': 'Boulevard Urbain Sud - Pont de Vivaux', 'timestamp': '2023-10-30T03:33:02.122000Z'}, {'empty_slots': None, 'extra': {'bike_autonomy': 13600, 'bike_state_of_charge': 54, 'distance': 1405, 'uid': 'ce4bh612rcd13ifvqe6g'}, 'free_bikes': 2, 'id': 'd6f0c539d3173cb339d34f6ae7d1133b', 'latitude': 43.2893069, 'longitude': 5.38406028, 'name': 'Lieutaud - Berlioz', 'timestamp': '2023-10-30T03:33:01.389000Z'}, {'empty_slots': None, 'extra': {'bike_autonomy': 20000, 'bike_state_of_charge': 70, 'distance': 924, 'uid': 'ce4bhc92rcd13ifvqetg'}, 'free_bikes': 3, 'id': '4469719e6215c7a56bd95004f6cb6d7b', 'latitude': 43.28946766, 'longitude': 5.363719459, 'name': 'Corse - Saint Maurice', 'timestamp': '2023-10-30T03:33:01.177000Z'}, {'empty_slots': None, 'extra': {'bike_autonomy': 9200, 'bike_state_of_charge': 43, 'distance': 5457, 'uid': 'ce4bhph2rcd13ifvqheg'}, 'free_bikes': 3, 'id': 'd544cd5d73d3fbec7297fea07a529e38', 'latitude': 43.30805059284097, 'longitude': 5.43527038728962, 'name': 'Beaumont', 'timestamp': '2023-10-30T03:33:02.321000Z'}, {'empty_slots': None, 'extra': {'bike_autonomy': 0, 'bike_state_of_charge': 0, 'distance': 3068, 'uid': 'ce4bho92rcd13ifvqh4g'}, 'free_bikes': 0, 'id': '5ea630c5438d2fbea0ef055410f0b715', 'latitude': 43.27995154116266, 'longitude': 5.400084718244955, 'name': 'Palais Omnisports', 'timestamp': '2023-10-30T03:33:01.737000Z'}]\n"
     ]
    }
   ],
   "source": [
    "print(df_city_bikes_marseille[\"network\"][\"stations\"])"
   ]
  },
  {
   "cell_type": "code",
   "execution_count": 9,
   "metadata": {},
   "outputs": [
    {
     "name": "stdout",
     "output_type": "stream",
     "text": [
      "Cours Jean Ballard\n",
      "Allées Gambetta\n",
      "Réformés Canebière\n",
      "Coutellerie\n",
      "Canebiere - Beauvau\n",
      "Colbert Ste Barbe\n",
      "Centre Bourse\n",
      "Saint-Ferréol - Davso\n",
      "Flammarion - Isoard\n",
      "Longchamp - Grobet\n",
      "Vallon de l’Oriol\n",
      "Grand Rue\n",
      "Quai du Port\n",
      "Place de Lenche\n",
      "Place aux huiles\n",
      "Canebiere Reine Elisabeth\n",
      "La Major\n",
      "MUCEM\n",
      "Sainte - Lulli\n",
      "Académie - Capucins\n",
      "Canebière - Dugommier\n",
      "Paris - Forbin\n",
      "Sibie - Curiol\n",
      "Euromediterrannee Gantes\n",
      "Arenc - Chanterac\n",
      "Tour La Marseillaise\n",
      "Schuman - Leca\n",
      "Ferry-Nédelec\n",
      "Joliette - Dunkerque\n",
      "Les Docks - Terrasses du Port\n",
      "Saint Charles - Faculté\n",
      "Hôpital Européen\n",
      "National - Hoche\n",
      "National Métro\n",
      "Place Cadenat\n",
      "Friche Belle de Mai\n",
      "Cinq Avenue Longchamp\n",
      "Chute Lavie Dahdah\n",
      "Blancarde - Duparc\n",
      "Chutes Lavie - Guigou\n",
      "Eglise des Chartreux\n",
      "Saint-Just - Le Dôme\n",
      "Hôtel de ville\n",
      "Canebière Saint-Ferreol\n",
      "Jules Guesde\n",
      "Notre-Dame - Dragon\n",
      "Plaine - Saint-Pierre\n",
      "Notre-Dame - Vauban\n",
      "Tivoli - Roosevelt\n",
      "National - Belle de Mai\n",
      "Baille - Friedland\n",
      "Liberation - Isoard\n",
      "Saint-Pierre - Hugueny\n",
      "Rouet\n",
      "Libération - Chape - Espérandieu\n",
      "Flammarion- Montricher\n",
      "Place Sébastopol\n",
      "Toulon - Menpenti\n",
      "Place Placide Caffo\n",
      "Briffaut Camas\n",
      "Belle vue\n",
      "Baille - Hôpital Conception\n",
      "Pierre Roux\n",
      "Auphan - Vaillant\n",
      "Foch - Fayolle\n",
      "Chave - Sakakini\n",
      "Jean Moulin - Hôpital La Timone\n",
      "Sakakini - Saint-Pierre\n",
      "Jean Moulin - Sainte Baume\n",
      "Duparc - Brossolette\n",
      "Bon Secours - Huilerie\n",
      "Reboul - Argile\n",
      "Sainte-Marthe - Glacière\n",
      "Blancarde - Gare SNCF\n",
      "Place Pol Lapeyre\n",
      "Sainte-Marthe - Moretti\n",
      "Saint-Barnabé - Haguenau\n",
      "Place Caire\n",
      "Pierre Paraf\n",
      "Augustin Aubert\n",
      "Parc Corot\n",
      "Pont de Vivaux\n",
      "La Boiseraie\n",
      "Malpassé Métro\n",
      "La Fourragère\n",
      "Saint-Paul - Malpassé\n",
      "Bois Luzy\n",
      "Lavéran - Diderot\n",
      "Montolivet\n",
      "Saint-Jean du Désert\n",
      "Faculté - Saint-Jerôme\n",
      "Stade Bombardière\n",
      "La Criée\n",
      "Sainte - Notre-Dame\n",
      "Place de la Corderie\n",
      "République Joliette\n",
      "Pierre Puget - Breteuil\n",
      "Endoume - Corderie\n",
      "Estrangin\n",
      "Pasteur\n",
      "Livon - Pasteur\n",
      "Rome - Salvator\n",
      "Rome Sylvabelle\n",
      "Vallon Jourdan\n",
      "Place du 4 Septembre\n",
      "Paradis - Vignerons\n",
      "Plage des Catalans\n",
      "Chave Eugene Pierre\n",
      "Paradis - Escat\n",
      "Castellane\n",
      "Place du Terrail\n",
      "Vallon Montebello\n",
      "Camas - Jaubert\n",
      "Vallon des Auffes\n",
      "Baille - Vertus\n",
      "Corniche - Malmousque\n",
      "Corniche - Endoume\n",
      "Paradis - Lord Duveen\n",
      "Plage du Prophète\n",
      "Prado - Lord Duveen\n",
      "Liandier - Rouet\n",
      "Prado - Paradis\n",
      "Negresko - Paulet\n",
      "Louis Armand\n",
      "Huveaune - Curtel\n",
      "Huveaune - Borely\n",
      "Rolland - Platanes\n",
      "Clot Bey - Leau\n",
      "Escale Borély\n",
      "Mazargues - Saint Anne\n",
      "Boulevard Urbain Sud - Verdillon\n",
      "Boulevard urbain sud - François Mauriac\n",
      "Mazargues - Almeras\n",
      "Lapin Blanc\n",
      "Plage de la Pointe Rouge\n",
      "Lancier - Savary\n",
      "Corail - Marseilleveyre\n",
      "Parc Pastré\n",
      "Roy d'Espagne - Floralia\n",
      "Madrague de Montredon\n",
      "Luminy - Parc National des Calanques\n",
      "Char Jeanne d'Arc - Notre Dame de La Garde\n",
      "Cours Julien - Frères Barthelemy\n",
      "National - Guibal\n",
      "Saint-Eugène\n",
      "Chave - Goudard\n",
      "Périer - Cremieux\n",
      "Prado - Périer\n",
      "Prado - Gabes\n",
      "Gèze\n",
      "Mazargues - Huveaune\n",
      "Mendès France Huveaune\n",
      "318 Mazargues\n",
      "Hambourg Rond Point Guerre\n",
      "Vieille Chapelle\n",
      "Zenatti - Malrieu\n",
      "Capelette - Forges\n",
      "Place Dalmas\n",
      "Rabateau - Hôpital Saint-Joseph\n",
      "Sormiou\n",
      "Livon - Vieux-Port\n",
      "Perrin - Le Moulin\n",
      "Strasbourg - Leca\n",
      "Saint-Just - Labry\n",
      "Peupliers - Berthelot\n",
      "IUT Saint Jérôme\n",
      "Sadi-Carnot\n",
      "Hôpital Sainte-Marguerite\n",
      "Foch - Boisson\n",
      "Sainte Marguerite Schloesing\n",
      "Promenade Pompidou David\n",
      "Base Nautique Roucas Blanc\n",
      "Tobelem - Crinias\n",
      "Boulevard Urbain Sud - Pont de Vivaux\n",
      "Lieutaud - Berlioz\n",
      "Corse - Saint Maurice\n",
      "Beaumont\n",
      "Palais Omnisports\n"
     ]
    }
   ],
   "source": [
    "stations_archive = df_city_bikes_marseille[\"network\"][\"stations\"]\n",
    "\n",
    "for stations in stations_archive:\n",
    "    print(stations[\"name\"])"
   ]
  },
  {
   "cell_type": "code",
   "execution_count": 10,
   "metadata": {},
   "outputs": [
    {
     "data": {
      "text/plain": [
       "178"
      ]
     },
     "execution_count": 10,
     "metadata": {},
     "output_type": "execute_result"
    }
   ],
   "source": [
    "len(stations_archive)"
   ]
  },
  {
   "cell_type": "code",
   "execution_count": 14,
   "metadata": {},
   "outputs": [],
   "source": [
    "def array_of_parsed_stations():\n",
    "    array_of_stations_data = []\n",
    "    for stations in stations_archive:\n",
    "        name = stations[\"name\"]\n",
    "        address = stations[\"address\"]\n",
    "        latitude = stations[\"latitude\"]\n",
    "        longitude = stations[\"longitude\"]\n",
    "        empty_slots = stations[\"empty_slots\"]\n",
    "        Available_bikes = stations[\"free_bikes\"]\n",
    "        parsed_array_of_station_archive = {\"name\": name, \"address\": address, \"Latitude\": latitude, \"Longitude\": longitude, \"Empty Slots\": empty_slots, \"free_bikes\": Available_bikes}\n",
    "        array_of_stations_data.append(parsed_array_of_station_archive)\n",
    "    return array_of_stations_data"
   ]
  },
  {
   "cell_type": "markdown",
   "metadata": {},
   "source": [
    "Put your parsed results into a DataFrame."
   ]
  },
  {
   "cell_type": "code",
   "execution_count": 16,
   "metadata": {},
   "outputs": [
    {
     "data": {
      "text/html": [
       "<div>\n",
       "<style scoped>\n",
       "    .dataframe tbody tr th:only-of-type {\n",
       "        vertical-align: middle;\n",
       "    }\n",
       "\n",
       "    .dataframe tbody tr th {\n",
       "        vertical-align: top;\n",
       "    }\n",
       "\n",
       "    .dataframe thead th {\n",
       "        text-align: right;\n",
       "    }\n",
       "</style>\n",
       "<table border=\"1\" class=\"dataframe\">\n",
       "  <thead>\n",
       "    <tr style=\"text-align: right;\">\n",
       "      <th></th>\n",
       "      <th>name</th>\n",
       "      <th>Latitude</th>\n",
       "      <th>Longitude</th>\n",
       "      <th>Empty Slots</th>\n",
       "      <th>free_bikes</th>\n",
       "      <th>timestamp</th>\n",
       "    </tr>\n",
       "  </thead>\n",
       "  <tbody>\n",
       "    <tr>\n",
       "      <th>0</th>\n",
       "      <td>Cours Jean Ballard</td>\n",
       "      <td>43.293009</td>\n",
       "      <td>5.374584</td>\n",
       "      <td>None</td>\n",
       "      <td>0</td>\n",
       "      <td>2023-10-30T03:33:01.001000Z</td>\n",
       "    </tr>\n",
       "    <tr>\n",
       "      <th>1</th>\n",
       "      <td>Allées Gambetta</td>\n",
       "      <td>43.299028</td>\n",
       "      <td>5.381509</td>\n",
       "      <td>None</td>\n",
       "      <td>0</td>\n",
       "      <td>2023-10-30T03:33:01.196000Z</td>\n",
       "    </tr>\n",
       "    <tr>\n",
       "      <th>2</th>\n",
       "      <td>Réformés Canebière</td>\n",
       "      <td>43.299717</td>\n",
       "      <td>5.384845</td>\n",
       "      <td>None</td>\n",
       "      <td>0</td>\n",
       "      <td>2023-10-30T03:33:01.296000Z</td>\n",
       "    </tr>\n",
       "    <tr>\n",
       "      <th>3</th>\n",
       "      <td>Coutellerie</td>\n",
       "      <td>43.296800</td>\n",
       "      <td>5.372910</td>\n",
       "      <td>None</td>\n",
       "      <td>0</td>\n",
       "      <td>2023-10-30T03:33:00.905000Z</td>\n",
       "    </tr>\n",
       "    <tr>\n",
       "      <th>4</th>\n",
       "      <td>Canebiere - Beauvau</td>\n",
       "      <td>43.295279</td>\n",
       "      <td>5.375048</td>\n",
       "      <td>None</td>\n",
       "      <td>0</td>\n",
       "      <td>2023-10-30T03:33:00.941000Z</td>\n",
       "    </tr>\n",
       "    <tr>\n",
       "      <th>...</th>\n",
       "      <td>...</td>\n",
       "      <td>...</td>\n",
       "      <td>...</td>\n",
       "      <td>...</td>\n",
       "      <td>...</td>\n",
       "      <td>...</td>\n",
       "    </tr>\n",
       "    <tr>\n",
       "      <th>173</th>\n",
       "      <td>Boulevard Urbain Sud - Pont de Vivaux</td>\n",
       "      <td>43.281548</td>\n",
       "      <td>5.426430</td>\n",
       "      <td>None</td>\n",
       "      <td>7</td>\n",
       "      <td>2023-10-30T03:33:02.122000Z</td>\n",
       "    </tr>\n",
       "    <tr>\n",
       "      <th>174</th>\n",
       "      <td>Lieutaud - Berlioz</td>\n",
       "      <td>43.289307</td>\n",
       "      <td>5.384060</td>\n",
       "      <td>None</td>\n",
       "      <td>2</td>\n",
       "      <td>2023-10-30T03:33:01.389000Z</td>\n",
       "    </tr>\n",
       "    <tr>\n",
       "      <th>175</th>\n",
       "      <td>Corse - Saint Maurice</td>\n",
       "      <td>43.289468</td>\n",
       "      <td>5.363719</td>\n",
       "      <td>None</td>\n",
       "      <td>3</td>\n",
       "      <td>2023-10-30T03:33:01.177000Z</td>\n",
       "    </tr>\n",
       "    <tr>\n",
       "      <th>176</th>\n",
       "      <td>Beaumont</td>\n",
       "      <td>43.308051</td>\n",
       "      <td>5.435270</td>\n",
       "      <td>None</td>\n",
       "      <td>3</td>\n",
       "      <td>2023-10-30T03:33:02.321000Z</td>\n",
       "    </tr>\n",
       "    <tr>\n",
       "      <th>177</th>\n",
       "      <td>Palais Omnisports</td>\n",
       "      <td>43.279952</td>\n",
       "      <td>5.400085</td>\n",
       "      <td>None</td>\n",
       "      <td>0</td>\n",
       "      <td>2023-10-30T03:33:01.737000Z</td>\n",
       "    </tr>\n",
       "  </tbody>\n",
       "</table>\n",
       "<p>178 rows × 6 columns</p>\n",
       "</div>"
      ],
      "text/plain": [
       "                                      name   Latitude  Longitude Empty Slots  \\\n",
       "0                       Cours Jean Ballard  43.293009   5.374584        None   \n",
       "1                          Allées Gambetta  43.299028   5.381509        None   \n",
       "2                       Réformés Canebière  43.299717   5.384845        None   \n",
       "3                              Coutellerie  43.296800   5.372910        None   \n",
       "4                      Canebiere - Beauvau  43.295279   5.375048        None   \n",
       "..                                     ...        ...        ...         ...   \n",
       "173  Boulevard Urbain Sud - Pont de Vivaux  43.281548   5.426430        None   \n",
       "174                     Lieutaud - Berlioz  43.289307   5.384060        None   \n",
       "175                  Corse - Saint Maurice  43.289468   5.363719        None   \n",
       "176                               Beaumont  43.308051   5.435270        None   \n",
       "177                      Palais Omnisports  43.279952   5.400085        None   \n",
       "\n",
       "     free_bikes                    timestamp  \n",
       "0             0  2023-10-30T03:33:01.001000Z  \n",
       "1             0  2023-10-30T03:33:01.196000Z  \n",
       "2             0  2023-10-30T03:33:01.296000Z  \n",
       "3             0  2023-10-30T03:33:00.905000Z  \n",
       "4             0  2023-10-30T03:33:00.941000Z  \n",
       "..          ...                          ...  \n",
       "173           7  2023-10-30T03:33:02.122000Z  \n",
       "174           2  2023-10-30T03:33:01.389000Z  \n",
       "175           3  2023-10-30T03:33:01.177000Z  \n",
       "176           3  2023-10-30T03:33:02.321000Z  \n",
       "177           0  2023-10-30T03:33:01.737000Z  \n",
       "\n",
       "[178 rows x 6 columns]"
      ]
     },
     "execution_count": 16,
     "metadata": {},
     "output_type": "execute_result"
    }
   ],
   "source": [
    "def final_array_of_parsed_stations ():\n",
    "    array_of_stations = []\n",
    "    for stations in stations_archive:\n",
    "        name = stations[\"name\"]\n",
    "        latitude = stations[\"latitude\"]\n",
    "        longitude = stations[\"longitude\"]\n",
    "        empty_slots = stations[\"empty_slots\"]\n",
    "        Available_bikes = stations[\"free_bikes\"]\n",
    "        timestamp = stations[\"timestamp\"]\n",
    "        parsed_array_of_stations = {\"name\": name, \"Latitude\": latitude, \"Longitude\": longitude, \"Empty Slots\": empty_slots, \"free_bikes\": Available_bikes, \"timestamp\": timestamp}\n",
    "        array_of_stations.append(parsed_array_of_stations)\n",
    "    return array_of_stations\n",
    "\n",
    "df_array_of_stations = pd.DataFrame(final_array_of_parsed_stations())\n",
    "\n",
    "df_array_of_stations\n"
   ]
  },
  {
   "cell_type": "code",
   "execution_count": 17,
   "metadata": {},
   "outputs": [],
   "source": [
    "df_array_of_stations.to_csv(\"df_marseille_stations.csv\", index=True)"
   ]
  }
 ],
 "metadata": {
  "kernelspec": {
   "display_name": "Python 3",
   "language": "python",
   "name": "python3"
  },
  "language_info": {
   "codemirror_mode": {
    "name": "ipython",
    "version": 3
   },
   "file_extension": ".py",
   "mimetype": "text/x-python",
   "name": "python",
   "nbconvert_exporter": "python",
   "pygments_lexer": "ipython3",
   "version": "3.11.5"
  }
 },
 "nbformat": 4,
 "nbformat_minor": 4
}
