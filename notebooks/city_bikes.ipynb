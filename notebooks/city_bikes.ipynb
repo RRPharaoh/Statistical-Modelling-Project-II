{
 "cells": [
  {
   "cell_type": "markdown",
   "metadata": {},
   "source": [
    "# CityBikes"
   ]
  },
  {
   "cell_type": "markdown",
   "metadata": {},
   "source": [
    "Send a request to CityBikes for the city of your choice. "
   ]
  },
  {
   "cell_type": "code",
   "execution_count": 1,
   "metadata": {},
   "outputs": [],
   "source": [
    "#Library import\n",
    "import requests\n",
    "from IPython.display import JSON \n",
    "import pandas as pd\n",
    "import numpy as np\n"
   ]
  },
  {
   "cell_type": "code",
   "execution_count": 2,
   "metadata": {},
   "outputs": [],
   "source": [
    "#using Citybik API to request data from the city of Marsaille \n",
    "city_bikes_marseille = requests.get(\"http://api.citybik.es/v2/networks/le-velo\").json()\n",
    "#JSON(city_bikes_marseille)"
   ]
  },
  {
   "cell_type": "markdown",
   "metadata": {},
   "source": [
    "Parse through the response to get the details you want for the bike stations in that city (latitude, longitude, number of bikes). "
   ]
  },
  {
   "cell_type": "code",
   "execution_count": 3,
   "metadata": {},
   "outputs": [],
   "source": [
    "\n",
    "df_city_bikes_marseille = pd.read_json(\"http://api.citybik.es/v2/networks/le-velo\")\n"
   ]
  },
  {
   "cell_type": "code",
   "execution_count": 6,
   "metadata": {},
   "outputs": [
    {
     "data": {
      "text/plain": [
       "Index(['network'], dtype='object')"
      ]
     },
     "execution_count": 6,
     "metadata": {},
     "output_type": "execute_result"
    }
   ],
   "source": [
    "df_city_bikes_marseille.columns"
   ]
  },
  {
   "cell_type": "code",
   "execution_count": 4,
   "metadata": {},
   "outputs": [
    {
     "data": {
      "text/html": [
       "<div>\n",
       "<style scoped>\n",
       "    .dataframe tbody tr th:only-of-type {\n",
       "        vertical-align: middle;\n",
       "    }\n",
       "\n",
       "    .dataframe tbody tr th {\n",
       "        vertical-align: top;\n",
       "    }\n",
       "\n",
       "    .dataframe thead th {\n",
       "        text-align: right;\n",
       "    }\n",
       "</style>\n",
       "<table border=\"1\" class=\"dataframe\">\n",
       "  <thead>\n",
       "    <tr style=\"text-align: right;\">\n",
       "      <th></th>\n",
       "      <th>network</th>\n",
       "    </tr>\n",
       "  </thead>\n",
       "  <tbody>\n",
       "    <tr>\n",
       "      <th>company</th>\n",
       "      <td>[LeVélo AMP Métropole, Ville de Marseille, Fif...</td>\n",
       "    </tr>\n",
       "    <tr>\n",
       "      <th>href</th>\n",
       "      <td>/v2/networks/le-velo</td>\n",
       "    </tr>\n",
       "    <tr>\n",
       "      <th>id</th>\n",
       "      <td>le-velo</td>\n",
       "    </tr>\n",
       "    <tr>\n",
       "      <th>location</th>\n",
       "      <td>{'city': 'Marseille', 'country': 'FR', 'latitu...</td>\n",
       "    </tr>\n",
       "    <tr>\n",
       "      <th>name</th>\n",
       "      <td>LeVélo</td>\n",
       "    </tr>\n",
       "  </tbody>\n",
       "</table>\n",
       "</div>"
      ],
      "text/plain": [
       "                                                    network\n",
       "company   [LeVélo AMP Métropole, Ville de Marseille, Fif...\n",
       "href                                   /v2/networks/le-velo\n",
       "id                                                  le-velo\n",
       "location  {'city': 'Marseille', 'country': 'FR', 'latitu...\n",
       "name                                                 LeVélo"
      ]
     },
     "execution_count": 4,
     "metadata": {},
     "output_type": "execute_result"
    }
   ],
   "source": [
    "df_city_bikes_marseille.head()"
   ]
  },
  {
   "cell_type": "code",
   "execution_count": 7,
   "metadata": {},
   "outputs": [],
   "source": [
    "stations_archive = df_city_bikes_marseille[\"network\"][\"stations\"]\n"
   ]
  },
  {
   "cell_type": "code",
   "execution_count": 8,
   "metadata": {},
   "outputs": [
    {
     "data": {
      "text/plain": [
       "186"
      ]
     },
     "execution_count": 8,
     "metadata": {},
     "output_type": "execute_result"
    }
   ],
   "source": [
    "len(stations_archive)"
   ]
  },
  {
   "cell_type": "markdown",
   "metadata": {},
   "source": [
    "*Here I organize the data by structuring and putting into dataframe*"
   ]
  },
  {
   "cell_type": "code",
   "execution_count": 9,
   "metadata": {},
   "outputs": [],
   "source": [
    "def array_of_parsed_stations():\n",
    "    array_of_stations_data = []\n",
    "    for stations in stations_archive:\n",
    "        name = stations[\"name\"]\n",
    "        address = stations[\"address\"]\n",
    "        latitude = stations[\"latitude\"]\n",
    "        longitude = stations[\"longitude\"]\n",
    "        empty_slots = stations[\"empty_slots\"]\n",
    "        Available_bikes = stations[\"free_bikes\"]\n",
    "        parsed_array_of_station_archive = {\"name\": name, \"address\": address, \"Latitude\": latitude, \"Longitude\": longitude, \"Empty Slots\": empty_slots, \"free_bikes\": Available_bikes}\n",
    "        array_of_stations_data.append(parsed_array_of_station_archive)\n",
    "    return array_of_stations_data"
   ]
  },
  {
   "cell_type": "markdown",
   "metadata": {},
   "source": [
    "Put your parsed results into a DataFrame."
   ]
  },
  {
   "cell_type": "code",
   "execution_count": 15,
   "metadata": {},
   "outputs": [
    {
     "data": {
      "text/html": [
       "<div>\n",
       "<style scoped>\n",
       "    .dataframe tbody tr th:only-of-type {\n",
       "        vertical-align: middle;\n",
       "    }\n",
       "\n",
       "    .dataframe tbody tr th {\n",
       "        vertical-align: top;\n",
       "    }\n",
       "\n",
       "    .dataframe thead th {\n",
       "        text-align: right;\n",
       "    }\n",
       "</style>\n",
       "<table border=\"1\" class=\"dataframe\">\n",
       "  <thead>\n",
       "    <tr style=\"text-align: right;\">\n",
       "      <th></th>\n",
       "      <th>name</th>\n",
       "      <th>Latitude</th>\n",
       "      <th>Longitude</th>\n",
       "      <th>Empty Slots</th>\n",
       "      <th>free_bikes</th>\n",
       "      <th>timestamp</th>\n",
       "    </tr>\n",
       "  </thead>\n",
       "  <tbody>\n",
       "    <tr>\n",
       "      <th>0</th>\n",
       "      <td>Cours Jean Ballard</td>\n",
       "      <td>43.293009</td>\n",
       "      <td>5.374584</td>\n",
       "      <td>None</td>\n",
       "      <td>0</td>\n",
       "      <td>2023-11-07T13:15:27.389000Z</td>\n",
       "    </tr>\n",
       "    <tr>\n",
       "      <th>1</th>\n",
       "      <td>Allées Gambetta</td>\n",
       "      <td>43.299028</td>\n",
       "      <td>5.381509</td>\n",
       "      <td>None</td>\n",
       "      <td>0</td>\n",
       "      <td>2023-11-07T13:15:27.454000Z</td>\n",
       "    </tr>\n",
       "    <tr>\n",
       "      <th>2</th>\n",
       "      <td>Réformés Canebière</td>\n",
       "      <td>43.299717</td>\n",
       "      <td>5.384845</td>\n",
       "      <td>None</td>\n",
       "      <td>2</td>\n",
       "      <td>2023-11-07T13:15:27.478000Z</td>\n",
       "    </tr>\n",
       "    <tr>\n",
       "      <th>3</th>\n",
       "      <td>Coutellerie</td>\n",
       "      <td>43.296800</td>\n",
       "      <td>5.372910</td>\n",
       "      <td>None</td>\n",
       "      <td>1</td>\n",
       "      <td>2023-11-07T13:15:27.355000Z</td>\n",
       "    </tr>\n",
       "    <tr>\n",
       "      <th>4</th>\n",
       "      <td>Canebiere - Beauvau</td>\n",
       "      <td>43.295279</td>\n",
       "      <td>5.375048</td>\n",
       "      <td>None</td>\n",
       "      <td>0</td>\n",
       "      <td>2023-11-07T13:15:27.372000Z</td>\n",
       "    </tr>\n",
       "  </tbody>\n",
       "</table>\n",
       "</div>"
      ],
      "text/plain": [
       "                  name   Latitude  Longitude Empty Slots  free_bikes  \\\n",
       "0   Cours Jean Ballard  43.293009   5.374584        None           0   \n",
       "1      Allées Gambetta  43.299028   5.381509        None           0   \n",
       "2   Réformés Canebière  43.299717   5.384845        None           2   \n",
       "3          Coutellerie  43.296800   5.372910        None           1   \n",
       "4  Canebiere - Beauvau  43.295279   5.375048        None           0   \n",
       "\n",
       "                     timestamp  \n",
       "0  2023-11-07T13:15:27.389000Z  \n",
       "1  2023-11-07T13:15:27.454000Z  \n",
       "2  2023-11-07T13:15:27.478000Z  \n",
       "3  2023-11-07T13:15:27.355000Z  \n",
       "4  2023-11-07T13:15:27.372000Z  "
      ]
     },
     "execution_count": 15,
     "metadata": {},
     "output_type": "execute_result"
    }
   ],
   "source": [
    "def final_array_of_parsed_stations ():\n",
    "    array_of_stations = []\n",
    "    for stations in stations_archive:\n",
    "        name = stations[\"name\"]\n",
    "        latitude = stations[\"latitude\"]\n",
    "        longitude = stations[\"longitude\"]\n",
    "        empty_slots = stations[\"empty_slots\"]\n",
    "        Available_bikes = stations[\"free_bikes\"]\n",
    "        timestamp = stations[\"timestamp\"]\n",
    "        parsed_array_of_stations = {\"name\": name, \"Latitude\": latitude, \"Longitude\": longitude, \"Empty Slots\": empty_slots, \"free_bikes\": Available_bikes, \"timestamp\": timestamp}\n",
    "        array_of_stations.append(parsed_array_of_stations)\n",
    "    return array_of_stations\n",
    "\n",
    "df_array_of_stations = pd.DataFrame(final_array_of_parsed_stations())\n",
    "\n",
    "df_array_of_stations[:5]\n"
   ]
  },
  {
   "cell_type": "code",
   "execution_count": 16,
   "metadata": {},
   "outputs": [],
   "source": [
    "#Timestamp is not a useful metric for our analysis, so it will be dropped\n",
    "df_array_of_stations = df_array_of_stations.drop(columns=[\"timestamp\"])"
   ]
  },
  {
   "cell_type": "code",
   "execution_count": 17,
   "metadata": {},
   "outputs": [
    {
     "data": {
      "text/html": [
       "<div>\n",
       "<style scoped>\n",
       "    .dataframe tbody tr th:only-of-type {\n",
       "        vertical-align: middle;\n",
       "    }\n",
       "\n",
       "    .dataframe tbody tr th {\n",
       "        vertical-align: top;\n",
       "    }\n",
       "\n",
       "    .dataframe thead th {\n",
       "        text-align: right;\n",
       "    }\n",
       "</style>\n",
       "<table border=\"1\" class=\"dataframe\">\n",
       "  <thead>\n",
       "    <tr style=\"text-align: right;\">\n",
       "      <th></th>\n",
       "      <th>name</th>\n",
       "      <th>Latitude</th>\n",
       "      <th>Longitude</th>\n",
       "      <th>Empty Slots</th>\n",
       "      <th>free_bikes</th>\n",
       "    </tr>\n",
       "  </thead>\n",
       "  <tbody>\n",
       "    <tr>\n",
       "      <th>0</th>\n",
       "      <td>Cours Jean Ballard</td>\n",
       "      <td>43.293009</td>\n",
       "      <td>5.374584</td>\n",
       "      <td>None</td>\n",
       "      <td>0</td>\n",
       "    </tr>\n",
       "    <tr>\n",
       "      <th>1</th>\n",
       "      <td>Allées Gambetta</td>\n",
       "      <td>43.299028</td>\n",
       "      <td>5.381509</td>\n",
       "      <td>None</td>\n",
       "      <td>0</td>\n",
       "    </tr>\n",
       "    <tr>\n",
       "      <th>2</th>\n",
       "      <td>Réformés Canebière</td>\n",
       "      <td>43.299717</td>\n",
       "      <td>5.384845</td>\n",
       "      <td>None</td>\n",
       "      <td>2</td>\n",
       "    </tr>\n",
       "    <tr>\n",
       "      <th>3</th>\n",
       "      <td>Coutellerie</td>\n",
       "      <td>43.296800</td>\n",
       "      <td>5.372910</td>\n",
       "      <td>None</td>\n",
       "      <td>1</td>\n",
       "    </tr>\n",
       "    <tr>\n",
       "      <th>4</th>\n",
       "      <td>Canebiere - Beauvau</td>\n",
       "      <td>43.295279</td>\n",
       "      <td>5.375048</td>\n",
       "      <td>None</td>\n",
       "      <td>0</td>\n",
       "    </tr>\n",
       "  </tbody>\n",
       "</table>\n",
       "</div>"
      ],
      "text/plain": [
       "                  name   Latitude  Longitude Empty Slots  free_bikes\n",
       "0   Cours Jean Ballard  43.293009   5.374584        None           0\n",
       "1      Allées Gambetta  43.299028   5.381509        None           0\n",
       "2   Réformés Canebière  43.299717   5.384845        None           2\n",
       "3          Coutellerie  43.296800   5.372910        None           1\n",
       "4  Canebiere - Beauvau  43.295279   5.375048        None           0"
      ]
     },
     "execution_count": 17,
     "metadata": {},
     "output_type": "execute_result"
    }
   ],
   "source": [
    "df_array_of_stations[:5]"
   ]
  },
  {
   "cell_type": "code",
   "execution_count": 21,
   "metadata": {},
   "outputs": [
    {
     "data": {
      "text/html": [
       "<div>\n",
       "<style scoped>\n",
       "    .dataframe tbody tr th:only-of-type {\n",
       "        vertical-align: middle;\n",
       "    }\n",
       "\n",
       "    .dataframe tbody tr th {\n",
       "        vertical-align: top;\n",
       "    }\n",
       "\n",
       "    .dataframe thead th {\n",
       "        text-align: right;\n",
       "    }\n",
       "</style>\n",
       "<table border=\"1\" class=\"dataframe\">\n",
       "  <thead>\n",
       "    <tr style=\"text-align: right;\">\n",
       "      <th></th>\n",
       "      <th>name</th>\n",
       "      <th>Latitude</th>\n",
       "      <th>Longitude</th>\n",
       "      <th>Empty Slots</th>\n",
       "      <th>free_bikes</th>\n",
       "    </tr>\n",
       "  </thead>\n",
       "  <tbody>\n",
       "  </tbody>\n",
       "</table>\n",
       "</div>"
      ],
      "text/plain": [
       "Empty DataFrame\n",
       "Columns: [name, Latitude, Longitude, Empty Slots, free_bikes]\n",
       "Index: []"
      ]
     },
     "execution_count": 21,
     "metadata": {},
     "output_type": "execute_result"
    }
   ],
   "source": [
    "df_array_of_stations.loc[df_array_of_stations.duplicated(subset=[\"name\"])]"
   ]
  },
  {
   "cell_type": "code",
   "execution_count": 23,
   "metadata": {},
   "outputs": [
    {
     "data": {
      "text/plain": [
       "name             0\n",
       "Latitude         0\n",
       "Longitude        0\n",
       "Empty Slots    186\n",
       "free_bikes       0\n",
       "dtype: int64"
      ]
     },
     "execution_count": 23,
     "metadata": {},
     "output_type": "execute_result"
    }
   ],
   "source": [
    "#Cheching for null values\n",
    "df_array_of_stations.isna().sum()"
   ]
  },
  {
   "cell_type": "code",
   "execution_count": 24,
   "metadata": {},
   "outputs": [
    {
     "data": {
      "text/plain": [
       "186"
      ]
     },
     "execution_count": 24,
     "metadata": {},
     "output_type": "execute_result"
    }
   ],
   "source": [
    "len(df_array_of_stations)"
   ]
  },
  {
   "cell_type": "code",
   "execution_count": 25,
   "metadata": {},
   "outputs": [],
   "source": [
    "df_array_of_stations = df_array_of_stations.drop(columns=[\"Empty Slots\"])"
   ]
  },
  {
   "cell_type": "code",
   "execution_count": 26,
   "metadata": {},
   "outputs": [
    {
     "data": {
      "text/html": [
       "<div>\n",
       "<style scoped>\n",
       "    .dataframe tbody tr th:only-of-type {\n",
       "        vertical-align: middle;\n",
       "    }\n",
       "\n",
       "    .dataframe tbody tr th {\n",
       "        vertical-align: top;\n",
       "    }\n",
       "\n",
       "    .dataframe thead th {\n",
       "        text-align: right;\n",
       "    }\n",
       "</style>\n",
       "<table border=\"1\" class=\"dataframe\">\n",
       "  <thead>\n",
       "    <tr style=\"text-align: right;\">\n",
       "      <th></th>\n",
       "      <th>name</th>\n",
       "      <th>Latitude</th>\n",
       "      <th>Longitude</th>\n",
       "      <th>free_bikes</th>\n",
       "    </tr>\n",
       "  </thead>\n",
       "  <tbody>\n",
       "    <tr>\n",
       "      <th>0</th>\n",
       "      <td>Cours Jean Ballard</td>\n",
       "      <td>43.293009</td>\n",
       "      <td>5.374584</td>\n",
       "      <td>0</td>\n",
       "    </tr>\n",
       "    <tr>\n",
       "      <th>1</th>\n",
       "      <td>Allées Gambetta</td>\n",
       "      <td>43.299028</td>\n",
       "      <td>5.381509</td>\n",
       "      <td>0</td>\n",
       "    </tr>\n",
       "    <tr>\n",
       "      <th>2</th>\n",
       "      <td>Réformés Canebière</td>\n",
       "      <td>43.299717</td>\n",
       "      <td>5.384845</td>\n",
       "      <td>2</td>\n",
       "    </tr>\n",
       "    <tr>\n",
       "      <th>3</th>\n",
       "      <td>Coutellerie</td>\n",
       "      <td>43.296800</td>\n",
       "      <td>5.372910</td>\n",
       "      <td>1</td>\n",
       "    </tr>\n",
       "    <tr>\n",
       "      <th>4</th>\n",
       "      <td>Canebiere - Beauvau</td>\n",
       "      <td>43.295279</td>\n",
       "      <td>5.375048</td>\n",
       "      <td>0</td>\n",
       "    </tr>\n",
       "  </tbody>\n",
       "</table>\n",
       "</div>"
      ],
      "text/plain": [
       "                  name   Latitude  Longitude  free_bikes\n",
       "0   Cours Jean Ballard  43.293009   5.374584           0\n",
       "1      Allées Gambetta  43.299028   5.381509           0\n",
       "2   Réformés Canebière  43.299717   5.384845           2\n",
       "3          Coutellerie  43.296800   5.372910           1\n",
       "4  Canebiere - Beauvau  43.295279   5.375048           0"
      ]
     },
     "execution_count": 26,
     "metadata": {},
     "output_type": "execute_result"
    }
   ],
   "source": [
    "df_array_of_stations[:5]"
   ]
  },
  {
   "cell_type": "code",
   "execution_count": 31,
   "metadata": {},
   "outputs": [],
   "source": [
    "df_array_of_stations.rename(columns={\"name\": \"Name\"}, inplace=True)"
   ]
  },
  {
   "cell_type": "code",
   "execution_count": 32,
   "metadata": {},
   "outputs": [],
   "source": [
    "df_array_of_stations.to_csv(\"../data/df_marseille_stations.csv\", index=True)"
   ]
  }
 ],
 "metadata": {
  "kernelspec": {
   "display_name": "Python 3",
   "language": "python",
   "name": "python3"
  },
  "language_info": {
   "codemirror_mode": {
    "name": "ipython",
    "version": 3
   },
   "file_extension": ".py",
   "mimetype": "text/x-python",
   "name": "python",
   "nbconvert_exporter": "python",
   "pygments_lexer": "ipython3",
   "version": "3.11.5"
  }
 },
 "nbformat": 4,
 "nbformat_minor": 4
}
