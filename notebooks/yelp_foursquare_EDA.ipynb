{
 "cells": [
  {
   "cell_type": "code",
   "execution_count": 5,
   "metadata": {},
   "outputs": [],
   "source": [
    "# imports\n",
    "import requests\n",
    "from IPython.display import JSON \n",
    "import pandas as pd\n",
    "import numpy as np\n",
    "import os"
   ]
  },
  {
   "cell_type": "markdown",
   "metadata": {},
   "source": [
    "# Foursquare"
   ]
  },
  {
   "cell_type": "code",
   "execution_count": 25,
   "metadata": {},
   "outputs": [],
   "source": [
    "fsq_api_key = os.environ.get('fsq3zaWaSmh1ImUoq/3I38e1V6ldOZbI4DahLfbRfbQz3zM=')"
   ]
  },
  {
   "cell_type": "code",
   "execution_count": 7,
   "metadata": {},
   "outputs": [
    {
     "data": {
      "application/json": {
       "network": {
        "company": [
         "LeVélo AMP Métropole",
         "Ville de Marseille",
         "Fifteen SAS"
        ],
        "href": "/v2/networks/le-velo",
        "id": "le-velo",
        "location": {
         "city": "Marseille",
         "country": "FR",
         "latitude": 43.296482,
         "longitude": 5.36978
        },
        "name": "LeVélo",
        "stations": [
         {
          "empty_slots": null,
          "extra": {
           "bike_autonomy": 0,
           "bike_state_of_charge": 0,
           "distance": 548,
           "uid": "ce4bgi12rcd13ifvqb70"
          },
          "free_bikes": 0,
          "id": "ed75db62910c00c21f36bdbccb801995",
          "latitude": 43.29300892,
          "longitude": 5.374584208,
          "name": "Cours Jean Ballard",
          "timestamp": "2023-10-27T18:30:48.946000Z"
         },
         {
          "empty_slots": null,
          "extra": {
           "bike_autonomy": 16800,
           "bike_state_of_charge": 62,
           "distance": 989,
           "uid": "ce4bgj12rcd13ifvqbc0"
          },
          "free_bikes": 1,
          "id": "ca56a3b88d3afee0d55763fb4e272365",
          "latitude": 43.29902797,
          "longitude": 5.381509226,
          "name": "Allées Gambetta",
          "timestamp": "2023-10-27T18:30:48.990000Z"
         },
         {
          "empty_slots": null,
          "extra": {
           "bike_autonomy": 10800,
           "bike_state_of_charge": 47,
           "distance": 1270,
           "uid": "ce4bgj92rcd13ifvqbd0"
          },
          "free_bikes": 3,
          "id": "cd82a21c54a9b2fcbd488524969db863",
          "latitude": 43.29971664630074,
          "longitude": 5.384845163546515,
          "name": "Réformés Canebière",
          "timestamp": "2023-10-27T18:30:49.125000Z"
         },
         {
          "empty_slots": null,
          "extra": {
           "bike_autonomy": 27200,
           "bike_state_of_charge": 88,
           "distance": 254,
           "uid": "ce4bgk12rcd13ifvqbj0"
          },
          "free_bikes": 2,
          "id": "29f58a6fbf113e8cbe37f66994a01122",
          "latitude": 43.29679958,
          "longitude": 5.372909688,
          "name": "Coutellerie",
          "timestamp": "2023-10-27T18:30:48.912000Z"
         },
         {
          "empty_slots": null,
          "extra": {
           "bike_autonomy": 24400,
           "bike_state_of_charge": 81,
           "distance": 446,
           "uid": "ce4bgkp2rcd13ifvqbmg"
          },
          "free_bikes": 1,
          "id": "f769c9dc5944ef17e4a8ac3edb7da881",
          "latitude": 43.29527892,
          "longitude": 5.375048465,
          "name": "Canebiere - Beauvau",
          "timestamp": "2023-10-27T18:30:48.933000Z"
         },
         {
          "empty_slots": null,
          "extra": {
           "bike_autonomy": 800,
           "bike_state_of_charge": 22,
           "distance": 507,
           "uid": "ce4bgjh2rcd13ifvqbg0"
          },
          "free_bikes": 2,
          "id": "272423646aa25c95fcae4592f61f4403",
          "latitude": 43.299242645590766,
          "longitude": 5.374807305735999,
          "name": "Colbert Ste Barbe",
          "timestamp": "2023-10-27T18:30:48.940000Z"
         },
         {
          "empty_slots": null,
          "extra": {
           "bike_autonomy": 400,
           "bike_state_of_charge": 21,
           "distance": 548,
           "uid": "ce4bgkh2rcd13ifvqbl0"
          },
          "free_bikes": 1,
          "id": "274994f6e2b868f3283fa003e5227bc6",
          "latitude": 43.29693502454282,
          "longitude": 5.376544207099414,
          "name": "Centre Bourse",
          "timestamp": "2023-10-27T18:30:48.942000Z"
         },
         {
          "empty_slots": null,
          "extra": {
           "bike_autonomy": 13600,
           "bike_state_of_charge": 54,
           "distance": 764,
           "uid": "ce4bgjh2rcd13ifvqbf0"
          },
          "free_bikes": 2,
          "id": "c23517c8307a10e192dd0e95b9e8a065",
          "latitude": 43.29360042,
          "longitude": 5.378349882,
          "name": "Saint-Ferréol - Davso",
          "timestamp": "2023-10-27T18:30:48.978000Z"
         },
         {
          "empty_slots": null,
          "extra": {
           "bike_autonomy": 0,
           "bike_state_of_charge": 0,
           "distance": 1770,
           "uid": "ce4bgk12rcd13ifvqbi0"
          },
          "free_bikes": 0,
          "id": "82cad27cd589222f25cd4b59b251221a",
          "latitude": 43.3042781513621,
          "longitude": 5.388867929313619,
          "name": "Flammarion - Isoard",
          "timestamp": "2023-10-27T18:30:49.252000Z"
         },
         {
          "empty_slots": null,
          "extra": {
           "bike_autonomy": 0,
           "bike_state_of_charge": 0,
           "distance": 1948,
           "uid": "ce4bgkh2rcd13ifvqbk0"
          },
          "free_bikes": 0,
          "id": "2681f40d3ede89fe9dfabb09d7de92d6",
          "latitude": 43.30299233959067,
          "longitude": 5.39213628647542,
          "name": "Longchamp - Grobet",
          "timestamp": "2023-10-27T18:30:49.326000Z"
         },
         {
          "empty_slots": null,
          "extra": {
           "bike_autonomy": 400,
           "bike_state_of_charge": 21,
           "distance": 2371,
           "uid": "ce4bgj92rcd13ifvqbe0"
          },
          "free_bikes": 4,
          "id": "21b9b1ac1a0284290fb4c08f922f7f7f",
          "latitude": 43.27617976729073,
          "longitude": 5.361008732708797,
          "name": "Vallon de l’Oriol",
          "timestamp": "2023-10-27T18:30:49.409000Z"
         },
         {
          "empty_slots": null,
          "extra": {
           "bike_autonomy": 27600,
           "bike_state_of_charge": 89,
           "distance": 166,
           "uid": "ce4bgop2rcd13ifvqc1g"
          },
          "free_bikes": 1,
          "id": "3d1a80675b0de8c80e27d5393be0a251",
          "latitude": 43.29777432269154,
          "longitude": 5.370874697052955,
          "name": "Grand Rue",
          "timestamp": "2023-10-27T18:30:48.907000Z"
         },
         {
          "empty_slots": null,
          "extra": {
           "bike_autonomy": 2800,
           "bike_state_of_charge": 27,
           "distance": 215,
           "uid": "ce4bgph2rcd13ifvqc2g"
          },
          "free_bikes": 4,
          "id": "8f391bdedd4577bba5bbb3d626971b78",
          "latitude": 43.29573017,
          "longitude": 5.367354992,
          "name": "Quai du Port",
          "timestamp": "2023-10-27T18:30:48.910000Z"
         },
         {
          "empty_slots": null,
          "extra": {
           "bike_autonomy": 8000,
           "bike_state_of_charge": 40,
           "distance": 327,
           "uid": "ce4bgn12rcd13ifvqbt0"
          },
          "free_bikes": 2,
          "id": "c4e827601952ba373127538fb3abb351",
          "latitude": 43.29716293,
          "longitude": 5.365865775,
          "name": "Place de Lenche",
          "timestamp": "2023-10-27T18:30:48.913000Z"
         },
         {
          "empty_slots": null,
          "extra": {
           "bike_autonomy": 0,
           "bike_state_of_charge": 0,
           "distance": 388,
           "uid": "ce4bgh92rcd13ifvqb40"
          },
          "free_bikes": 0,
          "id": "1e45e255c5ad2153317233e55b05c1a3",
          "latitude": 43.293258515940494,
          "longitude": 5.371585560104336,
          "name": "Place aux huiles",
          "timestamp": "2023-10-27T18:30:48.916000Z"
         },
         {
          "empty_slots": null,
          "extra": {
           "bike_autonomy": 0,
           "bike_state_of_charge": 0,
           "distance": 447,
           "uid": "ce4bgh92rcd13ifvqb50"
          },
          "free_bikes": 0,
          "id": "4c640f222c7e0c2a8e9852d601bfde78",
          "latitude": 43.29574849,
          "longitude": 5.375219826,
          "name": "Canebiere Reine Elisabeth",
          "timestamp": "2023-10-27T18:30:48.936000Z"
         },
         {
          "empty_slots": null,
          "extra": {
           "bike_autonomy": 0,
           "bike_state_of_charge": 0,
           "distance": 457,
           "uid": "ce4bgm92rcd13ifvqbr0"
          },
          "free_bikes": 0,
          "id": "fd7ee9dbc906b1c4f53e8b7909d7b5b8",
          "latitude": 43.299208852029665,
          "longitude": 5.365546894429258,
          "name": "La Major",
          "timestamp": "2023-10-27T18:30:48.938000Z"
         },
         {
          "empty_slots": null,
          "extra": {
           "bike_autonomy": 26000,
           "bike_state_of_charge": 85,
           "distance": 608,
           "uid": "ce4bgpp2rcd13ifvqc3g"
          },
          "free_bikes": 2,
          "id": "cc310b3ee0809fdf5809b8ffa1fe1716",
          "latitude": 43.29843273,
          "longitude": 5.362774233,
          "name": "MUCEM",
          "timestamp": "2023-10-27T18:30:48.953000Z"
         },
         {
          "empty_slots": null,
          "extra": {
           "bike_autonomy": 2800,
           "bike_state_of_charge": 27,
           "distance": 683,
           "uid": "ce4bgi12rcd13ifvqb80"
          },
          "free_bikes": 2,
          "id": "cf4e7b1717951fbb658b2551f0b037c9",
          "latitude": 43.29266329418829,
          "longitude": 5.376388862887325,
          "name": "Sainte - Lulli",
          "timestamp": "2023-10-27T18:30:48.975000Z"
         },
         {
          "empty_slots": null,
          "extra": {
           "bike_autonomy": 5600,
           "bike_state_of_charge": 34,
           "distance": 915,
           "uid": "ce4bgl12rcd13ifvqbo0"
          },
          "free_bikes": 3,
          "id": "ad1534eb5734a654b3626e93943bb6e3",
          "latitude": 43.29601993155862,
          "longitude": 5.381084217359557,
          "name": "Académie - Capucins",
          "timestamp": "2023-10-27T18:30:48.985000Z"
         },
         {
          "empty_slots": null,
          "extra": {
           "bike_autonomy": 9200,
           "bike_state_of_charge": 43,
           "distance": 928,
           "uid": "ce4bgip2rcd13ifvqbb0"
          },
          "free_bikes": 3,
          "id": "4e3f6aa0839760379c45f6fdf5523a62",
          "latitude": 43.29803718,
          "longitude": 5.381065715,
          "name": "Canebière - Dugommier",
          "timestamp": "2023-10-27T18:30:48.989000Z"
         },
         {
          "empty_slots": null,
          "extra": {
           "bike_autonomy": 0,
           "bike_state_of_charge": 0,
           "distance": 1074,
           "uid": "ce4bgqh2rcd13ifvqc4g"
          },
          "free_bikes": 0,
          "id": "2b0ba20e423cb7bc5e931b3b14573a49",
          "latitude": 43.30598899,
          "longitude": 5.372249573,
          "name": "Paris - Forbin",
          "timestamp": "2023-10-27T18:30:49.009000Z"
         },
         {
          "empty_slots": null,
          "extra": {
           "bike_autonomy": 4800,
           "bike_state_of_charge": 32,
           "distance": 1285,
           "uid": "ce4bgih2rcd13ifvqba0"
          },
          "free_bikes": 6,
          "id": "7f38ffea3cde57af7807cd10de9c1514",
          "latitude": 43.29528961,
          "longitude": 5.385580554,
          "name": "Sibie - Curiol",
          "timestamp": "2023-10-27T18:30:49.133000Z"
         },
         {
          "empty_slots": null,
          "extra": {
           "bike_autonomy": 0,
           "bike_state_of_charge": 0,
           "distance": 1404,
           "uid": "ce4bgn92rcd13ifvqbvg"
          },
          "free_bikes": 0,
          "id": "3b053009767e3f44b4529bd7e3f79023",
          "latitude": 43.30907565,
          "longitude": 5.368464875,
          "name": "Euromediterrannee Gantes",
          "timestamp": "2023-10-27T18:30:49.150000Z"
         },
         {
          "empty_slots": null,
          "extra": {
           "bike_autonomy": 12000,
           "bike_state_of_charge": 50,
           "distance": 1754,
           "uid": "ce4bgl92rcd13ifvqbq0"
          },
          "free_bikes": 2,
          "id": "e98e6bc9bb368476a22c6f29222baa12",
          "latitude": 43.31223933,
          "longitude": 5.368561815,
          "name": "Arenc - Chanterac",
          "timestamp": "2023-10-27T18:30:49.233000Z"
         },
         {
          "empty_slots": null,
          "extra": {
           "bike_autonomy": 0,
           "bike_state_of_charge": 0,
           "distance": 1893,
           "uid": "ce4bgr92rcd13ifvqc6g"
          },
          "free_bikes": 0,
          "id": "5488485459f634bf10babe0f92c2607e",
          "latitude": 43.31339141270814,
          "longitude": 5.367060274332289,
          "name": "Tour La Marseillaise",
          "timestamp": "2023-10-27T18:30:49.286000Z"
         },
         {
          "empty_slots": null,
          "extra": {
           "bike_autonomy": 0,
           "bike_state_of_charge": 0,
           "distance": 669,
           "uid": "ce4bgrh2rcd13ifvqc8g"
          },
          "free_bikes": 0,
          "id": "76b65c5aec5372b7257e34d103bfb2be",
          "latitude": 43.30193874,
          "longitude": 5.366285878,
          "name": "Schuman - Leca",
          "timestamp": "2023-10-27T18:30:48.973000Z"
         },
         {
          "empty_slots": null,
          "extra": {
           "bike_autonomy": 3600,
           "bike_state_of_charge": 29,
           "distance": 919,
           "uid": "ce4bguh2rcd13ifvqcj0"
          },
          "free_bikes": 1,
          "id": "2ab93b4c529e5fa33fd15a3bfce24cb7",
          "latitude": 43.30278357,
          "longitude": 5.377157667,
          "name": "Ferry-Nédelec",
          "timestamp": "2023-10-27T18:30:48.986000Z"
         },
         {
          "empty_slots": null,
          "extra": {
           "bike_autonomy": 0,
           "bike_state_of_charge": 0,
           "distance": 1007,
           "uid": "ce4bgrp2rcd13ifvqc9g"
          },
          "free_bikes": 0,
          "id": "2d03a732dc79d65fddbdc6e9a0623cf1",
          "latitude": 43.30536824089319,
          "longitude": 5.367343057645485,
          "name": "Joliette - Dunkerque",
          "timestamp": "2023-10-27T18:30:48.992000Z"
         },
         {
          "empty_slots": null,
          "extra": {
           "bike_autonomy": 2800,
           "bike_state_of_charge": 27,
           "distance": 1078,
           "uid": "ce4bgs12rcd13ifvqcag"
          },
          "free_bikes": 3,
          "id": "99842517cdb7bb773dc9f723bafcc643",
          "latitude": 43.30570589746745,
          "longitude": 5.365654336110538,
          "name": "Les Docks - Terrasses du Port",
          "timestamp": "2023-10-27T18:30:49.018000Z"
         },
         {
          "empty_slots": null,
          "extra": {
           "bike_autonomy": 10800,
           "bike_state_of_charge": 47,
           "distance": 1171,
           "uid": "ce4bgup2rcd13ifvqcn0"
          },
          "free_bikes": 3,
          "id": "665ee1da6ff6812a8df1bed4f50815e6",
          "latitude": 43.30460633,
          "longitude": 5.379025685,
          "name": "Saint Charles - Faculté",
          "timestamp": "2023-10-27T18:30:49.027000Z"
         },
         {
          "empty_slots": null,
          "extra": {
           "bike_autonomy": 0,
           "bike_state_of_charge": 0,
           "distance": 1404,
           "uid": "ce4bguh2rcd13ifvqckg"
          },
          "free_bikes": 0,
          "id": "12a734ed63ea776a0d4a84d80e78152e",
          "latitude": 43.30903370006192,
          "longitude": 5.371782666402396,
          "name": "Hôpital Européen",
          "timestamp": "2023-10-27T18:30:49.158000Z"
         },
         {
          "empty_slots": null,
          "extra": {
           "bike_autonomy": 0,
           "bike_state_of_charge": 0,
           "distance": 1747,
           "uid": "ce4bgt92rcd13ifvqcg0"
          },
          "free_bikes": 0,
          "id": "1d7f84508c18a4892638f7ae659a6999",
          "latitude": 43.311125001287195,
          "longitude": 5.377624232911899,
          "name": "National - Hoche",
          "timestamp": "2023-10-27T18:30:49.229000Z"
         },
         {
          "empty_slots": null,
          "extra": {
           "bike_autonomy": 400,
           "bike_state_of_charge": 21,
           "distance": 2055,
           "uid": "ce4bgt12rcd13ifvqcd0"
          },
          "free_bikes": 2,
          "id": "1360f4262f65e6298f3ae830d1e53649",
          "latitude": 43.314811272541334,
          "longitude": 5.37310339134342,
          "name": "National Métro",
          "timestamp": "2023-10-27T18:30:49.345000Z"
         },
         {
          "empty_slots": null,
          "extra": {
           "bike_autonomy": 5600,
           "bike_state_of_charge": 34,
           "distance": 2206,
           "uid": "ce4bgv12rcd13ifvqcp0"
          },
          "free_bikes": 1,
          "id": "056bddd0f07b58b4b608bdce713b2950",
          "latitude": 43.3117222,
          "longitude": 5.387246838,
          "name": "Place Cadenat",
          "timestamp": "2023-10-27T18:30:49.380000Z"
         },
         {
          "empty_slots": null,
          "extra": {
           "bike_autonomy": 4000,
           "bike_state_of_charge": 30,
           "distance": 2206,
           "uid": "ce4bgup2rcd13ifvqco0"
          },
          "free_bikes": 2,
          "id": "aae99b169a6db5731a37d8cafa813d78",
          "latitude": 43.30958896,
          "longitude": 5.390258304,
          "name": "Friche Belle de Mai",
          "timestamp": "2023-10-27T18:30:49.381000Z"
         },
         {
          "empty_slots": null,
          "extra": {
           "bike_autonomy": 0,
           "bike_state_of_charge": 0,
           "distance": 2406,
           "uid": "ce4bh092rcd13ifvqd20"
          },
          "free_bikes": 0,
          "id": "5083fba39e74add322c9a8630ffd5b8c",
          "latitude": 43.30427414673173,
          "longitude": 5.397513231939001,
          "name": "Cinq Avenue Longchamp",
          "timestamp": "2023-10-27T18:30:49.414000Z"
         },
         {
          "empty_slots": null,
          "extra": {
           "bike_autonomy": 2800,
           "bike_state_of_charge": 27,
           "distance": 2577,
           "uid": "ce4bh012rcd13ifvqcv0"
          },
          "free_bikes": 2,
          "id": "066204cf8356f8e628dc5b87305bed1b",
          "latitude": 43.309037596219014,
          "longitude": 5.396545511971453,
          "name": "Chute Lavie Dahdah",
          "timestamp": "2023-10-27T18:30:49.421000Z"
         },
         {
          "empty_slots": null,
          "extra": {
           "bike_autonomy": 0,
           "bike_state_of_charge": 0,
           "distance": 2605,
           "uid": "ce4bgvh2rcd13ifvqcs0"
          },
          "free_bikes": 0,
          "id": "4ca2c5798e482e43a17305280468763e",
          "latitude": 43.30275907,
          "longitude": 5.400792795,
          "name": "Blancarde - Duparc",
          "timestamp": "2023-10-27T18:30:49.425000Z"
         },
         {
          "empty_slots": null,
          "extra": {
           "bike_autonomy": 0,
           "bike_state_of_charge": 0,
           "distance": 2879,
           "uid": "ce4bgvp2rcd13ifvqcu0"
          },
          "free_bikes": 0,
          "id": "c6a1612bd127b0a1068d4d2b70d0fa82",
          "latitude": 43.31329084715776,
          "longitude": 5.396838371330546,
          "name": "Chutes Lavie - Guigou",
          "timestamp": "2023-10-27T18:30:49.452000Z"
         },
         {
          "empty_slots": null,
          "extra": {
           "bike_autonomy": 0,
           "bike_state_of_charge": 0,
           "distance": 2937,
           "uid": "ce4bgvp2rcd13ifvqct0"
          },
          "free_bikes": 0,
          "id": "6f61a8a8e376a3decf39315f9b20a11e",
          "latitude": 43.30937085,
          "longitude": 5.401449029,
          "name": "Eglise des Chartreux",
          "timestamp": "2023-10-27T18:30:49.455000Z"
         },
         {
          "empty_slots": null,
          "extra": {
           "bike_autonomy": 0,
           "bike_state_of_charge": 0,
           "distance": 3578,
           "uid": "ce4bh012rcd13ifvqd00"
          },
          "free_bikes": 0,
          "id": "276aadb0f3733eb7d44b99abf555c9bf",
          "latitude": 43.31652283667526,
          "longitude": 5.4043665678689194,
          "name": "Saint-Just - Le Dôme",
          "timestamp": "2023-10-27T18:30:49.486000Z"
         },
         {
          "empty_slots": null,
          "extra": {
           "bike_autonomy": 2800,
           "bike_state_of_charge": 27,
           "distance": 88,
           "uid": "ce4bgnh2rcd13ifvqc0g"
          },
          "free_bikes": 3,
          "id": "d1012054bb845abbee845884adf7e284",
          "latitude": 43.29613110303592,
          "longitude": 5.370772717518662,
          "name": "Hôtel de ville",
          "timestamp": "2023-10-27T18:30:48.900000Z"
         },
         {
          "empty_slots": null,
          "extra": {
           "bike_autonomy": 800,
           "bike_state_of_charge": 22,
           "distance": 591,
           "uid": "ce4bgi92rcd13ifvqb90"
          },
          "free_bikes": 2,
          "id": "11f5f445d382147eb996055ac5e19997",
          "latitude": 43.29626342443967,
          "longitude": 5.377094272796853,
          "name": "Canebière Saint-Ferreol",
          "timestamp": "2023-10-27T18:30:48.952000Z"
         },
         {
          "empty_slots": null,
          "extra": {
           "bike_autonomy": 10800,
           "bike_state_of_charge": 47,
           "distance": 651,
           "uid": "ce4bgs92rcd13ifvqcc0"
          },
          "free_bikes": 4,
          "id": "fc00c996a34496d7ed8431081e9dea97",
          "latitude": 43.30142931593264,
          "longitude": 5.374129631885239,
          "name": "Jules Guesde",
          "timestamp": "2023-10-27T18:30:48.955000Z"
         },
         {
          "empty_slots": null,
          "extra": {
           "bike_autonomy": 0,
           "bike_state_of_charge": 0,
           "distance": 1109,
           "uid": "ce4bh3p2rcd13ifvqdq0"
          },
          "free_bikes": 0,
          "id": "aba0ea867a5c5ad65f76f515bf7b0e47",
          "latitude": 43.2869613,
          "longitude": 5.373784575,
          "name": "Notre-Dame - Dragon",
          "timestamp": "2023-10-27T18:30:49.024000Z"
         },
         {
          "empty_slots": null,
          "extra": {
           "bike_autonomy": 12800,
           "bike_state_of_charge": 52,
           "distance": 1361,
           "uid": "ce4bh2h2rcd13ifvqdh0"
          },
          "free_bikes": 7,
          "id": "021da70e4412fc8f727d69e41a3d654e",
          "latitude": 43.29416247655675,
          "longitude": 5.386291983910837,
          "name": "Plaine - Saint-Pierre",
          "timestamp": "2023-10-27T18:30:49.143000Z"
         },
         {
          "empty_slots": null,
          "extra": {
           "bike_autonomy": 0,
           "bike_state_of_charge": 0,
           "distance": 1455,
           "uid": "ce4bh412rcd13ifvqds0"
          },
          "free_bikes": 0,
          "id": "0b929e8834d4d4d5eeadca476805b0e9",
          "latitude": 43.28399833,
          "longitude": 5.375062072,
          "name": "Notre-Dame - Vauban",
          "timestamp": "2023-10-27T18:30:49.172000Z"
         },
         {
          "empty_slots": null,
          "extra": {
           "bike_autonomy": 0,
           "bike_state_of_charge": 0,
           "distance": 1573,
           "uid": "ce4bh392rcd13ifvqdl0"
          },
          "free_bikes": 0,
          "id": "de6e9325c2693172b29cae254fdf9a57",
          "latitude": 43.29876369,
          "longitude": 5.388973392,
          "name": "Tivoli - Roosevelt",
          "timestamp": "2023-10-27T18:30:49.182000Z"
         },
         {
          "empty_slots": null,
          "extra": {
           "bike_autonomy": 14400,
           "bike_state_of_charge": 56,
           "distance": 1594,
           "uid": "ce4bgt12rcd13ifvqce0"
          },
          "free_bikes": 2,
          "id": "04e63ac1617e8a32268e866bcec6a9ee",
          "latitude": 43.3080124,
          "longitude": 5.38151142,
          "name": "National - Belle de Mai",
          "timestamp": "2023-10-27T18:30:49.198000Z"
         },
         {
          "empty_slots": null,
          "extra": {
           "bike_autonomy": 0,
           "bike_state_of_charge": 0,
           "distance": 1764,
           "uid": "ce4bh492rcd13ifvqdug"
          },
          "free_bikes": 0,
          "id": "6b3e2331db9f591707c69932089eaa51",
          "latitude": 43.28659467,
          "longitude": 5.386795143,
          "name": "Baille - Friedland",
          "timestamp": "2023-10-27T18:30:49.240000Z"
         },
         {
          "empty_slots": null,
          "extra": {
           "bike_autonomy": 0,
           "bike_state_of_charge": 0,
           "distance": 1773,
           "uid": "ce4bh192rcd13ifvqdb0"
          },
          "free_bikes": 0,
          "id": "9dae1a734becd7c3c265da5964938feb",
          "latitude": 43.30084993931786,
          "longitude": 5.390856183778169,
          "name": "Liberation - Isoard",
          "timestamp": "2023-10-27T18:30:49.269000Z"
         },
         {
          "empty_slots": null,
          "extra": {
           "bike_autonomy": 12400,
           "bike_state_of_charge": 51,
           "distance": 1938,
           "uid": "ce4bh192rcd13ifvqdd0"
          },
          "free_bikes": 2,
          "id": "3cd321d57103f9eddfdcf30ae142947a",
          "latitude": 43.291994145747765,
          "longitude": 5.3929067825579295,
          "name": "Saint-Pierre - Hugueny",
          "timestamp": "2023-10-27T18:30:49.314000Z"
         },
         {
          "empty_slots": null,
          "extra": {
           "bike_autonomy": 2800,
           "bike_state_of_charge": 27,
           "distance": 1979,
           "uid": "ce4bh492rcd13ifvqdvg"
          },
          "free_bikes": 2,
          "id": "d39244d1183a30145fef19b812ca0682",
          "latitude": 43.28350153,
          "longitude": 5.386470818,
          "name": "Rouet",
          "timestamp": "2023-10-27T18:30:49.333000Z"
         },
         {
          "empty_slots": null,
          "extra": {
           "bike_autonomy": 20000,
           "bike_state_of_charge": 70,
           "distance": 2107,
           "uid": "ce4bh0p2rcd13ifvqd70"
          },
          "free_bikes": 1,
          "id": "4cff81965b2e2fd5a0dbda41b0ee4dd8",
          "latitude": 43.30200819,
          "longitude": 5.394693835,
          "name": "Libération - Chape - Espérandieu",
          "timestamp": "2023-10-27T18:30:49.361000Z"
         },
         {
          "empty_slots": null,
          "extra": {
           "bike_autonomy": 6800,
           "bike_state_of_charge": 37,
           "distance": 2204,
           "uid": "ce4bh0p2rcd13ifvqd80"
          },
          "free_bikes": 1,
          "id": "47814a4f555da95db76a325d94968054",
          "latitude": 43.3059935,
          "longitude": 5.393687137,
          "name": "Flammarion- Montricher",
          "timestamp": "2023-10-27T18:30:49.379000Z"
         },
         {
          "empty_slots": null,
          "extra": {
           "bike_autonomy": 10000,
           "bike_state_of_charge": 45,
           "distance": 2235,
           "uid": "ce4bh0h2rcd13ifvqd50"
          },
          "free_bikes": 5,
          "id": "3addf0bbfacf3b59b01d0fbbfe1667aa",
          "latitude": 43.29868093,
          "longitude": 5.397225175,
          "name": "Place Sébastopol",
          "timestamp": "2023-10-27T18:30:49.389000Z"
         },
         {
          "empty_slots": null,
          "extra": {
           "bike_autonomy": 400,
           "bike_state_of_charge": 21,
           "distance": 2250,
           "uid": "ce4bhoh2rcd13ifvqh5g"
          },
          "free_bikes": 1,
          "id": "a6d85019a69a6454368ee8d645e962f3",
          "latitude": 43.28446199,
          "longitude": 5.39212117,
          "name": "Toulon - Menpenti",
          "timestamp": "2023-10-27T18:30:49.394000Z"
         },
         {
          "empty_slots": null,
          "extra": {
           "bike_autonomy": 16000,
           "bike_state_of_charge": 60,
           "distance": 2256,
           "uid": "ce4bgt92rcd13ifvqcf0"
          },
          "free_bikes": 2,
          "id": "c62c77ad74f24f477d112f966a40fa5e",
          "latitude": 43.3135706,
          "longitude": 5.3848289,
          "name": "Place Placide Caffo",
          "timestamp": "2023-10-27T18:30:49.395000Z"
         },
         {
          "empty_slots": null,
          "extra": {
           "bike_autonomy": 17200,
           "bike_state_of_charge": 63,
           "distance": 2257,
           "uid": "ce4bh3h2rcd13ifvqdo0"
          },
          "free_bikes": 2,
          "id": "2db1f777dad667c0f9a068b944bc0d15",
          "latitude": 43.29431413,
          "longitude": 5.397498439,
          "name": "Briffaut Camas",
          "timestamp": "2023-10-27T18:30:49.396000Z"
         },
         {
          "empty_slots": null,
          "extra": {
           "bike_autonomy": 0,
           "bike_state_of_charge": 0,
           "distance": 2259,
           "uid": "ce4bhsp2rcd13ifvqi50"
          },
          "free_bikes": 0,
          "id": "1b4a930de4395f566ab5ab3a33d1fc19",
          "latitude": 43.315289087463555,
          "longitude": 5.38034926547175,
          "name": "Belle vue",
          "timestamp": "2023-10-27T18:30:49.397000Z"
         },
         {
          "empty_slots": null,
          "extra": {
           "bike_autonomy": 0,
           "bike_state_of_charge": 0,
           "distance": 2291,
           "uid": "ce4bh3h2rcd13ifvqdn0"
          },
          "free_bikes": 0,
          "id": "74841aeaaec41ec03ceb63eb4e1ac827",
          "latitude": 43.28936349,
          "longitude": 5.396322259,
          "name": "Baille - Hôpital Conception",
          "timestamp": "2023-10-27T18:30:49.397000Z"
         },
         {
          "empty_slots": null,
          "extra": {
           "bike_autonomy": 0,
           "bike_state_of_charge": 0,
           "distance": 2367,
           "uid": "ce4bh292rcd13ifvqdg0"
          },
          "free_bikes": 0,
          "id": "c1efb24a2ccf716d966ea08dcd44fdd2",
          "latitude": 43.28572971621563,
          "longitude": 5.394991516440086,
          "name": "Pierre Roux",
          "timestamp": "2023-10-27T18:30:49.404000Z"
         },
         {
          "empty_slots": null,
          "extra": {
           "bike_autonomy": 7200,
           "bike_state_of_charge": 38,
           "distance": 2371,
           "uid": "ce4bgth2rcd13ifvqch0"
          },
          "free_bikes": 7,
          "id": "a951220c084f2b3a8cb31507fd2cccf6",
          "latitude": 43.31707549,
          "longitude": 5.377366738,
          "name": "Auphan - Vaillant",
          "timestamp": "2023-10-27T18:30:49.406000Z"
         },
         {
          "empty_slots": null,
          "extra": {
           "bike_autonomy": 0,
           "bike_state_of_charge": 0,
           "distance": 2404,
           "uid": "ce4bh0h2rcd13ifvqd40"
          },
          "free_bikes": 0,
          "id": "175cb0e8798cd983bfbd3c9389ad9803",
          "latitude": 43.30111738,
          "longitude": 5.398795435,
          "name": "Foch - Fayolle",
          "timestamp": "2023-10-27T18:30:49.411000Z"
         },
         {
          "empty_slots": null,
          "extra": {
           "bike_autonomy": 8800,
           "bike_state_of_charge": 42,
           "distance": 2419,
           "uid": "ce4bh312rcd13ifvqdj0"
          },
          "free_bikes": 1,
          "id": "b0527fadf9671ee0d1b685042b7fc211",
          "latitude": 43.29571281,
          "longitude": 5.399639378,
          "name": "Chave - Sakakini",
          "timestamp": "2023-10-27T18:30:49.417000Z"
         },
         {
          "empty_slots": null,
          "extra": {
           "bike_autonomy": 22000,
           "bike_state_of_charge": 75,
           "distance": 2510,
           "uid": "ce4bh392rcd13ifvqdm0"
          },
          "free_bikes": 1,
          "id": "04a8c7c60aa15525c7b8047da64e7573",
          "latitude": 43.290412249633505,
          "longitude": 5.399632919528813,
          "name": "Jean Moulin - Hôpital La Timone",
          "timestamp": "2023-10-27T18:30:49.418000Z"
         },
         {
          "empty_slots": null,
          "extra": {
           "bike_autonomy": 0,
           "bike_state_of_charge": 0,
           "distance": 2573,
           "uid": "ce4bh312rcd13ifvqdk0"
          },
          "free_bikes": 0,
          "id": "52348a4fedb5c9603772b7df8081822a",
          "latitude": 43.29272355,
          "longitude": 5.401130777,
          "name": "Sakakini - Saint-Pierre",
          "timestamp": "2023-10-27T18:30:49.419000Z"
         },
         {
          "empty_slots": null,
          "extra": {
           "bike_autonomy": 6800,
           "bike_state_of_charge": 37,
           "distance": 2657,
           "uid": "ce4bho92rcd13ifvqh3g"
          },
          "free_bikes": 3,
          "id": "787f5915a5b8872003ce870550d9a73d",
          "latitude": 43.28715402,
          "longitude": 5.39997873,
          "name": "Jean Moulin - Sainte Baume",
          "timestamp": "2023-10-27T18:30:49.428000Z"
         },
         {
          "empty_slots": null,
          "extra": {
           "bike_autonomy": 26000,
           "bike_state_of_charge": 85,
           "distance": 2760,
           "uid": "ce4bh112rcd13ifvqda0"
          },
          "free_bikes": 1,
          "id": "8fea33bf5fad39fcc2cb5cfb831ce102",
          "latitude": 43.30641234314123,
          "longitude": 5.40103548654406,
          "name": "Duparc - Brossolette",
          "timestamp": "2023-10-27T18:30:49.442000Z"
         },
         {
          "empty_slots": null,
          "extra": {
           "bike_autonomy": 19200,
           "bike_state_of_charge": 68,
           "distance": 2781,
           "uid": "ce4bhr12rcd13ifvqhpg"
          },
          "free_bikes": 2,
          "id": "70bb598d4dec2354226ec1541fb2481c",
          "latitude": 43.319935427116775,
          "longitude": 5.381699103765641,
          "name": "Bon Secours - Huilerie",
          "timestamp": "2023-10-27T18:30:49.444000Z"
         },
         {
          "empty_slots": null,
          "extra": {
           "bike_autonomy": 6400,
           "bike_state_of_charge": 36,
           "distance": 2790,
           "uid": "ce4bho12rcd13ifvqh2g"
          },
          "free_bikes": 5,
          "id": "bb09bbdbc448c53e30b409cca97a59f7",
          "latitude": 43.28078426,
          "longitude": 5.396621812,
          "name": "Reboul - Argile",
          "timestamp": "2023-10-27T18:30:49.446000Z"
         },
         {
          "empty_slots": null,
          "extra": {
           "bike_autonomy": 0,
           "bike_state_of_charge": 0,
           "distance": 2866,
           "uid": "ce4bhqp2rcd13ifvqhng"
          },
          "free_bikes": 0,
          "id": "2cff3854ea9a45cfc6248d91b3e17f48",
          "latitude": 43.31755747,
          "longitude": 5.390173087,
          "name": "Sainte-Marthe - Glacière",
          "timestamp": "2023-10-27T18:30:49.448000Z"
         },
         {
          "empty_slots": null,
          "extra": {
           "bike_autonomy": 0,
           "bike_state_of_charge": 0,
           "distance": 2933,
           "uid": "ce4bh0h2rcd13ifvqd60"
          },
          "free_bikes": 0,
          "id": "1025522076f82df7a4ad06a4dde62217",
          "latitude": 43.29626348,
          "longitude": 5.406009668,
          "name": "Blancarde - Gare SNCF",
          "timestamp": "2023-10-27T18:30:49.454000Z"
         },
         {
          "empty_slots": null,
          "extra": {
           "bike_autonomy": 13200,
           "bike_state_of_charge": 53,
           "distance": 3214,
           "uid": "ce4bh192rcd13ifvqdc0"
          },
          "free_bikes": 3,
          "id": "be77a1c856f1eb51a00b523c9b95ed11",
          "latitude": 43.2925709464964,
          "longitude": 5.40910662501517,
          "name": "Place Pol Lapeyre",
          "timestamp": "2023-10-27T18:30:49.467000Z"
         },
         {
          "empty_slots": null,
          "extra": {
           "bike_autonomy": 16400,
           "bike_state_of_charge": 61,
           "distance": 3394,
           "uid": "ce4bhqp2rcd13ifvqhog"
          },
          "free_bikes": 1,
          "id": "456176730237d68313c9e6242b043954",
          "latitude": 43.32366978,
          "longitude": 5.38883641,
          "name": "Sainte-Marthe - Moretti",
          "timestamp": "2023-10-27T18:30:49.474000Z"
         },
         {
          "empty_slots": null,
          "extra": {
           "bike_autonomy": 3200,
           "bike_state_of_charge": 28,
           "distance": 3595,
           "uid": "ce4bhop2rcd13ifvqh8g"
          },
          "free_bikes": 1,
          "id": "7a04befb0ff9ff0ac3bf89e98f843d37",
          "latitude": 43.30418846,
          "longitude": 5.412903941,
          "name": "Saint-Barnabé - Haguenau",
          "timestamp": "2023-10-27T18:30:49.491000Z"
         },
         {
          "empty_slots": null,
          "extra": {
           "bike_autonomy": 0,
           "bike_state_of_charge": 0,
           "distance": 4046,
           "uid": "ce4bhop2rcd13ifvqh7g"
          },
          "free_bikes": 0,
          "id": "b1fb359580071e426fda154fbb82f2fa",
          "latitude": 43.30383732,
          "longitude": 5.41872428,
          "name": "Place Caire",
          "timestamp": "2023-10-27T18:30:49.506000Z"
         },
         {
          "empty_slots": null,
          "extra": {
           "bike_autonomy": 25600,
           "bike_state_of_charge": 84,
           "distance": 4090,
           "uid": "ce4bhr92rcd13ifvqhrg"
          },
          "free_bikes": 1,
          "id": "b3170436fe70a812aa8b5145421ce91c",
          "latitude": 43.33044176,
          "longitude": 5.38914807,
          "name": "Pierre Paraf",
          "timestamp": "2023-10-27T18:30:49.511000Z"
         },
         {
          "empty_slots": null,
          "extra": {
           "bike_autonomy": 12400,
           "bike_state_of_charge": 51,
           "distance": 4146,
           "uid": "ce501612rcd8frsf0b60"
          },
          "free_bikes": 5,
          "id": "0720665b4e54c3803f57e6cdffad186d",
          "latitude": 43.26795854639917,
          "longitude": 5.402685214151916,
          "name": "Augustin Aubert",
          "timestamp": "2023-10-27T18:30:49.512000Z"
         },
         {
          "empty_slots": null,
          "extra": {
           "bike_autonomy": 0,
           "bike_state_of_charge": 0,
           "distance": 4212,
           "uid": "ce4bhq92rcd13ifvqhjg"
          },
          "free_bikes": 0,
          "id": "bf409c0e242fcd618d5c8cd9cb8cc8ea",
          "latitude": 43.32346361240647,
          "longitude": 5.406297409546596,
          "name": "Parc Corot",
          "timestamp": "2023-10-27T18:30:49.514000Z"
         },
         {
          "empty_slots": null,
          "extra": {
           "bike_autonomy": 3600,
           "bike_state_of_charge": 29,
           "distance": 4217,
           "uid": "ce4bho12rcd13ifvqh1g"
          },
          "free_bikes": 3,
          "id": "677bd46a199099b2ed3395a5a8e8abd8",
          "latitude": 43.2799602511721,
          "longitude": 5.416624366102042,
          "name": "Pont de Vivaux",
          "timestamp": "2023-10-27T18:30:49.517000Z"
         },
         {
          "empty_slots": null,
          "extra": {
           "bike_autonomy": 18000,
           "bike_state_of_charge": 65,
           "distance": 4305,
           "uid": "ce4bhph2rcd13ifvqhdg"
          },
          "free_bikes": 5,
          "id": "04dcc39687077477f372807a43d09cc0",
          "latitude": 43.29552256279197,
          "longitude": 5.422926314883398,
          "name": "La Boiseraie",
          "timestamp": "2023-10-27T18:30:49.520000Z"
         },
         {
          "empty_slots": null,
          "extra": {
           "bike_autonomy": 0,
           "bike_state_of_charge": 0,
           "distance": 4505,
           "uid": "ce4bhq92rcd13ifvqhkg"
          },
          "free_bikes": 0,
          "id": "53996653301196d67fb57b01b3324c0d",
          "latitude": 43.32004537625261,
          "longitude": 5.415045773803286,
          "name": "Malpassé Métro",
          "timestamp": "2023-10-27T18:30:49.524000Z"
         },
         {
          "empty_slots": null,
          "extra": {
           "bike_autonomy": 0,
           "bike_state_of_charge": 0,
           "distance": 4581,
           "uid": "ce4bhoh2rcd13ifvqh6g"
          },
          "free_bikes": 0,
          "id": "d1f82e71d5662bb2206fb74994d48e34",
          "latitude": 43.30409626543968,
          "longitude": 5.425385468108061,
          "name": "La Fourragère",
          "timestamp": "2023-10-27T18:30:49.532000Z"
         },
         {
          "empty_slots": null,
          "extra": {
           "bike_autonomy": 14000,
           "bike_state_of_charge": 55,
           "distance": 4667,
           "uid": "ce4bhpp2rcd13ifvqhgg"
          },
          "free_bikes": 2,
          "id": "9241662b5bea94bc5d042eb097811d5b",
          "latitude": 43.32660541953149,
          "longitude": 5.409903287927591,
          "name": "Saint-Paul - Malpassé",
          "timestamp": "2023-10-27T18:30:49.537000Z"
         },
         {
          "empty_slots": null,
          "extra": {
           "bike_autonomy": 0,
           "bike_state_of_charge": 0,
           "distance": 4693,
           "uid": "ce4bhp92rcd13ifvqhag"
          },
          "free_bikes": 0,
          "id": "d6bbddbcda13a1c9ea2b9c38d376e585",
          "latitude": 43.31078482,
          "longitude": 5.42430547,
          "name": "Bois Luzy",
          "timestamp": "2023-10-27T18:30:49.538000Z"
         },
         {
          "empty_slots": null,
          "extra": {
           "bike_autonomy": 30800,
           "bike_state_of_charge": 97,
           "distance": 4820,
           "uid": "ce4bhq12rcd13ifvqhhg"
          },
          "free_bikes": 1,
          "id": "7ba1e5b9e04f010cc5f6b9b8c26b07c3",
          "latitude": 43.3252329242701,
          "longitude": 5.4143178006645485,
          "name": "Lavéran - Diderot",
          "timestamp": "2023-10-27T18:30:49.541000Z"
         },
         {
          "empty_slots": null,
          "extra": {
           "bike_autonomy": 0,
           "bike_state_of_charge": 0,
           "distance": 4949,
           "uid": "ce4bhp92rcd13ifvqhbg"
          },
          "free_bikes": 0,
          "id": "feb70510ef08937bc441cc9b0f49a77a",
          "latitude": 43.31712055,
          "longitude": 5.423936023,
          "name": "Montolivet",
          "timestamp": "2023-10-27T18:30:49.552000Z"
         },
         {
          "empty_slots": null,
          "extra": {
           "bike_autonomy": 6000,
           "bike_state_of_charge": 35,
           "distance": 5404,
           "uid": "ce4bhpp2rcd13ifvqhfg"
          },
          "free_bikes": 2,
          "id": "d0614561d2365c31521fab08d4e13e70",
          "latitude": 43.29876838180914,
          "longitude": 5.436430475000634,
          "name": "Saint-Jean du Désert",
          "timestamp": "2023-10-27T18:30:49.557000Z"
         },
         {
          "empty_slots": null,
          "extra": {
           "bike_autonomy": 24800,
           "bike_state_of_charge": 82,
           "distance": 5497,
           "uid": "ce4bhqh2rcd13ifvqhmg"
          },
          "free_bikes": 1,
          "id": "2820418015d8ab04023b36ed07ad0a18",
          "latitude": 43.33611966260352,
          "longitude": 5.410320835259142,
          "name": "Faculté - Saint-Jerôme",
          "timestamp": "2023-10-27T18:30:49.568000Z"
         },
         {
          "empty_slots": null,
          "extra": {
           "bike_autonomy": 23200,
           "bike_state_of_charge": 78,
           "distance": 5893,
           "uid": "ce4bhp92rcd13ifvqhcg"
          },
          "free_bikes": 1,
          "id": "ca3b77416c95dc84eed774bb71495601",
          "latitude": 43.31710365325108,
          "longitude": 5.43681784487967,
          "name": "Stade Bombardière",
          "timestamp": "2023-10-27T18:30:49.583000Z"
         },
         {
          "empty_slots": null,
          "extra": {
           "bike_autonomy": 0,
           "bike_state_of_charge": 0,
           "distance": 432,
           "uid": "ce4bhbp2rcd13ifvqesg"
          },
          "free_bikes": 0,
          "id": "d3b3a6407c1164776aa9e7de4bbe6e77",
          "latitude": 43.292748522069814,
          "longitude": 5.368401671786842,
          "name": "La Criée",
          "timestamp": "2023-10-27T18:30:48.927000Z"
         },
         {
          "empty_slots": null,
          "extra": {
           "bike_autonomy": 1600,
           "bike_state_of_charge": 24,
           "distance": 556,
           "uid": "ce4bha92rcd13ifvqeh0"
          },
          "free_bikes": 1,
          "id": "5ef562ec6a76dfb8bc3a4a251b0474d3",
          "latitude": 43.291674744737406,
          "longitude": 5.371582564461846,
          "name": "Sainte - Notre-Dame",
          "timestamp": "2023-10-27T18:30:48.948000Z"
         },
         {
          "empty_slots": null,
          "extra": {
           "bike_autonomy": 0,
           "bike_state_of_charge": 0,
           "distance": 651,
           "uid": "ce4bh5p2rcd13ifvqe4g"
          },
          "free_bikes": 0,
          "id": "4eb3ff75efd7336138ab296d9de4075f",
          "latitude": 43.29077871,
          "longitude": 5.371481915,
          "name": "Place de la Corderie",
          "timestamp": "2023-10-27T18:30:48.956000Z"
         },
         {
          "empty_slots": null,
          "extra": {
           "bike_autonomy": 0,
           "bike_state_of_charge": 0,
           "distance": 731,
           "uid": "ce4bgqh2rcd13ifvqc5g"
          },
          "free_bikes": 0,
          "id": "f7e3356d8227ce811db5cd4c3142e13e",
          "latitude": 43.30304044330242,
          "longitude": 5.3689868025954866,
          "name": "République Joliette",
          "timestamp": "2023-10-27T18:30:48.976000Z"
         },
         {
          "empty_slots": null,
          "extra": {
           "bike_autonomy": 0,
           "bike_state_of_charge": 0,
           "distance": 837,
           "uid": "ce4bh692rcd13ifvqe90"
          },
          "free_bikes": 0,
          "id": "bee3ef7c61989f6d8f7d223c12480a6d",
          "latitude": 43.290326899868546,
          "longitude": 5.375711092245979,
          "name": "Pierre Puget - Breteuil",
          "timestamp": "2023-10-27T18:30:48.979000Z"
         },
         {
          "empty_slots": null,
          "extra": {
           "bike_autonomy": 8000,
           "bike_state_of_charge": 40,
           "distance": 859,
           "uid": "ce4bhap2rcd13ifvqek0"
          },
          "free_bikes": 1,
          "id": "0f3e5a4a3fd843b5dcb75e7af7aca5b9",
          "latitude": 43.28918361,
          "longitude": 5.366407727,
          "name": "Endoume - Corderie",
          "timestamp": "2023-10-27T18:30:48.980000Z"
         },
         {
          "empty_slots": null,
          "extra": {
           "bike_autonomy": 0,
           "bike_state_of_charge": 0,
           "distance": 1020,
           "uid": "ce4bh9p2rcd13ifvqed0"
          },
          "free_bikes": 0,
          "id": "030fe7f33437b8c43ff3c8779219228f",
          "latitude": 43.28974291012639,
          "longitude": 5.378303806996655,
          "name": "Estrangin",
          "timestamp": "2023-10-27T18:30:48.994000Z"
         },
         {
          "empty_slots": null,
          "extra": {
           "bike_autonomy": 0,
           "bike_state_of_charge": 0,
           "distance": 1076,
           "uid": "ce4bha92rcd13ifvqeg0"
          },
          "free_bikes": 0,
          "id": "fae6f0f1129d2968b71e0584605c6777",
          "latitude": 43.29063067145421,
          "longitude": 5.359243592567395,
          "name": "Pasteur",
          "timestamp": "2023-10-27T18:30:49.018000Z"
         },
         {
          "empty_slots": null,
          "extra": {
           "bike_autonomy": 8000,
           "bike_state_of_charge": 40,
           "distance": 1087,
           "uid": "ce4bhb12rcd13ifvqel0"
          },
          "free_bikes": 1,
          "id": "56c67c9aa8749e06ffbddf74faab28e4",
          "latitude": 43.29199367364626,
          "longitude": 5.357886145002112,
          "name": "Livon - Pasteur",
          "timestamp": "2023-10-27T18:30:49.023000Z"
         },
         {
          "empty_slots": null,
          "extra": {
           "bike_autonomy": 2000,
           "bike_state_of_charge": 25,
           "distance": 1119,
           "uid": "ce4bh512rcd13ifvqe2g"
          },
          "free_bikes": 4,
          "id": "e8c63893728fc054bfc47617a2282faa",
          "latitude": 43.29099525,
          "longitude": 5.381360991,
          "name": "Rome - Salvator",
          "timestamp": "2023-10-27T18:30:49.024000Z"
         },
         {
          "empty_slots": null,
          "extra": {
           "bike_autonomy": 10400,
           "bike_state_of_charge": 46,
           "distance": 1170,
           "uid": "ce4bh4p2rcd13ifvqe1g"
          },
          "free_bikes": 3,
          "id": "fe068dc64e66edeb8eb429d25b0aeee9",
          "latitude": 43.290099616284294,
          "longitude": 5.3812689520102595,
          "name": "Rome Sylvabelle",
          "timestamp": "2023-10-27T18:30:49.026000Z"
         },
         {
          "empty_slots": null,
          "extra": {
           "bike_autonomy": 0,
           "bike_state_of_charge": 0,
           "distance": 1220,
           "uid": "ce4bhah2rcd13ifvqej0"
          },
          "free_bikes": 0,
          "id": "6ad5a29d5a93274d06a9248ab8839293",
          "latitude": 43.286593099737644,
          "longitude": 5.363346223953386,
          "name": "Vallon Jourdan",
          "timestamp": "2023-10-27T18:30:49.065000Z"
         },
         {
          "empty_slots": null,
          "extra": {
           "bike_autonomy": 0,
           "bike_state_of_charge": 0,
           "distance": 1280,
           "uid": "ce4bhb12rcd13ifvqem0"
          },
          "free_bikes": 0,
          "id": "3707aeed50708c7eb61a5b97e1931074",
          "latitude": 43.28856007,
          "longitude": 5.358371494,
          "name": "Place du 4 Septembre",
          "timestamp": "2023-10-27T18:30:49.126000Z"
         },
         {
          "empty_slots": null,
          "extra": {
           "bike_autonomy": 0,
           "bike_state_of_charge": 0,
           "distance": 1294,
           "uid": "ce4bh9p2rcd13ifvqec0"
          },
          "free_bikes": 0,
          "id": "9017997cad97047d48d210595b72af1a",
          "latitude": 43.287184431033836,
          "longitude": 5.379370104893951,
          "name": "Paradis - Vignerons",
          "timestamp": "2023-10-27T18:30:49.134000Z"
         },
         {
          "empty_slots": null,
          "extra": {
           "bike_autonomy": 1200,
           "bike_state_of_charge": 23,
           "distance": 1317,
           "uid": "ce4bhb92rcd13ifvqen0"
          },
          "free_bikes": 4,
          "id": "62939fbc97fc6a94f9db48e212514669",
          "latitude": 43.29010343949329,
          "longitude": 5.356114229700495,
          "name": "Plage des Catalans",
          "timestamp": "2023-10-27T18:30:49.137000Z"
         },
         {
          "empty_slots": null,
          "extra": {
           "bike_autonomy": 10000,
           "bike_state_of_charge": 45,
           "distance": 1677,
           "uid": "ce4bh3p2rcd13ifvqdp0"
          },
          "free_bikes": 2,
          "id": "1039c26d41a9742ec96aa869dc2d242f",
          "latitude": 43.29516935,
          "longitude": 5.390426195,
          "name": "Chave Eugene Pierre",
          "timestamp": "2023-10-27T18:30:49.210000Z"
         },
         {
          "empty_slots": null,
          "extra": {
           "bike_autonomy": 2000,
           "bike_state_of_charge": 25,
           "distance": 1706,
           "uid": "ce4bh412rcd13ifvqdr0"
          },
          "free_bikes": 5,
          "id": "cc7fd2d80bc9454ba812a3422bbe07ff",
          "latitude": 43.283497890652455,
          "longitude": 5.380948347618755,
          "name": "Paradis - Escat",
          "timestamp": "2023-10-27T18:30:49.213000Z"
         },
         {
          "empty_slots": null,
          "extra": {
           "bike_autonomy": 1200,
           "bike_state_of_charge": 23,
           "distance": 1744,
           "uid": "ce4bh512rcd13ifvqe3g"
          },
          "free_bikes": 1,
          "id": "7520bbd19efcf7eafc0fadd25e281b68",
          "latitude": 43.28479294027045,
          "longitude": 5.384113381462271,
          "name": "Castellane",
          "timestamp": "2023-10-27T18:30:49.225000Z"
         },
         {
          "empty_slots": null,
          "extra": {
           "bike_autonomy": 15200,
           "bike_state_of_charge": 58,
           "distance": 1793,
           "uid": "ce4bha12rcd13ifvqef0"
          },
          "free_bikes": 2,
          "id": "d77c07973a7b6e25a01ad7b64533cebe",
          "latitude": 43.280390122603876,
          "longitude": 5.369296566841854,
          "name": "Place du Terrail",
          "timestamp": "2023-10-27T18:30:49.279000Z"
         },
         {
          "empty_slots": null,
          "extra": {
           "bike_autonomy": 29600,
           "bike_state_of_charge": 94,
           "distance": 1853,
           "uid": "ce4bha12rcd13ifvqee0"
          },
          "free_bikes": 1,
          "id": "01e273bd2a3c420e5568b2b0cc2d5691",
          "latitude": 43.28104431,
          "longitude": 5.378308143,
          "name": "Vallon Montebello",
          "timestamp": "2023-10-27T18:30:49.284000Z"
         },
         {
          "empty_slots": null,
          "extra": {
           "bike_autonomy": 5600,
           "bike_state_of_charge": 34,
           "distance": 1929,
           "uid": "chh1huq6cuj3fo74tm60"
          },
          "free_bikes": 1,
          "id": "203b188668439e0a0e3d69e8281f4b71",
          "latitude": 43.29781526590139,
          "longitude": 5.393547700948375,
          "name": "Camas - Jaubert",
          "timestamp": "2023-10-27T18:30:49.309000Z"
         },
         {
          "empty_slots": null,
          "extra": {
           "bike_autonomy": 800,
           "bike_state_of_charge": 22,
           "distance": 1944,
           "uid": "ce4bhch2rcd13ifvqeug"
          },
          "free_bikes": 3,
          "id": "7b7e8fa64ef0f3665b64c4ebd1e5bdbb",
          "latitude": 43.285848320041225,
          "longitude": 5.350786907401925,
          "name": "Vallon des Auffes",
          "timestamp": "2023-10-27T18:30:49.318000Z"
         },
         {
          "empty_slots": null,
          "extra": {
           "bike_autonomy": 0,
           "bike_state_of_charge": 0,
           "distance": 2086,
           "uid": "ce4bh2p2rcd13ifvqdi0"
          },
          "free_bikes": 0,
          "id": "167c954aae93a861862e30796ed8e709",
          "latitude": 43.288501054747115,
          "longitude": 5.393086808343014,
          "name": "Baille - Vertus",
          "timestamp": "2023-10-27T18:30:49.353000Z"
         },
         {
          "empty_slots": null,
          "extra": {
           "bike_autonomy": 2800,
           "bike_state_of_charge": 27,
           "distance": 2126,
           "uid": "ce4bhbh2rcd13ifvqepg"
          },
          "free_bikes": 1,
          "id": "80f808466aef1a81aa7d60cfe380916c",
          "latitude": 43.2842190593168,
          "longitude": 5.3496997679310425,
          "name": "Corniche - Malmousque",
          "timestamp": "2023-10-27T18:30:49.377000Z"
         },
         {
          "empty_slots": null,
          "extra": {
           "bike_autonomy": 0,
           "bike_state_of_charge": 0,
           "distance": 2186,
           "uid": "ce4bhbp2rcd13ifvqerg"
          },
          "free_bikes": 0,
          "id": "ed9b325420ce05bd7d788b782c2fd786",
          "latitude": 43.28274440346115,
          "longitude": 5.35053287799019,
          "name": "Corniche - Endoume",
          "timestamp": "2023-10-27T18:30:49.378000Z"
         },
         {
          "empty_slots": null,
          "extra": {
           "bike_autonomy": 0,
           "bike_state_of_charge": 0,
           "distance": 2607,
           "uid": "ce4bhh92rcd13ifvqfi0"
          },
          "free_bikes": 0,
          "id": "6ba010fb5ddcca06fc4086d7a035337a",
          "latitude": 43.27562456,
          "longitude": 5.384392134,
          "name": "Paradis - Lord Duveen",
          "timestamp": "2023-10-27T18:30:49.426000Z"
         },
         {
          "empty_slots": null,
          "extra": {
           "bike_autonomy": 6800,
           "bike_state_of_charge": 37,
           "distance": 2611,
           "uid": "ce4bhbh2rcd13ifvqeo0"
          },
          "free_bikes": 3,
          "id": "a2393885b8fa40ee979029aa329dbd89",
          "latitude": 43.273613112520195,
          "longitude": 5.362704849368924,
          "name": "Plage du Prophète",
          "timestamp": "2023-10-27T18:30:49.427000Z"
         },
         {
          "empty_slots": null,
          "extra": {
           "bike_autonomy": 0,
           "bike_state_of_charge": 0,
           "distance": 2681,
           "uid": "ce4bhi12rcd13ifvqfo0"
          },
          "free_bikes": 0,
          "id": "dcda0b58bb4455fa83daf9d301cf8118",
          "latitude": 43.27676858722245,
          "longitude": 5.388786515806714,
          "name": "Prado - Lord Duveen",
          "timestamp": "2023-10-27T18:30:49.430000Z"
         },
         {
          "empty_slots": null,
          "extra": {
           "bike_autonomy": 0,
           "bike_state_of_charge": 0,
           "distance": 2708,
           "uid": "ce4bhjp2rcd13ifvqga0"
          },
          "free_bikes": 0,
          "id": "4382962c6a34cf200589092a328daf93",
          "latitude": 43.278398597227664,
          "longitude": 5.392138782316124,
          "name": "Liandier - Rouet",
          "timestamp": "2023-10-27T18:30:49.440000Z"
         },
         {
          "empty_slots": null,
          "extra": {
           "bike_autonomy": 0,
           "bike_state_of_charge": 0,
           "distance": 3105,
           "uid": "ce4bhgp2rcd13ifvqfe0"
          },
          "free_bikes": 0,
          "id": "14b37d54a0f240793046f1eeac76e669",
          "latitude": 43.27312918982443,
          "longitude": 5.390725360406577,
          "name": "Rond Point du Prado",
          "timestamp": "2023-10-27T18:30:49.458000Z"
         },
         {
          "empty_slots": null,
          "extra": {
           "bike_autonomy": 0,
           "bike_state_of_charge": 0,
           "distance": 3245,
           "uid": "ce4bhhp2rcd13ifvqfm0"
          },
          "free_bikes": 0,
          "id": "28297c782bcd44c873ef61a53e80ad3e",
          "latitude": 43.27211634133852,
          "longitude": 5.391746867406027,
          "name": "Prado - Michelet",
          "timestamp": "2023-10-27T18:30:49.471000Z"
         },
         {
          "empty_slots": null,
          "extra": {
           "bike_autonomy": 28000,
           "bike_state_of_charge": 90,
           "distance": 3297,
           "uid": "ce4bhh92rcd13ifvqfh0"
          },
          "free_bikes": 2,
          "id": "1fd02b43e353121bf5eb4b18bd026af2",
          "latitude": 43.26946672,
          "longitude": 5.386439042,
          "name": "Prado - Paradis",
          "timestamp": "2023-10-27T18:30:49.472000Z"
         },
         {
          "empty_slots": null,
          "extra": {
           "bike_autonomy": 21600,
           "bike_state_of_charge": 74,
           "distance": 3417,
           "uid": "ce4bhhh2rcd13ifvqfl0"
          },
          "free_bikes": 1,
          "id": "1eb1987540c03ffce20207e4ad708c60",
          "latitude": 43.26931867,
          "longitude": 5.389396978,
          "name": "Negresko - Paulet",
          "timestamp": "2023-10-27T18:30:49.475000Z"
         },
         {
          "empty_slots": null,
          "extra": {
           "bike_autonomy": 0,
           "bike_state_of_charge": 0,
           "distance": 3537,
           "uid": "ce4bhp12rcd13ifvqh9g"
          },
          "free_bikes": 0,
          "id": "fd9d3251f0163c2f567dc05fe3095948",
          "latitude": 43.29957938303167,
          "longitude": 5.413255322900113,
          "name": "Louis Armand",
          "timestamp": "2023-10-27T18:30:49.483000Z"
         },
         {
          "empty_slots": null,
          "extra": {
           "bike_autonomy": 1600,
           "bike_state_of_charge": 24,
           "distance": 3655,
           "uid": "ce4bhnh2rcd13ifvqgtg"
          },
          "free_bikes": 5,
          "id": "6c2badfc9a595903fde9e2b70035911d",
          "latitude": 43.27812844,
          "longitude": 5.407194838,
          "name": "Huveaune - Curtel",
          "timestamp": "2023-10-27T18:30:49.492000Z"
         },
         {
          "empty_slots": null,
          "extra": {
           "bike_autonomy": 0,
           "bike_state_of_charge": 0,
           "distance": 3914,
           "uid": "ce4bhjp2rcd13ifvqg90"
          },
          "free_bikes": 0,
          "id": "e40affe7fd0b25b02e1d39990b82d5fa",
          "latitude": 43.26201967835499,
          "longitude": 5.3792991458357164,
          "name": "Huveaune - Borely",
          "timestamp": "2023-10-27T18:30:49.499000Z"
         },
         {
          "empty_slots": null,
          "extra": {
           "bike_autonomy": 12000,
           "bike_state_of_charge": 50,
           "distance": 4247,
           "uid": "ce4bhl12rcd13ifvqgf0"
          },
          "free_bikes": 8,
          "id": "8b064cab72ba6f3fa1c54c25154780f1",
          "latitude": 43.271387568961586,
          "longitude": 5.40926929141915,
          "name": "Rolland - Platanes",
          "timestamp": "2023-10-27T18:30:49.519000Z"
         },
         {
          "empty_slots": null,
          "extra": {
           "bike_autonomy": 12800,
           "bike_state_of_charge": 52,
           "distance": 4556,
           "uid": "ce4bhi12rcd13ifvqfq0"
          },
          "free_bikes": 1,
          "id": "aa4de37be9d6b23fa8178f11628b0c6b",
          "latitude": 43.26091237294747,
          "longitude": 5.3975844325293565,
          "name": "Cité Radieuse",
          "timestamp": "2023-10-27T18:30:49.531000Z"
         },
         {
          "empty_slots": null,
          "extra": {
           "bike_autonomy": 0,
           "bike_state_of_charge": 0,
           "distance": 4647,
           "uid": "ce4bhih2rcd13ifvqfs0"
          },
          "free_bikes": 0,
          "id": "40db8fa4050df884be276f02cfa723bb",
          "latitude": 43.25575639,
          "longitude": 5.38230303,
          "name": "Clot Bey - Leau",
          "timestamp": "2023-10-27T18:30:49.534000Z"
         },
         {
          "empty_slots": null,
          "extra": {
           "bike_autonomy": 20000,
           "bike_state_of_charge": 70,
           "distance": 4657,
           "uid": "ce4bhh12rcd13ifvqff0"
          },
          "free_bikes": 2,
          "id": "5f517e900e37a22fe24812417d6445e6",
          "latitude": 43.25494658454127,
          "longitude": 5.3764543491352015,
          "name": "Escale Borély",
          "timestamp": "2023-10-27T18:30:49.535000Z"
         },
         {
          "empty_slots": null,
          "extra": {
           "bike_autonomy": 1600,
           "bike_state_of_charge": 24,
           "distance": 4703,
           "uid": "ce4bhip2rcd13ifvqft0"
          },
          "free_bikes": 3,
          "id": "d31009b4d6585de1f587337268a6fd09",
          "latitude": 43.258223500058506,
          "longitude": 5.394368605955606,
          "name": "Mazargues - Saint Anne",
          "timestamp": "2023-10-27T18:30:49.539000Z"
         },
         {
          "empty_slots": null,
          "extra": {
           "bike_autonomy": 15200,
           "bike_state_of_charge": 58,
           "distance": 4829,
           "uid": "ce4bhl92rcd13ifvqghg"
          },
          "free_bikes": 3,
          "id": "c24a311fd802f1c0b474dcf161215087",
          "latitude": 43.25865839,
          "longitude": 5.398934653,
          "name": "Michelet - Luce",
          "timestamp": "2023-10-27T18:30:49.542000Z"
         },
         {
          "empty_slots": null,
          "extra": {
           "bike_autonomy": 10400,
           "bike_state_of_charge": 46,
           "distance": 5038,
           "uid": "ce4bhn92rcd13ifvqgrg"
          },
          "free_bikes": 1,
          "id": "e290c12d65213952833ac6f56ff00054",
          "latitude": 43.27502818,
          "longitude": 5.424533793,
          "name": "Boulevard Urbain Sud - Verdillon",
          "timestamp": "2023-10-27T18:30:49.553000Z"
         },
         {
          "empty_slots": null,
          "extra": {
           "bike_autonomy": 0,
           "bike_state_of_charge": 0,
           "distance": 5162,
           "uid": "ce4bhk92rcd13ifvqgb0"
          },
          "free_bikes": 0,
          "id": "8ab6c6858f2417df04d6e25b6ffe4c4a",
          "latitude": 43.27072082477898,
          "longitude": 5.422763624666231,
          "name": "Boulevard urbain sud - François Mauriac",
          "timestamp": "2023-10-27T18:30:49.555000Z"
         },
         {
          "empty_slots": null,
          "extra": {
           "bike_autonomy": 6000,
           "bike_state_of_charge": 35,
           "distance": 5470,
           "uid": "ce4bhm12rcd13ifvqgkg"
          },
          "free_bikes": 4,
          "id": "513cbedd701231a31d91fc7d0d763f42",
          "latitude": 43.25096566135139,
          "longitude": 5.395186297530245,
          "name": "Mazargues - Almeras",
          "timestamp": "2023-10-27T18:30:49.567000Z"
         },
         {
          "empty_slots": null,
          "extra": {
           "bike_autonomy": 0,
           "bike_state_of_charge": 0,
           "distance": 5607,
           "uid": "ce4bhih2rcd13ifvqfr0"
          },
          "free_bikes": 0,
          "id": "203044bb9d2bf5f89b212b0bb87a5cfb",
          "latitude": 43.24693037,
          "longitude": 5.38209613,
          "name": "Lapin Blanc",
          "timestamp": "2023-10-27T18:30:49.570000Z"
         },
         {
          "empty_slots": null,
          "extra": {
           "bike_autonomy": 10400,
           "bike_state_of_charge": 46,
           "distance": 5741,
           "uid": "ce4bhlh2rcd13ifvqgig"
          },
          "free_bikes": 2,
          "id": "a15e1fdc35118d87be39b51fbd767689",
          "latitude": 43.25102036834343,
          "longitude": 5.403214047900747,
          "name": "Obélisque de Mazargues",
          "timestamp": "2023-10-27T18:30:49.572000Z"
         },
         {
          "empty_slots": null,
          "extra": {
           "bike_autonomy": 0,
           "bike_state_of_charge": 0,
           "distance": 5857,
           "uid": "ce4bhhh2rcd13ifvqfk0"
          },
          "free_bikes": 0,
          "id": "5655a12f8c432d9c1749a3380907f882",
          "latitude": 43.243884231063475,
          "longitude": 5.370736380062908,
          "name": "Plage de la Pointe Rouge",
          "timestamp": "2023-10-27T18:30:49.581000Z"
         },
         {
          "empty_slots": null,
          "extra": {
           "bike_autonomy": 27600,
           "bike_state_of_charge": 89,
           "distance": 6026,
           "uid": "ce4bhlp2rcd13ifvqgjg"
          },
          "free_bikes": 2,
          "id": "6772d546fecfef612f8100431d42f11f",
          "latitude": 43.245581297728705,
          "longitude": 5.395069220467349,
          "name": "Lancier - Savary",
          "timestamp": "2023-10-27T18:30:49.586000Z"
         },
         {
          "empty_slots": null,
          "extra": {
           "bike_autonomy": 27600,
           "bike_state_of_charge": 89,
           "distance": 6252,
           "uid": "ce4bhnp2rcd13ifvqgvg"
          },
          "free_bikes": 1,
          "id": "ffec4c761d15ee9f61c5737f539278db",
          "latitude": 43.24062346787065,
          "longitude": 5.377642413176545,
          "name": "Corail - Marseilleveyre",
          "timestamp": "2023-10-27T18:30:49.587000Z"
         },
         {
          "empty_slots": null,
          "extra": {
           "bike_autonomy": 22400,
           "bike_state_of_charge": 76,
           "distance": 6341,
           "uid": "ce4bhi12rcd13ifvqfp0"
          },
          "free_bikes": 1,
          "id": "490f53b16861ccb985c4c9d75b18e00b",
          "latitude": 43.23958841257124,
          "longitude": 5.366238242702252,
          "name": "Parc Pastré",
          "timestamp": "2023-10-27T18:30:49.589000Z"
         },
         {
          "empty_slots": null,
          "extra": {
           "bike_autonomy": 10000,
           "bike_state_of_charge": 45,
           "distance": 6485,
           "uid": "ce4bhn12rcd13ifvqgpg"
          },
          "free_bikes": 5,
          "id": "c8a712c413126e32e879b700b6727886",
          "latitude": 43.24178222403938,
          "longitude": 5.397261332914354,
          "name": "Roy d'Espagne - Floralia",
          "timestamp": "2023-10-27T18:30:49.590000Z"
         },
         {
          "empty_slots": null,
          "extra": {
           "bike_autonomy": 17200,
           "bike_state_of_charge": 63,
           "distance": 7280,
           "uid": "ce4bhu92rcd13ifvqi70"
          },
          "free_bikes": 1,
          "id": "ed5ee81a5b1094a5cf764b3924642f61",
          "latitude": 43.231922566975584,
          "longitude": 5.355545384096217,
          "name": "Madrague de Montredon",
          "timestamp": "2023-10-27T18:30:49.592000Z"
         },
         {
          "empty_slots": null,
          "extra": {
           "bike_autonomy": 10000,
           "bike_state_of_charge": 45,
           "distance": 9048,
           "uid": "ce4bhmp2rcd13ifvqgog"
          },
          "free_bikes": 1,
          "id": "4e2564a3e789cca7e64a7ee7c7961ef6",
          "latitude": 43.23156159,
          "longitude": 5.436933396,
          "name": "Luminy - Parc National des Calanques",
          "timestamp": "2023-10-27T18:30:49.595000Z"
         },
         {
          "empty_slots": null,
          "extra": {
           "bike_autonomy": 22000,
           "bike_state_of_charge": 75,
           "distance": 1166,
           "uid": "ce4bht12rcd13ifvqi60"
          },
          "free_bikes": 1,
          "id": "970674886f90434552d2119aef22eb82",
          "latitude": 43.286038666099785,
          "longitude": 5.370678521004038,
          "name": "Char Jeanne d'Arc - Notre Dame de La Garde",
          "timestamp": "2023-10-27T18:30:49.025000Z"
         },
         {
          "empty_slots": null,
          "extra": {
           "bike_autonomy": 2400,
           "bike_state_of_charge": 26,
           "distance": 1247,
           "uid": "ce4bh692rcd13ifvqea0"
          },
          "free_bikes": 21,
          "id": "24e8e2cc29ac40735ba3d2f5e0bc06c3",
          "latitude": 43.29264247456925,
          "longitude": 5.384253993651782,
          "name": "Cours Julien - Frères Barthelemy",
          "timestamp": "2023-10-27T18:30:49.109000Z"
         },
         {
          "empty_slots": null,
          "extra": {
           "bike_autonomy": 0,
           "bike_state_of_charge": 0,
           "distance": 1522,
           "uid": "ce4bgg92rcd13ifvqb30"
          },
          "free_bikes": 0,
          "id": "dc21f54ed7e1d5025dff893bc62530a5",
          "latitude": 43.30536406,
          "longitude": 5.384119039,
          "name": "National - Guibal",
          "timestamp": "2023-10-27T18:30:49.173000Z"
         },
         {
          "empty_slots": null,
          "extra": {
           "bike_autonomy": 0,
           "bike_state_of_charge": 0,
           "distance": 1608,
           "uid": "ce4bhah2rcd13ifvqei0"
          },
          "free_bikes": 0,
          "id": "65c4f0b4c81599b1c2412811c1307c13",
          "latitude": 43.28453826179185,
          "longitude": 5.358657022621628,
          "name": "Saint-Eugène",
          "timestamp": "2023-10-27T18:30:49.201000Z"
         },
         {
          "empty_slots": null,
          "extra": {
           "bike_autonomy": 3600,
           "bike_state_of_charge": 29,
           "distance": 1963,
           "uid": "ce4bh292rcd13ifvqdf0"
          },
          "free_bikes": 1,
          "id": "093f394a42f8f708ee4d938f7361f361",
          "latitude": 43.295196228553976,
          "longitude": 5.3939698617419936,
          "name": "Chave - Goudard",
          "timestamp": "2023-10-27T18:30:49.327000Z"
         },
         {
          "empty_slots": null,
          "extra": {
           "bike_autonomy": 13200,
           "bike_state_of_charge": 53,
           "distance": 2110,
           "uid": "ce4bhf92rcd13ifvqf50"
          },
          "free_bikes": 3,
          "id": "0b22c545caff574a87b374a9a6fbff98",
          "latitude": 43.2790871519652,
          "longitude": 5.380114290305642,
          "name": "Périer - Cremieux",
          "timestamp": "2023-10-27T18:30:49.370000Z"
         },
         {
          "empty_slots": null,
          "extra": {
           "bike_autonomy": 2000,
           "bike_state_of_charge": 25,
           "distance": 2350,
           "uid": "ce4bhg12rcd13ifvqf80"
          },
          "free_bikes": 3,
          "id": "8dbc9e4a6e80d4cccc8576b9a12da472",
          "latitude": 43.27974223,
          "longitude": 5.387440377,
          "name": "Prado - Périer",
          "timestamp": "2023-10-27T18:30:49.403000Z"
         },
         {
          "empty_slots": null,
          "extra": {
           "bike_autonomy": 3600,
           "bike_state_of_charge": 29,
           "distance": 3466,
           "uid": "ce4bhg92rcd13ifvqf90"
          },
          "free_bikes": 1,
          "id": "db04068913ba650c7299035d5a804f6e",
          "latitude": 43.2668101,
          "longitude": 5.382693941,
          "name": "Prado - Gabes",
          "timestamp": "2023-10-27T18:30:49.481000Z"
         },
         {
          "empty_slots": null,
          "extra": {
           "bike_autonomy": 2000,
           "bike_state_of_charge": 25,
           "distance": 3555,
           "uid": "ce4bhs92rcd13ifvqi0g"
          },
          "free_bikes": 1,
          "id": "66cd1e8a626c8791a801fdd38ab0c221",
          "latitude": 43.3283706355171,
          "longitude": 5.366912086186176,
          "name": "Gèze",
          "timestamp": "2023-10-27T18:30:49.484000Z"
         },
         {
          "empty_slots": null,
          "extra": {
           "bike_autonomy": 29600,
           "bike_state_of_charge": 94,
           "distance": 3732,
           "uid": "ce4bhh12rcd13ifvqfg0"
          },
          "free_bikes": 1,
          "id": "8c8a74d361b60d2502e952e471d50764",
          "latitude": 43.26796562,
          "longitude": 5.393976415,
          "name": "Michelet - Huveaune",
          "timestamp": "2023-10-27T18:30:49.494000Z"
         },
         {
          "empty_slots": null,
          "extra": {
           "bike_autonomy": 14000,
           "bike_state_of_charge": 55,
           "distance": 3813,
           "uid": "ce4bhe12rcd13ifvqf30"
          },
          "free_bikes": 1,
          "id": "85649ceb53a507a5ae3da3116eedf4c1",
          "latitude": 43.265570946669925,
          "longitude": 5.390032250158811,
          "name": "Mazargues - Huveaune",
          "timestamp": "2023-10-27T18:30:49.497000Z"
         },
         {
          "empty_slots": null,
          "extra": {
           "bike_autonomy": 0,
           "bike_state_of_charge": 0,
           "distance": 4064,
           "uid": "ce4bhgh2rcd13ifvqfa0"
          },
          "free_bikes": 0,
          "id": "936bdc75a245ae64f120ed99a7ff5f24",
          "latitude": 43.260224964054686,
          "longitude": 5.3754548502465695,
          "name": "Mendès France Huveaune",
          "timestamp": "2023-10-27T18:30:49.508000Z"
         },
         {
          "empty_slots": null,
          "extra": {
           "bike_autonomy": 28400,
           "bike_state_of_charge": 91,
           "distance": 4441,
           "uid": "ce4bhh92rcd13ifvqfj0"
          },
          "free_bikes": 1,
          "id": "34727e7e58ec474b59b7063cd3bdddb3",
          "latitude": 43.26069975,
          "longitude": 5.393983394,
          "name": "318 Mazargues",
          "timestamp": "2023-10-27T18:30:49.522000Z"
         },
         {
          "empty_slots": null,
          "extra": {
           "bike_autonomy": 3600,
           "bike_state_of_charge": 29,
           "distance": 5407,
           "uid": "ce4bhgp2rcd13ifvqfd0"
          },
          "free_bikes": 5,
          "id": "1b80fcb1f791fab893ba37ddcd819e72",
          "latitude": 43.25002314043684,
          "longitude": 5.389189832781312,
          "name": "Hambourg Rond Point Guerre",
          "timestamp": "2023-10-27T18:30:49.559000Z"
         },
         {
          "empty_slots": null,
          "extra": {
           "bike_autonomy": 31200,
           "bike_state_of_charge": 98,
           "distance": 5423,
           "uid": "ce4bhgh2rcd13ifvqfb0"
          },
          "free_bikes": 1,
          "id": "fcff6c5b82ace50a5dc66c8d6515e030",
          "latitude": 43.2479001,
          "longitude": 5.374457344,
          "name": "Vieille Chapelle",
          "timestamp": "2023-10-27T18:30:49.561000Z"
         },
         {
          "empty_slots": null,
          "extra": {
           "bike_autonomy": 6000,
           "bike_state_of_charge": 35,
           "distance": 5782,
           "uid": "ce4bhg12rcd13ifvqf60"
          },
          "free_bikes": 6,
          "id": "077070bc6c3effb73a39886b2782c6ca",
          "latitude": 43.24646666954729,
          "longitude": 5.388984457266133,
          "name": "Zenatti - Malrieu",
          "timestamp": "2023-10-27T18:30:49.573000Z"
         },
         {
          "empty_slots": null,
          "extra": {
           "bike_autonomy": 17600,
           "bike_state_of_charge": 64,
           "distance": 3808,
           "uid": "ce4bhnp2rcd13ifvqh0g"
          },
          "free_bikes": 2,
          "id": "b2606de0242428c9b1996b12f6013b4d",
          "latitude": 43.27946481,
          "longitude": 5.410561214,
          "name": "Capelette - Forges",
          "timestamp": "2023-10-27T18:30:49.495000Z"
         },
         {
          "empty_slots": null,
          "extra": {
           "bike_autonomy": 2800,
           "bike_state_of_charge": 27,
           "distance": 3117,
           "uid": "ce4bhr12rcd13ifvqhqg"
          },
          "free_bikes": 4,
          "id": "a05bfd1216843149dffcc5397fb6b612",
          "latitude": 43.32287191,
          "longitude": 5.382756282,
          "name": "Place Dalmas",
          "timestamp": "2023-10-27T18:30:49.461000Z"
         },
         {
          "empty_slots": null,
          "extra": {
           "bike_autonomy": 0,
           "bike_state_of_charge": 0,
           "distance": 3172,
           "uid": "ce4bhdp2rcd13ifvqf20"
          },
          "free_bikes": 0,
          "id": "13f479d3441b1c509f7ea62c98704990",
          "latitude": 43.27410312139213,
          "longitude": 5.394016006213974,
          "name": "Rabateau - Hôpital Saint-Joseph",
          "timestamp": "2023-10-27T18:30:49.466000Z"
         },
         {
          "empty_slots": null,
          "extra": {
           "bike_autonomy": 800,
           "bike_state_of_charge": 22,
           "distance": 7608,
           "uid": "ce4bhn12rcd13ifvqgqg"
          },
          "free_bikes": 4,
          "id": "c9d475beb81452dbc43c655308dfbece",
          "latitude": 43.23179293755999,
          "longitude": 5.400044027608033,
          "name": "Sormiou",
          "timestamp": "2023-10-27T18:30:49.593000Z"
         },
         {
          "empty_slots": null,
          "extra": {
           "bike_autonomy": 30800,
           "bike_state_of_charge": 97,
           "distance": 870,
           "uid": "ce4bhbh2rcd13ifvqeqg"
          },
          "free_bikes": 1,
          "id": "5c681b122c27199052595cfd1837ea95",
          "latitude": 43.2923113,
          "longitude": 5.360730586,
          "name": "Livon - Vieux-Port",
          "timestamp": "2023-10-27T18:30:48.981000Z"
         },
         {
          "empty_slots": null,
          "extra": {
           "bike_autonomy": 0,
           "bike_state_of_charge": 0,
           "distance": 3976,
           "uid": "ce4bhq12rcd13ifvqhig"
          },
          "free_bikes": 0,
          "id": "27929305220bb0c774b271bcb9ef9fd9",
          "latitude": 43.31917923,
          "longitude": 5.407725382,
          "name": "Perrin - Le Moulin",
          "timestamp": "2023-10-27T18:30:49.502000Z"
         },
         {
          "empty_slots": null,
          "extra": {
           "bike_autonomy": 6400,
           "bike_state_of_charge": 36,
           "distance": 1384,
           "uid": "ce4bgv92rcd13ifvqcq0"
          },
          "free_bikes": 1,
          "id": "3e4776bfb1e3eef1f688532d05e22274",
          "latitude": 43.30794517,
          "longitude": 5.376487141,
          "name": "Strasbourg - Leca",
          "timestamp": "2023-10-27T18:30:49.144000Z"
         },
         {
          "empty_slots": null,
          "extra": {
           "bike_autonomy": 0,
           "bike_state_of_charge": 0,
           "distance": 3142,
           "uid": "ce4bh092rcd13ifvqd30"
          },
          "free_bikes": 0,
          "id": "5a9aa9fcd6626c62ccf6b92c31d4ad30",
          "latitude": 43.31260893,
          "longitude": 5.401662431,
          "name": "Saint-Just - Labry",
          "timestamp": "2023-10-27T18:30:49.462000Z"
         },
         {
          "empty_slots": null,
          "extra": {
           "bike_autonomy": 0,
           "bike_state_of_charge": 0,
           "distance": 4865,
           "uid": "ce4bhr92rcd13ifvqhsg"
          },
          "free_bikes": 0,
          "id": "c0a8170f19e0140a71f497570bbd609b",
          "latitude": 43.3371680327555,
          "longitude": 5.391824847426392,
          "name": "Peupliers - Berthelot",
          "timestamp": "2023-10-27T18:30:49.545000Z"
         },
         {
          "empty_slots": null,
          "extra": {
           "bike_autonomy": 0,
           "bike_state_of_charge": 0,
           "distance": 5919,
           "uid": "ce4bhqh2rcd13ifvqhlg"
          },
          "free_bikes": 0,
          "id": "917f7be6b4e69f473703e6c11fb8439b",
          "latitude": 43.34080437,
          "longitude": 5.41021883,
          "name": "IUT Saint Jérôme",
          "timestamp": "2023-10-27T18:30:49.584000Z"
         },
         {
          "empty_slots": null,
          "extra": {
           "bike_autonomy": 15200,
           "bike_state_of_charge": 58,
           "distance": 394,
           "uid": "ce4bgr92rcd13ifvqc7g"
          },
          "free_bikes": 1,
          "id": "aae7647ef4505c3a2cbf40791b60ab29",
          "latitude": 43.29972361,
          "longitude": 5.371828908,
          "name": "Sadi-Carnot",
          "timestamp": "2023-10-27T18:30:48.924000Z"
         },
         {
          "empty_slots": null,
          "extra": {
           "bike_autonomy": 0,
           "bike_state_of_charge": 0,
           "distance": 5259,
           "uid": "ce4bhm92rcd13ifvqglg"
          },
          "free_bikes": 0,
          "id": "50e6f6058b5e4ef50d8d4463c9000cf1",
          "latitude": 43.25900934682247,
          "longitude": 5.409290356125894,
          "name": "Hôpital Sainte-Marguerite",
          "timestamp": "2023-10-27T18:30:49.556000Z"
         },
         {
          "empty_slots": null,
          "extra": {
           "bike_autonomy": 2400,
           "bike_state_of_charge": 26,
           "distance": 2780,
           "uid": "ce4bh112rcd13ifvqd90"
          },
          "free_bikes": 2,
          "id": "d4f2896db476e2de85b5e2a9c1c767ff",
          "latitude": 43.297946098534624,
          "longitude": 5.404062681086202,
          "name": "Foch - Boisson",
          "timestamp": "2023-10-27T18:30:49.443000Z"
         },
         {
          "empty_slots": null,
          "extra": {
           "bike_autonomy": 0,
           "bike_state_of_charge": 0,
           "distance": 4014,
           "uid": "cjm6bp8fraef2m0cb0m0"
          },
          "free_bikes": 0,
          "id": "c59d3d8f957565e445ca29fc004b3cdc",
          "latitude": 43.26949,
          "longitude": 5.40262,
          "name": "Sainte Marguerite Schloesing",
          "timestamp": "2023-10-27T18:30:49.505000Z"
         },
         {
          "empty_slots": null,
          "extra": {
           "bike_autonomy": 24000,
           "bike_state_of_charge": 80,
           "distance": 3883,
           "uid": "ce4bhgp2rcd13ifvqfc0"
          },
          "free_bikes": 2,
          "id": "ef67605d424a95b86ff5a30ead03b031",
          "latitude": 43.26178214,
          "longitude": 5.374514856,
          "name": "Promenade Pompidou David",
          "timestamp": "2023-10-27T18:30:49.498000Z"
         },
         {
          "empty_slots": null,
          "extra": {
           "bike_autonomy": 30400,
           "bike_state_of_charge": 96,
           "distance": 3436,
           "uid": "ce4bhg12rcd13ifvqf70"
          },
          "free_bikes": 1,
          "id": "277fd295f44c558878500297e691f2b8",
          "latitude": 43.26571391,
          "longitude": 5.372890521,
          "name": "Base Nautique Roucas Blanc",
          "timestamp": "2023-10-27T18:30:49.477000Z"
         },
         {
          "empty_slots": null,
          "extra": {
           "bike_autonomy": 22000,
           "bike_state_of_charge": 75,
           "distance": 1260,
           "uid": "cki0cbj6b192h4jlfktg"
          },
          "free_bikes": 3,
          "id": "29c1378d5304706151f792b23422b863",
          "latitude": 43.28727,
          "longitude": 5.36078,
          "name": "Tobelem - Crinias",
          "timestamp": "2023-10-27T18:30:49.115000Z"
         },
         {
          "empty_slots": null,
          "extra": {
           "bike_autonomy": 12400,
           "bike_state_of_charge": 51,
           "distance": 4881,
           "uid": "ce4bhnh2rcd13ifvqgug"
          },
          "free_bikes": 1,
          "id": "f85a6dfbdd42e5004e4a977b2a6e3ed9",
          "latitude": 43.28154806631724,
          "longitude": 5.426429873252573,
          "name": "Boulevard Urbain Sud - Pont de Vivaux",
          "timestamp": "2023-10-27T18:30:49.546000Z"
         },
         {
          "empty_slots": null,
          "extra": {
           "bike_autonomy": 8400,
           "bike_state_of_charge": 41,
           "distance": 1405,
           "uid": "ce4bh612rcd13ifvqe6g"
          },
          "free_bikes": 3,
          "id": "d6f0c539d3173cb339d34f6ae7d1133b",
          "latitude": 43.2893069,
          "longitude": 5.38406028,
          "name": "Lieutaud - Berlioz",
          "timestamp": "2023-10-27T18:30:49.169000Z"
         },
         {
          "empty_slots": null,
          "extra": {
           "bike_autonomy": 0,
           "bike_state_of_charge": 0,
           "distance": 924,
           "uid": "ce4bhc92rcd13ifvqetg"
          },
          "free_bikes": 0,
          "id": "4469719e6215c7a56bd95004f6cb6d7b",
          "latitude": 43.28946766,
          "longitude": 5.363719459,
          "name": "Corse - Saint Maurice",
          "timestamp": "2023-10-27T18:30:48.987000Z"
         },
         {
          "empty_slots": null,
          "extra": {
           "bike_autonomy": 5200,
           "bike_state_of_charge": 33,
           "distance": 5457,
           "uid": "ce4bhph2rcd13ifvqheg"
          },
          "free_bikes": 4,
          "id": "d544cd5d73d3fbec7297fea07a529e38",
          "latitude": 43.30805059284097,
          "longitude": 5.43527038728962,
          "name": "Beaumont",
          "timestamp": "2023-10-27T18:30:49.565000Z"
         },
         {
          "empty_slots": null,
          "extra": {
           "bike_autonomy": 6800,
           "bike_state_of_charge": 37,
           "distance": 3068,
           "uid": "ce4bho92rcd13ifvqh4g"
          },
          "free_bikes": 14,
          "id": "5ea630c5438d2fbea0ef055410f0b715",
          "latitude": 43.27995154116266,
          "longitude": 5.400084718244955,
          "name": "Palais Omnisports",
          "timestamp": "2023-10-27T18:30:49.456000Z"
         }
        ]
       }
      },
      "text/plain": [
       "<IPython.core.display.JSON object>"
      ]
     },
     "execution_count": 7,
     "metadata": {
      "application/json": {
       "expanded": false,
       "root": "root"
      }
     },
     "output_type": "execute_result"
    }
   ],
   "source": [
    "city_bikes_marseille = requests.get(\"http://api.citybik.es/v2/networks/le-velo\").json()\n",
    "JSON(city_bikes_marseille)"
   ]
  },
  {
   "cell_type": "code",
   "execution_count": 8,
   "metadata": {},
   "outputs": [],
   "source": [
    "df_city_bikes_marseille = pd.read_json(\"http://api.citybik.es/v2/networks/le-velo\")"
   ]
  },
  {
   "cell_type": "code",
   "execution_count": 9,
   "metadata": {},
   "outputs": [],
   "source": [
    "stations_archive = df_city_bikes_marseille[\"network\"][\"stations\"]"
   ]
  },
  {
   "cell_type": "code",
   "execution_count": 22,
   "metadata": {},
   "outputs": [],
   "source": [
    "def final_array_of_parsed_stations ():\n",
    "    array_of_stations = []\n",
    "    for stations in stations_archive:\n",
    "        name = stations[\"name\"]\n",
    "        latitude = stations[\"latitude\"]\n",
    "        longitude = stations[\"longitude\"]\n",
    "        empty_slots = stations[\"empty_slots\"]\n",
    "        Available_bikes = stations[\"free_bikes\"]\n",
    "        timestamp = stations[\"timestamp\"]\n",
    "        parsed_array_of_stations = {\"name\": name,\"Latitude\": latitude, \"Longitude\": longitude, \"Empty Slots\": empty_slots, \"free_bikes\": Available_bikes, \"timestamp\": timestamp}\n",
    "        array_of_stations.append(parsed_array_of_stations)\n",
    "    return array_of_stations\n",
    "\n",
    "marseille_bike_stations = final_array_of_parsed_stations()\n",
    "df_array_of_stations = pd.DataFrame(final_array_of_parsed_stations())"
   ]
  },
  {
   "cell_type": "markdown",
   "metadata": {},
   "source": [
    "Send a request to Foursquare with a small radius (1000m) for all the bike stations in your city of choice. "
   ]
  },
  {
   "cell_type": "code",
   "execution_count": 26,
   "metadata": {},
   "outputs": [],
   "source": [
    "\n",
    "import requests\n",
    "\n",
    "def fsq_req_marseille(bike_stations, fsq_api_key): \n",
    "    radius = 1000\n",
    "    fsq_data = []\n",
    "\n",
    "    for station in bike_stations:\n",
    "        latitude = station[\"latitude\"]\n",
    "        longitude = station[\"longitude\"]\n",
    "        foursquare_url = f\"https://api.foursquare.com/v3/places/search?ll={latitude},{longitude}&radius={radius}\"\n",
    "\n",
    "        headers = {\n",
    "            \"accept\": \"application/json\",\n",
    "            \"Authorization\": f\"Bearer {fsq_api_key}\"\n",
    "        }\n",
    "\n",
    "        response = requests.get(foursquare_url, headers=headers)\n",
    "\n",
    "        if response.status_code == 200:\n",
    "            fsq_data.append(response.json())\n",
    "        else:\n",
    "            print(f\"API request for station failed with status code:\", response.status_code)\n",
    "\n",
    "    return fsq_data\n",
    "\n",
    "\n",
    "\n"
   ]
  },
  {
   "cell_type": "markdown",
   "metadata": {},
   "source": [
    "Parse through the response to get the POI (such as restaurants, bars, etc) details you want (ratings, name, location, etc)"
   ]
  },
  {
   "cell_type": "code",
   "execution_count": null,
   "metadata": {},
   "outputs": [],
   "source": []
  },
  {
   "cell_type": "markdown",
   "metadata": {},
   "source": [
    "Put your parsed results into a DataFrame"
   ]
  },
  {
   "cell_type": "code",
   "execution_count": null,
   "metadata": {},
   "outputs": [],
   "source": []
  },
  {
   "cell_type": "markdown",
   "metadata": {},
   "source": [
    "# Yelp"
   ]
  },
  {
   "cell_type": "markdown",
   "metadata": {},
   "source": [
    "Send a request to Yelp with a small radius (1000m) for all the bike stations in your city of choice. "
   ]
  },
  {
   "cell_type": "code",
   "execution_count": null,
   "metadata": {},
   "outputs": [],
   "source": []
  },
  {
   "cell_type": "markdown",
   "metadata": {},
   "source": [
    "Parse through the response to get the POI (such as restaurants, bars, etc) details you want (ratings, name, location, etc)"
   ]
  },
  {
   "cell_type": "code",
   "execution_count": null,
   "metadata": {},
   "outputs": [],
   "source": []
  },
  {
   "cell_type": "markdown",
   "metadata": {},
   "source": [
    "Put your parsed results into a DataFrame"
   ]
  },
  {
   "cell_type": "markdown",
   "metadata": {},
   "source": []
  },
  {
   "cell_type": "markdown",
   "metadata": {},
   "source": [
    "# Comparing Results"
   ]
  },
  {
   "cell_type": "markdown",
   "metadata": {},
   "source": [
    "Which API provided you with more complete data? Provide an explanation. "
   ]
  },
  {
   "cell_type": "markdown",
   "metadata": {},
   "source": []
  },
  {
   "cell_type": "markdown",
   "metadata": {},
   "source": [
    "Get the top 10 restaurants according to their rating"
   ]
  },
  {
   "cell_type": "code",
   "execution_count": null,
   "metadata": {},
   "outputs": [],
   "source": []
  }
 ],
 "metadata": {
  "kernelspec": {
   "display_name": "Python 3",
   "language": "python",
   "name": "python3"
  },
  "language_info": {
   "codemirror_mode": {
    "name": "ipython",
    "version": 3
   },
   "file_extension": ".py",
   "mimetype": "text/x-python",
   "name": "python",
   "nbconvert_exporter": "python",
   "pygments_lexer": "ipython3",
   "version": "3.11.5"
  }
 },
 "nbformat": 4,
 "nbformat_minor": 4
}
