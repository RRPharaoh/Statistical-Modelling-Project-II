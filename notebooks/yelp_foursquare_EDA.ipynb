{
 "cells": [
  {
   "cell_type": "code",
   "execution_count": 2,
   "metadata": {},
   "outputs": [],
   "source": [
    "#Library imports\n",
    "import requests\n",
    "from IPython.display import JSON \n",
    "import pandas as pd\n",
    "import numpy as np\n",
    "import os"
   ]
  },
  {
   "cell_type": "code",
   "execution_count": 3,
   "metadata": {},
   "outputs": [],
   "source": [
    "df_marseille_stations = pd.read_csv(\"../data/df_marseille_stations.csv\")\n",
    "marseille_stations = df_marseille_stations.to_dict(orient=\"records\")\n"
   ]
  },
  {
   "cell_type": "code",
   "execution_count": 5,
   "metadata": {},
   "outputs": [
    {
     "name": "stdout",
     "output_type": "stream",
     "text": [
      "{'name': 'Cours Jean Ballard', 'free_bikes': 0, 'Latitude': 43.29300892, 'Longitude': 5.374584208}\n",
      "{'name': 'Allées Gambetta', 'free_bikes': 0, 'Latitude': 43.29902797, 'Longitude': 5.381509226}\n",
      "{'name': 'Réformés Canebière', 'free_bikes': 2, 'Latitude': 43.29971664630074, 'Longitude': 5.384845163546515}\n",
      "{'name': 'Coutellerie', 'free_bikes': 1, 'Latitude': 43.29679958, 'Longitude': 5.372909688}\n",
      "{'name': 'Canebiere - Beauvau', 'free_bikes': 0, 'Latitude': 43.29527892, 'Longitude': 5.375048465}\n",
      "{'name': 'Colbert Ste Barbe', 'free_bikes': 3, 'Latitude': 43.299242645590766, 'Longitude': 5.374807305735999}\n",
      "{'name': 'Centre Bourse', 'free_bikes': 1, 'Latitude': 43.29693502454282, 'Longitude': 5.376544207099414}\n",
      "{'name': 'Saint-Ferréol - Davso', 'free_bikes': 1, 'Latitude': 43.29360042, 'Longitude': 5.378349882}\n",
      "{'name': 'Flammarion - Isoard', 'free_bikes': 1, 'Latitude': 43.3042781513621, 'Longitude': 5.388867929313619}\n",
      "{'name': 'Longchamp - Grobet', 'free_bikes': 1, 'Latitude': 43.30299233959067, 'Longitude': 5.39213628647542}\n"
     ]
    }
   ],
   "source": [
    "def fsq_stations_scrape():\n",
    "    fsq_stations_scrape_array = []\n",
    "    \n",
    "    for stations in marseille_stations:\n",
    "        name = stations[\"name\"]\n",
    "        free_bikes = stations[\"free_bikes\"]\n",
    "        Latitude = stations[\"Latitude\"]\n",
    "        Longitude = stations[\"Longitude\"]\n",
    "        dict_of_each_poi = {\"name\": name, \"free_bikes\" : free_bikes, \"Latitude\": Latitude, \"Longitude\": Longitude}\n",
    "        fsq_stations_scrape_array.append(dict_of_each_poi)\n",
    "        \n",
    "    return fsq_stations_scrape_array\n",
    "\n",
    "parsed_stations = fsq_stations_scrape()\n",
    "\n",
    "for station in parsed_stations[:10]:\n",
    "    print(station)"
   ]
  },
  {
   "cell_type": "markdown",
   "metadata": {},
   "source": [
    "# Foursquare"
   ]
  },
  {
   "cell_type": "markdown",
   "metadata": {},
   "source": [
    "*This API broke on me mid analysis and was loading empty rows. I played around with the syntax, but was unable to get it to function again, even though it appeared to function initially. so, for the sake of completing the assignment, I have chosen to omit the foursquare data completely.*"
   ]
  },
  {
   "cell_type": "markdown",
   "metadata": {},
   "source": [
    "Send a request to Foursquare with a small radius (1000m) for all the bike stations in your city of choice. "
   ]
  },
  {
   "cell_type": "code",
   "execution_count": 76,
   "metadata": {},
   "outputs": [
    {
     "ename": "JSONDecodeError",
     "evalue": "Expecting value: line 1 column 1 (char 0)",
     "output_type": "error",
     "traceback": [
      "\u001b[1;31m---------------------------------------------------------------------------\u001b[0m",
      "\u001b[1;31mJSONDecodeError\u001b[0m                           Traceback (most recent call last)",
      "File \u001b[1;32mc:\\Users\\rakee\\anaconda3\\Lib\\site-packages\\requests\\models.py:971\u001b[0m, in \u001b[0;36mResponse.json\u001b[1;34m(self, **kwargs)\u001b[0m\n\u001b[0;32m    970\u001b[0m \u001b[39mtry\u001b[39;00m:\n\u001b[1;32m--> 971\u001b[0m     \u001b[39mreturn\u001b[39;00m complexjson\u001b[39m.\u001b[39mloads(\u001b[39mself\u001b[39m\u001b[39m.\u001b[39mtext, \u001b[39m*\u001b[39m\u001b[39m*\u001b[39mkwargs)\n\u001b[0;32m    972\u001b[0m \u001b[39mexcept\u001b[39;00m JSONDecodeError \u001b[39mas\u001b[39;00m e:\n\u001b[0;32m    973\u001b[0m     \u001b[39m# Catch JSON-related errors and raise as requests.JSONDecodeError\u001b[39;00m\n\u001b[0;32m    974\u001b[0m     \u001b[39m# This aliases json.JSONDecodeError and simplejson.JSONDecodeError\u001b[39;00m\n",
      "File \u001b[1;32mc:\\Users\\rakee\\anaconda3\\Lib\\json\\__init__.py:346\u001b[0m, in \u001b[0;36mloads\u001b[1;34m(s, cls, object_hook, parse_float, parse_int, parse_constant, object_pairs_hook, **kw)\u001b[0m\n\u001b[0;32m    343\u001b[0m \u001b[39mif\u001b[39;00m (\u001b[39mcls\u001b[39m \u001b[39mis\u001b[39;00m \u001b[39mNone\u001b[39;00m \u001b[39mand\u001b[39;00m object_hook \u001b[39mis\u001b[39;00m \u001b[39mNone\u001b[39;00m \u001b[39mand\u001b[39;00m\n\u001b[0;32m    344\u001b[0m         parse_int \u001b[39mis\u001b[39;00m \u001b[39mNone\u001b[39;00m \u001b[39mand\u001b[39;00m parse_float \u001b[39mis\u001b[39;00m \u001b[39mNone\u001b[39;00m \u001b[39mand\u001b[39;00m\n\u001b[0;32m    345\u001b[0m         parse_constant \u001b[39mis\u001b[39;00m \u001b[39mNone\u001b[39;00m \u001b[39mand\u001b[39;00m object_pairs_hook \u001b[39mis\u001b[39;00m \u001b[39mNone\u001b[39;00m \u001b[39mand\u001b[39;00m \u001b[39mnot\u001b[39;00m kw):\n\u001b[1;32m--> 346\u001b[0m     \u001b[39mreturn\u001b[39;00m _default_decoder\u001b[39m.\u001b[39mdecode(s)\n\u001b[0;32m    347\u001b[0m \u001b[39mif\u001b[39;00m \u001b[39mcls\u001b[39m \u001b[39mis\u001b[39;00m \u001b[39mNone\u001b[39;00m:\n",
      "File \u001b[1;32mc:\\Users\\rakee\\anaconda3\\Lib\\json\\decoder.py:337\u001b[0m, in \u001b[0;36mJSONDecoder.decode\u001b[1;34m(self, s, _w)\u001b[0m\n\u001b[0;32m    333\u001b[0m \u001b[39m\u001b[39m\u001b[39m\"\"\"Return the Python representation of ``s`` (a ``str`` instance\u001b[39;00m\n\u001b[0;32m    334\u001b[0m \u001b[39mcontaining a JSON document).\u001b[39;00m\n\u001b[0;32m    335\u001b[0m \n\u001b[0;32m    336\u001b[0m \u001b[39m\"\"\"\u001b[39;00m\n\u001b[1;32m--> 337\u001b[0m obj, end \u001b[39m=\u001b[39m \u001b[39mself\u001b[39m\u001b[39m.\u001b[39mraw_decode(s, idx\u001b[39m=\u001b[39m_w(s, \u001b[39m0\u001b[39m)\u001b[39m.\u001b[39mend())\n\u001b[0;32m    338\u001b[0m end \u001b[39m=\u001b[39m _w(s, end)\u001b[39m.\u001b[39mend()\n",
      "File \u001b[1;32mc:\\Users\\rakee\\anaconda3\\Lib\\json\\decoder.py:355\u001b[0m, in \u001b[0;36mJSONDecoder.raw_decode\u001b[1;34m(self, s, idx)\u001b[0m\n\u001b[0;32m    354\u001b[0m \u001b[39mexcept\u001b[39;00m \u001b[39mStopIteration\u001b[39;00m \u001b[39mas\u001b[39;00m err:\n\u001b[1;32m--> 355\u001b[0m     \u001b[39mraise\u001b[39;00m JSONDecodeError(\u001b[39m\"\u001b[39m\u001b[39mExpecting value\u001b[39m\u001b[39m\"\u001b[39m, s, err\u001b[39m.\u001b[39mvalue) \u001b[39mfrom\u001b[39;00m \u001b[39mNone\u001b[39;00m\n\u001b[0;32m    356\u001b[0m \u001b[39mreturn\u001b[39;00m obj, end\n",
      "\u001b[1;31mJSONDecodeError\u001b[0m: Expecting value: line 1 column 1 (char 0)",
      "\nDuring handling of the above exception, another exception occurred:\n",
      "\u001b[1;31mJSONDecodeError\u001b[0m                           Traceback (most recent call last)",
      "\u001b[1;32mc:\\Users\\rakee\\OneDrive\\Desktop\\LH workflow\\Statistical-Modelling-Project-II\\notebooks\\yelp_foursquare_EDA.ipynb Cell 6\u001b[0m line \u001b[0;36m2\n\u001b[0;32m     <a href='vscode-notebook-cell:/c%3A/Users/rakee/OneDrive/Desktop/LH%20workflow/Statistical-Modelling-Project-II/notebooks/yelp_foursquare_EDA.ipynb#W3sZmlsZQ%3D%3D?line=19'>20</a>\u001b[0m         fsq_radius\u001b[39m.\u001b[39mappend(fsq_response)\n\u001b[0;32m     <a href='vscode-notebook-cell:/c%3A/Users/rakee/OneDrive/Desktop/LH%20workflow/Statistical-Modelling-Project-II/notebooks/yelp_foursquare_EDA.ipynb#W3sZmlsZQ%3D%3D?line=20'>21</a>\u001b[0m     \u001b[39mreturn\u001b[39;00m fsq_radius\n\u001b[1;32m---> <a href='vscode-notebook-cell:/c%3A/Users/rakee/OneDrive/Desktop/LH%20workflow/Statistical-Modelling-Project-II/notebooks/yelp_foursquare_EDA.ipynb#W3sZmlsZQ%3D%3D?line=23'>24</a>\u001b[0m fsq_response \u001b[39m=\u001b[39m fsq_data(parsed_stations)\n\u001b[0;32m     <a href='vscode-notebook-cell:/c%3A/Users/rakee/OneDrive/Desktop/LH%20workflow/Statistical-Modelling-Project-II/notebooks/yelp_foursquare_EDA.ipynb#W3sZmlsZQ%3D%3D?line=24'>25</a>\u001b[0m \u001b[39mfor\u001b[39;00m response \u001b[39min\u001b[39;00m fsq_response:\n\u001b[0;32m     <a href='vscode-notebook-cell:/c%3A/Users/rakee/OneDrive/Desktop/LH%20workflow/Statistical-Modelling-Project-II/notebooks/yelp_foursquare_EDA.ipynb#W3sZmlsZQ%3D%3D?line=25'>26</a>\u001b[0m     \u001b[39mprint\u001b[39m(\u001b[39m\"\u001b[39m\u001b[39mResponse:\u001b[39m\u001b[39m\"\u001b[39m)\n",
      "\u001b[1;32mc:\\Users\\rakee\\OneDrive\\Desktop\\LH workflow\\Statistical-Modelling-Project-II\\notebooks\\yelp_foursquare_EDA.ipynb Cell 6\u001b[0m line \u001b[0;36m1\n\u001b[0;32m     <a href='vscode-notebook-cell:/c%3A/Users/rakee/OneDrive/Desktop/LH%20workflow/Statistical-Modelling-Project-II/notebooks/yelp_foursquare_EDA.ipynb#W3sZmlsZQ%3D%3D?line=13'>14</a>\u001b[0m     headers \u001b[39m=\u001b[39m {\n\u001b[0;32m     <a href='vscode-notebook-cell:/c%3A/Users/rakee/OneDrive/Desktop/LH%20workflow/Statistical-Modelling-Project-II/notebooks/yelp_foursquare_EDA.ipynb#W3sZmlsZQ%3D%3D?line=14'>15</a>\u001b[0m     \u001b[39m\"\u001b[39m\u001b[39maccept\u001b[39m\u001b[39m\"\u001b[39m: \u001b[39m\"\u001b[39m\u001b[39mapplication/json\u001b[39m\u001b[39m\"\u001b[39m,\n\u001b[0;32m     <a href='vscode-notebook-cell:/c%3A/Users/rakee/OneDrive/Desktop/LH%20workflow/Statistical-Modelling-Project-II/notebooks/yelp_foursquare_EDA.ipynb#W3sZmlsZQ%3D%3D?line=15'>16</a>\u001b[0m     \u001b[39m\"\u001b[39m\u001b[39mAuthorization\u001b[39m\u001b[39m\"\u001b[39m: \u001b[39mf\u001b[39m\u001b[39m\"\u001b[39m\u001b[39mBearer \u001b[39m\u001b[39m{\u001b[39;00mfsq_api_key\u001b[39m}\u001b[39;00m\u001b[39m\"\u001b[39m}\n\u001b[0;32m     <a href='vscode-notebook-cell:/c%3A/Users/rakee/OneDrive/Desktop/LH%20workflow/Statistical-Modelling-Project-II/notebooks/yelp_foursquare_EDA.ipynb#W3sZmlsZQ%3D%3D?line=17'>18</a>\u001b[0m     response \u001b[39m=\u001b[39m requests\u001b[39m.\u001b[39mget(foursquare_url, headers\u001b[39m=\u001b[39mheaders)\n\u001b[1;32m---> <a href='vscode-notebook-cell:/c%3A/Users/rakee/OneDrive/Desktop/LH%20workflow/Statistical-Modelling-Project-II/notebooks/yelp_foursquare_EDA.ipynb#W3sZmlsZQ%3D%3D?line=18'>19</a>\u001b[0m     fsq_response \u001b[39m=\u001b[39m response\u001b[39m.\u001b[39mjson()\n\u001b[0;32m     <a href='vscode-notebook-cell:/c%3A/Users/rakee/OneDrive/Desktop/LH%20workflow/Statistical-Modelling-Project-II/notebooks/yelp_foursquare_EDA.ipynb#W3sZmlsZQ%3D%3D?line=19'>20</a>\u001b[0m     fsq_radius\u001b[39m.\u001b[39mappend(fsq_response)\n\u001b[0;32m     <a href='vscode-notebook-cell:/c%3A/Users/rakee/OneDrive/Desktop/LH%20workflow/Statistical-Modelling-Project-II/notebooks/yelp_foursquare_EDA.ipynb#W3sZmlsZQ%3D%3D?line=20'>21</a>\u001b[0m \u001b[39mreturn\u001b[39;00m fsq_radius\n",
      "File \u001b[1;32mc:\\Users\\rakee\\anaconda3\\Lib\\site-packages\\requests\\models.py:975\u001b[0m, in \u001b[0;36mResponse.json\u001b[1;34m(self, **kwargs)\u001b[0m\n\u001b[0;32m    971\u001b[0m     \u001b[39mreturn\u001b[39;00m complexjson\u001b[39m.\u001b[39mloads(\u001b[39mself\u001b[39m\u001b[39m.\u001b[39mtext, \u001b[39m*\u001b[39m\u001b[39m*\u001b[39mkwargs)\n\u001b[0;32m    972\u001b[0m \u001b[39mexcept\u001b[39;00m JSONDecodeError \u001b[39mas\u001b[39;00m e:\n\u001b[0;32m    973\u001b[0m     \u001b[39m# Catch JSON-related errors and raise as requests.JSONDecodeError\u001b[39;00m\n\u001b[0;32m    974\u001b[0m     \u001b[39m# This aliases json.JSONDecodeError and simplejson.JSONDecodeError\u001b[39;00m\n\u001b[1;32m--> 975\u001b[0m     \u001b[39mraise\u001b[39;00m RequestsJSONDecodeError(e\u001b[39m.\u001b[39mmsg, e\u001b[39m.\u001b[39mdoc, e\u001b[39m.\u001b[39mpos)\n",
      "\u001b[1;31mJSONDecodeError\u001b[0m: Expecting value: line 1 column 1 (char 0)"
     ]
    }
   ],
   "source": [
    "fsq_api_key = \"fsq3t+s10WzilSHIPZkbMLxO4X/5rFYoM0kAlvKo2HvDTwU=\"  \n",
    "\n",
    "\n",
    "def fsq_data(parsed_stations):\n",
    "    fsq_radius = []\n",
    "    for station in parsed_stations:\n",
    "        latitude = station[\"Latitude\"]\n",
    "        longitude = station[\"Longitude\"]\n",
    "\n",
    "        foursquare_url = f\"https://api.foursquare.com/v3/autocomplete?query=restaurant&ll=ll%3D{latitude}%2C%20{longitude}&radius=1000&types=places\"\n",
    "\n",
    "\n",
    "\n",
    "        headers = {\n",
    "        \"accept\": \"application/json\",\n",
    "        \"Authorization\": f\"Bearer {fsq_api_key}\"}\n",
    "\n",
    "        response = requests.get(foursquare_url, headers=headers)\n",
    "        fsq_response = response.json()\n",
    "        fsq_radius.append(fsq_response)\n",
    "    return fsq_radius\n",
    "\n",
    "\n",
    "fsq_response = fsq_data(parsed_stations)\n",
    "for response in fsq_response:\n",
    "    print(\"Response:\")\n",
    "    print(response[:10])\n"
   ]
  },
  {
   "cell_type": "markdown",
   "metadata": {},
   "source": [
    "Parse through the response to get the POI (such as restaurants, bars, etc) details you want (ratings, name, location, etc)"
   ]
  },
  {
   "cell_type": "markdown",
   "metadata": {},
   "source": [
    "Put your parsed results into a DataFrame"
   ]
  },
  {
   "cell_type": "code",
   "execution_count": 61,
   "metadata": {},
   "outputs": [
    {
     "ename": "NameError",
     "evalue": "name 'stations' is not defined",
     "output_type": "error",
     "traceback": [
      "\u001b[1;31m---------------------------------------------------------------------------\u001b[0m",
      "\u001b[1;31mNameError\u001b[0m                                 Traceback (most recent call last)",
      "\u001b[1;32mc:\\Users\\rakee\\OneDrive\\Desktop\\LH workflow\\Statistical-Modelling-Project-II\\notebooks\\yelp_foursquare_EDA.ipynb Cell 13\u001b[0m line \u001b[0;36m1\n\u001b[1;32m----> <a href='vscode-notebook-cell:/c%3A/Users/rakee/OneDrive/Desktop/LH%20workflow/Statistical-Modelling-Project-II/notebooks/yelp_foursquare_EDA.ipynb#X10sZmlsZQ%3D%3D?line=0'>1</a>\u001b[0m fsq_data \u001b[39m=\u001b[39m fsq_req_marseille(stations, fsq_api_key)\n\u001b[0;32m      <a href='vscode-notebook-cell:/c%3A/Users/rakee/OneDrive/Desktop/LH%20workflow/Statistical-Modelling-Project-II/notebooks/yelp_foursquare_EDA.ipynb#X10sZmlsZQ%3D%3D?line=2'>3</a>\u001b[0m \u001b[39m# Step 2: Create a Pandas DataFrame from the Foursquare data\u001b[39;00m\n\u001b[0;32m      <a href='vscode-notebook-cell:/c%3A/Users/rakee/OneDrive/Desktop/LH%20workflow/Statistical-Modelling-Project-II/notebooks/yelp_foursquare_EDA.ipynb#X10sZmlsZQ%3D%3D?line=3'>4</a>\u001b[0m \u001b[39mimport\u001b[39;00m \u001b[39mpandas\u001b[39;00m \u001b[39mas\u001b[39;00m \u001b[39mpd\u001b[39;00m\n",
      "\u001b[1;31mNameError\u001b[0m: name 'stations' is not defined"
     ]
    }
   ],
   "source": []
  },
  {
   "cell_type": "markdown",
   "metadata": {},
   "source": [
    "# Yelp"
   ]
  },
  {
   "cell_type": "markdown",
   "metadata": {},
   "source": [
    "Send a request to Yelp with a small radius (1000m) for all the bike stations in your city of choice. "
   ]
  },
  {
   "cell_type": "code",
   "execution_count": 11,
   "metadata": {},
   "outputs": [
    {
     "name": "stdout",
     "output_type": "stream",
     "text": [
      "Response:\n",
      "{'businesses': [{'id': 'Z_ezFqDSgos1VLmHdePBqg', 'alias': 'shanghai-kitchen-marseille', 'name': 'Shanghai Kitchen', 'image_url': 'https://s3-media3.fl.yelpcdn.com/bphoto/cd7LIjQg6OUsYJkrSi2A6A/o.jpg', 'is_closed': False, 'url': 'https://www.yelp.com/biz/shanghai-kitchen-marseille?adjust_creative=uHiQDXQFMQ7qWBDHZhCgAw&utm_campaign=yelp_api_v3&utm_medium=api_v3_business_search&utm_source=uHiQDXQFMQ7qWBDHZhCgAw', 'review_count': 10, 'categories': [{'alias': 'shanghainese', 'title': 'Shanghainese'}], 'rating': 5.0, 'coordinates': {'latitude': 43.2929841010118, 'longitude': 5.37450481206179}, 'transactions': [], 'price': '€€€', 'location': {'address1': '14 cours Jean Ballard', 'address2': '', 'address3': '', 'city': 'Marseille', 'zip_code': '13001', 'country': 'FR', 'state': '13', 'display_address': ['14 cours Jean Ballard', '13001 Marseille', 'France']}, 'phone': '+33954686062', 'display_phone': '+33 9 54 68 60 62', 'distance': 6.993378859672145}, {'id': 'gMbdTQCBPjp7mDfWJehHmQ', 'alias': 'le-bon-burger-marseille', 'name': 'Le Bon Burger', 'image_url': 'https://s3-media2.fl.yelpcdn.com/bphoto/1furrIRW7bGiQK0tnYwZpw/o.jpg', 'is_closed': False, 'url': 'https://www.yelp.com/biz/le-bon-burger-marseille?adjust_creative=uHiQDXQFMQ7qWBDHZhCgAw&utm_campaign=yelp_api_v3&utm_medium=api_v3_business_search&utm_source=uHiQDXQFMQ7qWBDHZhCgAw', 'review_count': 36, 'categories': [{'alias': 'burgers', 'title': 'Burgers'}, {'alias': 'tradamerican', 'title': 'American'}], 'rating': 4.5, 'coordinates': {'latitude': 43.2926558819198, 'longitude': 5.37180240555722}, 'transactions': [], 'price': '€€', 'location': {'address1': '24 place aux Huiles', 'address2': '', 'address3': '', 'city': 'Marseille', 'zip_code': '13001', 'country': 'FR', 'state': '13', 'display_address': ['24 place aux Huiles', '13001 Marseille', 'France']}, 'phone': '+33491522052', 'display_phone': '+33 4 91 52 20 52', 'distance': 228.53936958780753}, {'id': 'EfMabFwgjmWoUibT1DMMzw', 'alias': 'sauveur-marseille', 'name': 'Sauveur', 'image_url': 'https://s3-media2.fl.yelpcdn.com/bphoto/h1J_sFKYsxYj0Wix0J1AHQ/o.jpg', 'is_closed': False, 'url': 'https://www.yelp.com/biz/sauveur-marseille?adjust_creative=uHiQDXQFMQ7qWBDHZhCgAw&utm_campaign=yelp_api_v3&utm_medium=api_v3_business_search&utm_source=uHiQDXQFMQ7qWBDHZhCgAw', 'review_count': 132, 'categories': [{'alias': 'pizza', 'title': 'Pizza'}], 'rating': 4.5, 'coordinates': {'latitude': 43.295589, 'longitude': 5.379063}, 'transactions': [], 'price': '€€', 'location': {'address1': \"10 rue d'Aubagne\", 'address2': '', 'address3': None, 'city': 'Marseille', 'zip_code': '13001', 'country': 'FR', 'state': '13', 'display_address': [\"10 rue d'Aubagne\", '13001 Marseille', 'France']}, 'phone': '+33491543396', 'display_phone': '+33 4 91 54 33 96', 'distance': 462.2739170352094}, {'id': 'rCGAq1AU-l9YzIXQnU02Fw', 'alias': 'césar-place-marseille-2', 'name': 'César Place', 'image_url': 'https://s3-media1.fl.yelpcdn.com/bphoto/2937BLLABpwZGYE49WBs-Q/o.jpg', 'is_closed': False, 'url': 'https://www.yelp.com/biz/c%C3%A9sar-place-marseille-2?adjust_creative=uHiQDXQFMQ7qWBDHZhCgAw&utm_campaign=yelp_api_v3&utm_medium=api_v3_business_search&utm_source=uHiQDXQFMQ7qWBDHZhCgAw', 'review_count': 131, 'categories': [{'alias': 'modern_european', 'title': 'Modern European'}, {'alias': 'french', 'title': 'French'}, {'alias': 'farmersmarket', 'title': 'Farmers Market'}, {'alias': 'mediterranean', 'title': 'Mediterranean'}], 'rating': 4.0, 'coordinates': {'latitude': 43.29283, 'longitude': 5.372}, 'transactions': [], 'price': '€€', 'location': {'address1': '21 place aux Huiles', 'address2': '', 'address3': '', 'city': 'Marseille', 'zip_code': '13001', 'country': 'FR', 'state': '13', 'display_address': ['21 place aux Huiles', '13001 Marseille', 'France']}, 'phone': '+33491332522', 'display_phone': '+33 4 91 33 25 22', 'distance': 199.23113866273303}, {'id': 'ApiCSbuCSLk61vDLr2DV-g', 'alias': 'le-bouchon-provençal-marseille-5', 'name': 'Le Bouchon Provençal', 'image_url': 'https://s3-media2.fl.yelpcdn.com/bphoto/n39G8YTg9aFbtPh5IacL0A/o.jpg', 'is_closed': False, 'url': 'https://www.yelp.com/biz/le-bouchon-proven%C3%A7al-marseille-5?adjust_creative=uHiQDXQFMQ7qWBDHZhCgAw&utm_campaign=yelp_api_v3&utm_medium=api_v3_business_search&utm_source=uHiQDXQFMQ7qWBDHZhCgAw', 'review_count': 39, 'categories': [{'alias': 'restaurants', 'title': 'Restaurants'}], 'rating': 4.0, 'coordinates': {'latitude': 43.29287, 'longitude': 5.37178}, 'transactions': [], 'price': '€€€', 'location': {'address1': '6 place aux Huiles', 'address2': None, 'address3': None, 'city': 'Marseille', 'zip_code': '13001', 'country': 'FR', 'state': '13', 'display_address': ['6 place aux Huiles', '13001 Marseille', 'France']}, 'phone': '+33491334492', 'display_phone': '+33 4 91 33 44 92', 'distance': 227.48069734610985}, {'id': 'J1swRC87LWZueCuX_I7CXQ', 'alias': 'la-poule-noire-marseille', 'name': 'La Poule Noire', 'image_url': 'https://s3-media2.fl.yelpcdn.com/bphoto/ea-WcgdSG-ByaBsgDAd_kQ/o.jpg', 'is_closed': False, 'url': 'https://www.yelp.com/biz/la-poule-noire-marseille?adjust_creative=uHiQDXQFMQ7qWBDHZhCgAw&utm_campaign=yelp_api_v3&utm_medium=api_v3_business_search&utm_source=uHiQDXQFMQ7qWBDHZhCgAw', 'review_count': 43, 'categories': [{'alias': 'french', 'title': 'French'}], 'rating': 4.0, 'coordinates': {'latitude': 43.291975, 'longitude': 5.37325}, 'transactions': [], 'price': '€€€', 'location': {'address1': '61 rue Sainte', 'address2': None, 'address3': None, 'city': 'Marseille', 'zip_code': '13001', 'country': 'FR', 'state': '13', 'display_address': ['61 rue Sainte', '13001 Marseille', 'France']}, 'phone': '+33491556886', 'display_phone': '+33 4 91 55 68 86', 'distance': 157.7267958766175}, {'id': 'Jpa7n24xU5h_UTOkbQGyJg', 'alias': 'le-grand-latin-marseille', 'name': 'Le Grand Latin', 'image_url': 'https://s3-media1.fl.yelpcdn.com/bphoto/Ml_LLau3-sPYhKV0_lacIQ/o.jpg', 'is_closed': False, 'url': 'https://www.yelp.com/biz/le-grand-latin-marseille?adjust_creative=uHiQDXQFMQ7qWBDHZhCgAw&utm_campaign=yelp_api_v3&utm_medium=api_v3_business_search&utm_source=uHiQDXQFMQ7qWBDHZhCgAw', 'review_count': 179, 'categories': [{'alias': 'italian', 'title': 'Italian'}], 'rating': 4.0, 'coordinates': {'latitude': 43.29253, 'longitude': 5.37558}, 'transactions': [], 'price': '€€', 'location': {'address1': '27 rue Sainte', 'address2': None, 'address3': None, 'city': 'Marseille', 'zip_code': '13001', 'country': 'FR', 'state': '13', 'display_address': ['27 rue Sainte', '13001 Marseille', 'France']}, 'phone': '+33491540827', 'display_phone': '+33 4 91 54 08 27', 'distance': 104.56234370717512}, {'id': 'Pvzn2DLyJgUWwU6X54zHZw', 'alias': 'la-table-du-fort-marseille', 'name': 'La Table du Fort', 'image_url': 'https://s3-media4.fl.yelpcdn.com/bphoto/yTCKYkr0UnlyMbslLHpQCg/o.jpg', 'is_closed': False, 'url': 'https://www.yelp.com/biz/la-table-du-fort-marseille?adjust_creative=uHiQDXQFMQ7qWBDHZhCgAw&utm_campaign=yelp_api_v3&utm_medium=api_v3_business_search&utm_source=uHiQDXQFMQ7qWBDHZhCgAw', 'review_count': 58, 'categories': [{'alias': 'french', 'title': 'French'}], 'rating': 4.5, 'coordinates': {'latitude': 43.29274, 'longitude': 5.37134}, 'transactions': [], 'price': '€€€', 'location': {'address1': '8 rue Fort Notre Dame', 'address2': None, 'address3': None, 'city': 'Marseille', 'zip_code': '13007', 'country': 'FR', 'state': '13', 'display_address': ['8 rue Fort Notre Dame', '13007 Marseille', 'France']}, 'phone': '+33491339765', 'display_phone': '+33 4 91 33 97 65', 'distance': 264.26407660083254}, {'id': 'uLqZhed6FOI-Yxmdi-W2tA', 'alias': 'le-petit-flore-marseille', 'name': 'Le Petit Flore', 'image_url': 'https://s3-media4.fl.yelpcdn.com/bphoto/7lRpaVYToTVMFODSzVOpZg/o.jpg', 'is_closed': False, 'url': 'https://www.yelp.com/biz/le-petit-flore-marseille?adjust_creative=uHiQDXQFMQ7qWBDHZhCgAw&utm_campaign=yelp_api_v3&utm_medium=api_v3_business_search&utm_source=uHiQDXQFMQ7qWBDHZhCgAw', 'review_count': 24, 'categories': [{'alias': 'mediterranean', 'title': 'Mediterranean'}, {'alias': 'french', 'title': 'French'}], 'rating': 5.0, 'coordinates': {'latitude': 43.293307, 'longitude': 5.375469}, 'transactions': [], 'price': '€€', 'location': {'address1': '14 rue Corneille', 'address2': '', 'address3': '', 'city': 'Marseille', 'zip_code': '13001', 'country': 'FR', 'state': '13', 'display_address': ['14 rue Corneille', '13001 Marseille', 'France']}, 'phone': '+33491338653', 'display_phone': '+33 4 91 33 86 53', 'distance': 78.90817997115298}, {'id': '4glviVKuSbiEffhkCmAlXw', 'alias': 'le-kashmir-marseille', 'name': 'Le Kashmir', 'image_url': 'https://s3-media3.fl.yelpcdn.com/bphoto/Zn6NSHasOrSHpzmduZPCwA/o.jpg', 'is_closed': False, 'url': 'https://www.yelp.com/biz/le-kashmir-marseille?adjust_creative=uHiQDXQFMQ7qWBDHZhCgAw&utm_campaign=yelp_api_v3&utm_medium=api_v3_business_search&utm_source=uHiQDXQFMQ7qWBDHZhCgAw', 'review_count': 65, 'categories': [{'alias': 'pakistani', 'title': 'Pakistani'}, {'alias': 'indpak', 'title': 'Indian'}], 'rating': 4.0, 'coordinates': {'latitude': 43.29286, 'longitude': 5.37251}, 'transactions': [], 'price': '€€', 'location': {'address1': '18 rue de la Paix', 'address2': None, 'address3': None, 'city': 'Marseille', 'zip_code': '13001', 'country': 'FR', 'state': '13', 'display_address': ['18 rue de la Paix', '13001 Marseille', 'France']}, 'phone': '+33491549972', 'display_phone': '+33 4 91 54 99 72', 'distance': 175.05476237251168}], 'total': 1200, 'region': {'center': {'longitude': 5.374584208, 'latitude': 43.29300892}}}\n",
      "Response:\n",
      "{'businesses': [{'id': 'EfMabFwgjmWoUibT1DMMzw', 'alias': 'sauveur-marseille', 'name': 'Sauveur', 'image_url': 'https://s3-media2.fl.yelpcdn.com/bphoto/h1J_sFKYsxYj0Wix0J1AHQ/o.jpg', 'is_closed': False, 'url': 'https://www.yelp.com/biz/sauveur-marseille?adjust_creative=uHiQDXQFMQ7qWBDHZhCgAw&utm_campaign=yelp_api_v3&utm_medium=api_v3_business_search&utm_source=uHiQDXQFMQ7qWBDHZhCgAw', 'review_count': 132, 'categories': [{'alias': 'pizza', 'title': 'Pizza'}], 'rating': 4.5, 'coordinates': {'latitude': 43.295589, 'longitude': 5.379063}, 'transactions': [], 'price': '€€', 'location': {'address1': \"10 rue d'Aubagne\", 'address2': '', 'address3': None, 'city': 'Marseille', 'zip_code': '13001', 'country': 'FR', 'state': '13', 'display_address': [\"10 rue d'Aubagne\", '13001 Marseille', 'France']}, 'phone': '+33491543396', 'display_phone': '+33 4 91 54 33 96', 'distance': 430.60180619988336}, {'id': 'wwcX2d_9rQmz9OzUQEVFHw', 'alias': 'le-cercle-rouge-marseille', 'name': 'Le Cercle Rouge', 'image_url': 'https://s3-media4.fl.yelpcdn.com/bphoto/T9J0xpCwv7hSkb0eZXt-yA/o.jpg', 'is_closed': False, 'url': 'https://www.yelp.com/biz/le-cercle-rouge-marseille?adjust_creative=uHiQDXQFMQ7qWBDHZhCgAw&utm_campaign=yelp_api_v3&utm_medium=api_v3_business_search&utm_source=uHiQDXQFMQ7qWBDHZhCgAw', 'review_count': 65, 'categories': [{'alias': 'tapas', 'title': 'Tapas Bars'}, {'alias': 'corsican', 'title': 'Corsican'}, {'alias': 'cocktailbars', 'title': 'Cocktail Bars'}], 'rating': 4.5, 'coordinates': {'latitude': 43.2972899, 'longitude': 5.38546}, 'transactions': [], 'price': '€€', 'location': {'address1': '41 rue Adolphe Thiers', 'address2': None, 'address3': None, 'city': 'Marseille', 'zip_code': '13001', 'country': 'FR', 'state': '13', 'display_address': ['41 rue Adolphe Thiers', '13001 Marseille', 'France']}, 'phone': '+33491630053', 'display_phone': '+33 4 91 63 00 53', 'distance': 374.04650665039713}, {'id': 'ZAHTxYqDTbORoZ6I7G9aGw', 'alias': 'la-manne-marseille-3', 'name': 'La Manne', 'image_url': 'https://s3-media4.fl.yelpcdn.com/bphoto/gMqzCu-JGz0Su9Ww8KrJsA/o.jpg', 'is_closed': False, 'url': 'https://www.yelp.com/biz/la-manne-marseille-3?adjust_creative=uHiQDXQFMQ7qWBDHZhCgAw&utm_campaign=yelp_api_v3&utm_medium=api_v3_business_search&utm_source=uHiQDXQFMQ7qWBDHZhCgAw', 'review_count': 12, 'categories': [{'alias': 'french', 'title': 'French'}, {'alias': 'mediterranean', 'title': 'Mediterranean'}], 'rating': 4.5, 'coordinates': {'latitude': 43.300773, 'longitude': 5.38212}, 'transactions': [], 'price': '€€', 'location': {'address1': '18 boulevard de la Liberté', 'address2': '', 'address3': None, 'city': 'Marseille', 'zip_code': '13001', 'country': 'FR', 'state': '13', 'display_address': ['18 boulevard de la Liberté', '13001 Marseille', 'France']}, 'phone': '+33491087739', 'display_phone': '+33 4 91 08 77 39', 'distance': 200.23448031461066}, {'id': 'B9EDlS5y7zaHUVRFTE5PeA', 'alias': 'la-caravelle-marseille-2', 'name': 'La Caravelle', 'image_url': 'https://s3-media1.fl.yelpcdn.com/bphoto/2jbskhvPGrFAn7TYuSTsuw/o.jpg', 'is_closed': False, 'url': 'https://www.yelp.com/biz/la-caravelle-marseille-2?adjust_creative=uHiQDXQFMQ7qWBDHZhCgAw&utm_campaign=yelp_api_v3&utm_medium=api_v3_business_search&utm_source=uHiQDXQFMQ7qWBDHZhCgAw', 'review_count': 262, 'categories': [{'alias': 'bars', 'title': 'Bars'}, {'alias': 'provencal', 'title': 'Provencal'}], 'rating': 4.0, 'coordinates': {'latitude': 43.296302648832, 'longitude': 5.37139641627038}, 'transactions': [], 'price': '€€', 'location': {'address1': '34 quai du Port', 'address2': '', 'address3': None, 'city': 'Marseille', 'zip_code': '13002', 'country': 'FR', 'state': '13', 'display_address': ['34 quai du Port', '13002 Marseille', 'France']}, 'phone': '+33491903664', 'display_phone': '+33 4 91 90 36 64', 'distance': 872.7098831208526}, {'id': '7OGAxOPxyio9ti53owZYwA', 'alias': 'le-comptoir-dugommier-marseille', 'name': 'Le Comptoir Dugommier', 'image_url': 'https://s3-media3.fl.yelpcdn.com/bphoto/PgwBJoAqnBaIY4E-I3rIyQ/o.jpg', 'is_closed': False, 'url': 'https://www.yelp.com/biz/le-comptoir-dugommier-marseille?adjust_creative=uHiQDXQFMQ7qWBDHZhCgAw&utm_campaign=yelp_api_v3&utm_medium=api_v3_business_search&utm_source=uHiQDXQFMQ7qWBDHZhCgAw', 'review_count': 24, 'categories': [{'alias': 'brasseries', 'title': 'Brasseries'}], 'rating': 4.0, 'coordinates': {'latitude': 43.29869, 'longitude': 5.38089}, 'transactions': [], 'price': '€€', 'location': {'address1': '14 bd Dugommier', 'address2': None, 'address3': None, 'city': 'Marseille', 'zip_code': '13001', 'country': 'FR', 'state': '13', 'display_address': ['14 bd Dugommier', '13001 Marseille', 'France']}, 'phone': '+33950123262', 'display_phone': '+33 9 50 12 32 62', 'distance': 62.637524611028546}, {'id': 'nrxYjkyHSklYcUv4VaNnfg', 'alias': 'le-grain-de-sable-marseille', 'name': 'Le Grain de Sable', 'image_url': 'https://s3-media2.fl.yelpcdn.com/bphoto/D8W1oLksnLWKAH2ISLRNLA/o.jpg', 'is_closed': False, 'url': 'https://www.yelp.com/biz/le-grain-de-sable-marseille?adjust_creative=uHiQDXQFMQ7qWBDHZhCgAw&utm_campaign=yelp_api_v3&utm_medium=api_v3_business_search&utm_source=uHiQDXQFMQ7qWBDHZhCgAw', 'review_count': 47, 'categories': [{'alias': 'vegetarian', 'title': 'Vegetarian'}, {'alias': 'french', 'title': 'French'}], 'rating': 4.5, 'coordinates': {'latitude': 43.29952, 'longitude': 5.37744}, 'transactions': [], 'price': '€€', 'location': {'address1': '34 Rue Baignoir', 'address2': None, 'address3': None, 'city': 'Marseille', 'zip_code': '13001', 'country': 'FR', 'state': '13', 'display_address': ['34 Rue Baignoir', '13001 Marseille', 'France']}, 'phone': '+33491903951', 'display_phone': '+33 4 91 90 39 51', 'distance': 333.81817728566426}, {'id': 'tYVRvl-U-lhYSRsfyLcFSQ', 'alias': 'ghomrassen-marseille', 'name': 'Ghomrassen', 'image_url': 'https://s3-media2.fl.yelpcdn.com/bphoto/PlPU4dV16_8hTgMLAP8R6Q/o.jpg', 'is_closed': False, 'url': 'https://www.yelp.com/biz/ghomrassen-marseille?adjust_creative=uHiQDXQFMQ7qWBDHZhCgAw&utm_campaign=yelp_api_v3&utm_medium=api_v3_business_search&utm_source=uHiQDXQFMQ7qWBDHZhCgAw', 'review_count': 10, 'categories': [{'alias': 'moroccan', 'title': 'Moroccan'}], 'rating': 4.5, 'coordinates': {'latitude': 43.29863, 'longitude': 5.38076}, 'transactions': [], 'price': '€', 'location': {'address1': '21 bd Dugommier', 'address2': '', 'address3': '', 'city': 'Marseille', 'zip_code': '13001', 'country': 'FR', 'state': '13', 'display_address': ['21 bd Dugommier', '13001 Marseille', 'France']}, 'phone': '+33486771749', 'display_phone': '+33 4 86 77 17 49', 'distance': 76.89437449781862}, {'id': 'qzI9sQ6vToMDi_RGk9W13w', 'alias': 'ummagumma-marseille', 'name': 'Ummagumma', 'image_url': 'https://s3-media3.fl.yelpcdn.com/bphoto/aiAVrY1iXws4nc-DdnnIWA/o.jpg', 'is_closed': False, 'url': 'https://www.yelp.com/biz/ummagumma-marseille?adjust_creative=uHiQDXQFMQ7qWBDHZhCgAw&utm_campaign=yelp_api_v3&utm_medium=api_v3_business_search&utm_source=uHiQDXQFMQ7qWBDHZhCgAw', 'review_count': 78, 'categories': [{'alias': 'french', 'title': 'French'}, {'alias': 'tapasmallplates', 'title': 'Tapas/Small Plates'}], 'rating': 4.5, 'coordinates': {'latitude': 43.29424, 'longitude': 5.384759}, 'transactions': [], 'price': '€€€', 'location': {'address1': '26 rue des Trois Rois', 'address2': '', 'address3': '', 'city': 'Marseille', 'zip_code': '13006', 'country': 'FR', 'state': '13', 'display_address': ['26 rue des Trois Rois', '13006 Marseille', 'France']}, 'phone': '+33630373237', 'display_phone': '+33 6 30 37 32 37', 'distance': 593.8152293051572}, {'id': 'rtGYloRQLta1hEiKHfIOFA', 'alias': 'burger-and-coffee-marseille', 'name': 'Burger and Coffee', 'image_url': 'https://s3-media2.fl.yelpcdn.com/bphoto/qsUYNtYdPMsKE4q_-QJaZg/o.jpg', 'is_closed': False, 'url': 'https://www.yelp.com/biz/burger-and-coffee-marseille?adjust_creative=uHiQDXQFMQ7qWBDHZhCgAw&utm_campaign=yelp_api_v3&utm_medium=api_v3_business_search&utm_source=uHiQDXQFMQ7qWBDHZhCgAw', 'review_count': 41, 'categories': [{'alias': 'burgers', 'title': 'Burgers'}, {'alias': 'bagels', 'title': 'Bagels'}], 'rating': 3.5, 'coordinates': {'latitude': 43.29734, 'longitude': 5.38244}, 'transactions': [], 'price': '€€', 'location': {'address1': '11 rue Théâtre Français', 'address2': None, 'address3': None, 'city': 'Marseille', 'zip_code': '13001', 'country': 'FR', 'state': '13', 'display_address': ['11 rue Théâtre Français', '13001 Marseille', 'France']}, 'phone': '+33951455461', 'display_phone': '+33 9 51 45 54 61', 'distance': 203.41702924742023}, {'id': 'dgIFNUTyd6ZbWGyTJFyAnQ', 'alias': 'la-cantine-de-nour-d-egypte-marseille', 'name': \"La Cantine de Nour d'Egypte\", 'image_url': 'https://s3-media1.fl.yelpcdn.com/bphoto/UPyGXB0IfpnsBmOAB9LNSA/o.jpg', 'is_closed': False, 'url': 'https://www.yelp.com/biz/la-cantine-de-nour-d-egypte-marseille?adjust_creative=uHiQDXQFMQ7qWBDHZhCgAw&utm_campaign=yelp_api_v3&utm_medium=api_v3_business_search&utm_source=uHiQDXQFMQ7qWBDHZhCgAw', 'review_count': 23, 'categories': [{'alias': 'egyptian', 'title': 'Egyptian'}], 'rating': 4.5, 'coordinates': {'latitude': 43.3009903, 'longitude': 5.3881795}, 'transactions': [], 'price': '€€', 'location': {'address1': '10 rue Bernex', 'address2': '', 'address3': '', 'city': 'Marseille', 'zip_code': '13001', 'country': 'FR', 'state': '13', 'display_address': ['10 rue Bernex', '13001 Marseille', 'France']}, 'phone': '+33980630656', 'display_phone': '+33 9 80 63 06 56', 'distance': 582.2229939160451}], 'total': 1000, 'region': {'center': {'longitude': 5.381509226, 'latitude': 43.29902797}}}\n",
      "Response:\n",
      "{'businesses': [{'id': 'wwcX2d_9rQmz9OzUQEVFHw', 'alias': 'le-cercle-rouge-marseille', 'name': 'Le Cercle Rouge', 'image_url': 'https://s3-media4.fl.yelpcdn.com/bphoto/T9J0xpCwv7hSkb0eZXt-yA/o.jpg', 'is_closed': False, 'url': 'https://www.yelp.com/biz/le-cercle-rouge-marseille?adjust_creative=uHiQDXQFMQ7qWBDHZhCgAw&utm_campaign=yelp_api_v3&utm_medium=api_v3_business_search&utm_source=uHiQDXQFMQ7qWBDHZhCgAw', 'review_count': 65, 'categories': [{'alias': 'tapas', 'title': 'Tapas Bars'}, {'alias': 'corsican', 'title': 'Corsican'}, {'alias': 'cocktailbars', 'title': 'Cocktail Bars'}], 'rating': 4.5, 'coordinates': {'latitude': 43.2972899, 'longitude': 5.38546}, 'transactions': [], 'price': '€€', 'location': {'address1': '41 rue Adolphe Thiers', 'address2': None, 'address3': None, 'city': 'Marseille', 'zip_code': '13001', 'country': 'FR', 'state': '13', 'display_address': ['41 rue Adolphe Thiers', '13001 Marseille', 'France']}, 'phone': '+33491630053', 'display_phone': '+33 4 91 63 00 53', 'distance': 273.8754138478477}, {'id': 'dgIFNUTyd6ZbWGyTJFyAnQ', 'alias': 'la-cantine-de-nour-d-egypte-marseille', 'name': \"La Cantine de Nour d'Egypte\", 'image_url': 'https://s3-media1.fl.yelpcdn.com/bphoto/UPyGXB0IfpnsBmOAB9LNSA/o.jpg', 'is_closed': False, 'url': 'https://www.yelp.com/biz/la-cantine-de-nour-d-egypte-marseille?adjust_creative=uHiQDXQFMQ7qWBDHZhCgAw&utm_campaign=yelp_api_v3&utm_medium=api_v3_business_search&utm_source=uHiQDXQFMQ7qWBDHZhCgAw', 'review_count': 23, 'categories': [{'alias': 'egyptian', 'title': 'Egyptian'}], 'rating': 4.5, 'coordinates': {'latitude': 43.3009903, 'longitude': 5.3881795}, 'transactions': [], 'price': '€€', 'location': {'address1': '10 rue Bernex', 'address2': '', 'address3': '', 'city': 'Marseille', 'zip_code': '13001', 'country': 'FR', 'state': '13', 'display_address': ['10 rue Bernex', '13001 Marseille', 'France']}, 'phone': '+33980630656', 'display_phone': '+33 9 80 63 06 56', 'distance': 304.73672282889777}, {'id': 'EfMabFwgjmWoUibT1DMMzw', 'alias': 'sauveur-marseille', 'name': 'Sauveur', 'image_url': 'https://s3-media2.fl.yelpcdn.com/bphoto/h1J_sFKYsxYj0Wix0J1AHQ/o.jpg', 'is_closed': False, 'url': 'https://www.yelp.com/biz/sauveur-marseille?adjust_creative=uHiQDXQFMQ7qWBDHZhCgAw&utm_campaign=yelp_api_v3&utm_medium=api_v3_business_search&utm_source=uHiQDXQFMQ7qWBDHZhCgAw', 'review_count': 132, 'categories': [{'alias': 'pizza', 'title': 'Pizza'}], 'rating': 4.5, 'coordinates': {'latitude': 43.295589, 'longitude': 5.379063}, 'transactions': [], 'price': '€€', 'location': {'address1': \"10 rue d'Aubagne\", 'address2': '', 'address3': None, 'city': 'Marseille', 'zip_code': '13001', 'country': 'FR', 'state': '13', 'display_address': [\"10 rue d'Aubagne\", '13001 Marseille', 'France']}, 'phone': '+33491543396', 'display_phone': '+33 4 91 54 33 96', 'distance': 655.4548953157699}, {'id': 'tpeRKLNE9Vn5EtihtKEMqQ', 'alias': 'la-boîte-à-sardine-marseille-3', 'name': 'La Boîte à Sardine', 'image_url': 'https://s3-media1.fl.yelpcdn.com/bphoto/bt1zB4o0PQe8rVCd45OrAg/o.jpg', 'is_closed': False, 'url': 'https://www.yelp.com/biz/la-bo%C3%AEte-%C3%A0-sardine-marseille-3?adjust_creative=uHiQDXQFMQ7qWBDHZhCgAw&utm_campaign=yelp_api_v3&utm_medium=api_v3_business_search&utm_source=uHiQDXQFMQ7qWBDHZhCgAw', 'review_count': 39, 'categories': [{'alias': 'seafood', 'title': 'Seafood'}], 'rating': 4.0, 'coordinates': {'latitude': 43.29925, 'longitude': 5.38618}, 'transactions': [], 'price': '€€€', 'location': {'address1': '2 boulevard de la Libération', 'address2': '', 'address3': '', 'city': 'Marseille', 'zip_code': '13001', 'country': 'FR', 'state': '13', 'display_address': ['2 boulevard de la Libération', '13001 Marseille', 'France']}, 'phone': '+33491509595', 'display_phone': '+33 4 91 50 95 95', 'distance': 122.37970291976653}, {'id': 'ZAHTxYqDTbORoZ6I7G9aGw', 'alias': 'la-manne-marseille-3', 'name': 'La Manne', 'image_url': 'https://s3-media4.fl.yelpcdn.com/bphoto/gMqzCu-JGz0Su9Ww8KrJsA/o.jpg', 'is_closed': False, 'url': 'https://www.yelp.com/biz/la-manne-marseille-3?adjust_creative=uHiQDXQFMQ7qWBDHZhCgAw&utm_campaign=yelp_api_v3&utm_medium=api_v3_business_search&utm_source=uHiQDXQFMQ7qWBDHZhCgAw', 'review_count': 12, 'categories': [{'alias': 'french', 'title': 'French'}, {'alias': 'mediterranean', 'title': 'Mediterranean'}], 'rating': 4.5, 'coordinates': {'latitude': 43.300773, 'longitude': 5.38212}, 'transactions': [], 'price': '€€', 'location': {'address1': '18 boulevard de la Liberté', 'address2': '', 'address3': None, 'city': 'Marseille', 'zip_code': '13001', 'country': 'FR', 'state': '13', 'display_address': ['18 boulevard de la Liberté', '13001 Marseille', 'France']}, 'phone': '+33491087739', 'display_phone': '+33 4 91 08 77 39', 'distance': 249.86265339216712}, {'id': 'bwGTTdYVUR1B69pod45UCw', 'alias': 'chez-simone-marseille', 'name': 'Chez Simone', 'image_url': 'https://s3-media3.fl.yelpcdn.com/bphoto/b3r2T2ie9qhEFoL4pk_DMA/o.jpg', 'is_closed': False, 'url': 'https://www.yelp.com/biz/chez-simone-marseille?adjust_creative=uHiQDXQFMQ7qWBDHZhCgAw&utm_campaign=yelp_api_v3&utm_medium=api_v3_business_search&utm_source=uHiQDXQFMQ7qWBDHZhCgAw', 'review_count': 12, 'categories': [{'alias': 'french', 'title': 'French'}], 'rating': 4.5, 'coordinates': {'latitude': 43.29897, 'longitude': 5.38744}, 'transactions': [], 'price': '€€', 'location': {'address1': '23 cours Franklin Roosevelt', 'address2': None, 'address3': '', 'city': 'Marseille', 'zip_code': '13001', 'country': 'FR', 'state': '13', 'display_address': ['23 cours Franklin Roosevelt', '13001 Marseille', 'France']}, 'phone': '+33954513887', 'display_phone': '+33 9 54 51 38 87', 'distance': 225.8050251972907}, {'id': 'qzI9sQ6vToMDi_RGk9W13w', 'alias': 'ummagumma-marseille', 'name': 'Ummagumma', 'image_url': 'https://s3-media3.fl.yelpcdn.com/bphoto/aiAVrY1iXws4nc-DdnnIWA/o.jpg', 'is_closed': False, 'url': 'https://www.yelp.com/biz/ummagumma-marseille?adjust_creative=uHiQDXQFMQ7qWBDHZhCgAw&utm_campaign=yelp_api_v3&utm_medium=api_v3_business_search&utm_source=uHiQDXQFMQ7qWBDHZhCgAw', 'review_count': 78, 'categories': [{'alias': 'french', 'title': 'French'}, {'alias': 'tapasmallplates', 'title': 'Tapas/Small Plates'}], 'rating': 4.5, 'coordinates': {'latitude': 43.29424, 'longitude': 5.384759}, 'transactions': [], 'price': '€€€', 'location': {'address1': '26 rue des Trois Rois', 'address2': '', 'address3': '', 'city': 'Marseille', 'zip_code': '13006', 'country': 'FR', 'state': '13', 'display_address': ['26 rue des Trois Rois', '13006 Marseille', 'France']}, 'phone': '+33630373237', 'display_phone': '+33 6 30 37 32 37', 'distance': 609.0145298094434}, {'id': 'rtGYloRQLta1hEiKHfIOFA', 'alias': 'burger-and-coffee-marseille', 'name': 'Burger and Coffee', 'image_url': 'https://s3-media2.fl.yelpcdn.com/bphoto/qsUYNtYdPMsKE4q_-QJaZg/o.jpg', 'is_closed': False, 'url': 'https://www.yelp.com/biz/burger-and-coffee-marseille?adjust_creative=uHiQDXQFMQ7qWBDHZhCgAw&utm_campaign=yelp_api_v3&utm_medium=api_v3_business_search&utm_source=uHiQDXQFMQ7qWBDHZhCgAw', 'review_count': 41, 'categories': [{'alias': 'burgers', 'title': 'Burgers'}, {'alias': 'bagels', 'title': 'Bagels'}], 'rating': 3.5, 'coordinates': {'latitude': 43.29734, 'longitude': 5.38244}, 'transactions': [], 'price': '€€', 'location': {'address1': '11 rue Théâtre Français', 'address2': None, 'address3': None, 'city': 'Marseille', 'zip_code': '13001', 'country': 'FR', 'state': '13', 'display_address': ['11 rue Théâtre Français', '13001 Marseille', 'France']}, 'phone': '+33951455461', 'display_phone': '+33 9 51 45 54 61', 'distance': 316.57980887088394}, {'id': 'KgYoPVXM50ZRhWeDl4mlMA', 'alias': 'le-corto-marseille', 'name': 'Le Corto', 'image_url': 'https://s3-media3.fl.yelpcdn.com/bphoto/61UH7VSsa2PD6JjCQPk-cQ/o.jpg', 'is_closed': False, 'url': 'https://www.yelp.com/biz/le-corto-marseille?adjust_creative=uHiQDXQFMQ7qWBDHZhCgAw&utm_campaign=yelp_api_v3&utm_medium=api_v3_business_search&utm_source=uHiQDXQFMQ7qWBDHZhCgAw', 'review_count': 65, 'categories': [{'alias': 'tapasmallplates', 'title': 'Tapas/Small Plates'}, {'alias': 'french', 'title': 'French'}, {'alias': 'mediterranean', 'title': 'Mediterranean'}], 'rating': 4.5, 'coordinates': {'latitude': 43.2917571, 'longitude': 5.3842254}, 'transactions': [], 'price': '€€', 'location': {'address1': '24 place Notre-Dame du Mont', 'address2': '', 'address3': '', 'city': 'Marseille', 'zip_code': '13006', 'country': 'FR', 'state': '13', 'display_address': ['24 place Notre-Dame du Mont', '13006 Marseille', 'France']}, 'phone': '+33491531950', 'display_phone': '+33 4 91 53 19 50', 'distance': 886.4802969060258}, {'id': '4q-slQPktkv3bVPV4qrATg', 'alias': 'café-vian-marseille-3', 'name': 'Café Vian', 'image_url': 'https://s3-media1.fl.yelpcdn.com/bphoto/Yp6jwDrd_XDf790N1WqYXg/o.jpg', 'is_closed': False, 'url': 'https://www.yelp.com/biz/caf%C3%A9-vian-marseille-3?adjust_creative=uHiQDXQFMQ7qWBDHZhCgAw&utm_campaign=yelp_api_v3&utm_medium=api_v3_business_search&utm_source=uHiQDXQFMQ7qWBDHZhCgAw', 'review_count': 119, 'categories': [{'alias': 'wine_bars', 'title': 'Wine Bars'}, {'alias': 'provencal', 'title': 'Provencal'}, {'alias': 'bbq', 'title': 'Barbeque'}], 'rating': 4.5, 'coordinates': {'latitude': 43.29443, 'longitude': 5.38383}, 'transactions': [], 'price': '€€€', 'location': {'address1': '12 rue Vian', 'address2': '', 'address3': '', 'city': 'Marseille', 'zip_code': '13006', 'country': 'FR', 'state': '13', 'display_address': ['12 rue Vian', '13006 Marseille', 'France']}, 'phone': '+33664154134', 'display_phone': '+33 6 64 15 41 34', 'distance': 597.3123236104175}], 'total': 880, 'region': {'center': {'longitude': 5.384845163546515, 'latitude': 43.29971664630074}}}\n",
      "Response:\n",
      "{'businesses': [{'id': 'B9EDlS5y7zaHUVRFTE5PeA', 'alias': 'la-caravelle-marseille-2', 'name': 'La Caravelle', 'image_url': 'https://s3-media1.fl.yelpcdn.com/bphoto/2jbskhvPGrFAn7TYuSTsuw/o.jpg', 'is_closed': False, 'url': 'https://www.yelp.com/biz/la-caravelle-marseille-2?adjust_creative=uHiQDXQFMQ7qWBDHZhCgAw&utm_campaign=yelp_api_v3&utm_medium=api_v3_business_search&utm_source=uHiQDXQFMQ7qWBDHZhCgAw', 'review_count': 262, 'categories': [{'alias': 'bars', 'title': 'Bars'}, {'alias': 'provencal', 'title': 'Provencal'}], 'rating': 4.0, 'coordinates': {'latitude': 43.296302648832, 'longitude': 5.37139641627038}, 'transactions': [], 'price': '€€', 'location': {'address1': '34 quai du Port', 'address2': '', 'address3': None, 'city': 'Marseille', 'zip_code': '13002', 'country': 'FR', 'state': '13', 'display_address': ['34 quai du Port', '13002 Marseille', 'France']}, 'phone': '+33491903664', 'display_phone': '+33 4 91 90 36 64', 'distance': 134.35624379665094}, {'id': 'EfMabFwgjmWoUibT1DMMzw', 'alias': 'sauveur-marseille', 'name': 'Sauveur', 'image_url': 'https://s3-media2.fl.yelpcdn.com/bphoto/h1J_sFKYsxYj0Wix0J1AHQ/o.jpg', 'is_closed': False, 'url': 'https://www.yelp.com/biz/sauveur-marseille?adjust_creative=uHiQDXQFMQ7qWBDHZhCgAw&utm_campaign=yelp_api_v3&utm_medium=api_v3_business_search&utm_source=uHiQDXQFMQ7qWBDHZhCgAw', 'review_count': 132, 'categories': [{'alias': 'pizza', 'title': 'Pizza'}], 'rating': 4.5, 'coordinates': {'latitude': 43.295589, 'longitude': 5.379063}, 'transactions': [], 'price': '€€', 'location': {'address1': \"10 rue d'Aubagne\", 'address2': '', 'address3': None, 'city': 'Marseille', 'zip_code': '13001', 'country': 'FR', 'state': '13', 'display_address': [\"10 rue d'Aubagne\", '13001 Marseille', 'France']}, 'phone': '+33491543396', 'display_phone': '+33 4 91 54 33 96', 'distance': 515.8576648502856}, {'id': 'm5ERA2E2b07Dm5DSwj_cKA', 'alias': 'miramar-marseille-3', 'name': 'Miramar', 'image_url': 'https://s3-media1.fl.yelpcdn.com/bphoto/Znj5L_6Z2FajHCC8SBMnKg/o.jpg', 'is_closed': False, 'url': 'https://www.yelp.com/biz/miramar-marseille-3?adjust_creative=uHiQDXQFMQ7qWBDHZhCgAw&utm_campaign=yelp_api_v3&utm_medium=api_v3_business_search&utm_source=uHiQDXQFMQ7qWBDHZhCgAw', 'review_count': 143, 'categories': [{'alias': 'seafood', 'title': 'Seafood'}], 'rating': 3.5, 'coordinates': {'latitude': 43.2965, 'longitude': 5.373197}, 'transactions': [], 'price': '€€€€', 'location': {'address1': '12 quai du Port', 'address2': '', 'address3': None, 'city': 'Marseille', 'zip_code': '13002', 'country': 'FR', 'state': '13', 'display_address': ['12 quai du Port', '13002 Marseille', 'France']}, 'phone': '+33491911040', 'display_phone': '+33 4 91 91 10 40', 'distance': 40.62415118271086}, {'id': '_HmsDLwMLKrbmndlNQ7ZoQ', 'alias': 'vinonéo-marseille-5', 'name': 'Vinonéo', 'image_url': 'https://s3-media4.fl.yelpcdn.com/bphoto/H9v2VXiIV0QNWBpDQKu00w/o.jpg', 'is_closed': False, 'url': 'https://www.yelp.com/biz/vinon%C3%A9o-marseille-5?adjust_creative=uHiQDXQFMQ7qWBDHZhCgAw&utm_campaign=yelp_api_v3&utm_medium=api_v3_business_search&utm_source=uHiQDXQFMQ7qWBDHZhCgAw', 'review_count': 56, 'categories': [{'alias': 'french', 'title': 'French'}, {'alias': 'wine_bars', 'title': 'Wine Bars'}, {'alias': 'mediterranean', 'title': 'Mediterranean'}], 'rating': 4.5, 'coordinates': {'latitude': 43.2977099227985, 'longitude': 5.36929702883606}, 'transactions': [], 'price': '€€', 'location': {'address1': '6 place Daviel', 'address2': None, 'address3': None, 'city': 'Marseille', 'zip_code': '13002', 'country': 'FR', 'state': '13', 'display_address': ['6 place Daviel', '13002 Marseille', 'France']}, 'phone': '+33491904026', 'display_phone': '+33 4 91 90 40 26', 'distance': 309.3937043165426}, {'id': 'dcG-CXh6Gdi7kxRp472uiQ', 'alias': 'l-hippocampe-marseille-4', 'name': \"L'Hippocampe\", 'image_url': 'https://s3-media3.fl.yelpcdn.com/bphoto/Gvr8Bbz2kqHlhFRcO88VTA/o.jpg', 'is_closed': False, 'url': 'https://www.yelp.com/biz/l-hippocampe-marseille-4?adjust_creative=uHiQDXQFMQ7qWBDHZhCgAw&utm_campaign=yelp_api_v3&utm_medium=api_v3_business_search&utm_source=uHiQDXQFMQ7qWBDHZhCgAw', 'review_count': 13, 'categories': [{'alias': 'seafood', 'title': 'Seafood'}, {'alias': 'mediterranean', 'title': 'Mediterranean'}], 'rating': 4.0, 'coordinates': {'latitude': 43.296557, 'longitude': 5.373062}, 'transactions': [], 'price': '€€€€', 'location': {'address1': '14 quai du Port', 'address2': None, 'address3': None, 'city': 'Marseille', 'zip_code': '13002', 'country': 'FR', 'state': '13', 'display_address': ['14 quai du Port', '13002 Marseille', 'France']}, 'phone': '+33491908838', 'display_phone': '+33 4 91 90 88 38', 'distance': 29.65667640261641}, {'id': 'CSFc59c3-zGbD-cwFa1pSA', 'alias': 'une-table-au-sud-marseille', 'name': 'Une Table au Sud', 'image_url': 'https://s3-media2.fl.yelpcdn.com/bphoto/t268bkP7nA-AALRqfUVS3w/o.jpg', 'is_closed': False, 'url': 'https://www.yelp.com/biz/une-table-au-sud-marseille?adjust_creative=uHiQDXQFMQ7qWBDHZhCgAw&utm_campaign=yelp_api_v3&utm_medium=api_v3_business_search&utm_source=uHiQDXQFMQ7qWBDHZhCgAw', 'review_count': 48, 'categories': [{'alias': 'mediterranean', 'title': 'Mediterranean'}], 'rating': 4.0, 'coordinates': {'latitude': 43.2963958166187, 'longitude': 5.37366704830174}, 'transactions': [], 'price': '€€€€', 'location': {'address1': '1 Rue République', 'address2': '', 'address3': '', 'city': 'Marseille', 'zip_code': '13002', 'country': 'FR', 'state': '13', 'display_address': ['1 Rue République', '13002 Marseille', 'France']}, 'phone': '+33491906353', 'display_phone': '+33 4 91 90 63 53', 'distance': 75.97665895225377}, {'id': 'i1aD9BdALxnbeacX1j3Utw', 'alias': 'déjeuner-en-ville-marseille-5', 'name': 'Déjeuner en Ville', 'image_url': 'https://s3-media3.fl.yelpcdn.com/bphoto/2pxVOVs0uDfZJ1x4OYx6Kg/o.jpg', 'is_closed': False, 'url': 'https://www.yelp.com/biz/d%C3%A9jeuner-en-ville-marseille-5?adjust_creative=uHiQDXQFMQ7qWBDHZhCgAw&utm_campaign=yelp_api_v3&utm_medium=api_v3_business_search&utm_source=uHiQDXQFMQ7qWBDHZhCgAw', 'review_count': 21, 'categories': [{'alias': 'bistros', 'title': 'Bistros'}], 'rating': 4.5, 'coordinates': {'latitude': 43.2969, 'longitude': 5.37363}, 'transactions': [], 'price': '€€', 'location': {'address1': '5 rue de la République', 'address2': None, 'address3': None, 'city': 'Marseille', 'zip_code': '13002', 'country': 'FR', 'state': '13', 'display_address': ['5 rue de la République', '13002 Marseille', 'France']}, 'phone': '+33491903559', 'display_phone': '+33 4 91 90 35 59', 'distance': 59.35374866713344}, {'id': 'DEHMfZxRq9HXrLx1GEnGfg', 'alias': 'la-kahena-marseille-2', 'name': 'La Kahena', 'image_url': 'https://s3-media3.fl.yelpcdn.com/bphoto/WSc73CPiGZxuEBKrUSLVqA/o.jpg', 'is_closed': False, 'url': 'https://www.yelp.com/biz/la-kahena-marseille-2?adjust_creative=uHiQDXQFMQ7qWBDHZhCgAw&utm_campaign=yelp_api_v3&utm_medium=api_v3_business_search&utm_source=uHiQDXQFMQ7qWBDHZhCgAw', 'review_count': 68, 'categories': [{'alias': 'arabian', 'title': 'Arabic'}, {'alias': 'mediterranean', 'title': 'Mediterranean'}], 'rating': 3.5, 'coordinates': {'latitude': 43.296495, 'longitude': 5.3742438}, 'transactions': [], 'price': '€€', 'location': {'address1': '2 rue de la République', 'address2': '', 'address3': '', 'city': 'Marseille', 'zip_code': '13001', 'country': 'FR', 'state': '13', 'display_address': ['2 rue de la République', '13001 Marseille', 'France']}, 'phone': '+33491906193', 'display_phone': '+33 4 91 90 61 93', 'distance': 113.1555997207085}, {'id': 'tpya1qrNPfCnSDFE53A6sQ', 'alias': 'le-bocal-marseille', 'name': 'Le Bocal', 'image_url': 'https://s3-media2.fl.yelpcdn.com/bphoto/33WeNkBuU-BlIAGO6aBUmA/o.jpg', 'is_closed': False, 'url': 'https://www.yelp.com/biz/le-bocal-marseille?adjust_creative=uHiQDXQFMQ7qWBDHZhCgAw&utm_campaign=yelp_api_v3&utm_medium=api_v3_business_search&utm_source=uHiQDXQFMQ7qWBDHZhCgAw', 'review_count': 23, 'categories': [{'alias': 'french', 'title': 'French'}], 'rating': 4.0, 'coordinates': {'latitude': 43.29621, 'longitude': 5.37132}, 'transactions': [], 'price': '€€', 'location': {'address1': '58 Quai Du Port', 'address2': '', 'address3': '', 'city': 'Marseille', 'zip_code': '13002', 'country': 'FR', 'state': '13', 'display_address': ['58 Quai Du Port', '13002 Marseille', 'France']}, 'phone': '+33660731313', 'display_phone': '+33 6 60 73 13 13', 'distance': 144.39274548751564}, {'id': 'FHHCjx0O5Gq0udJS1reGcA', 'alias': 'le-café-des-épices-marseille-2', 'name': 'Le Café des Épices', 'image_url': 'https://s3-media1.fl.yelpcdn.com/bphoto/BvbxD9yai7_Lh-3dy_Mjjw/o.jpg', 'is_closed': False, 'url': 'https://www.yelp.com/biz/le-caf%C3%A9-des-%C3%A9pices-marseille-2?adjust_creative=uHiQDXQFMQ7qWBDHZhCgAw&utm_campaign=yelp_api_v3&utm_medium=api_v3_business_search&utm_source=uHiQDXQFMQ7qWBDHZhCgAw', 'review_count': 112, 'categories': [{'alias': 'french', 'title': 'French'}], 'rating': 3.5, 'coordinates': {'latitude': 43.29689, 'longitude': 5.36919}, 'transactions': [], 'price': '€€€', 'location': {'address1': '4 rue du Lacydon', 'address2': None, 'address3': None, 'city': 'Marseille', 'zip_code': '13002', 'country': 'FR', 'state': '13', 'display_address': ['4 rue du Lacydon', '13002 Marseille', 'France']}, 'phone': '+33491912269', 'display_phone': '+33 4 91 91 22 69', 'distance': 304.1470518757902}], 'total': 1200, 'region': {'center': {'longitude': 5.372909688, 'latitude': 43.29679958}}}\n",
      "Response:\n",
      "{'businesses': [{'id': 'EfMabFwgjmWoUibT1DMMzw', 'alias': 'sauveur-marseille', 'name': 'Sauveur', 'image_url': 'https://s3-media2.fl.yelpcdn.com/bphoto/h1J_sFKYsxYj0Wix0J1AHQ/o.jpg', 'is_closed': False, 'url': 'https://www.yelp.com/biz/sauveur-marseille?adjust_creative=uHiQDXQFMQ7qWBDHZhCgAw&utm_campaign=yelp_api_v3&utm_medium=api_v3_business_search&utm_source=uHiQDXQFMQ7qWBDHZhCgAw', 'review_count': 132, 'categories': [{'alias': 'pizza', 'title': 'Pizza'}], 'rating': 4.5, 'coordinates': {'latitude': 43.295589, 'longitude': 5.379063}, 'transactions': [], 'price': '€€', 'location': {'address1': \"10 rue d'Aubagne\", 'address2': '', 'address3': None, 'city': 'Marseille', 'zip_code': '13001', 'country': 'FR', 'state': '13', 'display_address': [\"10 rue d'Aubagne\", '13001 Marseille', 'France']}, 'phone': '+33491543396', 'display_phone': '+33 4 91 54 33 96', 'distance': 326.7232321080734}, {'id': 'B9EDlS5y7zaHUVRFTE5PeA', 'alias': 'la-caravelle-marseille-2', 'name': 'La Caravelle', 'image_url': 'https://s3-media1.fl.yelpcdn.com/bphoto/2jbskhvPGrFAn7TYuSTsuw/o.jpg', 'is_closed': False, 'url': 'https://www.yelp.com/biz/la-caravelle-marseille-2?adjust_creative=uHiQDXQFMQ7qWBDHZhCgAw&utm_campaign=yelp_api_v3&utm_medium=api_v3_business_search&utm_source=uHiQDXQFMQ7qWBDHZhCgAw', 'review_count': 262, 'categories': [{'alias': 'bars', 'title': 'Bars'}, {'alias': 'provencal', 'title': 'Provencal'}], 'rating': 4.0, 'coordinates': {'latitude': 43.296302648832, 'longitude': 5.37139641627038}, 'transactions': [], 'price': '€€', 'location': {'address1': '34 quai du Port', 'address2': '', 'address3': None, 'city': 'Marseille', 'zip_code': '13002', 'country': 'FR', 'state': '13', 'display_address': ['34 quai du Port', '13002 Marseille', 'France']}, 'phone': '+33491903664', 'display_phone': '+33 4 91 90 36 64', 'distance': 316.72424091794744}, {'id': 'm5ERA2E2b07Dm5DSwj_cKA', 'alias': 'miramar-marseille-3', 'name': 'Miramar', 'image_url': 'https://s3-media1.fl.yelpcdn.com/bphoto/Znj5L_6Z2FajHCC8SBMnKg/o.jpg', 'is_closed': False, 'url': 'https://www.yelp.com/biz/miramar-marseille-3?adjust_creative=uHiQDXQFMQ7qWBDHZhCgAw&utm_campaign=yelp_api_v3&utm_medium=api_v3_business_search&utm_source=uHiQDXQFMQ7qWBDHZhCgAw', 'review_count': 143, 'categories': [{'alias': 'seafood', 'title': 'Seafood'}], 'rating': 3.5, 'coordinates': {'latitude': 43.2965, 'longitude': 5.373197}, 'transactions': [], 'price': '€€€€', 'location': {'address1': '12 quai du Port', 'address2': '', 'address3': None, 'city': 'Marseille', 'zip_code': '13002', 'country': 'FR', 'state': '13', 'display_address': ['12 quai du Port', '13002 Marseille', 'France']}, 'phone': '+33491911040', 'display_phone': '+33 4 91 91 10 40', 'distance': 202.20621393054694}, {'id': 'uLqZhed6FOI-Yxmdi-W2tA', 'alias': 'le-petit-flore-marseille', 'name': 'Le Petit Flore', 'image_url': 'https://s3-media4.fl.yelpcdn.com/bphoto/7lRpaVYToTVMFODSzVOpZg/o.jpg', 'is_closed': False, 'url': 'https://www.yelp.com/biz/le-petit-flore-marseille?adjust_creative=uHiQDXQFMQ7qWBDHZhCgAw&utm_campaign=yelp_api_v3&utm_medium=api_v3_business_search&utm_source=uHiQDXQFMQ7qWBDHZhCgAw', 'review_count': 24, 'categories': [{'alias': 'mediterranean', 'title': 'Mediterranean'}, {'alias': 'french', 'title': 'French'}], 'rating': 5.0, 'coordinates': {'latitude': 43.293307, 'longitude': 5.375469}, 'transactions': [], 'price': '€€', 'location': {'address1': '14 rue Corneille', 'address2': '', 'address3': '', 'city': 'Marseille', 'zip_code': '13001', 'country': 'FR', 'state': '13', 'display_address': ['14 rue Corneille', '13001 Marseille', 'France']}, 'phone': '+33491338653', 'display_phone': '+33 4 91 33 86 53', 'distance': 221.89298627825815}, {'id': 'CSFc59c3-zGbD-cwFa1pSA', 'alias': 'une-table-au-sud-marseille', 'name': 'Une Table au Sud', 'image_url': 'https://s3-media2.fl.yelpcdn.com/bphoto/t268bkP7nA-AALRqfUVS3w/o.jpg', 'is_closed': False, 'url': 'https://www.yelp.com/biz/une-table-au-sud-marseille?adjust_creative=uHiQDXQFMQ7qWBDHZhCgAw&utm_campaign=yelp_api_v3&utm_medium=api_v3_business_search&utm_source=uHiQDXQFMQ7qWBDHZhCgAw', 'review_count': 48, 'categories': [{'alias': 'mediterranean', 'title': 'Mediterranean'}], 'rating': 4.0, 'coordinates': {'latitude': 43.2963958166187, 'longitude': 5.37366704830174}, 'transactions': [], 'price': '€€€€', 'location': {'address1': '1 Rue République', 'address2': '', 'address3': '', 'city': 'Marseille', 'zip_code': '13002', 'country': 'FR', 'state': '13', 'display_address': ['1 Rue République', '13002 Marseille', 'France']}, 'phone': '+33491906353', 'display_phone': '+33 4 91 90 63 53', 'distance': 167.10104194312714}, {'id': 'VO2Gk3YV0vMLEkc3jg0_BA', 'alias': 'grumpy-cakes-marseille', 'name': 'Grumpy Cakes', 'image_url': 'https://s3-media1.fl.yelpcdn.com/bphoto/9YWMKsKbM9XwF7YPcTfvcQ/o.jpg', 'is_closed': False, 'url': 'https://www.yelp.com/biz/grumpy-cakes-marseille?adjust_creative=uHiQDXQFMQ7qWBDHZhCgAw&utm_campaign=yelp_api_v3&utm_medium=api_v3_business_search&utm_source=uHiQDXQFMQ7qWBDHZhCgAw', 'review_count': 35, 'categories': [{'alias': 'tea', 'title': 'Tea Rooms'}, {'alias': 'desserts', 'title': 'Desserts'}, {'alias': 'salad', 'title': 'Salad'}], 'rating': 4.5, 'coordinates': {'latitude': 43.293379, 'longitude': 5.375462}, 'transactions': [], 'price': '€', 'location': {'address1': '12 rue Corneille', 'address2': '', 'address3': '', 'city': 'Marseille', 'zip_code': '13001', 'country': 'FR', 'state': '13', 'display_address': ['12 rue Corneille', '13001 Marseille', 'France']}, 'phone': '+33491520168', 'display_phone': '+33 4 91 52 01 68', 'distance': 213.89584301830686}, {'id': 'DEHMfZxRq9HXrLx1GEnGfg', 'alias': 'la-kahena-marseille-2', 'name': 'La Kahena', 'image_url': 'https://s3-media3.fl.yelpcdn.com/bphoto/WSc73CPiGZxuEBKrUSLVqA/o.jpg', 'is_closed': False, 'url': 'https://www.yelp.com/biz/la-kahena-marseille-2?adjust_creative=uHiQDXQFMQ7qWBDHZhCgAw&utm_campaign=yelp_api_v3&utm_medium=api_v3_business_search&utm_source=uHiQDXQFMQ7qWBDHZhCgAw', 'review_count': 68, 'categories': [{'alias': 'arabian', 'title': 'Arabic'}, {'alias': 'mediterranean', 'title': 'Mediterranean'}], 'rating': 3.5, 'coordinates': {'latitude': 43.296495, 'longitude': 5.3742438}, 'transactions': [], 'price': '€€', 'location': {'address1': '2 rue de la République', 'address2': '', 'address3': '', 'city': 'Marseille', 'zip_code': '13001', 'country': 'FR', 'state': '13', 'display_address': ['2 rue de la République', '13001 Marseille', 'France']}, 'phone': '+33491906193', 'display_phone': '+33 4 91 90 61 93', 'distance': 150.08579538735765}, {'id': 'gMbdTQCBPjp7mDfWJehHmQ', 'alias': 'le-bon-burger-marseille', 'name': 'Le Bon Burger', 'image_url': 'https://s3-media2.fl.yelpcdn.com/bphoto/1furrIRW7bGiQK0tnYwZpw/o.jpg', 'is_closed': False, 'url': 'https://www.yelp.com/biz/le-bon-burger-marseille?adjust_creative=uHiQDXQFMQ7qWBDHZhCgAw&utm_campaign=yelp_api_v3&utm_medium=api_v3_business_search&utm_source=uHiQDXQFMQ7qWBDHZhCgAw', 'review_count': 36, 'categories': [{'alias': 'burgers', 'title': 'Burgers'}, {'alias': 'tradamerican', 'title': 'American'}], 'rating': 4.5, 'coordinates': {'latitude': 43.2926558819198, 'longitude': 5.37180240555722}, 'transactions': [], 'price': '€€', 'location': {'address1': '24 place aux Huiles', 'address2': '', 'address3': '', 'city': 'Marseille', 'zip_code': '13001', 'country': 'FR', 'state': '13', 'display_address': ['24 place aux Huiles', '13001 Marseille', 'France']}, 'phone': '+33491522052', 'display_phone': '+33 4 91 52 20 52', 'distance': 392.5403333862961}, {'id': '7av0DefYvzlnjg7dPJgirg', 'alias': 'toinou-marseille', 'name': 'Toinou', 'image_url': 'https://s3-media4.fl.yelpcdn.com/bphoto/l6rNmoENYR2djrZiiqLF8w/o.jpg', 'is_closed': False, 'url': 'https://www.yelp.com/biz/toinou-marseille?adjust_creative=uHiQDXQFMQ7qWBDHZhCgAw&utm_campaign=yelp_api_v3&utm_medium=api_v3_business_search&utm_source=uHiQDXQFMQ7qWBDHZhCgAw', 'review_count': 217, 'categories': [{'alias': 'seafood', 'title': 'Seafood'}, {'alias': 'seafoodmarkets', 'title': 'Seafood Markets'}], 'rating': 3.5, 'coordinates': {'latitude': 43.29612, 'longitude': 5.37825}, 'transactions': [], 'price': '€€€', 'location': {'address1': '3 cours Saint-Louis', 'address2': '', 'address3': '', 'city': 'Marseille', 'zip_code': '13001', 'country': 'FR', 'state': '13', 'display_address': ['3 cours Saint-Louis', '13001 Marseille', 'France']}, 'phone': '+33491331494', 'display_phone': '+33 4 91 33 14 94', 'distance': 275.8298058508059}, {'id': 'OXU6KQgkDc7aM9UFDYq1nQ', 'alias': 'les-panisses-marseille-2', 'name': 'Les Panisses', 'image_url': 'https://s3-media1.fl.yelpcdn.com/bphoto/RKYKd_wUOAiXglyvvI5nRw/o.jpg', 'is_closed': False, 'url': 'https://www.yelp.com/biz/les-panisses-marseille-2?adjust_creative=uHiQDXQFMQ7qWBDHZhCgAw&utm_campaign=yelp_api_v3&utm_medium=api_v3_business_search&utm_source=uHiQDXQFMQ7qWBDHZhCgAw', 'review_count': 39, 'categories': [{'alias': 'french', 'title': 'French'}, {'alias': 'brasseries', 'title': 'Brasseries'}], 'rating': 4.0, 'coordinates': {'latitude': 43.29261, 'longitude': 5.37571}, 'transactions': [], 'price': '€€', 'location': {'address1': '23 rue Sainte', 'address2': '', 'address3': '', 'city': 'Marseille', 'zip_code': '13001', 'country': 'FR', 'state': '13', 'display_address': ['23 rue Sainte', '13001 Marseille', 'France']}, 'phone': '+33491528683', 'display_phone': '+33 4 91 52 86 83', 'distance': 301.5608702922783}], 'total': 1200, 'region': {'center': {'longitude': 5.375048465, 'latitude': 43.29527892}}}\n",
      "Response:\n",
      "{'businesses': [{'id': 'EfMabFwgjmWoUibT1DMMzw', 'alias': 'sauveur-marseille', 'name': 'Sauveur', 'image_url': 'https://s3-media2.fl.yelpcdn.com/bphoto/h1J_sFKYsxYj0Wix0J1AHQ/o.jpg', 'is_closed': False, 'url': 'https://www.yelp.com/biz/sauveur-marseille?adjust_creative=uHiQDXQFMQ7qWBDHZhCgAw&utm_campaign=yelp_api_v3&utm_medium=api_v3_business_search&utm_source=uHiQDXQFMQ7qWBDHZhCgAw', 'review_count': 132, 'categories': [{'alias': 'pizza', 'title': 'Pizza'}], 'rating': 4.5, 'coordinates': {'latitude': 43.295589, 'longitude': 5.379063}, 'transactions': [], 'price': '€€', 'location': {'address1': \"10 rue d'Aubagne\", 'address2': '', 'address3': None, 'city': 'Marseille', 'zip_code': '13001', 'country': 'FR', 'state': '13', 'display_address': [\"10 rue d'Aubagne\", '13001 Marseille', 'France']}, 'phone': '+33491543396', 'display_phone': '+33 4 91 54 33 96', 'distance': 532.6040167377631}, {'id': 'B9EDlS5y7zaHUVRFTE5PeA', 'alias': 'la-caravelle-marseille-2', 'name': 'La Caravelle', 'image_url': 'https://s3-media1.fl.yelpcdn.com/bphoto/2jbskhvPGrFAn7TYuSTsuw/o.jpg', 'is_closed': False, 'url': 'https://www.yelp.com/biz/la-caravelle-marseille-2?adjust_creative=uHiQDXQFMQ7qWBDHZhCgAw&utm_campaign=yelp_api_v3&utm_medium=api_v3_business_search&utm_source=uHiQDXQFMQ7qWBDHZhCgAw', 'review_count': 262, 'categories': [{'alias': 'bars', 'title': 'Bars'}, {'alias': 'provencal', 'title': 'Provencal'}], 'rating': 4.0, 'coordinates': {'latitude': 43.296302648832, 'longitude': 5.37139641627038}, 'transactions': [], 'price': '€€', 'location': {'address1': '34 quai du Port', 'address2': '', 'address3': None, 'city': 'Marseille', 'zip_code': '13002', 'country': 'FR', 'state': '13', 'display_address': ['34 quai du Port', '13002 Marseille', 'France']}, 'phone': '+33491903664', 'display_phone': '+33 4 91 90 36 64', 'distance': 427.86318360102285}, {'id': 'nrxYjkyHSklYcUv4VaNnfg', 'alias': 'le-grain-de-sable-marseille', 'name': 'Le Grain de Sable', 'image_url': 'https://s3-media2.fl.yelpcdn.com/bphoto/D8W1oLksnLWKAH2ISLRNLA/o.jpg', 'is_closed': False, 'url': 'https://www.yelp.com/biz/le-grain-de-sable-marseille?adjust_creative=uHiQDXQFMQ7qWBDHZhCgAw&utm_campaign=yelp_api_v3&utm_medium=api_v3_business_search&utm_source=uHiQDXQFMQ7qWBDHZhCgAw', 'review_count': 47, 'categories': [{'alias': 'vegetarian', 'title': 'Vegetarian'}, {'alias': 'french', 'title': 'French'}], 'rating': 4.5, 'coordinates': {'latitude': 43.29952, 'longitude': 5.37744}, 'transactions': [], 'price': '€€', 'location': {'address1': '34 Rue Baignoir', 'address2': None, 'address3': None, 'city': 'Marseille', 'zip_code': '13001', 'country': 'FR', 'state': '13', 'display_address': ['34 Rue Baignoir', '13001 Marseille', 'France']}, 'phone': '+33491903951', 'display_phone': '+33 4 91 90 39 51', 'distance': 215.27234386865806}, {'id': 'CSFc59c3-zGbD-cwFa1pSA', 'alias': 'une-table-au-sud-marseille', 'name': 'Une Table au Sud', 'image_url': 'https://s3-media2.fl.yelpcdn.com/bphoto/t268bkP7nA-AALRqfUVS3w/o.jpg', 'is_closed': False, 'url': 'https://www.yelp.com/biz/une-table-au-sud-marseille?adjust_creative=uHiQDXQFMQ7qWBDHZhCgAw&utm_campaign=yelp_api_v3&utm_medium=api_v3_business_search&utm_source=uHiQDXQFMQ7qWBDHZhCgAw', 'review_count': 48, 'categories': [{'alias': 'mediterranean', 'title': 'Mediterranean'}], 'rating': 4.0, 'coordinates': {'latitude': 43.2963958166187, 'longitude': 5.37366704830174}, 'transactions': [], 'price': '€€€€', 'location': {'address1': '1 Rue République', 'address2': '', 'address3': '', 'city': 'Marseille', 'zip_code': '13002', 'country': 'FR', 'state': '13', 'display_address': ['1 Rue République', '13002 Marseille', 'France']}, 'phone': '+33491906353', 'display_phone': '+33 4 91 90 63 53', 'distance': 329.72836335329856}, {'id': 'DEHMfZxRq9HXrLx1GEnGfg', 'alias': 'la-kahena-marseille-2', 'name': 'La Kahena', 'image_url': 'https://s3-media3.fl.yelpcdn.com/bphoto/WSc73CPiGZxuEBKrUSLVqA/o.jpg', 'is_closed': False, 'url': 'https://www.yelp.com/biz/la-kahena-marseille-2?adjust_creative=uHiQDXQFMQ7qWBDHZhCgAw&utm_campaign=yelp_api_v3&utm_medium=api_v3_business_search&utm_source=uHiQDXQFMQ7qWBDHZhCgAw', 'review_count': 68, 'categories': [{'alias': 'arabian', 'title': 'Arabic'}, {'alias': 'mediterranean', 'title': 'Mediterranean'}], 'rating': 3.5, 'coordinates': {'latitude': 43.296495, 'longitude': 5.3742438}, 'transactions': [], 'price': '€€', 'location': {'address1': '2 rue de la République', 'address2': '', 'address3': '', 'city': 'Marseille', 'zip_code': '13001', 'country': 'FR', 'state': '13', 'display_address': ['2 rue de la République', '13001 Marseille', 'France']}, 'phone': '+33491906193', 'display_phone': '+33 4 91 90 61 93', 'distance': 308.9085592915485}, {'id': 'i1aD9BdALxnbeacX1j3Utw', 'alias': 'déjeuner-en-ville-marseille-5', 'name': 'Déjeuner en Ville', 'image_url': 'https://s3-media3.fl.yelpcdn.com/bphoto/2pxVOVs0uDfZJ1x4OYx6Kg/o.jpg', 'is_closed': False, 'url': 'https://www.yelp.com/biz/d%C3%A9jeuner-en-ville-marseille-5?adjust_creative=uHiQDXQFMQ7qWBDHZhCgAw&utm_campaign=yelp_api_v3&utm_medium=api_v3_business_search&utm_source=uHiQDXQFMQ7qWBDHZhCgAw', 'review_count': 21, 'categories': [{'alias': 'bistros', 'title': 'Bistros'}], 'rating': 4.5, 'coordinates': {'latitude': 43.2969, 'longitude': 5.37363}, 'transactions': [], 'price': '€€', 'location': {'address1': '5 rue de la République', 'address2': None, 'address3': None, 'city': 'Marseille', 'zip_code': '13002', 'country': 'FR', 'state': '13', 'display_address': ['5 rue de la République', '13002 Marseille', 'France']}, 'phone': '+33491903559', 'display_phone': '+33 4 91 90 35 59', 'distance': 277.3671868539761}, {'id': 'm5ERA2E2b07Dm5DSwj_cKA', 'alias': 'miramar-marseille-3', 'name': 'Miramar', 'image_url': 'https://s3-media1.fl.yelpcdn.com/bphoto/Znj5L_6Z2FajHCC8SBMnKg/o.jpg', 'is_closed': False, 'url': 'https://www.yelp.com/biz/miramar-marseille-3?adjust_creative=uHiQDXQFMQ7qWBDHZhCgAw&utm_campaign=yelp_api_v3&utm_medium=api_v3_business_search&utm_source=uHiQDXQFMQ7qWBDHZhCgAw', 'review_count': 143, 'categories': [{'alias': 'seafood', 'title': 'Seafood'}], 'rating': 3.5, 'coordinates': {'latitude': 43.2965, 'longitude': 5.373197}, 'transactions': [], 'price': '€€€€', 'location': {'address1': '12 quai du Port', 'address2': '', 'address3': None, 'city': 'Marseille', 'zip_code': '13002', 'country': 'FR', 'state': '13', 'display_address': ['12 quai du Port', '13002 Marseille', 'France']}, 'phone': '+33491911040', 'display_phone': '+33 4 91 91 10 40', 'distance': 331.6446572427947}, {'id': 'wwcX2d_9rQmz9OzUQEVFHw', 'alias': 'le-cercle-rouge-marseille', 'name': 'Le Cercle Rouge', 'image_url': 'https://s3-media4.fl.yelpcdn.com/bphoto/T9J0xpCwv7hSkb0eZXt-yA/o.jpg', 'is_closed': False, 'url': 'https://www.yelp.com/biz/le-cercle-rouge-marseille?adjust_creative=uHiQDXQFMQ7qWBDHZhCgAw&utm_campaign=yelp_api_v3&utm_medium=api_v3_business_search&utm_source=uHiQDXQFMQ7qWBDHZhCgAw', 'review_count': 65, 'categories': [{'alias': 'tapas', 'title': 'Tapas Bars'}, {'alias': 'corsican', 'title': 'Corsican'}, {'alias': 'cocktailbars', 'title': 'Cocktail Bars'}], 'rating': 4.5, 'coordinates': {'latitude': 43.2972899, 'longitude': 5.38546}, 'transactions': [], 'price': '€€', 'location': {'address1': '41 rue Adolphe Thiers', 'address2': None, 'address3': None, 'city': 'Marseille', 'zip_code': '13001', 'country': 'FR', 'state': '13', 'display_address': ['41 rue Adolphe Thiers', '13001 Marseille', 'France']}, 'phone': '+33491630053', 'display_phone': '+33 4 91 63 00 53', 'distance': 889.7611131579604}, {'id': '_HmsDLwMLKrbmndlNQ7ZoQ', 'alias': 'vinonéo-marseille-5', 'name': 'Vinonéo', 'image_url': 'https://s3-media4.fl.yelpcdn.com/bphoto/H9v2VXiIV0QNWBpDQKu00w/o.jpg', 'is_closed': False, 'url': 'https://www.yelp.com/biz/vinon%C3%A9o-marseille-5?adjust_creative=uHiQDXQFMQ7qWBDHZhCgAw&utm_campaign=yelp_api_v3&utm_medium=api_v3_business_search&utm_source=uHiQDXQFMQ7qWBDHZhCgAw', 'review_count': 56, 'categories': [{'alias': 'french', 'title': 'French'}, {'alias': 'wine_bars', 'title': 'Wine Bars'}, {'alias': 'mediterranean', 'title': 'Mediterranean'}], 'rating': 4.5, 'coordinates': {'latitude': 43.2977099227985, 'longitude': 5.36929702883606}, 'transactions': [], 'price': '€€', 'location': {'address1': '6 place Daviel', 'address2': None, 'address3': None, 'city': 'Marseille', 'zip_code': '13002', 'country': 'FR', 'state': '13', 'display_address': ['6 place Daviel', '13002 Marseille', 'France']}, 'phone': '+33491904026', 'display_phone': '+33 4 91 90 40 26', 'distance': 477.38695462976546}, {'id': '7av0DefYvzlnjg7dPJgirg', 'alias': 'toinou-marseille', 'name': 'Toinou', 'image_url': 'https://s3-media4.fl.yelpcdn.com/bphoto/l6rNmoENYR2djrZiiqLF8w/o.jpg', 'is_closed': False, 'url': 'https://www.yelp.com/biz/toinou-marseille?adjust_creative=uHiQDXQFMQ7qWBDHZhCgAw&utm_campaign=yelp_api_v3&utm_medium=api_v3_business_search&utm_source=uHiQDXQFMQ7qWBDHZhCgAw', 'review_count': 217, 'categories': [{'alias': 'seafood', 'title': 'Seafood'}, {'alias': 'seafoodmarkets', 'title': 'Seafood Markets'}], 'rating': 3.5, 'coordinates': {'latitude': 43.29612, 'longitude': 5.37825}, 'transactions': [], 'price': '€€€', 'location': {'address1': '3 cours Saint-Louis', 'address2': '', 'address3': '', 'city': 'Marseille', 'zip_code': '13001', 'country': 'FR', 'state': '13', 'display_address': ['3 cours Saint-Louis', '13001 Marseille', 'France']}, 'phone': '+33491331494', 'display_phone': '+33 4 91 33 14 94', 'distance': 440.35225803296754}], 'total': 1200, 'region': {'center': {'longitude': 5.374807305735999, 'latitude': 43.299242645590766}}}\n",
      "Response:\n",
      "{'businesses': [{'id': 'EfMabFwgjmWoUibT1DMMzw', 'alias': 'sauveur-marseille', 'name': 'Sauveur', 'image_url': 'https://s3-media2.fl.yelpcdn.com/bphoto/h1J_sFKYsxYj0Wix0J1AHQ/o.jpg', 'is_closed': False, 'url': 'https://www.yelp.com/biz/sauveur-marseille?adjust_creative=uHiQDXQFMQ7qWBDHZhCgAw&utm_campaign=yelp_api_v3&utm_medium=api_v3_business_search&utm_source=uHiQDXQFMQ7qWBDHZhCgAw', 'review_count': 132, 'categories': [{'alias': 'pizza', 'title': 'Pizza'}], 'rating': 4.5, 'coordinates': {'latitude': 43.295589, 'longitude': 5.379063}, 'transactions': [], 'price': '€€', 'location': {'address1': \"10 rue d'Aubagne\", 'address2': '', 'address3': None, 'city': 'Marseille', 'zip_code': '13001', 'country': 'FR', 'state': '13', 'display_address': [\"10 rue d'Aubagne\", '13001 Marseille', 'France']}, 'phone': '+33491543396', 'display_phone': '+33 4 91 54 33 96', 'distance': 252.89138816804692}, {'id': 'CSFc59c3-zGbD-cwFa1pSA', 'alias': 'une-table-au-sud-marseille', 'name': 'Une Table au Sud', 'image_url': 'https://s3-media2.fl.yelpcdn.com/bphoto/t268bkP7nA-AALRqfUVS3w/o.jpg', 'is_closed': False, 'url': 'https://www.yelp.com/biz/une-table-au-sud-marseille?adjust_creative=uHiQDXQFMQ7qWBDHZhCgAw&utm_campaign=yelp_api_v3&utm_medium=api_v3_business_search&utm_source=uHiQDXQFMQ7qWBDHZhCgAw', 'review_count': 48, 'categories': [{'alias': 'mediterranean', 'title': 'Mediterranean'}], 'rating': 4.0, 'coordinates': {'latitude': 43.2963958166187, 'longitude': 5.37366704830174}, 'transactions': [], 'price': '€€€€', 'location': {'address1': '1 Rue République', 'address2': '', 'address3': '', 'city': 'Marseille', 'zip_code': '13002', 'country': 'FR', 'state': '13', 'display_address': ['1 Rue République', '13002 Marseille', 'France']}, 'phone': '+33491906353', 'display_phone': '+33 4 91 90 63 53', 'distance': 240.4410624886931}, {'id': 'B9EDlS5y7zaHUVRFTE5PeA', 'alias': 'la-caravelle-marseille-2', 'name': 'La Caravelle', 'image_url': 'https://s3-media1.fl.yelpcdn.com/bphoto/2jbskhvPGrFAn7TYuSTsuw/o.jpg', 'is_closed': False, 'url': 'https://www.yelp.com/biz/la-caravelle-marseille-2?adjust_creative=uHiQDXQFMQ7qWBDHZhCgAw&utm_campaign=yelp_api_v3&utm_medium=api_v3_business_search&utm_source=uHiQDXQFMQ7qWBDHZhCgAw', 'review_count': 262, 'categories': [{'alias': 'bars', 'title': 'Bars'}, {'alias': 'provencal', 'title': 'Provencal'}], 'rating': 4.0, 'coordinates': {'latitude': 43.296302648832, 'longitude': 5.37139641627038}, 'transactions': [], 'price': '€€', 'location': {'address1': '34 quai du Port', 'address2': '', 'address3': None, 'city': 'Marseille', 'zip_code': '13002', 'country': 'FR', 'state': '13', 'display_address': ['34 quai du Port', '13002 Marseille', 'France']}, 'phone': '+33491903664', 'display_phone': '+33 4 91 90 36 64', 'distance': 422.49836740279966}, {'id': '7av0DefYvzlnjg7dPJgirg', 'alias': 'toinou-marseille', 'name': 'Toinou', 'image_url': 'https://s3-media4.fl.yelpcdn.com/bphoto/l6rNmoENYR2djrZiiqLF8w/o.jpg', 'is_closed': False, 'url': 'https://www.yelp.com/biz/toinou-marseille?adjust_creative=uHiQDXQFMQ7qWBDHZhCgAw&utm_campaign=yelp_api_v3&utm_medium=api_v3_business_search&utm_source=uHiQDXQFMQ7qWBDHZhCgAw', 'review_count': 217, 'categories': [{'alias': 'seafood', 'title': 'Seafood'}, {'alias': 'seafoodmarkets', 'title': 'Seafood Markets'}], 'rating': 3.5, 'coordinates': {'latitude': 43.29612, 'longitude': 5.37825}, 'transactions': [], 'price': '€€€', 'location': {'address1': '3 cours Saint-Louis', 'address2': '', 'address3': '', 'city': 'Marseille', 'zip_code': '13001', 'country': 'FR', 'state': '13', 'display_address': ['3 cours Saint-Louis', '13001 Marseille', 'France']}, 'phone': '+33491331494', 'display_phone': '+33 4 91 33 14 94', 'distance': 161.18994684915617}, {'id': 'nrxYjkyHSklYcUv4VaNnfg', 'alias': 'le-grain-de-sable-marseille', 'name': 'Le Grain de Sable', 'image_url': 'https://s3-media2.fl.yelpcdn.com/bphoto/D8W1oLksnLWKAH2ISLRNLA/o.jpg', 'is_closed': False, 'url': 'https://www.yelp.com/biz/le-grain-de-sable-marseille?adjust_creative=uHiQDXQFMQ7qWBDHZhCgAw&utm_campaign=yelp_api_v3&utm_medium=api_v3_business_search&utm_source=uHiQDXQFMQ7qWBDHZhCgAw', 'review_count': 47, 'categories': [{'alias': 'vegetarian', 'title': 'Vegetarian'}, {'alias': 'french', 'title': 'French'}], 'rating': 4.5, 'coordinates': {'latitude': 43.29952, 'longitude': 5.37744}, 'transactions': [], 'price': '€€', 'location': {'address1': '34 Rue Baignoir', 'address2': None, 'address3': None, 'city': 'Marseille', 'zip_code': '13001', 'country': 'FR', 'state': '13', 'display_address': ['34 Rue Baignoir', '13001 Marseille', 'France']}, 'phone': '+33491903951', 'display_phone': '+33 4 91 90 39 51', 'distance': 296.4366785805592}, {'id': 'DEHMfZxRq9HXrLx1GEnGfg', 'alias': 'la-kahena-marseille-2', 'name': 'La Kahena', 'image_url': 'https://s3-media3.fl.yelpcdn.com/bphoto/WSc73CPiGZxuEBKrUSLVqA/o.jpg', 'is_closed': False, 'url': 'https://www.yelp.com/biz/la-kahena-marseille-2?adjust_creative=uHiQDXQFMQ7qWBDHZhCgAw&utm_campaign=yelp_api_v3&utm_medium=api_v3_business_search&utm_source=uHiQDXQFMQ7qWBDHZhCgAw', 'review_count': 68, 'categories': [{'alias': 'arabian', 'title': 'Arabic'}, {'alias': 'mediterranean', 'title': 'Mediterranean'}], 'rating': 3.5, 'coordinates': {'latitude': 43.296495, 'longitude': 5.3742438}, 'transactions': [], 'price': '€€', 'location': {'address1': '2 rue de la République', 'address2': '', 'address3': '', 'city': 'Marseille', 'zip_code': '13001', 'country': 'FR', 'state': '13', 'display_address': ['2 rue de la République', '13001 Marseille', 'France']}, 'phone': '+33491906193', 'display_phone': '+33 4 91 90 61 93', 'distance': 192.4917186776745}, {'id': 'm5ERA2E2b07Dm5DSwj_cKA', 'alias': 'miramar-marseille-3', 'name': 'Miramar', 'image_url': 'https://s3-media1.fl.yelpcdn.com/bphoto/Znj5L_6Z2FajHCC8SBMnKg/o.jpg', 'is_closed': False, 'url': 'https://www.yelp.com/biz/miramar-marseille-3?adjust_creative=uHiQDXQFMQ7qWBDHZhCgAw&utm_campaign=yelp_api_v3&utm_medium=api_v3_business_search&utm_source=uHiQDXQFMQ7qWBDHZhCgAw', 'review_count': 143, 'categories': [{'alias': 'seafood', 'title': 'Seafood'}], 'rating': 3.5, 'coordinates': {'latitude': 43.2965, 'longitude': 5.373197}, 'transactions': [], 'price': '€€€€', 'location': {'address1': '12 quai du Port', 'address2': '', 'address3': None, 'city': 'Marseille', 'zip_code': '13002', 'country': 'FR', 'state': '13', 'display_address': ['12 quai du Port', '13002 Marseille', 'France']}, 'phone': '+33491911040', 'display_phone': '+33 4 91 91 10 40', 'distance': 275.1709246868455}, {'id': 'i1aD9BdALxnbeacX1j3Utw', 'alias': 'déjeuner-en-ville-marseille-5', 'name': 'Déjeuner en Ville', 'image_url': 'https://s3-media3.fl.yelpcdn.com/bphoto/2pxVOVs0uDfZJ1x4OYx6Kg/o.jpg', 'is_closed': False, 'url': 'https://www.yelp.com/biz/d%C3%A9jeuner-en-ville-marseille-5?adjust_creative=uHiQDXQFMQ7qWBDHZhCgAw&utm_campaign=yelp_api_v3&utm_medium=api_v3_business_search&utm_source=uHiQDXQFMQ7qWBDHZhCgAw', 'review_count': 21, 'categories': [{'alias': 'bistros', 'title': 'Bistros'}], 'rating': 4.5, 'coordinates': {'latitude': 43.2969, 'longitude': 5.37363}, 'transactions': [], 'price': '€€', 'location': {'address1': '5 rue de la République', 'address2': None, 'address3': None, 'city': 'Marseille', 'zip_code': '13002', 'country': 'FR', 'state': '13', 'display_address': ['5 rue de la République', '13002 Marseille', 'France']}, 'phone': '+33491903559', 'display_phone': '+33 4 91 90 35 59', 'distance': 235.87500377060158}, {'id': 'VO2Gk3YV0vMLEkc3jg0_BA', 'alias': 'grumpy-cakes-marseille', 'name': 'Grumpy Cakes', 'image_url': 'https://s3-media1.fl.yelpcdn.com/bphoto/9YWMKsKbM9XwF7YPcTfvcQ/o.jpg', 'is_closed': False, 'url': 'https://www.yelp.com/biz/grumpy-cakes-marseille?adjust_creative=uHiQDXQFMQ7qWBDHZhCgAw&utm_campaign=yelp_api_v3&utm_medium=api_v3_business_search&utm_source=uHiQDXQFMQ7qWBDHZhCgAw', 'review_count': 35, 'categories': [{'alias': 'tea', 'title': 'Tea Rooms'}, {'alias': 'desserts', 'title': 'Desserts'}, {'alias': 'salad', 'title': 'Salad'}], 'rating': 4.5, 'coordinates': {'latitude': 43.293379, 'longitude': 5.375462}, 'transactions': [], 'price': '€', 'location': {'address1': '12 rue Corneille', 'address2': '', 'address3': '', 'city': 'Marseille', 'zip_code': '13001', 'country': 'FR', 'state': '13', 'display_address': ['12 rue Corneille', '13001 Marseille', 'France']}, 'phone': '+33491520168', 'display_phone': '+33 4 91 52 01 68', 'distance': 404.99529437079855}, {'id': 'wwcX2d_9rQmz9OzUQEVFHw', 'alias': 'le-cercle-rouge-marseille', 'name': 'Le Cercle Rouge', 'image_url': 'https://s3-media4.fl.yelpcdn.com/bphoto/T9J0xpCwv7hSkb0eZXt-yA/o.jpg', 'is_closed': False, 'url': 'https://www.yelp.com/biz/le-cercle-rouge-marseille?adjust_creative=uHiQDXQFMQ7qWBDHZhCgAw&utm_campaign=yelp_api_v3&utm_medium=api_v3_business_search&utm_source=uHiQDXQFMQ7qWBDHZhCgAw', 'review_count': 65, 'categories': [{'alias': 'tapas', 'title': 'Tapas Bars'}, {'alias': 'corsican', 'title': 'Corsican'}, {'alias': 'cocktailbars', 'title': 'Cocktail Bars'}], 'rating': 4.5, 'coordinates': {'latitude': 43.2972899, 'longitude': 5.38546}, 'transactions': [], 'price': '€€', 'location': {'address1': '41 rue Adolphe Thiers', 'address2': None, 'address3': None, 'city': 'Marseille', 'zip_code': '13001', 'country': 'FR', 'state': '13', 'display_address': ['41 rue Adolphe Thiers', '13001 Marseille', 'France']}, 'phone': '+33491630053', 'display_phone': '+33 4 91 63 00 53', 'distance': 723.602952305275}], 'total': 1200, 'region': {'center': {'longitude': 5.376544207099414, 'latitude': 43.29693502454282}}}\n",
      "Response:\n",
      "{'businesses': [{'id': 'EfMabFwgjmWoUibT1DMMzw', 'alias': 'sauveur-marseille', 'name': 'Sauveur', 'image_url': 'https://s3-media2.fl.yelpcdn.com/bphoto/h1J_sFKYsxYj0Wix0J1AHQ/o.jpg', 'is_closed': False, 'url': 'https://www.yelp.com/biz/sauveur-marseille?adjust_creative=uHiQDXQFMQ7qWBDHZhCgAw&utm_campaign=yelp_api_v3&utm_medium=api_v3_business_search&utm_source=uHiQDXQFMQ7qWBDHZhCgAw', 'review_count': 132, 'categories': [{'alias': 'pizza', 'title': 'Pizza'}], 'rating': 4.5, 'coordinates': {'latitude': 43.295589, 'longitude': 5.379063}, 'transactions': [], 'price': '€€', 'location': {'address1': \"10 rue d'Aubagne\", 'address2': '', 'address3': None, 'city': 'Marseille', 'zip_code': '13001', 'country': 'FR', 'state': '13', 'display_address': [\"10 rue d'Aubagne\", '13001 Marseille', 'France']}, 'phone': '+33491543396', 'display_phone': '+33 4 91 54 33 96', 'distance': 228.52755055428088}, {'id': 'uLqZhed6FOI-Yxmdi-W2tA', 'alias': 'le-petit-flore-marseille', 'name': 'Le Petit Flore', 'image_url': 'https://s3-media4.fl.yelpcdn.com/bphoto/7lRpaVYToTVMFODSzVOpZg/o.jpg', 'is_closed': False, 'url': 'https://www.yelp.com/biz/le-petit-flore-marseille?adjust_creative=uHiQDXQFMQ7qWBDHZhCgAw&utm_campaign=yelp_api_v3&utm_medium=api_v3_business_search&utm_source=uHiQDXQFMQ7qWBDHZhCgAw', 'review_count': 24, 'categories': [{'alias': 'mediterranean', 'title': 'Mediterranean'}, {'alias': 'french', 'title': 'French'}], 'rating': 5.0, 'coordinates': {'latitude': 43.293307, 'longitude': 5.375469}, 'transactions': [], 'price': '€€', 'location': {'address1': '14 rue Corneille', 'address2': '', 'address3': '', 'city': 'Marseille', 'zip_code': '13001', 'country': 'FR', 'state': '13', 'display_address': ['14 rue Corneille', '13001 Marseille', 'France']}, 'phone': '+33491338653', 'display_phone': '+33 4 91 33 86 53', 'distance': 235.43089779833159}, {'id': 'VO2Gk3YV0vMLEkc3jg0_BA', 'alias': 'grumpy-cakes-marseille', 'name': 'Grumpy Cakes', 'image_url': 'https://s3-media1.fl.yelpcdn.com/bphoto/9YWMKsKbM9XwF7YPcTfvcQ/o.jpg', 'is_closed': False, 'url': 'https://www.yelp.com/biz/grumpy-cakes-marseille?adjust_creative=uHiQDXQFMQ7qWBDHZhCgAw&utm_campaign=yelp_api_v3&utm_medium=api_v3_business_search&utm_source=uHiQDXQFMQ7qWBDHZhCgAw', 'review_count': 35, 'categories': [{'alias': 'tea', 'title': 'Tea Rooms'}, {'alias': 'desserts', 'title': 'Desserts'}, {'alias': 'salad', 'title': 'Salad'}], 'rating': 4.5, 'coordinates': {'latitude': 43.293379, 'longitude': 5.375462}, 'transactions': [], 'price': '€', 'location': {'address1': '12 rue Corneille', 'address2': '', 'address3': '', 'city': 'Marseille', 'zip_code': '13001', 'country': 'FR', 'state': '13', 'display_address': ['12 rue Corneille', '13001 Marseille', 'France']}, 'phone': '+33491520168', 'display_phone': '+33 4 91 52 01 68', 'distance': 235.01877233836498}, {'id': 'OXU6KQgkDc7aM9UFDYq1nQ', 'alias': 'les-panisses-marseille-2', 'name': 'Les Panisses', 'image_url': 'https://s3-media1.fl.yelpcdn.com/bphoto/RKYKd_wUOAiXglyvvI5nRw/o.jpg', 'is_closed': False, 'url': 'https://www.yelp.com/biz/les-panisses-marseille-2?adjust_creative=uHiQDXQFMQ7qWBDHZhCgAw&utm_campaign=yelp_api_v3&utm_medium=api_v3_business_search&utm_source=uHiQDXQFMQ7qWBDHZhCgAw', 'review_count': 39, 'categories': [{'alias': 'french', 'title': 'French'}, {'alias': 'brasseries', 'title': 'Brasseries'}], 'rating': 4.0, 'coordinates': {'latitude': 43.29261, 'longitude': 5.37571}, 'transactions': [], 'price': '€€', 'location': {'address1': '23 rue Sainte', 'address2': '', 'address3': '', 'city': 'Marseille', 'zip_code': '13001', 'country': 'FR', 'state': '13', 'display_address': ['23 rue Sainte', '13001 Marseille', 'France']}, 'phone': '+33491528683', 'display_phone': '+33 4 91 52 86 83', 'distance': 240.36885191348526}, {'id': '7av0DefYvzlnjg7dPJgirg', 'alias': 'toinou-marseille', 'name': 'Toinou', 'image_url': 'https://s3-media4.fl.yelpcdn.com/bphoto/l6rNmoENYR2djrZiiqLF8w/o.jpg', 'is_closed': False, 'url': 'https://www.yelp.com/biz/toinou-marseille?adjust_creative=uHiQDXQFMQ7qWBDHZhCgAw&utm_campaign=yelp_api_v3&utm_medium=api_v3_business_search&utm_source=uHiQDXQFMQ7qWBDHZhCgAw', 'review_count': 217, 'categories': [{'alias': 'seafood', 'title': 'Seafood'}, {'alias': 'seafoodmarkets', 'title': 'Seafood Markets'}], 'rating': 3.5, 'coordinates': {'latitude': 43.29612, 'longitude': 5.37825}, 'transactions': [], 'price': '€€€', 'location': {'address1': '3 cours Saint-Louis', 'address2': '', 'address3': '', 'city': 'Marseille', 'zip_code': '13001', 'country': 'FR', 'state': '13', 'display_address': ['3 cours Saint-Louis', '13001 Marseille', 'France']}, 'phone': '+33491331494', 'display_phone': '+33 4 91 33 14 94', 'distance': 285.3391661291041}, {'id': 'Jpa7n24xU5h_UTOkbQGyJg', 'alias': 'le-grand-latin-marseille', 'name': 'Le Grand Latin', 'image_url': 'https://s3-media1.fl.yelpcdn.com/bphoto/Ml_LLau3-sPYhKV0_lacIQ/o.jpg', 'is_closed': False, 'url': 'https://www.yelp.com/biz/le-grand-latin-marseille?adjust_creative=uHiQDXQFMQ7qWBDHZhCgAw&utm_campaign=yelp_api_v3&utm_medium=api_v3_business_search&utm_source=uHiQDXQFMQ7qWBDHZhCgAw', 'review_count': 179, 'categories': [{'alias': 'italian', 'title': 'Italian'}], 'rating': 4.0, 'coordinates': {'latitude': 43.29253, 'longitude': 5.37558}, 'transactions': [], 'price': '€€', 'location': {'address1': '27 rue Sainte', 'address2': None, 'address3': None, 'city': 'Marseille', 'zip_code': '13001', 'country': 'FR', 'state': '13', 'display_address': ['27 rue Sainte', '13001 Marseille', 'France']}, 'phone': '+33491540827', 'display_phone': '+33 4 91 54 08 27', 'distance': 256.2924392588585}, {'id': 'KsagIFKCpWr6X_hq9H_mKQ', 'alias': 'le-café-de-la-banque-marseille-2', 'name': 'Le Café de la Banque', 'image_url': 'https://s3-media1.fl.yelpcdn.com/bphoto/E3NFZzFwHULvA1wsNo9m9w/o.jpg', 'is_closed': False, 'url': 'https://www.yelp.com/biz/le-caf%C3%A9-de-la-banque-marseille-2?adjust_creative=uHiQDXQFMQ7qWBDHZhCgAw&utm_campaign=yelp_api_v3&utm_medium=api_v3_business_search&utm_source=uHiQDXQFMQ7qWBDHZhCgAw', 'review_count': 65, 'categories': [{'alias': 'brasseries', 'title': 'Brasseries'}, {'alias': 'bars', 'title': 'Bars'}, {'alias': 'breakfast_brunch', 'title': 'Breakfast & Brunch'}], 'rating': 4.5, 'coordinates': {'latitude': 43.29022, 'longitude': 5.37866}, 'transactions': [], 'price': '€€', 'location': {'address1': '24 bd Paul Peytral', 'address2': None, 'address3': None, 'city': 'Marseille', 'zip_code': '13006', 'country': 'FR', 'state': '13', 'display_address': ['24 bd Paul Peytral', '13006 Marseille', 'France']}, 'phone': '+33491333507', 'display_phone': '+33 4 91 33 35 07', 'distance': 371.5779981195146}, {'id': 'cXLbCKm1pyJqEa9BdsyCyw', 'alias': 'le-bistrot-à-vin-marseille-4', 'name': 'Le Bistrot à Vin', 'image_url': 'https://s3-media3.fl.yelpcdn.com/bphoto/UY6bkXjXQzITotkwBuHvxw/o.jpg', 'is_closed': False, 'url': 'https://www.yelp.com/biz/le-bistrot-%C3%A0-vin-marseille-4?adjust_creative=uHiQDXQFMQ7qWBDHZhCgAw&utm_campaign=yelp_api_v3&utm_medium=api_v3_business_search&utm_source=uHiQDXQFMQ7qWBDHZhCgAw', 'review_count': 76, 'categories': [{'alias': 'bistros', 'title': 'Bistros'}, {'alias': 'wine_bars', 'title': 'Wine Bars'}], 'rating': 4.0, 'coordinates': {'latitude': 43.29263, 'longitude': 5.37601}, 'transactions': [], 'price': '€€', 'location': {'address1': '17 rue Sainte', 'address2': '', 'address3': '', 'city': 'Marseille', 'zip_code': '13001', 'country': 'FR', 'state': '13', 'display_address': ['17 rue Sainte', '13001 Marseille', 'France']}, 'phone': '+33491540220', 'display_phone': '+33 4 91 54 02 20', 'distance': 220.21374523840691}, {'id': 'BSaulcp1BKErmK1ebf77tg', 'alias': 'la-part-des-anges-marseille-2', 'name': 'La Part des Anges', 'image_url': 'https://s3-media1.fl.yelpcdn.com/bphoto/jXaXmtX6MkViYIAu9fcM4w/o.jpg', 'is_closed': False, 'url': 'https://www.yelp.com/biz/la-part-des-anges-marseille-2?adjust_creative=uHiQDXQFMQ7qWBDHZhCgAw&utm_campaign=yelp_api_v3&utm_medium=api_v3_business_search&utm_source=uHiQDXQFMQ7qWBDHZhCgAw', 'review_count': 192, 'categories': [{'alias': 'bistros', 'title': 'Bistros'}, {'alias': 'tapas', 'title': 'Tapas Bars'}, {'alias': 'wine_bars', 'title': 'Wine Bars'}], 'rating': 3.5, 'coordinates': {'latitude': 43.29246, 'longitude': 5.37528}, 'transactions': [], 'price': '€€', 'location': {'address1': '33 rue Sainte', 'address2': '', 'address3': '', 'city': 'Marseille', 'zip_code': '13001', 'country': 'FR', 'state': '13', 'display_address': ['33 rue Sainte', '13001 Marseille', 'France']}, 'phone': '+33491335570', 'display_phone': '+33 4 91 33 55 70', 'distance': 279.7956366287195}, {'id': '0GfK46csa2y4fYoGHvuiIg', 'alias': 'treize-en-vue-marseille', 'name': 'Treize en Vue', 'image_url': 'https://s3-media4.fl.yelpcdn.com/bphoto/PMrAoCLDdUuB0en8giWIyw/o.jpg', 'is_closed': False, 'url': 'https://www.yelp.com/biz/treize-en-vue-marseille?adjust_creative=uHiQDXQFMQ7qWBDHZhCgAw&utm_campaign=yelp_api_v3&utm_medium=api_v3_business_search&utm_source=uHiQDXQFMQ7qWBDHZhCgAw', 'review_count': 45, 'categories': [{'alias': 'bistros', 'title': 'Bistros'}, {'alias': 'french', 'title': 'French'}], 'rating': 4.5, 'coordinates': {'latitude': 43.28937, 'longitude': 5.37619}, 'transactions': [], 'price': '€€', 'location': {'address1': '40 rue de Breteuil', 'address2': '', 'address3': '', 'city': 'Marseille', 'zip_code': '13006', 'country': 'FR', 'state': '13', 'display_address': ['40 rue de Breteuil', '13006 Marseille', 'France']}, 'phone': '+33491482128', 'display_phone': '+33 4 91 48 21 28', 'distance': 501.83269697010087}], 'total': 1300, 'region': {'center': {'longitude': 5.378349882, 'latitude': 43.29360042}}}\n",
      "Response:\n",
      "{'businesses': [{'id': 'dgIFNUTyd6ZbWGyTJFyAnQ', 'alias': 'la-cantine-de-nour-d-egypte-marseille', 'name': \"La Cantine de Nour d'Egypte\", 'image_url': 'https://s3-media1.fl.yelpcdn.com/bphoto/UPyGXB0IfpnsBmOAB9LNSA/o.jpg', 'is_closed': False, 'url': 'https://www.yelp.com/biz/la-cantine-de-nour-d-egypte-marseille?adjust_creative=uHiQDXQFMQ7qWBDHZhCgAw&utm_campaign=yelp_api_v3&utm_medium=api_v3_business_search&utm_source=uHiQDXQFMQ7qWBDHZhCgAw', 'review_count': 23, 'categories': [{'alias': 'egyptian', 'title': 'Egyptian'}], 'rating': 4.5, 'coordinates': {'latitude': 43.3009903, 'longitude': 5.3881795}, 'transactions': [], 'price': '€€', 'location': {'address1': '10 rue Bernex', 'address2': '', 'address3': '', 'city': 'Marseille', 'zip_code': '13001', 'country': 'FR', 'state': '13', 'display_address': ['10 rue Bernex', '13001 Marseille', 'France']}, 'phone': '+33980630656', 'display_phone': '+33 9 80 63 06 56', 'distance': 369.8120167037878}, {'id': 'EfMabFwgjmWoUibT1DMMzw', 'alias': 'sauveur-marseille', 'name': 'Sauveur', 'image_url': 'https://s3-media2.fl.yelpcdn.com/bphoto/h1J_sFKYsxYj0Wix0J1AHQ/o.jpg', 'is_closed': False, 'url': 'https://www.yelp.com/biz/sauveur-marseille?adjust_creative=uHiQDXQFMQ7qWBDHZhCgAw&utm_campaign=yelp_api_v3&utm_medium=api_v3_business_search&utm_source=uHiQDXQFMQ7qWBDHZhCgAw', 'review_count': 132, 'categories': [{'alias': 'pizza', 'title': 'Pizza'}], 'rating': 4.5, 'coordinates': {'latitude': 43.295589, 'longitude': 5.379063}, 'transactions': [], 'price': '€€', 'location': {'address1': \"10 rue d'Aubagne\", 'address2': '', 'address3': None, 'city': 'Marseille', 'zip_code': '13001', 'country': 'FR', 'state': '13', 'display_address': [\"10 rue d'Aubagne\", '13001 Marseille', 'France']}, 'phone': '+33491543396', 'display_phone': '+33 4 91 54 33 96', 'distance': 1250.2397722767184}, {'id': 'wwcX2d_9rQmz9OzUQEVFHw', 'alias': 'le-cercle-rouge-marseille', 'name': 'Le Cercle Rouge', 'image_url': 'https://s3-media4.fl.yelpcdn.com/bphoto/T9J0xpCwv7hSkb0eZXt-yA/o.jpg', 'is_closed': False, 'url': 'https://www.yelp.com/biz/le-cercle-rouge-marseille?adjust_creative=uHiQDXQFMQ7qWBDHZhCgAw&utm_campaign=yelp_api_v3&utm_medium=api_v3_business_search&utm_source=uHiQDXQFMQ7qWBDHZhCgAw', 'review_count': 65, 'categories': [{'alias': 'tapas', 'title': 'Tapas Bars'}, {'alias': 'corsican', 'title': 'Corsican'}, {'alias': 'cocktailbars', 'title': 'Cocktail Bars'}], 'rating': 4.5, 'coordinates': {'latitude': 43.2972899, 'longitude': 5.38546}, 'transactions': [], 'price': '€€', 'location': {'address1': '41 rue Adolphe Thiers', 'address2': None, 'address3': None, 'city': 'Marseille', 'zip_code': '13001', 'country': 'FR', 'state': '13', 'display_address': ['41 rue Adolphe Thiers', '13001 Marseille', 'France']}, 'phone': '+33491630053', 'display_phone': '+33 4 91 63 00 53', 'distance': 823.5677792779978}, {'id': 'JNVckjqRzuToK65LU-5P8Q', 'alias': 'teavora-marseille', 'name': 'Teavora', 'image_url': 'https://s3-media1.fl.yelpcdn.com/bphoto/SglWFCHYOrlwHh6_p_k0xA/o.jpg', 'is_closed': False, 'url': 'https://www.yelp.com/biz/teavora-marseille?adjust_creative=uHiQDXQFMQ7qWBDHZhCgAw&utm_campaign=yelp_api_v3&utm_medium=api_v3_business_search&utm_source=uHiQDXQFMQ7qWBDHZhCgAw', 'review_count': 97, 'categories': [{'alias': 'tea', 'title': 'Tea Rooms'}, {'alias': 'shopping', 'title': 'Shopping'}, {'alias': 'restaurants', 'title': 'Restaurants'}], 'rating': 4.0, 'coordinates': {'latitude': 43.302143, 'longitude': 5.38954}, 'transactions': [], 'price': '€€', 'location': {'address1': '65 boulevard Longchamp', 'address2': '', 'address3': '', 'city': 'Marseille', 'zip_code': '13001', 'country': 'FR', 'state': '13', 'display_address': ['65 boulevard Longchamp', '13001 Marseille', 'France']}, 'phone': '+33491957390', 'display_phone': '+33 4 91 95 73 90', 'distance': 243.5668624380053}, {'id': 'Hso967z4tT6DQkA_XL-Cdg', 'alias': 'pouce-marseille', 'name': 'Pouce', 'image_url': 'https://s3-media4.fl.yelpcdn.com/bphoto/SH9Cxz8vH6J8pWPN60XafQ/o.jpg', 'is_closed': False, 'url': 'https://www.yelp.com/biz/pouce-marseille?adjust_creative=uHiQDXQFMQ7qWBDHZhCgAw&utm_campaign=yelp_api_v3&utm_medium=api_v3_business_search&utm_source=uHiQDXQFMQ7qWBDHZhCgAw', 'review_count': 15, 'categories': [{'alias': 'tea', 'title': 'Tea Rooms'}, {'alias': 'mediterranean', 'title': 'Mediterranean'}], 'rating': 4.0, 'coordinates': {'latitude': 43.30261, 'longitude': 5.39091}, 'transactions': [], 'price': '€€', 'location': {'address1': '95 bd Longchamp', 'address2': '', 'address3': '', 'city': 'Marseille', 'zip_code': '13001', 'country': 'FR', 'state': '13', 'display_address': ['95 bd Longchamp', '13001 Marseille', 'France']}, 'phone': '+33952733221', 'display_phone': '+33 9 52 73 32 21', 'distance': 248.41925563145176}, {'id': 'P__7FBiVbpZn4Wgf9qOnzw', 'alias': 'le-débouché-marseille-2', 'name': 'Le Débouché', 'image_url': 'https://s3-media2.fl.yelpcdn.com/bphoto/r1A8YdSHGxq9dQ46fh0E3g/o.jpg', 'is_closed': False, 'url': 'https://www.yelp.com/biz/le-d%C3%A9bouch%C3%A9-marseille-2?adjust_creative=uHiQDXQFMQ7qWBDHZhCgAw&utm_campaign=yelp_api_v3&utm_medium=api_v3_business_search&utm_source=uHiQDXQFMQ7qWBDHZhCgAw', 'review_count': 20, 'categories': [{'alias': 'wine_bars', 'title': 'Wine Bars'}, {'alias': 'french', 'title': 'French'}], 'rating': 4.5, 'coordinates': {'latitude': 43.30155, 'longitude': 5.38749}, 'transactions': [], 'price': '€€', 'location': {'address1': '3 bd National', 'address2': '', 'address3': '', 'city': 'Marseille', 'zip_code': '13001', 'country': 'FR', 'state': '13', 'display_address': ['3 bd National', '13001 Marseille', 'France']}, 'phone': '+33491509625', 'display_phone': '+33 4 91 50 96 25', 'distance': 318.11973183172637}, {'id': 'I_GTBZ74Wb9DOQg-itmGaA', 'alias': 'palais-longchamp-marseille', 'name': 'Palais Longchamp', 'image_url': 'https://s3-media2.fl.yelpcdn.com/bphoto/MvKU6af3tbpQhmd5MW-x9Q/o.jpg', 'is_closed': False, 'url': 'https://www.yelp.com/biz/palais-longchamp-marseille?adjust_creative=uHiQDXQFMQ7qWBDHZhCgAw&utm_campaign=yelp_api_v3&utm_medium=api_v3_business_search&utm_source=uHiQDXQFMQ7qWBDHZhCgAw', 'review_count': 81, 'categories': [{'alias': 'museums', 'title': 'Museums'}], 'rating': 4.5, 'coordinates': {'latitude': 43.304251217793, 'longitude': 5.3943953234515}, 'transactions': [], 'location': {'address1': 'Place Henri Dunant', 'address2': '', 'address3': '', 'city': 'Marseille', 'zip_code': '13004', 'country': 'FR', 'state': '13', 'display_address': ['Place Henri Dunant', '13004 Marseille', 'France']}, 'phone': '+33491552551', 'display_phone': '+33 4 91 55 25 51', 'distance': 447.2805264326029}, {'id': 'nrxYjkyHSklYcUv4VaNnfg', 'alias': 'le-grain-de-sable-marseille', 'name': 'Le Grain de Sable', 'image_url': 'https://s3-media2.fl.yelpcdn.com/bphoto/D8W1oLksnLWKAH2ISLRNLA/o.jpg', 'is_closed': False, 'url': 'https://www.yelp.com/biz/le-grain-de-sable-marseille?adjust_creative=uHiQDXQFMQ7qWBDHZhCgAw&utm_campaign=yelp_api_v3&utm_medium=api_v3_business_search&utm_source=uHiQDXQFMQ7qWBDHZhCgAw', 'review_count': 47, 'categories': [{'alias': 'vegetarian', 'title': 'Vegetarian'}, {'alias': 'french', 'title': 'French'}], 'rating': 4.5, 'coordinates': {'latitude': 43.29952, 'longitude': 5.37744}, 'transactions': [], 'price': '€€', 'location': {'address1': '34 Rue Baignoir', 'address2': None, 'address3': None, 'city': 'Marseille', 'zip_code': '13001', 'country': 'FR', 'state': '13', 'display_address': ['34 Rue Baignoir', '13001 Marseille', 'France']}, 'phone': '+33491903951', 'display_phone': '+33 4 91 90 39 51', 'distance': 1065.4243758075067}, {'id': 'moqTbZsBc6V1Z_6hZ1utoQ', 'alias': 'la-table-cinq-marseille', 'name': 'La Table Cinq', 'image_url': 'https://s3-media2.fl.yelpcdn.com/bphoto/Nm5ZqqhxMF_r5V0gQTfL-g/o.jpg', 'is_closed': False, 'url': 'https://www.yelp.com/biz/la-table-cinq-marseille?adjust_creative=uHiQDXQFMQ7qWBDHZhCgAw&utm_campaign=yelp_api_v3&utm_medium=api_v3_business_search&utm_source=uHiQDXQFMQ7qWBDHZhCgAw', 'review_count': 45, 'categories': [{'alias': 'french', 'title': 'French'}], 'rating': 4.5, 'coordinates': {'latitude': 43.30304, 'longitude': 5.39733}, 'transactions': [], 'price': '€€€', 'location': {'address1': '8 avenue des Chartreux', 'address2': '', 'address3': None, 'city': 'Marseille', 'zip_code': '13004', 'country': 'FR', 'state': '13', 'display_address': ['8 avenue des Chartreux', '13004 Marseille', 'France']}, 'phone': '+33491348522', 'display_phone': '+33 4 91 34 85 22', 'distance': 696.0802444174813}, {'id': 'S-R64GUN37Fr_4e7caZE4Q', 'alias': 'longchamp-palace-marseille', 'name': 'Longchamp Palace', 'image_url': 'https://s3-media1.fl.yelpcdn.com/bphoto/nXJp4XC1feL_3-hwVB-MFA/o.jpg', 'is_closed': False, 'url': 'https://www.yelp.com/biz/longchamp-palace-marseille?adjust_creative=uHiQDXQFMQ7qWBDHZhCgAw&utm_campaign=yelp_api_v3&utm_medium=api_v3_business_search&utm_source=uHiQDXQFMQ7qWBDHZhCgAw', 'review_count': 54, 'categories': [{'alias': 'brasseries', 'title': 'Brasseries'}, {'alias': 'bistros', 'title': 'Bistros'}, {'alias': 'breakfast_brunch', 'title': 'Breakfast & Brunch'}], 'rating': 3.5, 'coordinates': {'latitude': 43.3010402155052, 'longitude': 5.38787447497631}, 'transactions': [], 'price': '€€', 'location': {'address1': '22 bd Longchamp', 'address2': None, 'address3': None, 'city': 'Marseille', 'zip_code': '13001', 'country': 'FR', 'state': '13', 'display_address': ['22 bd Longchamp', '13001 Marseille', 'France']}, 'phone': '+33491507613', 'display_phone': '+33 4 91 50 76 13', 'distance': 368.90750688139656}], 'total': 407, 'region': {'center': {'longitude': 5.388867929313619, 'latitude': 43.3042781513621}}}\n",
      "Response:\n",
      "{'businesses': [{'id': 'dgIFNUTyd6ZbWGyTJFyAnQ', 'alias': 'la-cantine-de-nour-d-egypte-marseille', 'name': \"La Cantine de Nour d'Egypte\", 'image_url': 'https://s3-media1.fl.yelpcdn.com/bphoto/UPyGXB0IfpnsBmOAB9LNSA/o.jpg', 'is_closed': False, 'url': 'https://www.yelp.com/biz/la-cantine-de-nour-d-egypte-marseille?adjust_creative=uHiQDXQFMQ7qWBDHZhCgAw&utm_campaign=yelp_api_v3&utm_medium=api_v3_business_search&utm_source=uHiQDXQFMQ7qWBDHZhCgAw', 'review_count': 23, 'categories': [{'alias': 'egyptian', 'title': 'Egyptian'}], 'rating': 4.5, 'coordinates': {'latitude': 43.3009903, 'longitude': 5.3881795}, 'transactions': [], 'price': '€€', 'location': {'address1': '10 rue Bernex', 'address2': '', 'address3': '', 'city': 'Marseille', 'zip_code': '13001', 'country': 'FR', 'state': '13', 'display_address': ['10 rue Bernex', '13001 Marseille', 'France']}, 'phone': '+33980630656', 'display_phone': '+33 9 80 63 06 56', 'distance': 389.97452159122446}, {'id': 'wwcX2d_9rQmz9OzUQEVFHw', 'alias': 'le-cercle-rouge-marseille', 'name': 'Le Cercle Rouge', 'image_url': 'https://s3-media4.fl.yelpcdn.com/bphoto/T9J0xpCwv7hSkb0eZXt-yA/o.jpg', 'is_closed': False, 'url': 'https://www.yelp.com/biz/le-cercle-rouge-marseille?adjust_creative=uHiQDXQFMQ7qWBDHZhCgAw&utm_campaign=yelp_api_v3&utm_medium=api_v3_business_search&utm_source=uHiQDXQFMQ7qWBDHZhCgAw', 'review_count': 65, 'categories': [{'alias': 'tapas', 'title': 'Tapas Bars'}, {'alias': 'corsican', 'title': 'Corsican'}, {'alias': 'cocktailbars', 'title': 'Cocktail Bars'}], 'rating': 4.5, 'coordinates': {'latitude': 43.2972899, 'longitude': 5.38546}, 'transactions': [], 'price': '€€', 'location': {'address1': '41 rue Adolphe Thiers', 'address2': None, 'address3': None, 'city': 'Marseille', 'zip_code': '13001', 'country': 'FR', 'state': '13', 'display_address': ['41 rue Adolphe Thiers', '13001 Marseille', 'France']}, 'phone': '+33491630053', 'display_phone': '+33 4 91 63 00 53', 'distance': 831.8928169819222}, {'id': 'I_GTBZ74Wb9DOQg-itmGaA', 'alias': 'palais-longchamp-marseille', 'name': 'Palais Longchamp', 'image_url': 'https://s3-media2.fl.yelpcdn.com/bphoto/MvKU6af3tbpQhmd5MW-x9Q/o.jpg', 'is_closed': False, 'url': 'https://www.yelp.com/biz/palais-longchamp-marseille?adjust_creative=uHiQDXQFMQ7qWBDHZhCgAw&utm_campaign=yelp_api_v3&utm_medium=api_v3_business_search&utm_source=uHiQDXQFMQ7qWBDHZhCgAw', 'review_count': 81, 'categories': [{'alias': 'museums', 'title': 'Museums'}], 'rating': 4.5, 'coordinates': {'latitude': 43.304251217793, 'longitude': 5.3943953234515}, 'transactions': [], 'location': {'address1': 'Place Henri Dunant', 'address2': '', 'address3': '', 'city': 'Marseille', 'zip_code': '13004', 'country': 'FR', 'state': '13', 'display_address': ['Place Henri Dunant', '13004 Marseille', 'France']}, 'phone': '+33491552551', 'display_phone': '+33 4 91 55 25 51', 'distance': 230.24048456589483}, {'id': 'Hso967z4tT6DQkA_XL-Cdg', 'alias': 'pouce-marseille', 'name': 'Pouce', 'image_url': 'https://s3-media4.fl.yelpcdn.com/bphoto/SH9Cxz8vH6J8pWPN60XafQ/o.jpg', 'is_closed': False, 'url': 'https://www.yelp.com/biz/pouce-marseille?adjust_creative=uHiQDXQFMQ7qWBDHZhCgAw&utm_campaign=yelp_api_v3&utm_medium=api_v3_business_search&utm_source=uHiQDXQFMQ7qWBDHZhCgAw', 'review_count': 15, 'categories': [{'alias': 'tea', 'title': 'Tea Rooms'}, {'alias': 'mediterranean', 'title': 'Mediterranean'}], 'rating': 4.0, 'coordinates': {'latitude': 43.30261, 'longitude': 5.39091}, 'transactions': [], 'price': '€€', 'location': {'address1': '95 bd Longchamp', 'address2': '', 'address3': '', 'city': 'Marseille', 'zip_code': '13001', 'country': 'FR', 'state': '13', 'display_address': ['95 bd Longchamp', '13001 Marseille', 'France']}, 'phone': '+33952733221', 'display_phone': '+33 9 52 73 32 21', 'distance': 107.9558533669707}, {'id': 'JNVckjqRzuToK65LU-5P8Q', 'alias': 'teavora-marseille', 'name': 'Teavora', 'image_url': 'https://s3-media1.fl.yelpcdn.com/bphoto/SglWFCHYOrlwHh6_p_k0xA/o.jpg', 'is_closed': False, 'url': 'https://www.yelp.com/biz/teavora-marseille?adjust_creative=uHiQDXQFMQ7qWBDHZhCgAw&utm_campaign=yelp_api_v3&utm_medium=api_v3_business_search&utm_source=uHiQDXQFMQ7qWBDHZhCgAw', 'review_count': 97, 'categories': [{'alias': 'tea', 'title': 'Tea Rooms'}, {'alias': 'shopping', 'title': 'Shopping'}, {'alias': 'restaurants', 'title': 'Restaurants'}], 'rating': 4.0, 'coordinates': {'latitude': 43.302143, 'longitude': 5.38954}, 'transactions': [], 'price': '€€', 'location': {'address1': '65 boulevard Longchamp', 'address2': '', 'address3': '', 'city': 'Marseille', 'zip_code': '13001', 'country': 'FR', 'state': '13', 'display_address': ['65 boulevard Longchamp', '13001 Marseille', 'France']}, 'phone': '+33491957390', 'display_phone': '+33 4 91 95 73 90', 'distance': 230.34537630477593}, {'id': 'qzI9sQ6vToMDi_RGk9W13w', 'alias': 'ummagumma-marseille', 'name': 'Ummagumma', 'image_url': 'https://s3-media3.fl.yelpcdn.com/bphoto/aiAVrY1iXws4nc-DdnnIWA/o.jpg', 'is_closed': False, 'url': 'https://www.yelp.com/biz/ummagumma-marseille?adjust_creative=uHiQDXQFMQ7qWBDHZhCgAw&utm_campaign=yelp_api_v3&utm_medium=api_v3_business_search&utm_source=uHiQDXQFMQ7qWBDHZhCgAw', 'review_count': 78, 'categories': [{'alias': 'french', 'title': 'French'}, {'alias': 'tapasmallplates', 'title': 'Tapas/Small Plates'}], 'rating': 4.5, 'coordinates': {'latitude': 43.29424, 'longitude': 5.384759}, 'transactions': [], 'price': '€€€', 'location': {'address1': '26 rue des Trois Rois', 'address2': '', 'address3': '', 'city': 'Marseille', 'zip_code': '13006', 'country': 'FR', 'state': '13', 'display_address': ['26 rue des Trois Rois', '13006 Marseille', 'France']}, 'phone': '+33630373237', 'display_phone': '+33 6 30 37 32 37', 'distance': 1141.7426617990898}, {'id': 'moqTbZsBc6V1Z_6hZ1utoQ', 'alias': 'la-table-cinq-marseille', 'name': 'La Table Cinq', 'image_url': 'https://s3-media2.fl.yelpcdn.com/bphoto/Nm5ZqqhxMF_r5V0gQTfL-g/o.jpg', 'is_closed': False, 'url': 'https://www.yelp.com/biz/la-table-cinq-marseille?adjust_creative=uHiQDXQFMQ7qWBDHZhCgAw&utm_campaign=yelp_api_v3&utm_medium=api_v3_business_search&utm_source=uHiQDXQFMQ7qWBDHZhCgAw', 'review_count': 45, 'categories': [{'alias': 'french', 'title': 'French'}], 'rating': 4.5, 'coordinates': {'latitude': 43.30304, 'longitude': 5.39733}, 'transactions': [], 'price': '€€€', 'location': {'address1': '8 avenue des Chartreux', 'address2': '', 'address3': None, 'city': 'Marseille', 'zip_code': '13004', 'country': 'FR', 'state': '13', 'display_address': ['8 avenue des Chartreux', '13004 Marseille', 'France']}, 'phone': '+33491348522', 'display_phone': '+33 4 91 34 85 22', 'distance': 417.0927665762404}, {'id': '4q-slQPktkv3bVPV4qrATg', 'alias': 'café-vian-marseille-3', 'name': 'Café Vian', 'image_url': 'https://s3-media1.fl.yelpcdn.com/bphoto/Yp6jwDrd_XDf790N1WqYXg/o.jpg', 'is_closed': False, 'url': 'https://www.yelp.com/biz/caf%C3%A9-vian-marseille-3?adjust_creative=uHiQDXQFMQ7qWBDHZhCgAw&utm_campaign=yelp_api_v3&utm_medium=api_v3_business_search&utm_source=uHiQDXQFMQ7qWBDHZhCgAw', 'review_count': 119, 'categories': [{'alias': 'wine_bars', 'title': 'Wine Bars'}, {'alias': 'provencal', 'title': 'Provencal'}, {'alias': 'bbq', 'title': 'Barbeque'}], 'rating': 4.5, 'coordinates': {'latitude': 43.29443, 'longitude': 5.38383}, 'transactions': [], 'price': '€€€', 'location': {'address1': '12 rue Vian', 'address2': '', 'address3': '', 'city': 'Marseille', 'zip_code': '13006', 'country': 'FR', 'state': '13', 'display_address': ['12 rue Vian', '13006 Marseille', 'France']}, 'phone': '+33664154134', 'display_phone': '+33 6 64 15 41 34', 'distance': 1170.7360702022977}, {'id': '8aaP45FDUXeJhXKyPIvSfg', 'alias': 'casa-no-name-marseille', 'name': 'Casa No Name', 'image_url': 'https://s3-media2.fl.yelpcdn.com/bphoto/64gX_LiTegxGNCwK_BlF2w/o.jpg', 'is_closed': False, 'url': 'https://www.yelp.com/biz/casa-no-name-marseille?adjust_creative=uHiQDXQFMQ7qWBDHZhCgAw&utm_campaign=yelp_api_v3&utm_medium=api_v3_business_search&utm_source=uHiQDXQFMQ7qWBDHZhCgAw', 'review_count': 30, 'categories': [{'alias': 'french', 'title': 'French'}, {'alias': 'mediterranean', 'title': 'Mediterranean'}], 'rating': 4.5, 'coordinates': {'latitude': 43.29405, 'longitude': 5.38541}, 'transactions': [], 'price': '€€€', 'location': {'address1': '7 rue André Poggioli', 'address2': '', 'address3': None, 'city': 'Marseille', 'zip_code': '13006', 'country': 'FR', 'state': '13', 'display_address': ['7 rue André Poggioli', '13006 Marseille', 'France']}, 'phone': '+33491477582', 'display_phone': '+33 4 91 47 75 82', 'distance': 1133.5854272359459}, {'id': 'QBoxR4UcA63sbIIC8U96Iw', 'alias': 'le-phénicia-marseille-2', 'name': 'Le Phénicia', 'image_url': 'https://s3-media2.fl.yelpcdn.com/bphoto/K9O6LamUMQ32s1p05R7KVw/o.jpg', 'is_closed': False, 'url': 'https://www.yelp.com/biz/le-ph%C3%A9nicia-marseille-2?adjust_creative=uHiQDXQFMQ7qWBDHZhCgAw&utm_campaign=yelp_api_v3&utm_medium=api_v3_business_search&utm_source=uHiQDXQFMQ7qWBDHZhCgAw', 'review_count': 40, 'categories': [{'alias': 'mideastern', 'title': 'Middle Eastern'}], 'rating': 4.0, 'coordinates': {'latitude': 43.30185, 'longitude': 5.39373}, 'transactions': [], 'price': '€€', 'location': {'address1': '187 bd de la Libération', 'address2': '', 'address3': '', 'city': 'Marseille', 'zip_code': '13001', 'country': 'FR', 'state': '13', 'display_address': ['187 bd de la Libération', '13001 Marseille', 'France']}, 'phone': '+33491504377', 'display_phone': '+33 4 91 50 43 77', 'distance': 168.66801035668033}], 'total': 438, 'region': {'center': {'longitude': 5.39213628647542, 'latitude': 43.30299233959067}}}\n"
     ]
    }
   ],
   "source": [
    "yelp_api_key = '1nAPbTr1lYKFwcEJqv3T3RFRHOutxIal3SEZj-jpCZUo_52XykJOMRFTNVahaLzmIyBDW9wjgas5suC3LLIOFlyisPh9eI3_UsV60r3jnKIeElxJsTNSks7QPGw_ZXYx'\n",
    "\n",
    "def yelp_radius(parsed_stations, radius=1000):\n",
    "    yelp_responses = []  \n",
    "    \n",
    "    for station in parsed_stations:\n",
    "        latitude = station[\"Latitude\"]\n",
    "        longitude = station[\"Longitude\"]\n",
    "        \n",
    "        yelp_url = f\"https://api.yelp.com/v3/businesses/search?latitude={latitude}&longitude={longitude}&radius=1000&categories=&sort_by=best_match&limit=10\"\n",
    "\n",
    "\n",
    "        headers = {\n",
    "            'Authorization': f'Bearer {yelp_api_key}'\n",
    "        }\n",
    "\n",
    "        response = requests.get(yelp_url, headers=headers)\n",
    "\n",
    "        if response.status_code == 200:\n",
    "            yelp_response = response.json()\n",
    "            yelp_responses.append(yelp_response)\n",
    "        else:\n",
    "            print(f\"API request failed with status code {response.status_code}\")\n",
    "\n",
    "    return yelp_responses\n",
    "\n",
    "yelp_responses = yelp_radius(parsed_stations)\n",
    "\n",
    "\n",
    "for response in yelp_responses[:10]:\n",
    "    print(\"Response:\")\n",
    "    print(response)\n"
   ]
  },
  {
   "cell_type": "markdown",
   "metadata": {},
   "source": [
    "Parse through the response to get the POI (such as restaurants, bars, etc) details you want (ratings, name, location, etc)"
   ]
  },
  {
   "cell_type": "code",
   "execution_count": 12,
   "metadata": {},
   "outputs": [],
   "source": [
    "def yelp_data(yelp_responses):\n",
    "    yelp_data_array = []\n",
    "    for poi in yelp_responses:\n",
    "        businesses = poi.get(\"businesses\", [])  \n",
    "        for business in businesses:\n",
    "            id = business[\"id\"]\n",
    "            name = business[\"name\"]\n",
    "            categories = business.get(\"categories\", [])  \n",
    "            distance = int(business[\"distance\"])\n",
    "            address = business[\"location\"][\"address1\"]\n",
    "            latitude = business[\"coordinates\"][\"latitude\"]  \n",
    "            longitude = business[\"coordinates\"][\"longitude\"]  \n",
    "            review_count = int(business[\"review_count\"])\n",
    "            rating = float(business[\"rating\"])\n",
    "            dict_of_each_poi = {\"Id\": id, \"Name\": name, \"Category\": categories, \"Distance\": distance, \"Address\": address, \"Latitude\": latitude,\n",
    "                                 \"Longitude\": longitude, \"review_count\": review_count, \"rating\": rating}\n",
    "            yelp_data_array.append(dict_of_each_poi)\n",
    "    return yelp_data_array\n",
    "\n",
    "\n",
    " "
   ]
  },
  {
   "cell_type": "code",
   "execution_count": 15,
   "metadata": {},
   "outputs": [
    {
     "name": "stdout",
     "output_type": "stream",
     "text": [
      "Id                                         Z_ezFqDSgos1VLmHdePBqg\n",
      "Name                                             Shanghai Kitchen\n",
      "Category        [{'alias': 'shanghainese', 'title': 'Shanghain...\n",
      "Distance                                                        6\n",
      "Address                                     14 cours Jean Ballard\n",
      "Latitude                                                43.292984\n",
      "Longitude                                                5.374505\n",
      "review_count                                                   10\n",
      "rating                                                        5.0\n",
      "Name: 0, dtype: object\n",
      "Id                                         gMbdTQCBPjp7mDfWJehHmQ\n",
      "Name                                                Le Bon Burger\n",
      "Category        [{'alias': 'burgers', 'title': 'Burgers'}, {'a...\n",
      "Distance                                                      228\n",
      "Address                                       24 place aux Huiles\n",
      "Latitude                                                43.292656\n",
      "Longitude                                                5.371802\n",
      "review_count                                                   36\n",
      "rating                                                        4.5\n",
      "Name: 1, dtype: object\n",
      "Id                              EfMabFwgjmWoUibT1DMMzw\n",
      "Name                                           Sauveur\n",
      "Category        [{'alias': 'pizza', 'title': 'Pizza'}]\n",
      "Distance                                           462\n",
      "Address                               10 rue d'Aubagne\n",
      "Latitude                                     43.295589\n",
      "Longitude                                     5.379063\n",
      "review_count                                       132\n",
      "rating                                             4.5\n",
      "Name: 2, dtype: object\n",
      "Id                                         rCGAq1AU-l9YzIXQnU02Fw\n",
      "Name                                                  César Place\n",
      "Category        [{'alias': 'modern_european', 'title': 'Modern...\n",
      "Distance                                                      199\n",
      "Address                                       21 place aux Huiles\n",
      "Latitude                                                 43.29283\n",
      "Longitude                                                   5.372\n",
      "review_count                                                  131\n",
      "rating                                                        4.0\n",
      "Name: 3, dtype: object\n",
      "Id                                         ApiCSbuCSLk61vDLr2DV-g\n",
      "Name                                         Le Bouchon Provençal\n",
      "Category        [{'alias': 'restaurants', 'title': 'Restaurant...\n",
      "Distance                                                      227\n",
      "Address                                        6 place aux Huiles\n",
      "Latitude                                                 43.29287\n",
      "Longitude                                                 5.37178\n",
      "review_count                                                   39\n",
      "rating                                                        4.0\n",
      "Name: 4, dtype: object\n",
      "Id                                J1swRC87LWZueCuX_I7CXQ\n",
      "Name                                      La Poule Noire\n",
      "Category        [{'alias': 'french', 'title': 'French'}]\n",
      "Distance                                             157\n",
      "Address                                    61 rue Sainte\n",
      "Latitude                                       43.291975\n",
      "Longitude                                        5.37325\n",
      "review_count                                          43\n",
      "rating                                               4.0\n",
      "Name: 5, dtype: object\n",
      "Id                                  Jpa7n24xU5h_UTOkbQGyJg\n",
      "Name                                        Le Grand Latin\n",
      "Category        [{'alias': 'italian', 'title': 'Italian'}]\n",
      "Distance                                               104\n",
      "Address                                      27 rue Sainte\n",
      "Latitude                                          43.29253\n",
      "Longitude                                          5.37558\n",
      "review_count                                           179\n",
      "rating                                                 4.0\n",
      "Name: 6, dtype: object\n",
      "Id                                Pvzn2DLyJgUWwU6X54zHZw\n",
      "Name                                    La Table du Fort\n",
      "Category        [{'alias': 'french', 'title': 'French'}]\n",
      "Distance                                             264\n",
      "Address                            8 rue Fort Notre Dame\n",
      "Latitude                                        43.29274\n",
      "Longitude                                        5.37134\n",
      "review_count                                          58\n",
      "rating                                               4.5\n",
      "Name: 7, dtype: object\n",
      "Id                                         uLqZhed6FOI-Yxmdi-W2tA\n",
      "Name                                               Le Petit Flore\n",
      "Category        [{'alias': 'mediterranean', 'title': 'Mediterr...\n",
      "Distance                                                       78\n",
      "Address                                          14 rue Corneille\n",
      "Latitude                                                43.293307\n",
      "Longitude                                                5.375469\n",
      "review_count                                                   24\n",
      "rating                                                        5.0\n",
      "Name: 8, dtype: object\n",
      "Id                                         4glviVKuSbiEffhkCmAlXw\n",
      "Name                                                   Le Kashmir\n",
      "Category        [{'alias': 'pakistani', 'title': 'Pakistani'},...\n",
      "Distance                                                      175\n",
      "Address                                         18 rue de la Paix\n",
      "Latitude                                                 43.29286\n",
      "Longitude                                                 5.37251\n",
      "review_count                                                   65\n",
      "rating                                                        4.0\n",
      "Name: 9, dtype: object\n"
     ]
    }
   ],
   "source": [
    "yelp_restaurant_data = yelp_data(yelp_responses)\n",
    "\n",
    "df_yelp_restaurant_data = pd.DataFrame(yelp_restaurant_data, columns=[\"Id\", \"Name\", \"Category\", \"Distance\", \"Address\", \"Latitude\", \"Longitude\", \n",
    "                                                                      \"review_count\", \"rating\"])\n",
    "for index, row in df_yelp_restaurant_data.iloc[:10].iterrows():\n",
    "    print(row)"
   ]
  },
  {
   "cell_type": "code",
   "execution_count": 16,
   "metadata": {},
   "outputs": [
    {
     "name": "stdout",
     "output_type": "stream",
     "text": [
      "                   Name                                           Category  \\\n",
      "0      Shanghai Kitchen  [{'alias': 'shanghainese', 'title': 'Shanghain...   \n",
      "1         Le Bon Burger  [{'alias': 'burgers', 'title': 'Burgers'}, {'a...   \n",
      "2               Sauveur             [{'alias': 'pizza', 'title': 'Pizza'}]   \n",
      "3           César Place  [{'alias': 'modern_european', 'title': 'Modern...   \n",
      "4  Le Bouchon Provençal  [{'alias': 'restaurants', 'title': 'Restaurant...   \n",
      "5        La Poule Noire           [{'alias': 'french', 'title': 'French'}]   \n",
      "6        Le Grand Latin         [{'alias': 'italian', 'title': 'Italian'}]   \n",
      "7      La Table du Fort           [{'alias': 'french', 'title': 'French'}]   \n",
      "8        Le Petit Flore  [{'alias': 'mediterranean', 'title': 'Mediterr...   \n",
      "9            Le Kashmir  [{'alias': 'pakistani', 'title': 'Pakistani'},...   \n",
      "\n",
      "                 Address  review_count  rating  \n",
      "0  14 cours Jean Ballard            10     5.0  \n",
      "1    24 place aux Huiles            36     4.5  \n",
      "2       10 rue d'Aubagne           132     4.5  \n",
      "3    21 place aux Huiles           131     4.0  \n",
      "4     6 place aux Huiles            39     4.0  \n",
      "5          61 rue Sainte            43     4.0  \n",
      "6          27 rue Sainte           179     4.0  \n",
      "7  8 rue Fort Notre Dame            58     4.5  \n",
      "8       14 rue Corneille            24     5.0  \n",
      "9      18 rue de la Paix            65     4.0  \n"
     ]
    }
   ],
   "source": [
    "columns_to_keep = [\"Name\", \"Category\", \"Address\", \"review_count\", \"rating\"]\n",
    "df_yelp_restaurant_data_revised = df_yelp_restaurant_data[columns_to_keep]\n",
    "\n",
    "\n",
    "print(df_yelp_restaurant_data_revised[:10])"
   ]
  },
  {
   "cell_type": "markdown",
   "metadata": {},
   "source": [
    "Put your parsed results into a DataFrame"
   ]
  },
  {
   "cell_type": "code",
   "execution_count": 17,
   "metadata": {},
   "outputs": [
    {
     "name": "stdout",
     "output_type": "stream",
     "text": [
      "                       Id                  Name  \\\n",
      "0  Z_ezFqDSgos1VLmHdePBqg      Shanghai Kitchen   \n",
      "1  gMbdTQCBPjp7mDfWJehHmQ         Le Bon Burger   \n",
      "2  EfMabFwgjmWoUibT1DMMzw               Sauveur   \n",
      "3  rCGAq1AU-l9YzIXQnU02Fw           César Place   \n",
      "4  ApiCSbuCSLk61vDLr2DV-g  Le Bouchon Provençal   \n",
      "5  J1swRC87LWZueCuX_I7CXQ        La Poule Noire   \n",
      "6  Jpa7n24xU5h_UTOkbQGyJg        Le Grand Latin   \n",
      "7  Pvzn2DLyJgUWwU6X54zHZw      La Table du Fort   \n",
      "8  uLqZhed6FOI-Yxmdi-W2tA        Le Petit Flore   \n",
      "9  4glviVKuSbiEffhkCmAlXw            Le Kashmir   \n",
      "\n",
      "                                            Category  Distance  \\\n",
      "0  [{'alias': 'shanghainese', 'title': 'Shanghain...         6   \n",
      "1  [{'alias': 'burgers', 'title': 'Burgers'}, {'a...       228   \n",
      "2             [{'alias': 'pizza', 'title': 'Pizza'}]       462   \n",
      "3  [{'alias': 'modern_european', 'title': 'Modern...       199   \n",
      "4  [{'alias': 'restaurants', 'title': 'Restaurant...       227   \n",
      "5           [{'alias': 'french', 'title': 'French'}]       157   \n",
      "6         [{'alias': 'italian', 'title': 'Italian'}]       104   \n",
      "7           [{'alias': 'french', 'title': 'French'}]       264   \n",
      "8  [{'alias': 'mediterranean', 'title': 'Mediterr...        78   \n",
      "9  [{'alias': 'pakistani', 'title': 'Pakistani'},...       175   \n",
      "\n",
      "                 Address   Latitude  Longitude  review_count  rating  \n",
      "0  14 cours Jean Ballard  43.292984   5.374505            10     5.0  \n",
      "1    24 place aux Huiles  43.292656   5.371802            36     4.5  \n",
      "2       10 rue d'Aubagne  43.295589   5.379063           132     4.5  \n",
      "3    21 place aux Huiles  43.292830   5.372000           131     4.0  \n",
      "4     6 place aux Huiles  43.292870   5.371780            39     4.0  \n",
      "5          61 rue Sainte  43.291975   5.373250            43     4.0  \n",
      "6          27 rue Sainte  43.292530   5.375580           179     4.0  \n",
      "7  8 rue Fort Notre Dame  43.292740   5.371340            58     4.5  \n",
      "8       14 rue Corneille  43.293307   5.375469            24     5.0  \n",
      "9      18 rue de la Paix  43.292860   5.372510            65     4.0  \n"
     ]
    }
   ],
   "source": [
    "yelp_restaurant_data = yelp_data(yelp_responses)\n",
    "\n",
    "df_yelp_restaurant_data = pd.DataFrame(yelp_restaurant_data, columns=[\"Id\", \"Name\", \"Category\", \"Distance\", \"Address\", \"Latitude\", \"Longitude\", \n",
    "                                                                      \"review_count\", \"rating\"])\n",
    "print(df_yelp_restaurant_data[:10])\n"
   ]
  },
  {
   "cell_type": "code",
   "execution_count": 22,
   "metadata": {},
   "outputs": [
    {
     "data": {
      "text/plain": [
       "1846"
      ]
     },
     "execution_count": 22,
     "metadata": {},
     "output_type": "execute_result"
    }
   ],
   "source": [
    "len(df_yelp_restaurant_data)"
   ]
  },
  {
   "cell_type": "markdown",
   "metadata": {},
   "source": [
    "# Comparing Results"
   ]
  },
  {
   "cell_type": "markdown",
   "metadata": {},
   "source": [
    "Which API provided you with more complete data? Provide an explanation. "
   ]
  },
  {
   "cell_type": "markdown",
   "metadata": {},
   "source": [
    "*The yelp data was more complete, and functional. Th Foursquare data was omitted from the analytic process.*"
   ]
  },
  {
   "cell_type": "markdown",
   "metadata": {},
   "source": [
    "Get the top 10 restaurants according to their rating"
   ]
  },
  {
   "cell_type": "code",
   "execution_count": 18,
   "metadata": {},
   "outputs": [
    {
     "name": "stdout",
     "output_type": "stream",
     "text": [
      "Index(['Id', 'Name', 'Category', 'Distance', 'Address', 'Latitude',\n",
      "       'Longitude', 'review_count', 'rating'],\n",
      "      dtype='object')\n"
     ]
    }
   ],
   "source": [
    "print(df_yelp_restaurant_data.columns)\n",
    "\n"
   ]
  },
  {
   "cell_type": "code",
   "execution_count": 20,
   "metadata": {},
   "outputs": [
    {
     "name": "stdout",
     "output_type": "stream",
     "text": [
      "                         Id                              Name  \\\n",
      "0    Z_ezFqDSgos1VLmHdePBqg                  Shanghai Kitchen   \n",
      "784  tUvf1CTRbQIu2KwNGxLexA                               KFC   \n",
      "803  UO8nlRMLeNoSFaqplSlLvg                    Au Moulin Doré   \n",
      "814  INC37SR5ncA-k1loUPMSMg                      camion pizza   \n",
      "824  Q6qulxNN5Q4BtXfqoUx-9Q                            Le 626   \n",
      "826  sO63Vrhd3AFfn1WCGbN-ng                        promopizza   \n",
      "829  5XDx1jKJpEh-cod_a3KuSg  La Fournée de St Barnabé Guyalex   \n",
      "834  UO8nlRMLeNoSFaqplSlLvg                    Au Moulin Doré   \n",
      "836  lovGq0APec_f4D_1UxKwyw             Le Fournil de la Rose   \n",
      "837  tRdrSxEC1Ued9HxOxtorbQ                 Parc de la Moline   \n",
      "\n",
      "                                              Category  Distance  \\\n",
      "0    [{'alias': 'shanghainese', 'title': 'Shanghain...         6   \n",
      "784  [{'alias': 'hotdogs', 'title': 'Fast Food'}, {...       802   \n",
      "803       [{'alias': 'bakeries', 'title': 'Bakeries'}]       423   \n",
      "814  [{'alias': 'pizza', 'title': 'Pizza'}, {'alias...       431   \n",
      "824  [{'alias': 'pizza', 'title': 'Pizza'}, {'alias...       636   \n",
      "826         [{'alias': 'italian', 'title': 'Italian'}]       739   \n",
      "829       [{'alias': 'bakeries', 'title': 'Bakeries'}]      1035   \n",
      "834       [{'alias': 'bakeries', 'title': 'Bakeries'}]       425   \n",
      "836  [{'alias': 'windowsinstallation', 'title': 'Wi...      1011   \n",
      "837  [{'alias': 'gardens', 'title': 'Botanical Gard...       468   \n",
      "\n",
      "                         Address   Latitude  Longitude  review_count  rating  \n",
      "0          14 cours Jean Ballard  43.292984   5.374505            10     5.0  \n",
      "784  Centre Commercial Le Merlan  43.329550   5.402690             1     5.0  \n",
      "803      103 Rue Alphonse Daudet  43.320673   5.409853             1     5.0  \n",
      "814         bd du pont de vivaux  43.280900   5.421800             1     5.0  \n",
      "824            626 Rue St Pierre  43.290156   5.425660             2     5.0  \n",
      "826         résidence le vendôme  43.298479   5.431102             1     5.0  \n",
      "829            128 Rue Montaigne  43.303830   5.417150             2     5.0  \n",
      "834      103 Rue Alphonse Daudet  43.320673   5.409853             1     5.0  \n",
      "836               94 Avenue Rose  43.326943   5.423204             2     5.0  \n",
      "837         Avenue de Montolivet  43.315837   5.415354             1     5.0  \n"
     ]
    }
   ],
   "source": [
    "top_10_restaurants = df_yelp_restaurant_data.sort_values(by=\"rating\", ascending=False)\n",
    "top_10_restaurants = top_10_restaurants.head(10)\n",
    "print(top_10_restaurants)"
   ]
  },
  {
   "cell_type": "code",
   "execution_count": 21,
   "metadata": {},
   "outputs": [],
   "source": [
    "df_yelp_restaurant_data.to_csv(\"../data/df_yelp_data.csv\", index=True)\n",
    "df_yelp_restaurant_data_revised.to_csv(\"../data/df_yelp_restaurant_data_revised.csv\", index=True)"
   ]
  }
 ],
 "metadata": {
  "kernelspec": {
   "display_name": "Python 3",
   "language": "python",
   "name": "python3"
  },
  "language_info": {
   "codemirror_mode": {
    "name": "ipython",
    "version": 3
   },
   "file_extension": ".py",
   "mimetype": "text/x-python",
   "name": "python",
   "nbconvert_exporter": "python",
   "pygments_lexer": "ipython3",
   "version": "3.11.5"
  }
 },
 "nbformat": 4,
 "nbformat_minor": 4
}
